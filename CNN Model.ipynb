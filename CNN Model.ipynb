{
  "cells": [
    {
      "cell_type": "markdown",
      "metadata": {
        "id": "u9QJw4y73hD7"
      },
      "source": [
        "## check GPU availabilty"
      ]
    },
    {
      "cell_type": "code",
      "execution_count": null,
      "metadata": {
        "colab": {
          "base_uri": "https://localhost:8080/",
          "height": 36
        },
        "id": "0f1G9cgB3lbE",
        "outputId": "12ed08d0-ca81-4423-f0a3-c04d5a3b0927"
      },
      "outputs": [
        {
          "data": {
            "application/vnd.google.colaboratory.intrinsic+json": {
              "type": "string"
            },
            "text/plain": [
              "'/device:GPU:0'"
            ]
          },
          "execution_count": 1,
          "metadata": {},
          "output_type": "execute_result"
        }
      ],
      "source": [
        "import tensorflow as tf\n",
        "tf.test.gpu_device_name()"
      ]
    },
    {
      "cell_type": "code",
      "execution_count": null,
      "metadata": {
        "colab": {
          "base_uri": "https://localhost:8080/"
        },
        "id": "oUGyMYnSh5vP",
        "outputId": "87b55cf5-bcb0-41da-cace-e20f40ec415f"
      },
      "outputs": [
        {
          "name": "stdout",
          "output_type": "stream",
          "text": [
            "Number of GPUs Available:  1\n"
          ]
        }
      ],
      "source": [
        "physical_devices = tf.config.experimental.list_physical_devices('GPU')\n",
        "print(\"Number of GPUs Available: \", len(physical_devices))\n",
        "if len(physical_devices) > 0:\n",
        "    tf.config.experimental.set_memory_growth(physical_devices[0], True)"
      ]
    },
    {
      "cell_type": "markdown",
      "metadata": {
        "id": "zvW1K9G_Qfoc"
      },
      "source": [
        "## Paths"
      ]
    },
    {
      "cell_type": "code",
      "execution_count": null,
      "metadata": {
        "id": "SgP9QBEnQhZb"
      },
      "outputs": [],
      "source": [
        "CUR_DIR = '/content/' #this may be different runnig local\n",
        "MAT_DIR= CUR_DIR+'mat/'\n",
        "TRAIN_MAT_PATH = MAT_DIR + 'train/train/'\n",
        "TEST_MAT_PATH = MAT_DIR + 'test/test/'\n",
        "VOICE_DIR = CUR_DIR+'voice/'\n",
        "TRAIN_VOICE_PATH = VOICE_DIR+'train/train/'\n",
        "TEST_VOICE_PATH = VOICE_DIR+'test/test/'\n",
        "DRIVE_PATH = CUR_DIR+'drive/MyDrive/Bachelor_Project/'\n",
        "DRIVE2_PATH = CUR_DIR+'drive/MyDrive/Bachelor_Project_Part2/'\n",
        "DRIVE3_PATH = CUR_DIR+'drive/MyDrive/Bachelor_Project_Part3/'\n",
        "#TRAIN_VOICE_OLD_PATH = CUR_DIR+'train/train/'\n",
        "#TEST_VOICE_OLD_PATH = CUR_DIR+'test/test/'\n",
        "#TRAIN_IMG_PATH = CUR_DIR+'train/train-img/'\n",
        "#TEST_IMG_PATH = CUR_DIR+'test/test-img/'\n",
        "TRAIN_MAT_PATH = MAT_DIR + 'train/'\n",
        "TEST_MAT_PATH = MAT_DIR + 'test/'\n",
        "MOZILLA_PATH= CUR_DIR+'mozilla/'\n",
        "MOZILLA_VALID_TRAIN = CUR_DIR+'mozilla/cv-valid-train/'\n",
        "MOZILLA_VALID_DEV = CUR_DIR+'mozilla/cv-valid-dev/'\n",
        "MOZILLA_VALID_TEST = CUR_DIR+'mozilla/cv-valid-test/'"
      ]
    },
    {
      "cell_type": "code",
      "execution_count": null,
      "metadata": {
        "id": "elHdKK-PBVe3"
      },
      "outputs": [],
      "source": [
        "! mkdir $MAT_DIR\n",
        "! mkdir $VOICE_DIR\n",
        "! mkdir $TRAIN_MAT_PATH\n",
        "! mkdir $TEST_MAT_PATH"
      ]
    },
    {
      "cell_type": "markdown",
      "metadata": {
        "id": "9S7dMYTCVJyS"
      },
      "source": [
        "## mount google drive"
      ]
    },
    {
      "cell_type": "code",
      "execution_count": null,
      "metadata": {
        "colab": {
          "base_uri": "https://localhost:8080/"
        },
        "id": "wIC__YLQ4a52",
        "outputId": "4d4362a3-a03e-4287-924b-15ecf704bb20"
      },
      "outputs": [
        {
          "name": "stdout",
          "output_type": "stream",
          "text": [
            "Mounted at /content/drive/\n"
          ]
        }
      ],
      "source": [
        "from google.colab import drive\n",
        "drive.mount(CUR_DIR+'drive/', force_remount=True)\n",
        "#%cd '{CUR_DIR}drive/MyDrive/Bachelor_Project/'\n",
        "#%ls"
      ]
    },
    {
      "cell_type": "markdown",
      "metadata": {
        "id": "4JYKCq_iWqkk"
      },
      "source": [
        "## import libraries\n",
        "\n"
      ]
    },
    {
      "cell_type": "code",
      "execution_count": null,
      "metadata": {
        "id": "tKaCosVCH3to"
      },
      "outputs": [],
      "source": [
        "import numpy as np\n",
        "import pandas as pd\n",
        "import matplotlib.pyplot as plt\n",
        "import matplotlib\n",
        "\n",
        "from glob import glob\n",
        "import librosa\n",
        "import librosa.display\n",
        "import soundfile as sf\n",
        "import scipy.signal as signal\n",
        "import gc\n",
        "import shutil"
      ]
    },
    {
      "cell_type": "markdown",
      "metadata": {
        "id": "mWz-0PAmBGu0"
      },
      "source": [
        "## spoken-language-identification dataset\n"
      ]
    },
    {
      "cell_type": "code",
      "execution_count": null,
      "metadata": {
        "colab": {
          "base_uri": "https://localhost:8080/"
        },
        "id": "IiDJhi0oBGcV",
        "outputId": "4775ba8f-011a-4ede-abbb-9e1d7b669605"
      },
      "outputs": [
        {
          "name": "stdout",
          "output_type": "stream",
          "text": [
            "Downloading spoken-language-identification.zip to /content\n",
            " 29% 4.34G/14.9G [03:33<07:56, 23.9MB/s]"
          ]
        }
      ],
      "source": [
        "! mkdir ~/.kaggle\n",
        "! cp $DRIVE_PATH/kaggle.json ~/.kaggle/\n",
        "! chmod 600 ~/.kaggle/kaggle.json\n",
        "! kaggle datasets download toponowicz/spoken-language-identification"
      ]
    },
    {
      "cell_type": "code",
      "execution_count": null,
      "metadata": {
        "id": "SLKtPwKI-oZv"
      },
      "outputs": [],
      "source": [
        "%%capture\n",
        "!unzip {CUR_DIR}spoken-language-identification.zip -d $VOICE_DIR"
      ]
    },
    {
      "cell_type": "markdown",
      "metadata": {
        "id": "bXuPcfHjoSLC"
      },
      "source": [
        "### create dataframe"
      ]
    },
    {
      "cell_type": "code",
      "execution_count": null,
      "metadata": {
        "id": "zhcLhD7NoUkY"
      },
      "outputs": [],
      "source": [
        "train_data_dir=np.array(glob(TRAIN_VOICE_PATH+\"*\"))\n",
        "traindf = pd.DataFrame(train_data_dir,columns = ['file'])\n",
        "format_len = len('flac')\n",
        "traindf['ID']= traindf['file'].apply(lambda x: x.split('/')[-1][:-format_len]+'npy')\n",
        "traindf"
      ]
    },
    {
      "cell_type": "code",
      "execution_count": null,
      "metadata": {
        "id": "-S4L2xlCpnVm"
      },
      "outputs": [],
      "source": [
        "test_data_dir=np.array(glob(TEST_VOICE_PATH+\"*\"))\n",
        "testdf = pd.DataFrame(test_data_dir,columns = ['file'])\n",
        "format_len = len('flac')\n",
        "testdf['ID']= testdf['file'].apply(lambda x: x.split('/')[-1][:-format_len]+'npy')\n",
        "testdf"
      ]
    },
    {
      "cell_type": "code",
      "execution_count": null,
      "metadata": {
        "id": "5R7PAuYu5EuY"
      },
      "outputs": [],
      "source": [
        "traindf['lang'] = traindf['ID'].apply(lambda x: x.split('_')[0])\n",
        "testdf['lang'] = testdf['ID'].apply(lambda x: x.split('_')[0])"
      ]
    },
    {
      "cell_type": "markdown",
      "metadata": {
        "id": "hJvG6B5GMrHs"
      },
      "source": [
        "##"
      ]
    },
    {
      "cell_type": "markdown",
      "metadata": {
        "id": "Cb2ozf98pN2y"
      },
      "source": [
        "### create folders"
      ]
    },
    {
      "cell_type": "code",
      "execution_count": null,
      "metadata": {
        "id": "iqV7sP6ligzP"
      },
      "outputs": [],
      "source": [
        "! mkdir $CUR_DIR/train\n",
        "! mkdir $CUR_DIR/test"
      ]
    },
    {
      "cell_type": "code",
      "execution_count": null,
      "metadata": {
        "id": "3-XIBcY_hllf"
      },
      "outputs": [],
      "source": [
        "! mv $TRAIN_VOICE_PATH $TRAIN_VOICE_OLD_PATH\n",
        "! mv $TEST_VOICE_PATH $TEST_VOICE_OLD_PATH"
      ]
    },
    {
      "cell_type": "code",
      "execution_count": null,
      "metadata": {
        "colab": {
          "base_uri": "https://localhost:8080/"
        },
        "id": "fsqFx6eL_n8H",
        "outputId": "2e81c425-3a0d-4d77-a6ed-c787731edadd"
      },
      "outputs": [
        {
          "name": "stdout",
          "output_type": "stream",
          "text": [
            "mkdir: missing operand\n",
            "Try 'mkdir --help' for more information.\n",
            "mkdir: missing operand\n",
            "Try 'mkdir --help' for more information.\n"
          ]
        }
      ],
      "source": [
        "!mkdir $TRAIN_IMG_PATH\n",
        "!mkdir $TEST_IMG_PATH"
      ]
    },
    {
      "cell_type": "markdown",
      "metadata": {
        "id": "0UurKaezGDn7"
      },
      "source": [
        "## Mozilla Dataset"
      ]
    },
    {
      "cell_type": "code",
      "execution_count": null,
      "metadata": {
        "id": "my5nSPwcGE3a"
      },
      "outputs": [],
      "source": [
        "! kaggle datasets download mozillaorg/common-voice"
      ]
    },
    {
      "cell_type": "code",
      "execution_count": null,
      "metadata": {
        "id": "Qfkd966-IT4n"
      },
      "outputs": [],
      "source": [
        "!mkdir mozilla"
      ]
    },
    {
      "cell_type": "code",
      "execution_count": null,
      "metadata": {
        "id": "f2RS9C4tGP5j"
      },
      "outputs": [],
      "source": [
        "%%capture\n",
        "!unzip {CUR_DIR}common-voice.zip -d $MOZILLA_PATH"
      ]
    },
    {
      "cell_type": "markdown",
      "metadata": {
        "id": "3PGxfNHYI4Ev"
      },
      "source": [
        "### remove invalid and other datasets"
      ]
    },
    {
      "cell_type": "code",
      "execution_count": null,
      "metadata": {
        "id": "b3CWtQwQI3ag"
      },
      "outputs": [],
      "source": [
        "!rm $MOZILLA_PATH/LICENSE.txt\n",
        "!rm $MOZILLA_PATH/README.txt\n",
        "!rm -r $MOZILLA_PATH/cv-other*\n",
        "!rm -r $MOZILLA_PATH/cv-invalid*"
      ]
    },
    {
      "cell_type": "code",
      "execution_count": null,
      "metadata": {
        "id": "eKNLQb_HLZZN"
      },
      "outputs": [],
      "source": [
        "valid_train_df = pd.read_csv(MOZILLA_PATH+\"cv-valid-train.csv\")\n",
        "valid_train_df"
      ]
    },
    {
      "cell_type": "code",
      "execution_count": null,
      "metadata": {
        "id": "jkrbXBPrXH8X"
      },
      "outputs": [],
      "source": [
        "valid_dev_df = pd.read_csv(MOZILLA_PATH+\"cv-valid-dev.csv\")\n",
        "valid_dev_df"
      ]
    },
    {
      "cell_type": "code",
      "execution_count": null,
      "metadata": {
        "id": "l2t5U5n1XHxp"
      },
      "outputs": [],
      "source": [
        "valid_test_df = pd.read_csv(MOZILLA_PATH+\"cv-valid-test.csv\")\n",
        "valid_test_df"
      ]
    },
    {
      "cell_type": "code",
      "execution_count": null,
      "metadata": {
        "id": "vHQ0uqZAXW94"
      },
      "outputs": [],
      "source": [
        "def process_mozilla_df(df, path_type):\n",
        "    #df = df[pd.notnull(df['accent'])]\n",
        "    df.dropna(subset=['accent'], inplace=True)\n",
        "    df.rename(columns={'filename': 'file', 'accent': 'lang'}, inplace=True)\n",
        "    df['ID'] = df['file'].str.split('/', expand=True)[1] + '.npy'\n",
        "    df['file'] = path_type+df['file']"
      ]
    },
    {
      "cell_type": "code",
      "execution_count": null,
      "metadata": {
        "id": "o1Y-m4L_Xwno"
      },
      "outputs": [],
      "source": [
        "process_mozilla_df(valid_train_df, MOZILLA_VALID_TRAIN)\n",
        "process_mozilla_df(valid_dev_df, MOZILLA_VALID_DEV)\n",
        "process_mozilla_df(valid_test_df, MOZILLA_VALID_TEST)"
      ]
    },
    {
      "cell_type": "code",
      "execution_count": null,
      "metadata": {
        "colab": {
          "base_uri": "https://localhost:8080/",
          "height": 423
        },
        "id": "5KajzVirY77m",
        "outputId": "322df90b-2810-4941-d429-9438d2cb7768"
      },
      "outputs": [
        {
          "data": {
            "text/html": [
              "\n",
              "  <div id=\"df-01ad72b8-0ffd-47ea-9747-d87c09094e80\">\n",
              "    <div class=\"colab-df-container\">\n",
              "      <div>\n",
              "<style scoped>\n",
              "    .dataframe tbody tr th:only-of-type {\n",
              "        vertical-align: middle;\n",
              "    }\n",
              "\n",
              "    .dataframe tbody tr th {\n",
              "        vertical-align: top;\n",
              "    }\n",
              "\n",
              "    .dataframe thead th {\n",
              "        text-align: right;\n",
              "    }\n",
              "</style>\n",
              "<table border=\"1\" class=\"dataframe\">\n",
              "  <thead>\n",
              "    <tr style=\"text-align: right;\">\n",
              "      <th></th>\n",
              "      <th>file</th>\n",
              "      <th>text</th>\n",
              "      <th>up_votes</th>\n",
              "      <th>down_votes</th>\n",
              "      <th>age</th>\n",
              "      <th>gender</th>\n",
              "      <th>lang</th>\n",
              "      <th>duration</th>\n",
              "      <th>ID</th>\n",
              "    </tr>\n",
              "  </thead>\n",
              "  <tbody>\n",
              "    <tr>\n",
              "      <th>5</th>\n",
              "      <td>/content/mozilla/cv-valid-train/cv-valid-train...</td>\n",
              "      <td>a shepherd may like to travel but he should ne...</td>\n",
              "      <td>1</td>\n",
              "      <td>0</td>\n",
              "      <td>twenties</td>\n",
              "      <td>female</td>\n",
              "      <td>us</td>\n",
              "      <td>NaN</td>\n",
              "      <td>sample-000005.mp3.jpg</td>\n",
              "    </tr>\n",
              "    <tr>\n",
              "      <th>8</th>\n",
              "      <td>/content/mozilla/cv-valid-train/cv-valid-train...</td>\n",
              "      <td>put jackie right on the staff</td>\n",
              "      <td>3</td>\n",
              "      <td>0</td>\n",
              "      <td>seventies</td>\n",
              "      <td>male</td>\n",
              "      <td>us</td>\n",
              "      <td>NaN</td>\n",
              "      <td>sample-000008.mp3.jpg</td>\n",
              "    </tr>\n",
              "    <tr>\n",
              "      <th>13</th>\n",
              "      <td>/content/mozilla/cv-valid-train/cv-valid-train...</td>\n",
              "      <td>but he had found a guide and didn't want to mi...</td>\n",
              "      <td>1</td>\n",
              "      <td>0</td>\n",
              "      <td>thirties</td>\n",
              "      <td>female</td>\n",
              "      <td>us</td>\n",
              "      <td>NaN</td>\n",
              "      <td>sample-000013.mp3.jpg</td>\n",
              "    </tr>\n",
              "    <tr>\n",
              "      <th>14</th>\n",
              "      <td>/content/mozilla/cv-valid-train/cv-valid-train...</td>\n",
              "      <td>as they began to decorate the hallway a silhou...</td>\n",
              "      <td>1</td>\n",
              "      <td>0</td>\n",
              "      <td>sixties</td>\n",
              "      <td>male</td>\n",
              "      <td>england</td>\n",
              "      <td>NaN</td>\n",
              "      <td>sample-000014.mp3.jpg</td>\n",
              "    </tr>\n",
              "    <tr>\n",
              "      <th>19</th>\n",
              "      <td>/content/mozilla/cv-valid-train/cv-valid-train...</td>\n",
              "      <td>then they got ahold of some dough and went goofy</td>\n",
              "      <td>1</td>\n",
              "      <td>0</td>\n",
              "      <td>fifties</td>\n",
              "      <td>male</td>\n",
              "      <td>australia</td>\n",
              "      <td>NaN</td>\n",
              "      <td>sample-000019.mp3.jpg</td>\n",
              "    </tr>\n",
              "    <tr>\n",
              "      <th>...</th>\n",
              "      <td>...</td>\n",
              "      <td>...</td>\n",
              "      <td>...</td>\n",
              "      <td>...</td>\n",
              "      <td>...</td>\n",
              "      <td>...</td>\n",
              "      <td>...</td>\n",
              "      <td>...</td>\n",
              "      <td>...</td>\n",
              "    </tr>\n",
              "    <tr>\n",
              "      <th>195766</th>\n",
              "      <td>/content/mozilla/cv-valid-train/cv-valid-train...</td>\n",
              "      <td>but before i go i want to tell you a little story</td>\n",
              "      <td>1</td>\n",
              "      <td>0</td>\n",
              "      <td>fourties</td>\n",
              "      <td>male</td>\n",
              "      <td>england</td>\n",
              "      <td>NaN</td>\n",
              "      <td>sample-195766.mp3.jpg</td>\n",
              "    </tr>\n",
              "    <tr>\n",
              "      <th>195767</th>\n",
              "      <td>/content/mozilla/cv-valid-train/cv-valid-train...</td>\n",
              "      <td>down below in the darkness were hundreds of pe...</td>\n",
              "      <td>3</td>\n",
              "      <td>0</td>\n",
              "      <td>thirties</td>\n",
              "      <td>female</td>\n",
              "      <td>us</td>\n",
              "      <td>NaN</td>\n",
              "      <td>sample-195767.mp3.jpg</td>\n",
              "    </tr>\n",
              "    <tr>\n",
              "      <th>195770</th>\n",
              "      <td>/content/mozilla/cv-valid-train/cv-valid-train...</td>\n",
              "      <td>he heard a muffled grating sound and saw the b...</td>\n",
              "      <td>4</td>\n",
              "      <td>0</td>\n",
              "      <td>twenties</td>\n",
              "      <td>male</td>\n",
              "      <td>england</td>\n",
              "      <td>NaN</td>\n",
              "      <td>sample-195770.mp3.jpg</td>\n",
              "    </tr>\n",
              "    <tr>\n",
              "      <th>195771</th>\n",
              "      <td>/content/mozilla/cv-valid-train/cv-valid-train...</td>\n",
              "      <td>the englishman said nothing</td>\n",
              "      <td>1</td>\n",
              "      <td>0</td>\n",
              "      <td>thirties</td>\n",
              "      <td>male</td>\n",
              "      <td>england</td>\n",
              "      <td>NaN</td>\n",
              "      <td>sample-195771.mp3.jpg</td>\n",
              "    </tr>\n",
              "    <tr>\n",
              "      <th>195774</th>\n",
              "      <td>/content/mozilla/cv-valid-train/cv-valid-train...</td>\n",
              "      <td>the phone rang while she was awake</td>\n",
              "      <td>2</td>\n",
              "      <td>0</td>\n",
              "      <td>twenties</td>\n",
              "      <td>male</td>\n",
              "      <td>us</td>\n",
              "      <td>NaN</td>\n",
              "      <td>sample-195774.mp3.jpg</td>\n",
              "    </tr>\n",
              "  </tbody>\n",
              "</table>\n",
              "<p>64711 rows × 9 columns</p>\n",
              "</div>\n",
              "      <button class=\"colab-df-convert\" onclick=\"convertToInteractive('df-01ad72b8-0ffd-47ea-9747-d87c09094e80')\"\n",
              "              title=\"Convert this dataframe to an interactive table.\"\n",
              "              style=\"display:none;\">\n",
              "        \n",
              "  <svg xmlns=\"http://www.w3.org/2000/svg\" height=\"24px\"viewBox=\"0 0 24 24\"\n",
              "       width=\"24px\">\n",
              "    <path d=\"M0 0h24v24H0V0z\" fill=\"none\"/>\n",
              "    <path d=\"M18.56 5.44l.94 2.06.94-2.06 2.06-.94-2.06-.94-.94-2.06-.94 2.06-2.06.94zm-11 1L8.5 8.5l.94-2.06 2.06-.94-2.06-.94L8.5 2.5l-.94 2.06-2.06.94zm10 10l.94 2.06.94-2.06 2.06-.94-2.06-.94-.94-2.06-.94 2.06-2.06.94z\"/><path d=\"M17.41 7.96l-1.37-1.37c-.4-.4-.92-.59-1.43-.59-.52 0-1.04.2-1.43.59L10.3 9.45l-7.72 7.72c-.78.78-.78 2.05 0 2.83L4 21.41c.39.39.9.59 1.41.59.51 0 1.02-.2 1.41-.59l7.78-7.78 2.81-2.81c.8-.78.8-2.07 0-2.86zM5.41 20L4 18.59l7.72-7.72 1.47 1.35L5.41 20z\"/>\n",
              "  </svg>\n",
              "      </button>\n",
              "      \n",
              "  <style>\n",
              "    .colab-df-container {\n",
              "      display:flex;\n",
              "      flex-wrap:wrap;\n",
              "      gap: 12px;\n",
              "    }\n",
              "\n",
              "    .colab-df-convert {\n",
              "      background-color: #E8F0FE;\n",
              "      border: none;\n",
              "      border-radius: 50%;\n",
              "      cursor: pointer;\n",
              "      display: none;\n",
              "      fill: #1967D2;\n",
              "      height: 32px;\n",
              "      padding: 0 0 0 0;\n",
              "      width: 32px;\n",
              "    }\n",
              "\n",
              "    .colab-df-convert:hover {\n",
              "      background-color: #E2EBFA;\n",
              "      box-shadow: 0px 1px 2px rgba(60, 64, 67, 0.3), 0px 1px 3px 1px rgba(60, 64, 67, 0.15);\n",
              "      fill: #174EA6;\n",
              "    }\n",
              "\n",
              "    [theme=dark] .colab-df-convert {\n",
              "      background-color: #3B4455;\n",
              "      fill: #D2E3FC;\n",
              "    }\n",
              "\n",
              "    [theme=dark] .colab-df-convert:hover {\n",
              "      background-color: #434B5C;\n",
              "      box-shadow: 0px 1px 3px 1px rgba(0, 0, 0, 0.15);\n",
              "      filter: drop-shadow(0px 1px 2px rgba(0, 0, 0, 0.3));\n",
              "      fill: #FFFFFF;\n",
              "    }\n",
              "  </style>\n",
              "\n",
              "      <script>\n",
              "        const buttonEl =\n",
              "          document.querySelector('#df-01ad72b8-0ffd-47ea-9747-d87c09094e80 button.colab-df-convert');\n",
              "        buttonEl.style.display =\n",
              "          google.colab.kernel.accessAllowed ? 'block' : 'none';\n",
              "\n",
              "        async function convertToInteractive(key) {\n",
              "          const element = document.querySelector('#df-01ad72b8-0ffd-47ea-9747-d87c09094e80');\n",
              "          const dataTable =\n",
              "            await google.colab.kernel.invokeFunction('convertToInteractive',\n",
              "                                                     [key], {});\n",
              "          if (!dataTable) return;\n",
              "\n",
              "          const docLinkHtml = 'Like what you see? Visit the ' +\n",
              "            '<a target=\"_blank\" href=https://colab.research.google.com/notebooks/data_table.ipynb>data table notebook</a>'\n",
              "            + ' to learn more about interactive tables.';\n",
              "          element.innerHTML = '';\n",
              "          dataTable['output_type'] = 'display_data';\n",
              "          await google.colab.output.renderOutput(dataTable, element);\n",
              "          const docLink = document.createElement('div');\n",
              "          docLink.innerHTML = docLinkHtml;\n",
              "          element.appendChild(docLink);\n",
              "        }\n",
              "      </script>\n",
              "    </div>\n",
              "  </div>\n",
              "  "
            ],
            "text/plain": [
              "                                                     file  \\\n",
              "5       /content/mozilla/cv-valid-train/cv-valid-train...   \n",
              "8       /content/mozilla/cv-valid-train/cv-valid-train...   \n",
              "13      /content/mozilla/cv-valid-train/cv-valid-train...   \n",
              "14      /content/mozilla/cv-valid-train/cv-valid-train...   \n",
              "19      /content/mozilla/cv-valid-train/cv-valid-train...   \n",
              "...                                                   ...   \n",
              "195766  /content/mozilla/cv-valid-train/cv-valid-train...   \n",
              "195767  /content/mozilla/cv-valid-train/cv-valid-train...   \n",
              "195770  /content/mozilla/cv-valid-train/cv-valid-train...   \n",
              "195771  /content/mozilla/cv-valid-train/cv-valid-train...   \n",
              "195774  /content/mozilla/cv-valid-train/cv-valid-train...   \n",
              "\n",
              "                                                     text  up_votes  \\\n",
              "5       a shepherd may like to travel but he should ne...         1   \n",
              "8                           put jackie right on the staff         3   \n",
              "13      but he had found a guide and didn't want to mi...         1   \n",
              "14      as they began to decorate the hallway a silhou...         1   \n",
              "19       then they got ahold of some dough and went goofy         1   \n",
              "...                                                   ...       ...   \n",
              "195766  but before i go i want to tell you a little story         1   \n",
              "195767  down below in the darkness were hundreds of pe...         3   \n",
              "195770  he heard a muffled grating sound and saw the b...         4   \n",
              "195771                        the englishman said nothing         1   \n",
              "195774                 the phone rang while she was awake         2   \n",
              "\n",
              "        down_votes        age  gender       lang  duration  \\\n",
              "5                0   twenties  female         us       NaN   \n",
              "8                0  seventies    male         us       NaN   \n",
              "13               0   thirties  female         us       NaN   \n",
              "14               0    sixties    male    england       NaN   \n",
              "19               0    fifties    male  australia       NaN   \n",
              "...            ...        ...     ...        ...       ...   \n",
              "195766           0   fourties    male    england       NaN   \n",
              "195767           0   thirties  female         us       NaN   \n",
              "195770           0   twenties    male    england       NaN   \n",
              "195771           0   thirties    male    england       NaN   \n",
              "195774           0   twenties    male         us       NaN   \n",
              "\n",
              "                           ID  \n",
              "5       sample-000005.mp3.jpg  \n",
              "8       sample-000008.mp3.jpg  \n",
              "13      sample-000013.mp3.jpg  \n",
              "14      sample-000014.mp3.jpg  \n",
              "19      sample-000019.mp3.jpg  \n",
              "...                       ...  \n",
              "195766  sample-195766.mp3.jpg  \n",
              "195767  sample-195767.mp3.jpg  \n",
              "195770  sample-195770.mp3.jpg  \n",
              "195771  sample-195771.mp3.jpg  \n",
              "195774  sample-195774.mp3.jpg  \n",
              "\n",
              "[64711 rows x 9 columns]"
            ]
          },
          "execution_count": 38,
          "metadata": {},
          "output_type": "execute_result"
        }
      ],
      "source": [
        "valid_train_df"
      ]
    },
    {
      "cell_type": "code",
      "execution_count": null,
      "metadata": {
        "colab": {
          "base_uri": "https://localhost:8080/",
          "height": 423
        },
        "id": "Aor9cbnWY-ZV",
        "outputId": "4353d557-c024-4127-f3b1-c5f8c7b9cfa7"
      },
      "outputs": [
        {
          "data": {
            "text/html": [
              "\n",
              "  <div id=\"df-7ac059a5-68b8-44bf-9e11-d8c56c651079\">\n",
              "    <div class=\"colab-df-container\">\n",
              "      <div>\n",
              "<style scoped>\n",
              "    .dataframe tbody tr th:only-of-type {\n",
              "        vertical-align: middle;\n",
              "    }\n",
              "\n",
              "    .dataframe tbody tr th {\n",
              "        vertical-align: top;\n",
              "    }\n",
              "\n",
              "    .dataframe thead th {\n",
              "        text-align: right;\n",
              "    }\n",
              "</style>\n",
              "<table border=\"1\" class=\"dataframe\">\n",
              "  <thead>\n",
              "    <tr style=\"text-align: right;\">\n",
              "      <th></th>\n",
              "      <th>file</th>\n",
              "      <th>text</th>\n",
              "      <th>up_votes</th>\n",
              "      <th>down_votes</th>\n",
              "      <th>age</th>\n",
              "      <th>gender</th>\n",
              "      <th>lang</th>\n",
              "      <th>duration</th>\n",
              "      <th>ID</th>\n",
              "    </tr>\n",
              "  </thead>\n",
              "  <tbody>\n",
              "    <tr>\n",
              "      <th>4</th>\n",
              "      <td>/content/mozilla/cv-valid-dev/cv-valid-dev/sam...</td>\n",
              "      <td>he moved about invisible but everyone could he...</td>\n",
              "      <td>1</td>\n",
              "      <td>0</td>\n",
              "      <td>fourties</td>\n",
              "      <td>female</td>\n",
              "      <td>england</td>\n",
              "      <td>NaN</td>\n",
              "      <td>sample-000004.mp3.jpg</td>\n",
              "    </tr>\n",
              "    <tr>\n",
              "      <th>5</th>\n",
              "      <td>/content/mozilla/cv-valid-dev/cv-valid-dev/sam...</td>\n",
              "      <td>but everything had changed</td>\n",
              "      <td>3</td>\n",
              "      <td>0</td>\n",
              "      <td>teens</td>\n",
              "      <td>male</td>\n",
              "      <td>us</td>\n",
              "      <td>NaN</td>\n",
              "      <td>sample-000005.mp3.jpg</td>\n",
              "    </tr>\n",
              "    <tr>\n",
              "      <th>8</th>\n",
              "      <td>/content/mozilla/cv-valid-dev/cv-valid-dev/sam...</td>\n",
              "      <td>the shop folks were taking down their shutters...</td>\n",
              "      <td>1</td>\n",
              "      <td>0</td>\n",
              "      <td>twenties</td>\n",
              "      <td>female</td>\n",
              "      <td>canada</td>\n",
              "      <td>NaN</td>\n",
              "      <td>sample-000008.mp3.jpg</td>\n",
              "    </tr>\n",
              "    <tr>\n",
              "      <th>9</th>\n",
              "      <td>/content/mozilla/cv-valid-dev/cv-valid-dev/sam...</td>\n",
              "      <td>the teacher thought that he'd taught himself a...</td>\n",
              "      <td>1</td>\n",
              "      <td>0</td>\n",
              "      <td>fifties</td>\n",
              "      <td>female</td>\n",
              "      <td>australia</td>\n",
              "      <td>NaN</td>\n",
              "      <td>sample-000009.mp3.jpg</td>\n",
              "    </tr>\n",
              "    <tr>\n",
              "      <th>13</th>\n",
              "      <td>/content/mozilla/cv-valid-dev/cv-valid-dev/sam...</td>\n",
              "      <td>in those days very few of the people had any i...</td>\n",
              "      <td>5</td>\n",
              "      <td>0</td>\n",
              "      <td>twenties</td>\n",
              "      <td>male</td>\n",
              "      <td>us</td>\n",
              "      <td>NaN</td>\n",
              "      <td>sample-000013.mp3.jpg</td>\n",
              "    </tr>\n",
              "    <tr>\n",
              "      <th>...</th>\n",
              "      <td>...</td>\n",
              "      <td>...</td>\n",
              "      <td>...</td>\n",
              "      <td>...</td>\n",
              "      <td>...</td>\n",
              "      <td>...</td>\n",
              "      <td>...</td>\n",
              "      <td>...</td>\n",
              "      <td>...</td>\n",
              "    </tr>\n",
              "    <tr>\n",
              "      <th>4053</th>\n",
              "      <td>/content/mozilla/cv-valid-dev/cv-valid-dev/sam...</td>\n",
              "      <td>if you start your emails with greetings let me...</td>\n",
              "      <td>1</td>\n",
              "      <td>0</td>\n",
              "      <td>sixties</td>\n",
              "      <td>female</td>\n",
              "      <td>canada</td>\n",
              "      <td>NaN</td>\n",
              "      <td>sample-004053.mp3.jpg</td>\n",
              "    </tr>\n",
              "    <tr>\n",
              "      <th>4055</th>\n",
              "      <td>/content/mozilla/cv-valid-dev/cv-valid-dev/sam...</td>\n",
              "      <td>the atmosphere was suffused with the sweet sce...</td>\n",
              "      <td>4</td>\n",
              "      <td>1</td>\n",
              "      <td>fourties</td>\n",
              "      <td>male</td>\n",
              "      <td>england</td>\n",
              "      <td>NaN</td>\n",
              "      <td>sample-004055.mp3.jpg</td>\n",
              "    </tr>\n",
              "    <tr>\n",
              "      <th>4067</th>\n",
              "      <td>/content/mozilla/cv-valid-dev/cv-valid-dev/sam...</td>\n",
              "      <td>they reached the center of a large plaza where...</td>\n",
              "      <td>3</td>\n",
              "      <td>0</td>\n",
              "      <td>fourties</td>\n",
              "      <td>female</td>\n",
              "      <td>us</td>\n",
              "      <td>NaN</td>\n",
              "      <td>sample-004067.mp3.jpg</td>\n",
              "    </tr>\n",
              "    <tr>\n",
              "      <th>4069</th>\n",
              "      <td>/content/mozilla/cv-valid-dev/cv-valid-dev/sam...</td>\n",
              "      <td>no sense messing up the streets</td>\n",
              "      <td>2</td>\n",
              "      <td>0</td>\n",
              "      <td>thirties</td>\n",
              "      <td>male</td>\n",
              "      <td>england</td>\n",
              "      <td>NaN</td>\n",
              "      <td>sample-004069.mp3.jpg</td>\n",
              "    </tr>\n",
              "    <tr>\n",
              "      <th>4073</th>\n",
              "      <td>/content/mozilla/cv-valid-dev/cv-valid-dev/sam...</td>\n",
              "      <td>that's what i'm not supposed to say</td>\n",
              "      <td>2</td>\n",
              "      <td>0</td>\n",
              "      <td>thirties</td>\n",
              "      <td>male</td>\n",
              "      <td>us</td>\n",
              "      <td>NaN</td>\n",
              "      <td>sample-004073.mp3.jpg</td>\n",
              "    </tr>\n",
              "  </tbody>\n",
              "</table>\n",
              "<p>1350 rows × 9 columns</p>\n",
              "</div>\n",
              "      <button class=\"colab-df-convert\" onclick=\"convertToInteractive('df-7ac059a5-68b8-44bf-9e11-d8c56c651079')\"\n",
              "              title=\"Convert this dataframe to an interactive table.\"\n",
              "              style=\"display:none;\">\n",
              "        \n",
              "  <svg xmlns=\"http://www.w3.org/2000/svg\" height=\"24px\"viewBox=\"0 0 24 24\"\n",
              "       width=\"24px\">\n",
              "    <path d=\"M0 0h24v24H0V0z\" fill=\"none\"/>\n",
              "    <path d=\"M18.56 5.44l.94 2.06.94-2.06 2.06-.94-2.06-.94-.94-2.06-.94 2.06-2.06.94zm-11 1L8.5 8.5l.94-2.06 2.06-.94-2.06-.94L8.5 2.5l-.94 2.06-2.06.94zm10 10l.94 2.06.94-2.06 2.06-.94-2.06-.94-.94-2.06-.94 2.06-2.06.94z\"/><path d=\"M17.41 7.96l-1.37-1.37c-.4-.4-.92-.59-1.43-.59-.52 0-1.04.2-1.43.59L10.3 9.45l-7.72 7.72c-.78.78-.78 2.05 0 2.83L4 21.41c.39.39.9.59 1.41.59.51 0 1.02-.2 1.41-.59l7.78-7.78 2.81-2.81c.8-.78.8-2.07 0-2.86zM5.41 20L4 18.59l7.72-7.72 1.47 1.35L5.41 20z\"/>\n",
              "  </svg>\n",
              "      </button>\n",
              "      \n",
              "  <style>\n",
              "    .colab-df-container {\n",
              "      display:flex;\n",
              "      flex-wrap:wrap;\n",
              "      gap: 12px;\n",
              "    }\n",
              "\n",
              "    .colab-df-convert {\n",
              "      background-color: #E8F0FE;\n",
              "      border: none;\n",
              "      border-radius: 50%;\n",
              "      cursor: pointer;\n",
              "      display: none;\n",
              "      fill: #1967D2;\n",
              "      height: 32px;\n",
              "      padding: 0 0 0 0;\n",
              "      width: 32px;\n",
              "    }\n",
              "\n",
              "    .colab-df-convert:hover {\n",
              "      background-color: #E2EBFA;\n",
              "      box-shadow: 0px 1px 2px rgba(60, 64, 67, 0.3), 0px 1px 3px 1px rgba(60, 64, 67, 0.15);\n",
              "      fill: #174EA6;\n",
              "    }\n",
              "\n",
              "    [theme=dark] .colab-df-convert {\n",
              "      background-color: #3B4455;\n",
              "      fill: #D2E3FC;\n",
              "    }\n",
              "\n",
              "    [theme=dark] .colab-df-convert:hover {\n",
              "      background-color: #434B5C;\n",
              "      box-shadow: 0px 1px 3px 1px rgba(0, 0, 0, 0.15);\n",
              "      filter: drop-shadow(0px 1px 2px rgba(0, 0, 0, 0.3));\n",
              "      fill: #FFFFFF;\n",
              "    }\n",
              "  </style>\n",
              "\n",
              "      <script>\n",
              "        const buttonEl =\n",
              "          document.querySelector('#df-7ac059a5-68b8-44bf-9e11-d8c56c651079 button.colab-df-convert');\n",
              "        buttonEl.style.display =\n",
              "          google.colab.kernel.accessAllowed ? 'block' : 'none';\n",
              "\n",
              "        async function convertToInteractive(key) {\n",
              "          const element = document.querySelector('#df-7ac059a5-68b8-44bf-9e11-d8c56c651079');\n",
              "          const dataTable =\n",
              "            await google.colab.kernel.invokeFunction('convertToInteractive',\n",
              "                                                     [key], {});\n",
              "          if (!dataTable) return;\n",
              "\n",
              "          const docLinkHtml = 'Like what you see? Visit the ' +\n",
              "            '<a target=\"_blank\" href=https://colab.research.google.com/notebooks/data_table.ipynb>data table notebook</a>'\n",
              "            + ' to learn more about interactive tables.';\n",
              "          element.innerHTML = '';\n",
              "          dataTable['output_type'] = 'display_data';\n",
              "          await google.colab.output.renderOutput(dataTable, element);\n",
              "          const docLink = document.createElement('div');\n",
              "          docLink.innerHTML = docLinkHtml;\n",
              "          element.appendChild(docLink);\n",
              "        }\n",
              "      </script>\n",
              "    </div>\n",
              "  </div>\n",
              "  "
            ],
            "text/plain": [
              "                                                   file  \\\n",
              "4     /content/mozilla/cv-valid-dev/cv-valid-dev/sam...   \n",
              "5     /content/mozilla/cv-valid-dev/cv-valid-dev/sam...   \n",
              "8     /content/mozilla/cv-valid-dev/cv-valid-dev/sam...   \n",
              "9     /content/mozilla/cv-valid-dev/cv-valid-dev/sam...   \n",
              "13    /content/mozilla/cv-valid-dev/cv-valid-dev/sam...   \n",
              "...                                                 ...   \n",
              "4053  /content/mozilla/cv-valid-dev/cv-valid-dev/sam...   \n",
              "4055  /content/mozilla/cv-valid-dev/cv-valid-dev/sam...   \n",
              "4067  /content/mozilla/cv-valid-dev/cv-valid-dev/sam...   \n",
              "4069  /content/mozilla/cv-valid-dev/cv-valid-dev/sam...   \n",
              "4073  /content/mozilla/cv-valid-dev/cv-valid-dev/sam...   \n",
              "\n",
              "                                                   text  up_votes  down_votes  \\\n",
              "4     he moved about invisible but everyone could he...         1           0   \n",
              "5                            but everything had changed         3           0   \n",
              "8     the shop folks were taking down their shutters...         1           0   \n",
              "9     the teacher thought that he'd taught himself a...         1           0   \n",
              "13    in those days very few of the people had any i...         5           0   \n",
              "...                                                 ...       ...         ...   \n",
              "4053  if you start your emails with greetings let me...         1           0   \n",
              "4055  the atmosphere was suffused with the sweet sce...         4           1   \n",
              "4067  they reached the center of a large plaza where...         3           0   \n",
              "4069                    no sense messing up the streets         2           0   \n",
              "4073                that's what i'm not supposed to say         2           0   \n",
              "\n",
              "           age  gender       lang  duration                     ID  \n",
              "4     fourties  female    england       NaN  sample-000004.mp3.jpg  \n",
              "5        teens    male         us       NaN  sample-000005.mp3.jpg  \n",
              "8     twenties  female     canada       NaN  sample-000008.mp3.jpg  \n",
              "9      fifties  female  australia       NaN  sample-000009.mp3.jpg  \n",
              "13    twenties    male         us       NaN  sample-000013.mp3.jpg  \n",
              "...        ...     ...        ...       ...                    ...  \n",
              "4053   sixties  female     canada       NaN  sample-004053.mp3.jpg  \n",
              "4055  fourties    male    england       NaN  sample-004055.mp3.jpg  \n",
              "4067  fourties  female         us       NaN  sample-004067.mp3.jpg  \n",
              "4069  thirties    male    england       NaN  sample-004069.mp3.jpg  \n",
              "4073  thirties    male         us       NaN  sample-004073.mp3.jpg  \n",
              "\n",
              "[1350 rows x 9 columns]"
            ]
          },
          "execution_count": 39,
          "metadata": {},
          "output_type": "execute_result"
        }
      ],
      "source": [
        "valid_dev_df"
      ]
    },
    {
      "cell_type": "code",
      "execution_count": null,
      "metadata": {
        "colab": {
          "base_uri": "https://localhost:8080/",
          "height": 423
        },
        "id": "zqBaDMh2ZBYD",
        "outputId": "24de5737-346b-453b-cfab-808c000ca53d"
      },
      "outputs": [
        {
          "data": {
            "text/html": [
              "\n",
              "  <div id=\"df-82e00292-9d80-4749-a9bd-489594c6e33e\">\n",
              "    <div class=\"colab-df-container\">\n",
              "      <div>\n",
              "<style scoped>\n",
              "    .dataframe tbody tr th:only-of-type {\n",
              "        vertical-align: middle;\n",
              "    }\n",
              "\n",
              "    .dataframe tbody tr th {\n",
              "        vertical-align: top;\n",
              "    }\n",
              "\n",
              "    .dataframe thead th {\n",
              "        text-align: right;\n",
              "    }\n",
              "</style>\n",
              "<table border=\"1\" class=\"dataframe\">\n",
              "  <thead>\n",
              "    <tr style=\"text-align: right;\">\n",
              "      <th></th>\n",
              "      <th>file</th>\n",
              "      <th>text</th>\n",
              "      <th>up_votes</th>\n",
              "      <th>down_votes</th>\n",
              "      <th>age</th>\n",
              "      <th>gender</th>\n",
              "      <th>lang</th>\n",
              "      <th>duration</th>\n",
              "      <th>ID</th>\n",
              "    </tr>\n",
              "  </thead>\n",
              "  <tbody>\n",
              "    <tr>\n",
              "      <th>3</th>\n",
              "      <td>/content/mozilla/cv-valid-test/cv-valid-test/s...</td>\n",
              "      <td>down below in the darkness were hundreds of pe...</td>\n",
              "      <td>4</td>\n",
              "      <td>0</td>\n",
              "      <td>twenties</td>\n",
              "      <td>male</td>\n",
              "      <td>us</td>\n",
              "      <td>NaN</td>\n",
              "      <td>sample-000003.mp3.jpg</td>\n",
              "    </tr>\n",
              "    <tr>\n",
              "      <th>5</th>\n",
              "      <td>/content/mozilla/cv-valid-test/cv-valid-test/s...</td>\n",
              "      <td>down below in the darkness were hundreds of pe...</td>\n",
              "      <td>4</td>\n",
              "      <td>1</td>\n",
              "      <td>twenties</td>\n",
              "      <td>male</td>\n",
              "      <td>us</td>\n",
              "      <td>NaN</td>\n",
              "      <td>sample-000005.mp3.jpg</td>\n",
              "    </tr>\n",
              "    <tr>\n",
              "      <th>8</th>\n",
              "      <td>/content/mozilla/cv-valid-test/cv-valid-test/s...</td>\n",
              "      <td>this was the strangest of all things that ever...</td>\n",
              "      <td>1</td>\n",
              "      <td>0</td>\n",
              "      <td>thirties</td>\n",
              "      <td>male</td>\n",
              "      <td>england</td>\n",
              "      <td>NaN</td>\n",
              "      <td>sample-000008.mp3.jpg</td>\n",
              "    </tr>\n",
              "    <tr>\n",
              "      <th>9</th>\n",
              "      <td>/content/mozilla/cv-valid-test/cv-valid-test/s...</td>\n",
              "      <td>it was glaringly hot not a cloud in the sky no...</td>\n",
              "      <td>3</td>\n",
              "      <td>0</td>\n",
              "      <td>fifties</td>\n",
              "      <td>male</td>\n",
              "      <td>us</td>\n",
              "      <td>NaN</td>\n",
              "      <td>sample-000009.mp3.jpg</td>\n",
              "    </tr>\n",
              "    <tr>\n",
              "      <th>14</th>\n",
              "      <td>/content/mozilla/cv-valid-test/cv-valid-test/s...</td>\n",
              "      <td>follow the instructions here</td>\n",
              "      <td>1</td>\n",
              "      <td>0</td>\n",
              "      <td>twenties</td>\n",
              "      <td>male</td>\n",
              "      <td>scotland</td>\n",
              "      <td>NaN</td>\n",
              "      <td>sample-000014.mp3.jpg</td>\n",
              "    </tr>\n",
              "    <tr>\n",
              "      <th>...</th>\n",
              "      <td>...</td>\n",
              "      <td>...</td>\n",
              "      <td>...</td>\n",
              "      <td>...</td>\n",
              "      <td>...</td>\n",
              "      <td>...</td>\n",
              "      <td>...</td>\n",
              "      <td>...</td>\n",
              "      <td>...</td>\n",
              "    </tr>\n",
              "    <tr>\n",
              "      <th>3971</th>\n",
              "      <td>/content/mozilla/cv-valid-test/cv-valid-test/s...</td>\n",
              "      <td>he's on my phone</td>\n",
              "      <td>1</td>\n",
              "      <td>0</td>\n",
              "      <td>teens</td>\n",
              "      <td>male</td>\n",
              "      <td>england</td>\n",
              "      <td>NaN</td>\n",
              "      <td>sample-003971.mp3.jpg</td>\n",
              "    </tr>\n",
              "    <tr>\n",
              "      <th>3975</th>\n",
              "      <td>/content/mozilla/cv-valid-test/cv-valid-test/s...</td>\n",
              "      <td>the planet's core is made of solid gold but ev...</td>\n",
              "      <td>1</td>\n",
              "      <td>0</td>\n",
              "      <td>twenties</td>\n",
              "      <td>male</td>\n",
              "      <td>us</td>\n",
              "      <td>NaN</td>\n",
              "      <td>sample-003975.mp3.jpg</td>\n",
              "    </tr>\n",
              "    <tr>\n",
              "      <th>3976</th>\n",
              "      <td>/content/mozilla/cv-valid-test/cv-valid-test/s...</td>\n",
              "      <td>we've got her located</td>\n",
              "      <td>1</td>\n",
              "      <td>0</td>\n",
              "      <td>thirties</td>\n",
              "      <td>male</td>\n",
              "      <td>england</td>\n",
              "      <td>NaN</td>\n",
              "      <td>sample-003976.mp3.jpg</td>\n",
              "    </tr>\n",
              "    <tr>\n",
              "      <th>3980</th>\n",
              "      <td>/content/mozilla/cv-valid-test/cv-valid-test/s...</td>\n",
              "      <td>i've got to see nicole right away</td>\n",
              "      <td>1</td>\n",
              "      <td>0</td>\n",
              "      <td>fifties</td>\n",
              "      <td>male</td>\n",
              "      <td>australia</td>\n",
              "      <td>NaN</td>\n",
              "      <td>sample-003980.mp3.jpg</td>\n",
              "    </tr>\n",
              "    <tr>\n",
              "      <th>3989</th>\n",
              "      <td>/content/mozilla/cv-valid-test/cv-valid-test/s...</td>\n",
              "      <td>i'm playing for keeps</td>\n",
              "      <td>2</td>\n",
              "      <td>0</td>\n",
              "      <td>fifties</td>\n",
              "      <td>male</td>\n",
              "      <td>australia</td>\n",
              "      <td>NaN</td>\n",
              "      <td>sample-003989.mp3.jpg</td>\n",
              "    </tr>\n",
              "  </tbody>\n",
              "</table>\n",
              "<p>1338 rows × 9 columns</p>\n",
              "</div>\n",
              "      <button class=\"colab-df-convert\" onclick=\"convertToInteractive('df-82e00292-9d80-4749-a9bd-489594c6e33e')\"\n",
              "              title=\"Convert this dataframe to an interactive table.\"\n",
              "              style=\"display:none;\">\n",
              "        \n",
              "  <svg xmlns=\"http://www.w3.org/2000/svg\" height=\"24px\"viewBox=\"0 0 24 24\"\n",
              "       width=\"24px\">\n",
              "    <path d=\"M0 0h24v24H0V0z\" fill=\"none\"/>\n",
              "    <path d=\"M18.56 5.44l.94 2.06.94-2.06 2.06-.94-2.06-.94-.94-2.06-.94 2.06-2.06.94zm-11 1L8.5 8.5l.94-2.06 2.06-.94-2.06-.94L8.5 2.5l-.94 2.06-2.06.94zm10 10l.94 2.06.94-2.06 2.06-.94-2.06-.94-.94-2.06-.94 2.06-2.06.94z\"/><path d=\"M17.41 7.96l-1.37-1.37c-.4-.4-.92-.59-1.43-.59-.52 0-1.04.2-1.43.59L10.3 9.45l-7.72 7.72c-.78.78-.78 2.05 0 2.83L4 21.41c.39.39.9.59 1.41.59.51 0 1.02-.2 1.41-.59l7.78-7.78 2.81-2.81c.8-.78.8-2.07 0-2.86zM5.41 20L4 18.59l7.72-7.72 1.47 1.35L5.41 20z\"/>\n",
              "  </svg>\n",
              "      </button>\n",
              "      \n",
              "  <style>\n",
              "    .colab-df-container {\n",
              "      display:flex;\n",
              "      flex-wrap:wrap;\n",
              "      gap: 12px;\n",
              "    }\n",
              "\n",
              "    .colab-df-convert {\n",
              "      background-color: #E8F0FE;\n",
              "      border: none;\n",
              "      border-radius: 50%;\n",
              "      cursor: pointer;\n",
              "      display: none;\n",
              "      fill: #1967D2;\n",
              "      height: 32px;\n",
              "      padding: 0 0 0 0;\n",
              "      width: 32px;\n",
              "    }\n",
              "\n",
              "    .colab-df-convert:hover {\n",
              "      background-color: #E2EBFA;\n",
              "      box-shadow: 0px 1px 2px rgba(60, 64, 67, 0.3), 0px 1px 3px 1px rgba(60, 64, 67, 0.15);\n",
              "      fill: #174EA6;\n",
              "    }\n",
              "\n",
              "    [theme=dark] .colab-df-convert {\n",
              "      background-color: #3B4455;\n",
              "      fill: #D2E3FC;\n",
              "    }\n",
              "\n",
              "    [theme=dark] .colab-df-convert:hover {\n",
              "      background-color: #434B5C;\n",
              "      box-shadow: 0px 1px 3px 1px rgba(0, 0, 0, 0.15);\n",
              "      filter: drop-shadow(0px 1px 2px rgba(0, 0, 0, 0.3));\n",
              "      fill: #FFFFFF;\n",
              "    }\n",
              "  </style>\n",
              "\n",
              "      <script>\n",
              "        const buttonEl =\n",
              "          document.querySelector('#df-82e00292-9d80-4749-a9bd-489594c6e33e button.colab-df-convert');\n",
              "        buttonEl.style.display =\n",
              "          google.colab.kernel.accessAllowed ? 'block' : 'none';\n",
              "\n",
              "        async function convertToInteractive(key) {\n",
              "          const element = document.querySelector('#df-82e00292-9d80-4749-a9bd-489594c6e33e');\n",
              "          const dataTable =\n",
              "            await google.colab.kernel.invokeFunction('convertToInteractive',\n",
              "                                                     [key], {});\n",
              "          if (!dataTable) return;\n",
              "\n",
              "          const docLinkHtml = 'Like what you see? Visit the ' +\n",
              "            '<a target=\"_blank\" href=https://colab.research.google.com/notebooks/data_table.ipynb>data table notebook</a>'\n",
              "            + ' to learn more about interactive tables.';\n",
              "          element.innerHTML = '';\n",
              "          dataTable['output_type'] = 'display_data';\n",
              "          await google.colab.output.renderOutput(dataTable, element);\n",
              "          const docLink = document.createElement('div');\n",
              "          docLink.innerHTML = docLinkHtml;\n",
              "          element.appendChild(docLink);\n",
              "        }\n",
              "      </script>\n",
              "    </div>\n",
              "  </div>\n",
              "  "
            ],
            "text/plain": [
              "                                                   file  \\\n",
              "3     /content/mozilla/cv-valid-test/cv-valid-test/s...   \n",
              "5     /content/mozilla/cv-valid-test/cv-valid-test/s...   \n",
              "8     /content/mozilla/cv-valid-test/cv-valid-test/s...   \n",
              "9     /content/mozilla/cv-valid-test/cv-valid-test/s...   \n",
              "14    /content/mozilla/cv-valid-test/cv-valid-test/s...   \n",
              "...                                                 ...   \n",
              "3971  /content/mozilla/cv-valid-test/cv-valid-test/s...   \n",
              "3975  /content/mozilla/cv-valid-test/cv-valid-test/s...   \n",
              "3976  /content/mozilla/cv-valid-test/cv-valid-test/s...   \n",
              "3980  /content/mozilla/cv-valid-test/cv-valid-test/s...   \n",
              "3989  /content/mozilla/cv-valid-test/cv-valid-test/s...   \n",
              "\n",
              "                                                   text  up_votes  down_votes  \\\n",
              "3     down below in the darkness were hundreds of pe...         4           0   \n",
              "5     down below in the darkness were hundreds of pe...         4           1   \n",
              "8     this was the strangest of all things that ever...         1           0   \n",
              "9     it was glaringly hot not a cloud in the sky no...         3           0   \n",
              "14                         follow the instructions here         1           0   \n",
              "...                                                 ...       ...         ...   \n",
              "3971                                   he's on my phone         1           0   \n",
              "3975  the planet's core is made of solid gold but ev...         1           0   \n",
              "3976                              we've got her located         1           0   \n",
              "3980                  i've got to see nicole right away         1           0   \n",
              "3989                              i'm playing for keeps         2           0   \n",
              "\n",
              "           age gender       lang  duration                     ID  \n",
              "3     twenties   male         us       NaN  sample-000003.mp3.jpg  \n",
              "5     twenties   male         us       NaN  sample-000005.mp3.jpg  \n",
              "8     thirties   male    england       NaN  sample-000008.mp3.jpg  \n",
              "9      fifties   male         us       NaN  sample-000009.mp3.jpg  \n",
              "14    twenties   male   scotland       NaN  sample-000014.mp3.jpg  \n",
              "...        ...    ...        ...       ...                    ...  \n",
              "3971     teens   male    england       NaN  sample-003971.mp3.jpg  \n",
              "3975  twenties   male         us       NaN  sample-003975.mp3.jpg  \n",
              "3976  thirties   male    england       NaN  sample-003976.mp3.jpg  \n",
              "3980   fifties   male  australia       NaN  sample-003980.mp3.jpg  \n",
              "3989   fifties   male  australia       NaN  sample-003989.mp3.jpg  \n",
              "\n",
              "[1338 rows x 9 columns]"
            ]
          },
          "execution_count": 40,
          "metadata": {},
          "output_type": "execute_result"
        }
      ],
      "source": [
        "valid_test_df"
      ]
    },
    {
      "cell_type": "markdown",
      "metadata": {
        "id": "6DUcka63cKQD"
      },
      "source": [
        "## Managing dataset"
      ]
    },
    {
      "cell_type": "markdown",
      "metadata": {
        "id": "dsHSflutcaGb"
      },
      "source": [
        "### Load datasets"
      ]
    },
    {
      "cell_type": "code",
      "execution_count": null,
      "metadata": {
        "id": "AuDZ9hTrccwe"
      },
      "outputs": [],
      "source": [
        "first_half_df = pd.read_csv(DRIVE_PATH + \"first_half.csv\")"
      ]
    },
    {
      "cell_type": "code",
      "execution_count": null,
      "metadata": {
        "colab": {
          "base_uri": "https://localhost:8080/",
          "height": 424
        },
        "id": "lEDPpjEOcpmc",
        "outputId": "6cdd3904-18a7-4cea-b505-d6bf1090cf65"
      },
      "outputs": [
        {
          "data": {
            "text/html": [
              "\n",
              "  <div id=\"df-d017bcd3-4b00-40a9-8995-c918749fe1ac\">\n",
              "    <div class=\"colab-df-container\">\n",
              "      <div>\n",
              "<style scoped>\n",
              "    .dataframe tbody tr th:only-of-type {\n",
              "        vertical-align: middle;\n",
              "    }\n",
              "\n",
              "    .dataframe tbody tr th {\n",
              "        vertical-align: top;\n",
              "    }\n",
              "\n",
              "    .dataframe thead th {\n",
              "        text-align: right;\n",
              "    }\n",
              "</style>\n",
              "<table border=\"1\" class=\"dataframe\">\n",
              "  <thead>\n",
              "    <tr style=\"text-align: right;\">\n",
              "      <th></th>\n",
              "      <th>file</th>\n",
              "      <th>ID</th>\n",
              "      <th>lang</th>\n",
              "    </tr>\n",
              "  </thead>\n",
              "  <tbody>\n",
              "    <tr>\n",
              "      <th>0</th>\n",
              "      <td>/content/voice/train/train/de_m_df90bffac026f7...</td>\n",
              "      <td>de_m_df90bffac026f705f4a99871d71684f1.fragment...</td>\n",
              "      <td>de</td>\n",
              "    </tr>\n",
              "    <tr>\n",
              "      <th>1</th>\n",
              "      <td>/content/voice/train/train/de_m_0345d503166fbc...</td>\n",
              "      <td>de_m_0345d503166fbcb125b6e10e2e804443.fragment...</td>\n",
              "      <td>de</td>\n",
              "    </tr>\n",
              "    <tr>\n",
              "      <th>2</th>\n",
              "      <td>/content/voice/train/train/en_m_d2f13c7f37ecec...</td>\n",
              "      <td>en_m_d2f13c7f37ecec67df0f46408c224bc1.fragment...</td>\n",
              "      <td>en</td>\n",
              "    </tr>\n",
              "    <tr>\n",
              "      <th>3</th>\n",
              "      <td>/content/voice/train/train/en_m_3a8f30bef6d7b6...</td>\n",
              "      <td>en_m_3a8f30bef6d7b6a1332629491eabcbf0.fragment...</td>\n",
              "      <td>en</td>\n",
              "    </tr>\n",
              "    <tr>\n",
              "      <th>4</th>\n",
              "      <td>/content/voice/train/train/en_f_7701e10392ce7b...</td>\n",
              "      <td>en_f_7701e10392ce7bcfba6d2fcca56fb8d9.fragment...</td>\n",
              "      <td>en</td>\n",
              "    </tr>\n",
              "    <tr>\n",
              "      <th>...</th>\n",
              "      <td>...</td>\n",
              "      <td>...</td>\n",
              "      <td>...</td>\n",
              "    </tr>\n",
              "    <tr>\n",
              "      <th>36535</th>\n",
              "      <td>/content/voice/train/train/de_f_26ddc4e756f612...</td>\n",
              "      <td>de_f_26ddc4e756f61233d74d42cc000c9dae.fragment...</td>\n",
              "      <td>de</td>\n",
              "    </tr>\n",
              "    <tr>\n",
              "      <th>36536</th>\n",
              "      <td>/content/voice/train/train/en_m_17b5d499519197...</td>\n",
              "      <td>en_m_17b5d4995191976232356345dfbb82cb.fragment...</td>\n",
              "      <td>en</td>\n",
              "    </tr>\n",
              "    <tr>\n",
              "      <th>36537</th>\n",
              "      <td>/content/voice/train/train/es_f_56ef0bde6c92a0...</td>\n",
              "      <td>es_f_56ef0bde6c92a0100da23cdd39a8a112.fragment...</td>\n",
              "      <td>es</td>\n",
              "    </tr>\n",
              "    <tr>\n",
              "      <th>36538</th>\n",
              "      <td>/content/voice/train/train/es_f_cc86b9208b120f...</td>\n",
              "      <td>es_f_cc86b9208b120f1f147a9246ab39f5e4.fragment...</td>\n",
              "      <td>es</td>\n",
              "    </tr>\n",
              "    <tr>\n",
              "      <th>36539</th>\n",
              "      <td>/content/voice/train/train/de_m_2cfa348b2b6852...</td>\n",
              "      <td>de_m_2cfa348b2b6852e38637a4225158678d.fragment...</td>\n",
              "      <td>de</td>\n",
              "    </tr>\n",
              "  </tbody>\n",
              "</table>\n",
              "<p>36540 rows × 3 columns</p>\n",
              "</div>\n",
              "      <button class=\"colab-df-convert\" onclick=\"convertToInteractive('df-d017bcd3-4b00-40a9-8995-c918749fe1ac')\"\n",
              "              title=\"Convert this dataframe to an interactive table.\"\n",
              "              style=\"display:none;\">\n",
              "        \n",
              "  <svg xmlns=\"http://www.w3.org/2000/svg\" height=\"24px\"viewBox=\"0 0 24 24\"\n",
              "       width=\"24px\">\n",
              "    <path d=\"M0 0h24v24H0V0z\" fill=\"none\"/>\n",
              "    <path d=\"M18.56 5.44l.94 2.06.94-2.06 2.06-.94-2.06-.94-.94-2.06-.94 2.06-2.06.94zm-11 1L8.5 8.5l.94-2.06 2.06-.94-2.06-.94L8.5 2.5l-.94 2.06-2.06.94zm10 10l.94 2.06.94-2.06 2.06-.94-2.06-.94-.94-2.06-.94 2.06-2.06.94z\"/><path d=\"M17.41 7.96l-1.37-1.37c-.4-.4-.92-.59-1.43-.59-.52 0-1.04.2-1.43.59L10.3 9.45l-7.72 7.72c-.78.78-.78 2.05 0 2.83L4 21.41c.39.39.9.59 1.41.59.51 0 1.02-.2 1.41-.59l7.78-7.78 2.81-2.81c.8-.78.8-2.07 0-2.86zM5.41 20L4 18.59l7.72-7.72 1.47 1.35L5.41 20z\"/>\n",
              "  </svg>\n",
              "      </button>\n",
              "      \n",
              "  <style>\n",
              "    .colab-df-container {\n",
              "      display:flex;\n",
              "      flex-wrap:wrap;\n",
              "      gap: 12px;\n",
              "    }\n",
              "\n",
              "    .colab-df-convert {\n",
              "      background-color: #E8F0FE;\n",
              "      border: none;\n",
              "      border-radius: 50%;\n",
              "      cursor: pointer;\n",
              "      display: none;\n",
              "      fill: #1967D2;\n",
              "      height: 32px;\n",
              "      padding: 0 0 0 0;\n",
              "      width: 32px;\n",
              "    }\n",
              "\n",
              "    .colab-df-convert:hover {\n",
              "      background-color: #E2EBFA;\n",
              "      box-shadow: 0px 1px 2px rgba(60, 64, 67, 0.3), 0px 1px 3px 1px rgba(60, 64, 67, 0.15);\n",
              "      fill: #174EA6;\n",
              "    }\n",
              "\n",
              "    [theme=dark] .colab-df-convert {\n",
              "      background-color: #3B4455;\n",
              "      fill: #D2E3FC;\n",
              "    }\n",
              "\n",
              "    [theme=dark] .colab-df-convert:hover {\n",
              "      background-color: #434B5C;\n",
              "      box-shadow: 0px 1px 3px 1px rgba(0, 0, 0, 0.15);\n",
              "      filter: drop-shadow(0px 1px 2px rgba(0, 0, 0, 0.3));\n",
              "      fill: #FFFFFF;\n",
              "    }\n",
              "  </style>\n",
              "\n",
              "      <script>\n",
              "        const buttonEl =\n",
              "          document.querySelector('#df-d017bcd3-4b00-40a9-8995-c918749fe1ac button.colab-df-convert');\n",
              "        buttonEl.style.display =\n",
              "          google.colab.kernel.accessAllowed ? 'block' : 'none';\n",
              "\n",
              "        async function convertToInteractive(key) {\n",
              "          const element = document.querySelector('#df-d017bcd3-4b00-40a9-8995-c918749fe1ac');\n",
              "          const dataTable =\n",
              "            await google.colab.kernel.invokeFunction('convertToInteractive',\n",
              "                                                     [key], {});\n",
              "          if (!dataTable) return;\n",
              "\n",
              "          const docLinkHtml = 'Like what you see? Visit the ' +\n",
              "            '<a target=\"_blank\" href=https://colab.research.google.com/notebooks/data_table.ipynb>data table notebook</a>'\n",
              "            + ' to learn more about interactive tables.';\n",
              "          element.innerHTML = '';\n",
              "          dataTable['output_type'] = 'display_data';\n",
              "          await google.colab.output.renderOutput(dataTable, element);\n",
              "          const docLink = document.createElement('div');\n",
              "          docLink.innerHTML = docLinkHtml;\n",
              "          element.appendChild(docLink);\n",
              "        }\n",
              "      </script>\n",
              "    </div>\n",
              "  </div>\n",
              "  "
            ],
            "text/plain": [
              "                                                    file  \\\n",
              "0      /content/voice/train/train/de_m_df90bffac026f7...   \n",
              "1      /content/voice/train/train/de_m_0345d503166fbc...   \n",
              "2      /content/voice/train/train/en_m_d2f13c7f37ecec...   \n",
              "3      /content/voice/train/train/en_m_3a8f30bef6d7b6...   \n",
              "4      /content/voice/train/train/en_f_7701e10392ce7b...   \n",
              "...                                                  ...   \n",
              "36535  /content/voice/train/train/de_f_26ddc4e756f612...   \n",
              "36536  /content/voice/train/train/en_m_17b5d499519197...   \n",
              "36537  /content/voice/train/train/es_f_56ef0bde6c92a0...   \n",
              "36538  /content/voice/train/train/es_f_cc86b9208b120f...   \n",
              "36539  /content/voice/train/train/de_m_2cfa348b2b6852...   \n",
              "\n",
              "                                                      ID lang  \n",
              "0      de_m_df90bffac026f705f4a99871d71684f1.fragment...   de  \n",
              "1      de_m_0345d503166fbcb125b6e10e2e804443.fragment...   de  \n",
              "2      en_m_d2f13c7f37ecec67df0f46408c224bc1.fragment...   en  \n",
              "3      en_m_3a8f30bef6d7b6a1332629491eabcbf0.fragment...   en  \n",
              "4      en_f_7701e10392ce7bcfba6d2fcca56fb8d9.fragment...   en  \n",
              "...                                                  ...  ...  \n",
              "36535  de_f_26ddc4e756f61233d74d42cc000c9dae.fragment...   de  \n",
              "36536  en_m_17b5d4995191976232356345dfbb82cb.fragment...   en  \n",
              "36537  es_f_56ef0bde6c92a0100da23cdd39a8a112.fragment...   es  \n",
              "36538  es_f_cc86b9208b120f1f147a9246ab39f5e4.fragment...   es  \n",
              "36539  de_m_2cfa348b2b6852e38637a4225158678d.fragment...   de  \n",
              "\n",
              "[36540 rows x 3 columns]"
            ]
          },
          "execution_count": 11,
          "metadata": {},
          "output_type": "execute_result"
        }
      ],
      "source": [
        "first_half_df"
      ]
    },
    {
      "cell_type": "code",
      "execution_count": null,
      "metadata": {
        "colab": {
          "base_uri": "https://localhost:8080/"
        },
        "id": "odaq1m6AkMa4",
        "outputId": "a10ebb04-27ac-44a6-be5f-cf119d611843"
      },
      "outputs": [
        {
          "name": "stdout",
          "output_type": "stream",
          "text": [
            "12163\n",
            "12200\n",
            "12177\n"
          ]
        }
      ],
      "source": [
        "print(len(first_half_df[first_half_df['lang']  == 'en']))\n",
        "print(len(first_half_df[first_half_df['lang']  == 'es']))\n",
        "print(len(first_half_df[first_half_df['lang']  == 'de']))"
      ]
    },
    {
      "cell_type": "code",
      "execution_count": null,
      "metadata": {
        "colab": {
          "base_uri": "https://localhost:8080/"
        },
        "id": "HuRGxcs-c2LL",
        "outputId": "588a24ec-2027-4d44-d172-5796f4daa5e4"
      },
      "outputs": [
        {
          "name": "stdout",
          "output_type": "stream",
          "text": [
            "de_m_0345d503166fbcb125b6e10e2e804443.fragment25.speed4.npy\n"
          ]
        }
      ],
      "source": [
        "print(first_half_df[\"ID\"].iloc[1])"
      ]
    },
    {
      "cell_type": "code",
      "execution_count": null,
      "metadata": {
        "colab": {
          "background_save": true,
          "base_uri": "https://localhost:8080/"
        },
        "id": "UU00IxwvdZHL",
        "outputId": "719448f3-577f-4ee3-cf35-10ba9bdae281"
      },
      "outputs": [
        {
          "name": "stdout",
          "output_type": "stream",
          "text": [
            "CPU times: user 36min 28s, sys: 26min 53s, total: 1h 3min 22s\n",
            "Wall time: 41min\n"
          ]
        },
        {
          "data": {
            "text/plain": [
              "array([None, None, None, ..., None, None, None], dtype=object)"
            ]
          },
          "execution_count": 16,
          "metadata": {},
          "output_type": "execute_result"
        }
      ],
      "source": [
        "%%time\n",
        "format_len = len('flac')\n",
        "np.vectorize(spectrogram_mat)(TRAIN_VOICE_PATH, first_half_df['ID'], TRAIN_MAT_PATH)"
      ]
    },
    {
      "cell_type": "code",
      "execution_count": null,
      "metadata": {
        "colab": {
          "base_uri": "https://localhost:8080/"
        },
        "id": "iyUJDXham2J0",
        "outputId": "e524879e-8e9d-4a36-b046-7485f460d565"
      },
      "outputs": [
        {
          "name": "stdout",
          "output_type": "stream",
          "text": [
            "7.6G\t/content/mat/train/\n"
          ]
        }
      ],
      "source": [
        "! du -sh $TRAIN_MAT_PATH"
      ]
    },
    {
      "cell_type": "code",
      "execution_count": null,
      "metadata": {
        "id": "W9rq5fYtdYE_"
      },
      "outputs": [],
      "source": [
        "! rm -r $VOICE_DIR"
      ]
    },
    {
      "cell_type": "code",
      "execution_count": null,
      "metadata": {
        "id": "Bf-zmhilne0I"
      },
      "outputs": [],
      "source": [
        "! mkdir {DRIVE3_PATH}first_half"
      ]
    },
    {
      "cell_type": "code",
      "execution_count": null,
      "metadata": {
        "colab": {
          "base_uri": "https://localhost:8080/"
        },
        "id": "LUa8zD2Gpg7Y",
        "outputId": "acfd287a-0c61-4f56-d391-662608678176"
      },
      "outputs": [
        {
          "data": {
            "text/plain": [
              "0        /content/drive/MyDrive/Bachelor_Project_Part3/...\n",
              "1        /content/drive/MyDrive/Bachelor_Project_Part3/...\n",
              "2        /content/drive/MyDrive/Bachelor_Project_Part3/...\n",
              "3        /content/drive/MyDrive/Bachelor_Project_Part3/...\n",
              "4        /content/drive/MyDrive/Bachelor_Project_Part3/...\n",
              "                               ...                        \n",
              "36535    /content/drive/MyDrive/Bachelor_Project_Part3/...\n",
              "36536    /content/drive/MyDrive/Bachelor_Project_Part3/...\n",
              "36537    /content/drive/MyDrive/Bachelor_Project_Part3/...\n",
              "36538    /content/drive/MyDrive/Bachelor_Project_Part3/...\n",
              "36539    /content/drive/MyDrive/Bachelor_Project_Part3/...\n",
              "Length: 36540, dtype: object"
            ]
          },
          "execution_count": 24,
          "metadata": {},
          "output_type": "execute_result"
        }
      ],
      "source": [
        "first_half_df.apply(lambda x: shutil.copy(TRAIN_MAT_PATH+x.ID, DRIVE3_PATH+\"first_half/\"+x.ID), axis=1)"
      ]
    },
    {
      "cell_type": "code",
      "execution_count": null,
      "metadata": {
        "id": "0-LI3X3u4cpi"
      },
      "outputs": [],
      "source": [
        "first_half_df['lang'] = first_half_df['ID'].apply(lambda x: x.split('_')[0])"
      ]
    },
    {
      "cell_type": "code",
      "execution_count": null,
      "metadata": {
        "id": "Dki3aezF4k34"
      },
      "outputs": [],
      "source": [
        "first_half_df.to_csv(DRIVE_PATH+\"first_half.csv\")"
      ]
    },
    {
      "cell_type": "code",
      "execution_count": null,
      "metadata": {
        "colab": {
          "base_uri": "https://localhost:8080/",
          "height": 424
        },
        "id": "naNZWxMa4828",
        "outputId": "0f905b88-3baa-4f87-cf14-ab67d810edea"
      },
      "outputs": [
        {
          "data": {
            "text/html": [
              "\n",
              "  <div id=\"df-572c82b5-db38-40e3-925a-858d6b8c6ace\">\n",
              "    <div class=\"colab-df-container\">\n",
              "      <div>\n",
              "<style scoped>\n",
              "    .dataframe tbody tr th:only-of-type {\n",
              "        vertical-align: middle;\n",
              "    }\n",
              "\n",
              "    .dataframe tbody tr th {\n",
              "        vertical-align: top;\n",
              "    }\n",
              "\n",
              "    .dataframe thead th {\n",
              "        text-align: right;\n",
              "    }\n",
              "</style>\n",
              "<table border=\"1\" class=\"dataframe\">\n",
              "  <thead>\n",
              "    <tr style=\"text-align: right;\">\n",
              "      <th></th>\n",
              "      <th>file</th>\n",
              "      <th>ID</th>\n",
              "    </tr>\n",
              "  </thead>\n",
              "  <tbody>\n",
              "    <tr>\n",
              "      <th>0</th>\n",
              "      <td>/content/voice/test/test/en_f_67a0cba10d171b24...</td>\n",
              "      <td>en_f_67a0cba10d171b24039a79faa1d4d603.fragment...</td>\n",
              "    </tr>\n",
              "    <tr>\n",
              "      <th>1</th>\n",
              "      <td>/content/voice/test/test/en_m_b74b2bf2af570393...</td>\n",
              "      <td>en_m_b74b2bf2af570393cae91f4ed89cece7.fragment...</td>\n",
              "    </tr>\n",
              "    <tr>\n",
              "      <th>2</th>\n",
              "      <td>/content/voice/test/test/es_f_50298ab71aaba850...</td>\n",
              "      <td>es_f_50298ab71aaba8508ebeef49d853df11.fragment...</td>\n",
              "    </tr>\n",
              "    <tr>\n",
              "      <th>3</th>\n",
              "      <td>/content/voice/test/test/de_f_63f5b79c76cf5a1a...</td>\n",
              "      <td>de_f_63f5b79c76cf5a1a4bbd1c40f54b166e.fragment...</td>\n",
              "    </tr>\n",
              "    <tr>\n",
              "      <th>4</th>\n",
              "      <td>/content/voice/test/test/en_f_67a0cba10d171b24...</td>\n",
              "      <td>en_f_67a0cba10d171b24039a79faa1d4d603.fragment...</td>\n",
              "    </tr>\n",
              "    <tr>\n",
              "      <th>...</th>\n",
              "      <td>...</td>\n",
              "      <td>...</td>\n",
              "    </tr>\n",
              "    <tr>\n",
              "      <th>535</th>\n",
              "      <td>/content/voice/test/test/de_m_923551d571cc4373...</td>\n",
              "      <td>de_m_923551d571cc437382d0294dda2dd0aa.fragment...</td>\n",
              "    </tr>\n",
              "    <tr>\n",
              "      <th>536</th>\n",
              "      <td>/content/voice/test/test/en_m_b74b2bf2af570393...</td>\n",
              "      <td>en_m_b74b2bf2af570393cae91f4ed89cece7.fragment...</td>\n",
              "    </tr>\n",
              "    <tr>\n",
              "      <th>537</th>\n",
              "      <td>/content/voice/test/test/en_m_b74b2bf2af570393...</td>\n",
              "      <td>en_m_b74b2bf2af570393cae91f4ed89cece7.fragment...</td>\n",
              "    </tr>\n",
              "    <tr>\n",
              "      <th>538</th>\n",
              "      <td>/content/voice/test/test/de_m_923551d571cc4373...</td>\n",
              "      <td>de_m_923551d571cc437382d0294dda2dd0aa.fragment...</td>\n",
              "    </tr>\n",
              "    <tr>\n",
              "      <th>539</th>\n",
              "      <td>/content/voice/test/test/de_m_923551d571cc4373...</td>\n",
              "      <td>de_m_923551d571cc437382d0294dda2dd0aa.fragment...</td>\n",
              "    </tr>\n",
              "  </tbody>\n",
              "</table>\n",
              "<p>540 rows × 2 columns</p>\n",
              "</div>\n",
              "      <button class=\"colab-df-convert\" onclick=\"convertToInteractive('df-572c82b5-db38-40e3-925a-858d6b8c6ace')\"\n",
              "              title=\"Convert this dataframe to an interactive table.\"\n",
              "              style=\"display:none;\">\n",
              "        \n",
              "  <svg xmlns=\"http://www.w3.org/2000/svg\" height=\"24px\"viewBox=\"0 0 24 24\"\n",
              "       width=\"24px\">\n",
              "    <path d=\"M0 0h24v24H0V0z\" fill=\"none\"/>\n",
              "    <path d=\"M18.56 5.44l.94 2.06.94-2.06 2.06-.94-2.06-.94-.94-2.06-.94 2.06-2.06.94zm-11 1L8.5 8.5l.94-2.06 2.06-.94-2.06-.94L8.5 2.5l-.94 2.06-2.06.94zm10 10l.94 2.06.94-2.06 2.06-.94-2.06-.94-.94-2.06-.94 2.06-2.06.94z\"/><path d=\"M17.41 7.96l-1.37-1.37c-.4-.4-.92-.59-1.43-.59-.52 0-1.04.2-1.43.59L10.3 9.45l-7.72 7.72c-.78.78-.78 2.05 0 2.83L4 21.41c.39.39.9.59 1.41.59.51 0 1.02-.2 1.41-.59l7.78-7.78 2.81-2.81c.8-.78.8-2.07 0-2.86zM5.41 20L4 18.59l7.72-7.72 1.47 1.35L5.41 20z\"/>\n",
              "  </svg>\n",
              "      </button>\n",
              "      \n",
              "  <style>\n",
              "    .colab-df-container {\n",
              "      display:flex;\n",
              "      flex-wrap:wrap;\n",
              "      gap: 12px;\n",
              "    }\n",
              "\n",
              "    .colab-df-convert {\n",
              "      background-color: #E8F0FE;\n",
              "      border: none;\n",
              "      border-radius: 50%;\n",
              "      cursor: pointer;\n",
              "      display: none;\n",
              "      fill: #1967D2;\n",
              "      height: 32px;\n",
              "      padding: 0 0 0 0;\n",
              "      width: 32px;\n",
              "    }\n",
              "\n",
              "    .colab-df-convert:hover {\n",
              "      background-color: #E2EBFA;\n",
              "      box-shadow: 0px 1px 2px rgba(60, 64, 67, 0.3), 0px 1px 3px 1px rgba(60, 64, 67, 0.15);\n",
              "      fill: #174EA6;\n",
              "    }\n",
              "\n",
              "    [theme=dark] .colab-df-convert {\n",
              "      background-color: #3B4455;\n",
              "      fill: #D2E3FC;\n",
              "    }\n",
              "\n",
              "    [theme=dark] .colab-df-convert:hover {\n",
              "      background-color: #434B5C;\n",
              "      box-shadow: 0px 1px 3px 1px rgba(0, 0, 0, 0.15);\n",
              "      filter: drop-shadow(0px 1px 2px rgba(0, 0, 0, 0.3));\n",
              "      fill: #FFFFFF;\n",
              "    }\n",
              "  </style>\n",
              "\n",
              "      <script>\n",
              "        const buttonEl =\n",
              "          document.querySelector('#df-572c82b5-db38-40e3-925a-858d6b8c6ace button.colab-df-convert');\n",
              "        buttonEl.style.display =\n",
              "          google.colab.kernel.accessAllowed ? 'block' : 'none';\n",
              "\n",
              "        async function convertToInteractive(key) {\n",
              "          const element = document.querySelector('#df-572c82b5-db38-40e3-925a-858d6b8c6ace');\n",
              "          const dataTable =\n",
              "            await google.colab.kernel.invokeFunction('convertToInteractive',\n",
              "                                                     [key], {});\n",
              "          if (!dataTable) return;\n",
              "\n",
              "          const docLinkHtml = 'Like what you see? Visit the ' +\n",
              "            '<a target=\"_blank\" href=https://colab.research.google.com/notebooks/data_table.ipynb>data table notebook</a>'\n",
              "            + ' to learn more about interactive tables.';\n",
              "          element.innerHTML = '';\n",
              "          dataTable['output_type'] = 'display_data';\n",
              "          await google.colab.output.renderOutput(dataTable, element);\n",
              "          const docLink = document.createElement('div');\n",
              "          docLink.innerHTML = docLinkHtml;\n",
              "          element.appendChild(docLink);\n",
              "        }\n",
              "      </script>\n",
              "    </div>\n",
              "  </div>\n",
              "  "
            ],
            "text/plain": [
              "                                                  file  \\\n",
              "0    /content/voice/test/test/en_f_67a0cba10d171b24...   \n",
              "1    /content/voice/test/test/en_m_b74b2bf2af570393...   \n",
              "2    /content/voice/test/test/es_f_50298ab71aaba850...   \n",
              "3    /content/voice/test/test/de_f_63f5b79c76cf5a1a...   \n",
              "4    /content/voice/test/test/en_f_67a0cba10d171b24...   \n",
              "..                                                 ...   \n",
              "535  /content/voice/test/test/de_m_923551d571cc4373...   \n",
              "536  /content/voice/test/test/en_m_b74b2bf2af570393...   \n",
              "537  /content/voice/test/test/en_m_b74b2bf2af570393...   \n",
              "538  /content/voice/test/test/de_m_923551d571cc4373...   \n",
              "539  /content/voice/test/test/de_m_923551d571cc4373...   \n",
              "\n",
              "                                                    ID  \n",
              "0    en_f_67a0cba10d171b24039a79faa1d4d603.fragment...  \n",
              "1    en_m_b74b2bf2af570393cae91f4ed89cece7.fragment...  \n",
              "2    es_f_50298ab71aaba8508ebeef49d853df11.fragment...  \n",
              "3    de_f_63f5b79c76cf5a1a4bbd1c40f54b166e.fragment...  \n",
              "4    en_f_67a0cba10d171b24039a79faa1d4d603.fragment...  \n",
              "..                                                 ...  \n",
              "535  de_m_923551d571cc437382d0294dda2dd0aa.fragment...  \n",
              "536  en_m_b74b2bf2af570393cae91f4ed89cece7.fragment...  \n",
              "537  en_m_b74b2bf2af570393cae91f4ed89cece7.fragment...  \n",
              "538  de_m_923551d571cc437382d0294dda2dd0aa.fragment...  \n",
              "539  de_m_923551d571cc437382d0294dda2dd0aa.fragment...  \n",
              "\n",
              "[540 rows x 2 columns]"
            ]
          },
          "execution_count": 49,
          "metadata": {},
          "output_type": "execute_result"
        }
      ],
      "source": [
        "testdf"
      ]
    },
    {
      "cell_type": "code",
      "execution_count": null,
      "metadata": {
        "id": "thXNH4KN5Avc"
      },
      "outputs": [],
      "source": [
        "testdf['lang'] = testdf['ID'].apply(lambda x: x.split('_')[0])"
      ]
    },
    {
      "cell_type": "code",
      "execution_count": null,
      "metadata": {
        "id": "Ple2I_-Z5EZ1"
      },
      "outputs": [],
      "source": [
        "testdf.to_csv(DRIVE_PATH+\"testdf.csv\")"
      ]
    },
    {
      "cell_type": "code",
      "execution_count": null,
      "metadata": {
        "id": "f6hmSdAznF1j"
      },
      "outputs": [],
      "source": [
        "%%time\n",
        "format_len = len('flac')\n",
        "testdf = pd.DataFrame(test_data_dir,columns = ['file'])\n",
        "testdf['ID']= testdf['file'].apply(lambda x: x.split('/')[-1][:-format_len]+'npy')\n",
        "np.vectorize(spectrogram_mat)(TEST_VOICE_PATH, testdf['ID'], TEST_MAT_PATH)\n",
        "testdf"
      ]
    },
    {
      "cell_type": "markdown",
      "metadata": {
        "id": "sVpP1-wL5bCG"
      },
      "source": [
        "### Move to label directory"
      ]
    },
    {
      "cell_type": "code",
      "execution_count": null,
      "metadata": {
        "id": "TYPdn2T57hKP"
      },
      "outputs": [],
      "source": [
        "labels = ['en','es','de']\n",
        "for x in labels:\n",
        "    !mkdir $TRAIN_IMG_PATH/$x\n",
        "    !mkdir $TEST_IMG_PATH/$x"
      ]
    },
    {
      "cell_type": "code",
      "execution_count": null,
      "metadata": {
        "id": "44EIDFSN5ezC"
      },
      "outputs": [],
      "source": [
        "def move_to_label(name,lang, is_train=True):\n",
        "    prefix= TRAIN_IMG_PATH\n",
        "    if not is_train:\n",
        "        prefix= TEST_IMG_PATH\n",
        "    shutil.move(prefix+name,prefix+lang+\"/\"+name)\n",
        "    #print(prefix+name, \"to\", prefix+lang+\"/\"+name)"
      ]
    },
    {
      "cell_type": "code",
      "execution_count": null,
      "metadata": {
        "id": "e82Oa-y_Dt6H"
      },
      "outputs": [],
      "source": [
        "train_data_dir=np.array(glob(TRAIN_VOICE_PATH+\"*\"))\n",
        "test_data_dir=np.array(glob(TEST_VOICE_PATH+\"*\"))"
      ]
    },
    {
      "cell_type": "code",
      "execution_count": null,
      "metadata": {
        "colab": {
          "base_uri": "https://localhost:8080/"
        },
        "id": "db65db8ek_jz",
        "outputId": "bcac4185-1a26-4d2f-8d4d-cc5e27bc948b"
      },
      "outputs": [
        {
          "data": {
            "text/plain": [
              "array(['/content/voice/train/train/de_m_df90bffac026f705f4a99871d71684f1.fragment28.noise3.flac',\n",
              "       '/content/voice/train/train/en_f_9a47e3d56398b8108f59385aab8bbe87.fragment21.pitch5.flac',\n",
              "       '/content/voice/train/train/de_f_2825fa225d6ca4800f0cf0504b76ca65.fragment14.speed6.flac',\n",
              "       ...,\n",
              "       '/content/voice/train/train/es_f_68e1dcf1b41edcfa24b402f46ec2a65e.fragment2.speed7.flac',\n",
              "       '/content/voice/train/train/de_m_3aa01c55ba7ca85cad2977c848eb826f.fragment8.noise6.flac',\n",
              "       '/content/voice/train/train/de_m_fc6bd6bb9d66a89bb8d8a8a7efa23e6b.fragment9.speed8.flac'],\n",
              "      dtype='<U88')"
            ]
          },
          "execution_count": 12,
          "metadata": {},
          "output_type": "execute_result"
        }
      ],
      "source": [
        "train_data_dir"
      ]
    },
    {
      "cell_type": "code",
      "execution_count": null,
      "metadata": {
        "colab": {
          "base_uri": "https://localhost:8080/"
        },
        "id": "5YW5vRAXH1fN",
        "outputId": "7117196a-7c5e-4382-cbe5-acf06beaf2e1"
      },
      "outputs": [
        {
          "name": "stdout",
          "output_type": "stream",
          "text": [
            "73080\n"
          ]
        }
      ],
      "source": [
        "print(len(train_data_dir))"
      ]
    },
    {
      "cell_type": "code",
      "execution_count": null,
      "metadata": {
        "colab": {
          "base_uri": "https://localhost:8080/"
        },
        "id": "h6rgH8U3P8X9",
        "outputId": "4452d2ae-2f6e-47ca-a3f5-0db57021c8fd"
      },
      "outputs": [
        {
          "name": "stdout",
          "output_type": "stream",
          "text": [
            "540\n"
          ]
        }
      ],
      "source": [
        "print(len(test_data_dir))"
      ]
    },
    {
      "cell_type": "markdown",
      "metadata": {
        "id": "cAI2IvaJK2BL"
      },
      "source": [
        "## Create spectogram"
      ]
    },
    {
      "cell_type": "code",
      "execution_count": null,
      "metadata": {
        "id": "Z4Fp3veENn6v"
      },
      "outputs": [],
      "source": [
        "def spectrogram_mat(address_prefix, file, save_prefix, format='flac'):\n",
        "    clip, sample_rate = librosa.load(address_prefix+file[:-3]+format, sr=None)\n",
        "    S = librosa.feature.melspectrogram(y=clip, sr=sample_rate)\n",
        "    SP = librosa.power_to_db(S, ref=np.max)\n",
        "    np.save(save_prefix+file, SP)"
      ]
    },
    {
      "cell_type": "code",
      "execution_count": null,
      "metadata": {
        "id": "yik9qPtO4Q_n"
      },
      "outputs": [],
      "source": [
        "def show_spectrogram_mat(filename, file, is_train=True):\n",
        "    plt.interactive(False)\n",
        "    ###clip, sample_rate = librosa.load(filename, sr=None)\n",
        "    fig = plt.figure(figsize=[0.72,0.72])\n",
        "    ax = fig.add_subplot(111)\n",
        "    ax.axes.get_xaxis().set_visible(False)\n",
        "    ax.axes.get_yaxis().set_visible(False)\n",
        "    ax.set_frame_on(False)\n",
        "    ###S = librosa.feature.melspectrogram(y=clip, sr=sample_rate)\n",
        "    ###SP = librosa.power_to_db(S, ref=np.max)\n",
        "    #S = librosa.feature.mfcc(y=clip, sr=sample_rate)\n",
        "    S= np.load(filename)\n",
        "    #librosa.display.specshow(librosa.power_to_db(S, ref=np.max))\n",
        "    librosa.display.specshow(S)\n",
        "    prefix= TRAIN_IMG_PATH\n",
        "    if not is_train:\n",
        "        prefix= TEST_IMG_PATH\n",
        "    name  = prefix + file[:-4] + \".jpg\"\n",
        "    #name2  = prefix + file[:-4] + \"2.jpg\"\n",
        "    #np.save(name, S)\n",
        "    #np.save(name2, SP)\n",
        "    plt.savefig(name, dpi=400, bbox_inches='tight',pad_inches=0)\n",
        "    plt.close()\n",
        "    fig.clf()\n",
        "    plt.close(fig)\n",
        "    plt.close('all')\n",
        "    #del filename,name,clip,sample_rate,fig,ax,S"
      ]
    },
    {
      "cell_type": "markdown",
      "metadata": {
        "id": "5x4GSZ4uPEoP"
      },
      "source": [
        "### generate spectrogram for dataframe"
      ]
    },
    {
      "cell_type": "code",
      "execution_count": null,
      "metadata": {
        "colab": {
          "base_uri": "https://localhost:8080/",
          "height": 460
        },
        "id": "S50fw78pO-Sr",
        "outputId": "a80b30f0-087d-421e-e8f5-c11f260290f6"
      },
      "outputs": [
        {
          "name": "stdout",
          "output_type": "stream",
          "text": [
            "CPU times: user 47min 31s, sys: 32min 12s, total: 1h 19min 43s\n",
            "Wall time: 49min 5s\n"
          ]
        },
        {
          "data": {
            "text/html": [
              "\n",
              "  <div id=\"df-0e82ad6e-2dec-4845-92b1-fced59e4b824\">\n",
              "    <div class=\"colab-df-container\">\n",
              "      <div>\n",
              "<style scoped>\n",
              "    .dataframe tbody tr th:only-of-type {\n",
              "        vertical-align: middle;\n",
              "    }\n",
              "\n",
              "    .dataframe tbody tr th {\n",
              "        vertical-align: top;\n",
              "    }\n",
              "\n",
              "    .dataframe thead th {\n",
              "        text-align: right;\n",
              "    }\n",
              "</style>\n",
              "<table border=\"1\" class=\"dataframe\">\n",
              "  <thead>\n",
              "    <tr style=\"text-align: right;\">\n",
              "      <th></th>\n",
              "      <th>file</th>\n",
              "      <th>ID</th>\n",
              "    </tr>\n",
              "  </thead>\n",
              "  <tbody>\n",
              "    <tr>\n",
              "      <th>0</th>\n",
              "      <td>/content/voice/train/train/de_m_df90bffac026f7...</td>\n",
              "      <td>de_m_df90bffac026f705f4a99871d71684f1.fragment...</td>\n",
              "    </tr>\n",
              "    <tr>\n",
              "      <th>1</th>\n",
              "      <td>/content/voice/train/train/en_f_9a47e3d56398b8...</td>\n",
              "      <td>en_f_9a47e3d56398b8108f59385aab8bbe87.fragment...</td>\n",
              "    </tr>\n",
              "    <tr>\n",
              "      <th>2</th>\n",
              "      <td>/content/voice/train/train/de_f_2825fa225d6ca4...</td>\n",
              "      <td>de_f_2825fa225d6ca4800f0cf0504b76ca65.fragment...</td>\n",
              "    </tr>\n",
              "    <tr>\n",
              "      <th>3</th>\n",
              "      <td>/content/voice/train/train/en_m_81995ee8a5e990...</td>\n",
              "      <td>en_m_81995ee8a5e990193b7858ec4b158e48.fragment...</td>\n",
              "    </tr>\n",
              "    <tr>\n",
              "      <th>4</th>\n",
              "      <td>/content/voice/train/train/en_m_1e512792ebab2b...</td>\n",
              "      <td>en_m_1e512792ebab2bd93b7aacac3d521390.fragment...</td>\n",
              "    </tr>\n",
              "    <tr>\n",
              "      <th>...</th>\n",
              "      <td>...</td>\n",
              "      <td>...</td>\n",
              "    </tr>\n",
              "    <tr>\n",
              "      <th>73075</th>\n",
              "      <td>/content/voice/train/train/de_f_8e8ed685b0cf9f...</td>\n",
              "      <td>de_f_8e8ed685b0cf9f5bbd13a04629ee64c5.fragment...</td>\n",
              "    </tr>\n",
              "    <tr>\n",
              "      <th>73076</th>\n",
              "      <td>/content/voice/train/train/es_f_47bd2e6178465c...</td>\n",
              "      <td>es_f_47bd2e6178465cd745c86c9db5ffe447.fragment...</td>\n",
              "    </tr>\n",
              "    <tr>\n",
              "      <th>73077</th>\n",
              "      <td>/content/voice/train/train/es_f_68e1dcf1b41edc...</td>\n",
              "      <td>es_f_68e1dcf1b41edcfa24b402f46ec2a65e.fragment...</td>\n",
              "    </tr>\n",
              "    <tr>\n",
              "      <th>73078</th>\n",
              "      <td>/content/voice/train/train/de_m_3aa01c55ba7ca8...</td>\n",
              "      <td>de_m_3aa01c55ba7ca85cad2977c848eb826f.fragment...</td>\n",
              "    </tr>\n",
              "    <tr>\n",
              "      <th>73079</th>\n",
              "      <td>/content/voice/train/train/de_m_fc6bd6bb9d66a8...</td>\n",
              "      <td>de_m_fc6bd6bb9d66a89bb8d8a8a7efa23e6b.fragment...</td>\n",
              "    </tr>\n",
              "  </tbody>\n",
              "</table>\n",
              "<p>73080 rows × 2 columns</p>\n",
              "</div>\n",
              "      <button class=\"colab-df-convert\" onclick=\"convertToInteractive('df-0e82ad6e-2dec-4845-92b1-fced59e4b824')\"\n",
              "              title=\"Convert this dataframe to an interactive table.\"\n",
              "              style=\"display:none;\">\n",
              "        \n",
              "  <svg xmlns=\"http://www.w3.org/2000/svg\" height=\"24px\"viewBox=\"0 0 24 24\"\n",
              "       width=\"24px\">\n",
              "    <path d=\"M0 0h24v24H0V0z\" fill=\"none\"/>\n",
              "    <path d=\"M18.56 5.44l.94 2.06.94-2.06 2.06-.94-2.06-.94-.94-2.06-.94 2.06-2.06.94zm-11 1L8.5 8.5l.94-2.06 2.06-.94-2.06-.94L8.5 2.5l-.94 2.06-2.06.94zm10 10l.94 2.06.94-2.06 2.06-.94-2.06-.94-.94-2.06-.94 2.06-2.06.94z\"/><path d=\"M17.41 7.96l-1.37-1.37c-.4-.4-.92-.59-1.43-.59-.52 0-1.04.2-1.43.59L10.3 9.45l-7.72 7.72c-.78.78-.78 2.05 0 2.83L4 21.41c.39.39.9.59 1.41.59.51 0 1.02-.2 1.41-.59l7.78-7.78 2.81-2.81c.8-.78.8-2.07 0-2.86zM5.41 20L4 18.59l7.72-7.72 1.47 1.35L5.41 20z\"/>\n",
              "  </svg>\n",
              "      </button>\n",
              "      \n",
              "  <style>\n",
              "    .colab-df-container {\n",
              "      display:flex;\n",
              "      flex-wrap:wrap;\n",
              "      gap: 12px;\n",
              "    }\n",
              "\n",
              "    .colab-df-convert {\n",
              "      background-color: #E8F0FE;\n",
              "      border: none;\n",
              "      border-radius: 50%;\n",
              "      cursor: pointer;\n",
              "      display: none;\n",
              "      fill: #1967D2;\n",
              "      height: 32px;\n",
              "      padding: 0 0 0 0;\n",
              "      width: 32px;\n",
              "    }\n",
              "\n",
              "    .colab-df-convert:hover {\n",
              "      background-color: #E2EBFA;\n",
              "      box-shadow: 0px 1px 2px rgba(60, 64, 67, 0.3), 0px 1px 3px 1px rgba(60, 64, 67, 0.15);\n",
              "      fill: #174EA6;\n",
              "    }\n",
              "\n",
              "    [theme=dark] .colab-df-convert {\n",
              "      background-color: #3B4455;\n",
              "      fill: #D2E3FC;\n",
              "    }\n",
              "\n",
              "    [theme=dark] .colab-df-convert:hover {\n",
              "      background-color: #434B5C;\n",
              "      box-shadow: 0px 1px 3px 1px rgba(0, 0, 0, 0.15);\n",
              "      filter: drop-shadow(0px 1px 2px rgba(0, 0, 0, 0.3));\n",
              "      fill: #FFFFFF;\n",
              "    }\n",
              "  </style>\n",
              "\n",
              "      <script>\n",
              "        const buttonEl =\n",
              "          document.querySelector('#df-0e82ad6e-2dec-4845-92b1-fced59e4b824 button.colab-df-convert');\n",
              "        buttonEl.style.display =\n",
              "          google.colab.kernel.accessAllowed ? 'block' : 'none';\n",
              "\n",
              "        async function convertToInteractive(key) {\n",
              "          const element = document.querySelector('#df-0e82ad6e-2dec-4845-92b1-fced59e4b824');\n",
              "          const dataTable =\n",
              "            await google.colab.kernel.invokeFunction('convertToInteractive',\n",
              "                                                     [key], {});\n",
              "          if (!dataTable) return;\n",
              "\n",
              "          const docLinkHtml = 'Like what you see? Visit the ' +\n",
              "            '<a target=\"_blank\" href=https://colab.research.google.com/notebooks/data_table.ipynb>data table notebook</a>'\n",
              "            + ' to learn more about interactive tables.';\n",
              "          element.innerHTML = '';\n",
              "          dataTable['output_type'] = 'display_data';\n",
              "          await google.colab.output.renderOutput(dataTable, element);\n",
              "          const docLink = document.createElement('div');\n",
              "          docLink.innerHTML = docLinkHtml;\n",
              "          element.appendChild(docLink);\n",
              "        }\n",
              "      </script>\n",
              "    </div>\n",
              "  </div>\n",
              "  "
            ],
            "text/plain": [
              "                                                    file  \\\n",
              "0      /content/voice/train/train/de_m_df90bffac026f7...   \n",
              "1      /content/voice/train/train/en_f_9a47e3d56398b8...   \n",
              "2      /content/voice/train/train/de_f_2825fa225d6ca4...   \n",
              "3      /content/voice/train/train/en_m_81995ee8a5e990...   \n",
              "4      /content/voice/train/train/en_m_1e512792ebab2b...   \n",
              "...                                                  ...   \n",
              "73075  /content/voice/train/train/de_f_8e8ed685b0cf9f...   \n",
              "73076  /content/voice/train/train/es_f_47bd2e6178465c...   \n",
              "73077  /content/voice/train/train/es_f_68e1dcf1b41edc...   \n",
              "73078  /content/voice/train/train/de_m_3aa01c55ba7ca8...   \n",
              "73079  /content/voice/train/train/de_m_fc6bd6bb9d66a8...   \n",
              "\n",
              "                                                      ID  \n",
              "0      de_m_df90bffac026f705f4a99871d71684f1.fragment...  \n",
              "1      en_f_9a47e3d56398b8108f59385aab8bbe87.fragment...  \n",
              "2      de_f_2825fa225d6ca4800f0cf0504b76ca65.fragment...  \n",
              "3      en_m_81995ee8a5e990193b7858ec4b158e48.fragment...  \n",
              "4      en_m_1e512792ebab2bd93b7aacac3d521390.fragment...  \n",
              "...                                                  ...  \n",
              "73075  de_f_8e8ed685b0cf9f5bbd13a04629ee64c5.fragment...  \n",
              "73076  es_f_47bd2e6178465cd745c86c9db5ffe447.fragment...  \n",
              "73077  es_f_68e1dcf1b41edcfa24b402f46ec2a65e.fragment...  \n",
              "73078  de_m_3aa01c55ba7ca85cad2977c848eb826f.fragment...  \n",
              "73079  de_m_fc6bd6bb9d66a89bb8d8a8a7efa23e6b.fragment...  \n",
              "\n",
              "[73080 rows x 2 columns]"
            ]
          },
          "execution_count": 17,
          "metadata": {},
          "output_type": "execute_result"
        }
      ],
      "source": [
        "%%time\n",
        "format_len = len('flac')\n",
        "traindf = pd.DataFrame(train_data_dir,columns = ['file'])\n",
        "traindf['ID']= traindf['file'].apply(lambda x: x.split('/')[-1][:-format_len]+'npy')\n",
        "np.vectorize(spectrogram_mat)(TRAIN_VOICE_PATH, traindf['ID'], TRAIN_MAT_PATH)\n",
        "traindf"
      ]
    },
    {
      "cell_type": "code",
      "execution_count": null,
      "metadata": {
        "colab": {
          "base_uri": "https://localhost:8080/",
          "height": 458
        },
        "id": "YWmnouKbBnZo",
        "outputId": "d2e84180-9589-4721-9703-547f7ce9002a"
      },
      "outputs": [
        {
          "name": "stdout",
          "output_type": "stream",
          "text": [
            "CPU times: user 29.8 s, sys: 21.6 s, total: 51.3 s\n",
            "Wall time: 32.7 s\n"
          ]
        },
        {
          "data": {
            "text/html": [
              "\n",
              "  <div id=\"df-a52b57d2-84c9-434d-ae3a-2c574e92fe33\">\n",
              "    <div class=\"colab-df-container\">\n",
              "      <div>\n",
              "<style scoped>\n",
              "    .dataframe tbody tr th:only-of-type {\n",
              "        vertical-align: middle;\n",
              "    }\n",
              "\n",
              "    .dataframe tbody tr th {\n",
              "        vertical-align: top;\n",
              "    }\n",
              "\n",
              "    .dataframe thead th {\n",
              "        text-align: right;\n",
              "    }\n",
              "</style>\n",
              "<table border=\"1\" class=\"dataframe\">\n",
              "  <thead>\n",
              "    <tr style=\"text-align: right;\">\n",
              "      <th></th>\n",
              "      <th>file</th>\n",
              "      <th>ID</th>\n",
              "    </tr>\n",
              "  </thead>\n",
              "  <tbody>\n",
              "    <tr>\n",
              "      <th>0</th>\n",
              "      <td>/content/voice/test/test/en_f_67a0cba10d171b24...</td>\n",
              "      <td>en_f_67a0cba10d171b24039a79faa1d4d603.fragment...</td>\n",
              "    </tr>\n",
              "    <tr>\n",
              "      <th>1</th>\n",
              "      <td>/content/voice/test/test/en_m_b74b2bf2af570393...</td>\n",
              "      <td>en_m_b74b2bf2af570393cae91f4ed89cece7.fragment...</td>\n",
              "    </tr>\n",
              "    <tr>\n",
              "      <th>2</th>\n",
              "      <td>/content/voice/test/test/es_f_50298ab71aaba850...</td>\n",
              "      <td>es_f_50298ab71aaba8508ebeef49d853df11.fragment...</td>\n",
              "    </tr>\n",
              "    <tr>\n",
              "      <th>3</th>\n",
              "      <td>/content/voice/test/test/de_f_63f5b79c76cf5a1a...</td>\n",
              "      <td>de_f_63f5b79c76cf5a1a4bbd1c40f54b166e.fragment...</td>\n",
              "    </tr>\n",
              "    <tr>\n",
              "      <th>4</th>\n",
              "      <td>/content/voice/test/test/en_f_67a0cba10d171b24...</td>\n",
              "      <td>en_f_67a0cba10d171b24039a79faa1d4d603.fragment...</td>\n",
              "    </tr>\n",
              "    <tr>\n",
              "      <th>...</th>\n",
              "      <td>...</td>\n",
              "      <td>...</td>\n",
              "    </tr>\n",
              "    <tr>\n",
              "      <th>535</th>\n",
              "      <td>/content/voice/test/test/de_m_923551d571cc4373...</td>\n",
              "      <td>de_m_923551d571cc437382d0294dda2dd0aa.fragment...</td>\n",
              "    </tr>\n",
              "    <tr>\n",
              "      <th>536</th>\n",
              "      <td>/content/voice/test/test/en_m_b74b2bf2af570393...</td>\n",
              "      <td>en_m_b74b2bf2af570393cae91f4ed89cece7.fragment...</td>\n",
              "    </tr>\n",
              "    <tr>\n",
              "      <th>537</th>\n",
              "      <td>/content/voice/test/test/en_m_b74b2bf2af570393...</td>\n",
              "      <td>en_m_b74b2bf2af570393cae91f4ed89cece7.fragment...</td>\n",
              "    </tr>\n",
              "    <tr>\n",
              "      <th>538</th>\n",
              "      <td>/content/voice/test/test/de_m_923551d571cc4373...</td>\n",
              "      <td>de_m_923551d571cc437382d0294dda2dd0aa.fragment...</td>\n",
              "    </tr>\n",
              "    <tr>\n",
              "      <th>539</th>\n",
              "      <td>/content/voice/test/test/de_m_923551d571cc4373...</td>\n",
              "      <td>de_m_923551d571cc437382d0294dda2dd0aa.fragment...</td>\n",
              "    </tr>\n",
              "  </tbody>\n",
              "</table>\n",
              "<p>540 rows × 2 columns</p>\n",
              "</div>\n",
              "      <button class=\"colab-df-convert\" onclick=\"convertToInteractive('df-a52b57d2-84c9-434d-ae3a-2c574e92fe33')\"\n",
              "              title=\"Convert this dataframe to an interactive table.\"\n",
              "              style=\"display:none;\">\n",
              "        \n",
              "  <svg xmlns=\"http://www.w3.org/2000/svg\" height=\"24px\"viewBox=\"0 0 24 24\"\n",
              "       width=\"24px\">\n",
              "    <path d=\"M0 0h24v24H0V0z\" fill=\"none\"/>\n",
              "    <path d=\"M18.56 5.44l.94 2.06.94-2.06 2.06-.94-2.06-.94-.94-2.06-.94 2.06-2.06.94zm-11 1L8.5 8.5l.94-2.06 2.06-.94-2.06-.94L8.5 2.5l-.94 2.06-2.06.94zm10 10l.94 2.06.94-2.06 2.06-.94-2.06-.94-.94-2.06-.94 2.06-2.06.94z\"/><path d=\"M17.41 7.96l-1.37-1.37c-.4-.4-.92-.59-1.43-.59-.52 0-1.04.2-1.43.59L10.3 9.45l-7.72 7.72c-.78.78-.78 2.05 0 2.83L4 21.41c.39.39.9.59 1.41.59.51 0 1.02-.2 1.41-.59l7.78-7.78 2.81-2.81c.8-.78.8-2.07 0-2.86zM5.41 20L4 18.59l7.72-7.72 1.47 1.35L5.41 20z\"/>\n",
              "  </svg>\n",
              "      </button>\n",
              "      \n",
              "  <style>\n",
              "    .colab-df-container {\n",
              "      display:flex;\n",
              "      flex-wrap:wrap;\n",
              "      gap: 12px;\n",
              "    }\n",
              "\n",
              "    .colab-df-convert {\n",
              "      background-color: #E8F0FE;\n",
              "      border: none;\n",
              "      border-radius: 50%;\n",
              "      cursor: pointer;\n",
              "      display: none;\n",
              "      fill: #1967D2;\n",
              "      height: 32px;\n",
              "      padding: 0 0 0 0;\n",
              "      width: 32px;\n",
              "    }\n",
              "\n",
              "    .colab-df-convert:hover {\n",
              "      background-color: #E2EBFA;\n",
              "      box-shadow: 0px 1px 2px rgba(60, 64, 67, 0.3), 0px 1px 3px 1px rgba(60, 64, 67, 0.15);\n",
              "      fill: #174EA6;\n",
              "    }\n",
              "\n",
              "    [theme=dark] .colab-df-convert {\n",
              "      background-color: #3B4455;\n",
              "      fill: #D2E3FC;\n",
              "    }\n",
              "\n",
              "    [theme=dark] .colab-df-convert:hover {\n",
              "      background-color: #434B5C;\n",
              "      box-shadow: 0px 1px 3px 1px rgba(0, 0, 0, 0.15);\n",
              "      filter: drop-shadow(0px 1px 2px rgba(0, 0, 0, 0.3));\n",
              "      fill: #FFFFFF;\n",
              "    }\n",
              "  </style>\n",
              "\n",
              "      <script>\n",
              "        const buttonEl =\n",
              "          document.querySelector('#df-a52b57d2-84c9-434d-ae3a-2c574e92fe33 button.colab-df-convert');\n",
              "        buttonEl.style.display =\n",
              "          google.colab.kernel.accessAllowed ? 'block' : 'none';\n",
              "\n",
              "        async function convertToInteractive(key) {\n",
              "          const element = document.querySelector('#df-a52b57d2-84c9-434d-ae3a-2c574e92fe33');\n",
              "          const dataTable =\n",
              "            await google.colab.kernel.invokeFunction('convertToInteractive',\n",
              "                                                     [key], {});\n",
              "          if (!dataTable) return;\n",
              "\n",
              "          const docLinkHtml = 'Like what you see? Visit the ' +\n",
              "            '<a target=\"_blank\" href=https://colab.research.google.com/notebooks/data_table.ipynb>data table notebook</a>'\n",
              "            + ' to learn more about interactive tables.';\n",
              "          element.innerHTML = '';\n",
              "          dataTable['output_type'] = 'display_data';\n",
              "          await google.colab.output.renderOutput(dataTable, element);\n",
              "          const docLink = document.createElement('div');\n",
              "          docLink.innerHTML = docLinkHtml;\n",
              "          element.appendChild(docLink);\n",
              "        }\n",
              "      </script>\n",
              "    </div>\n",
              "  </div>\n",
              "  "
            ],
            "text/plain": [
              "                                                  file  \\\n",
              "0    /content/voice/test/test/en_f_67a0cba10d171b24...   \n",
              "1    /content/voice/test/test/en_m_b74b2bf2af570393...   \n",
              "2    /content/voice/test/test/es_f_50298ab71aaba850...   \n",
              "3    /content/voice/test/test/de_f_63f5b79c76cf5a1a...   \n",
              "4    /content/voice/test/test/en_f_67a0cba10d171b24...   \n",
              "..                                                 ...   \n",
              "535  /content/voice/test/test/de_m_923551d571cc4373...   \n",
              "536  /content/voice/test/test/en_m_b74b2bf2af570393...   \n",
              "537  /content/voice/test/test/en_m_b74b2bf2af570393...   \n",
              "538  /content/voice/test/test/de_m_923551d571cc4373...   \n",
              "539  /content/voice/test/test/de_m_923551d571cc4373...   \n",
              "\n",
              "                                                    ID  \n",
              "0    en_f_67a0cba10d171b24039a79faa1d4d603.fragment...  \n",
              "1    en_m_b74b2bf2af570393cae91f4ed89cece7.fragment...  \n",
              "2    es_f_50298ab71aaba8508ebeef49d853df11.fragment...  \n",
              "3    de_f_63f5b79c76cf5a1a4bbd1c40f54b166e.fragment...  \n",
              "4    en_f_67a0cba10d171b24039a79faa1d4d603.fragment...  \n",
              "..                                                 ...  \n",
              "535  de_m_923551d571cc437382d0294dda2dd0aa.fragment...  \n",
              "536  en_m_b74b2bf2af570393cae91f4ed89cece7.fragment...  \n",
              "537  en_m_b74b2bf2af570393cae91f4ed89cece7.fragment...  \n",
              "538  de_m_923551d571cc437382d0294dda2dd0aa.fragment...  \n",
              "539  de_m_923551d571cc437382d0294dda2dd0aa.fragment...  \n",
              "\n",
              "[540 rows x 2 columns]"
            ]
          },
          "execution_count": 26,
          "metadata": {},
          "output_type": "execute_result"
        }
      ],
      "source": [
        "%%time\n",
        "format_len = len('flac')\n",
        "testdf = pd.DataFrame(test_data_dir,columns = ['file'])\n",
        "testdf['ID']= testdf['file'].apply(lambda x: x.split('/')[-1][:-format_len]+'npy')\n",
        "np.vectorize(spectrogram_mat)(TEST_VOICE_PATH, testdf['ID'], TEST_MAT_PATH)\n",
        "testdf"
      ]
    },
    {
      "cell_type": "code",
      "execution_count": null,
      "metadata": {
        "colab": {
          "base_uri": "https://localhost:8080/"
        },
        "id": "GqvQWrTecciU",
        "outputId": "2b09024f-f0ec-491b-ca52-8a4ae2ad23c4"
      },
      "outputs": [
        {
          "name": "stdout",
          "output_type": "stream",
          "text": [
            "73080\n"
          ]
        }
      ],
      "source": [
        "! ls $TRAIN_MAT_PATH -1 | wc -l"
      ]
    },
    {
      "cell_type": "code",
      "execution_count": null,
      "metadata": {
        "colab": {
          "base_uri": "https://localhost:8080/"
        },
        "id": "3y5Q4nz4cyTo",
        "outputId": "b520af1b-6ef8-4fec-d402-985a245e194c"
      },
      "outputs": [
        {
          "name": "stdout",
          "output_type": "stream",
          "text": [
            "16G\t/content/mat/train/\n"
          ]
        }
      ],
      "source": [
        "! du -sh $TRAIN_MAT_PATH"
      ]
    },
    {
      "cell_type": "code",
      "execution_count": null,
      "metadata": {
        "id": "mhpt7b1nsmWT"
      },
      "outputs": [],
      "source": [
        "! mkdir {DRIVE3_PATH}\"test/\""
      ]
    },
    {
      "cell_type": "code",
      "execution_count": null,
      "metadata": {
        "id": "8AqKncPl5J_G"
      },
      "outputs": [],
      "source": [
        "show_spectrogram_mat('/content/train/train-img/de_f_26ddc4e756f61233d74d42cc000c9dae.fragment23.pitch8.flac2.npy','de_f_26ddc4e756f61233d74d42cc000c9dae.fragment23.pitch8.flac2.npy')"
      ]
    },
    {
      "cell_type": "code",
      "execution_count": null,
      "metadata": {
        "id": "izW38vKhQqWz"
      },
      "outputs": [],
      "source": [
        "traindf['lang'] = traindf['ID'].apply(lambda x: x.split('_')[0])"
      ]
    },
    {
      "cell_type": "code",
      "execution_count": null,
      "metadata": {
        "id": "OiwIDVj2FVXF"
      },
      "outputs": [],
      "source": [
        "move_to_label(traindf['ID'][0], traindf['lang'][0])"
      ]
    },
    {
      "cell_type": "code",
      "execution_count": null,
      "metadata": {
        "id": "bBgN5An38tm3"
      },
      "outputs": [],
      "source": [
        "np.vectorize(move_to_label, cache=True)(traindf['ID'], traindf['lang'])"
      ]
    },
    {
      "cell_type": "markdown",
      "metadata": {
        "id": "mvANCgj-TGOf"
      },
      "source": [
        "### read data from drive"
      ]
    },
    {
      "cell_type": "code",
      "execution_count": null,
      "metadata": {
        "id": "b2ljVZQDtsWk"
      },
      "outputs": [],
      "source": [
        "### for first_half\n",
        "first_half_df=pd.read_csv(DRIVE_PATH+'first_half.csv')\n",
        "traindf = first_half_df"
      ]
    },
    {
      "cell_type": "code",
      "execution_count": null,
      "metadata": {
        "colab": {
          "base_uri": "https://localhost:8080/",
          "height": 424
        },
        "id": "uF8FncyKqPZi",
        "outputId": "a1c01151-d7a2-4788-ce31-eba1ea7f4aeb"
      },
      "outputs": [
        {
          "data": {
            "text/html": [
              "\n",
              "  <div id=\"df-de8b6aa2-06a7-487e-8b9c-4495e3981164\">\n",
              "    <div class=\"colab-df-container\">\n",
              "      <div>\n",
              "<style scoped>\n",
              "    .dataframe tbody tr th:only-of-type {\n",
              "        vertical-align: middle;\n",
              "    }\n",
              "\n",
              "    .dataframe tbody tr th {\n",
              "        vertical-align: top;\n",
              "    }\n",
              "\n",
              "    .dataframe thead th {\n",
              "        text-align: right;\n",
              "    }\n",
              "</style>\n",
              "<table border=\"1\" class=\"dataframe\">\n",
              "  <thead>\n",
              "    <tr style=\"text-align: right;\">\n",
              "      <th></th>\n",
              "      <th>file</th>\n",
              "      <th>ID</th>\n",
              "      <th>lang</th>\n",
              "    </tr>\n",
              "  </thead>\n",
              "  <tbody>\n",
              "    <tr>\n",
              "      <th>0</th>\n",
              "      <td>/content/voice/train/train/de_m_df90bffac026f7...</td>\n",
              "      <td>de_m_df90bffac026f705f4a99871d71684f1.fragment...</td>\n",
              "      <td>de</td>\n",
              "    </tr>\n",
              "    <tr>\n",
              "      <th>1</th>\n",
              "      <td>/content/voice/train/train/de_m_0345d503166fbc...</td>\n",
              "      <td>de_m_0345d503166fbcb125b6e10e2e804443.fragment...</td>\n",
              "      <td>de</td>\n",
              "    </tr>\n",
              "    <tr>\n",
              "      <th>2</th>\n",
              "      <td>/content/voice/train/train/en_m_d2f13c7f37ecec...</td>\n",
              "      <td>en_m_d2f13c7f37ecec67df0f46408c224bc1.fragment...</td>\n",
              "      <td>en</td>\n",
              "    </tr>\n",
              "    <tr>\n",
              "      <th>3</th>\n",
              "      <td>/content/voice/train/train/en_m_3a8f30bef6d7b6...</td>\n",
              "      <td>en_m_3a8f30bef6d7b6a1332629491eabcbf0.fragment...</td>\n",
              "      <td>en</td>\n",
              "    </tr>\n",
              "    <tr>\n",
              "      <th>4</th>\n",
              "      <td>/content/voice/train/train/en_f_7701e10392ce7b...</td>\n",
              "      <td>en_f_7701e10392ce7bcfba6d2fcca56fb8d9.fragment...</td>\n",
              "      <td>en</td>\n",
              "    </tr>\n",
              "    <tr>\n",
              "      <th>...</th>\n",
              "      <td>...</td>\n",
              "      <td>...</td>\n",
              "      <td>...</td>\n",
              "    </tr>\n",
              "    <tr>\n",
              "      <th>36535</th>\n",
              "      <td>/content/voice/train/train/de_f_26ddc4e756f612...</td>\n",
              "      <td>de_f_26ddc4e756f61233d74d42cc000c9dae.fragment...</td>\n",
              "      <td>de</td>\n",
              "    </tr>\n",
              "    <tr>\n",
              "      <th>36536</th>\n",
              "      <td>/content/voice/train/train/en_m_17b5d499519197...</td>\n",
              "      <td>en_m_17b5d4995191976232356345dfbb82cb.fragment...</td>\n",
              "      <td>en</td>\n",
              "    </tr>\n",
              "    <tr>\n",
              "      <th>36537</th>\n",
              "      <td>/content/voice/train/train/es_f_56ef0bde6c92a0...</td>\n",
              "      <td>es_f_56ef0bde6c92a0100da23cdd39a8a112.fragment...</td>\n",
              "      <td>es</td>\n",
              "    </tr>\n",
              "    <tr>\n",
              "      <th>36538</th>\n",
              "      <td>/content/voice/train/train/es_f_cc86b9208b120f...</td>\n",
              "      <td>es_f_cc86b9208b120f1f147a9246ab39f5e4.fragment...</td>\n",
              "      <td>es</td>\n",
              "    </tr>\n",
              "    <tr>\n",
              "      <th>36539</th>\n",
              "      <td>/content/voice/train/train/de_m_2cfa348b2b6852...</td>\n",
              "      <td>de_m_2cfa348b2b6852e38637a4225158678d.fragment...</td>\n",
              "      <td>de</td>\n",
              "    </tr>\n",
              "  </tbody>\n",
              "</table>\n",
              "<p>36540 rows × 3 columns</p>\n",
              "</div>\n",
              "      <button class=\"colab-df-convert\" onclick=\"convertToInteractive('df-de8b6aa2-06a7-487e-8b9c-4495e3981164')\"\n",
              "              title=\"Convert this dataframe to an interactive table.\"\n",
              "              style=\"display:none;\">\n",
              "        \n",
              "  <svg xmlns=\"http://www.w3.org/2000/svg\" height=\"24px\"viewBox=\"0 0 24 24\"\n",
              "       width=\"24px\">\n",
              "    <path d=\"M0 0h24v24H0V0z\" fill=\"none\"/>\n",
              "    <path d=\"M18.56 5.44l.94 2.06.94-2.06 2.06-.94-2.06-.94-.94-2.06-.94 2.06-2.06.94zm-11 1L8.5 8.5l.94-2.06 2.06-.94-2.06-.94L8.5 2.5l-.94 2.06-2.06.94zm10 10l.94 2.06.94-2.06 2.06-.94-2.06-.94-.94-2.06-.94 2.06-2.06.94z\"/><path d=\"M17.41 7.96l-1.37-1.37c-.4-.4-.92-.59-1.43-.59-.52 0-1.04.2-1.43.59L10.3 9.45l-7.72 7.72c-.78.78-.78 2.05 0 2.83L4 21.41c.39.39.9.59 1.41.59.51 0 1.02-.2 1.41-.59l7.78-7.78 2.81-2.81c.8-.78.8-2.07 0-2.86zM5.41 20L4 18.59l7.72-7.72 1.47 1.35L5.41 20z\"/>\n",
              "  </svg>\n",
              "      </button>\n",
              "      \n",
              "  <style>\n",
              "    .colab-df-container {\n",
              "      display:flex;\n",
              "      flex-wrap:wrap;\n",
              "      gap: 12px;\n",
              "    }\n",
              "\n",
              "    .colab-df-convert {\n",
              "      background-color: #E8F0FE;\n",
              "      border: none;\n",
              "      border-radius: 50%;\n",
              "      cursor: pointer;\n",
              "      display: none;\n",
              "      fill: #1967D2;\n",
              "      height: 32px;\n",
              "      padding: 0 0 0 0;\n",
              "      width: 32px;\n",
              "    }\n",
              "\n",
              "    .colab-df-convert:hover {\n",
              "      background-color: #E2EBFA;\n",
              "      box-shadow: 0px 1px 2px rgba(60, 64, 67, 0.3), 0px 1px 3px 1px rgba(60, 64, 67, 0.15);\n",
              "      fill: #174EA6;\n",
              "    }\n",
              "\n",
              "    [theme=dark] .colab-df-convert {\n",
              "      background-color: #3B4455;\n",
              "      fill: #D2E3FC;\n",
              "    }\n",
              "\n",
              "    [theme=dark] .colab-df-convert:hover {\n",
              "      background-color: #434B5C;\n",
              "      box-shadow: 0px 1px 3px 1px rgba(0, 0, 0, 0.15);\n",
              "      filter: drop-shadow(0px 1px 2px rgba(0, 0, 0, 0.3));\n",
              "      fill: #FFFFFF;\n",
              "    }\n",
              "  </style>\n",
              "\n",
              "      <script>\n",
              "        const buttonEl =\n",
              "          document.querySelector('#df-de8b6aa2-06a7-487e-8b9c-4495e3981164 button.colab-df-convert');\n",
              "        buttonEl.style.display =\n",
              "          google.colab.kernel.accessAllowed ? 'block' : 'none';\n",
              "\n",
              "        async function convertToInteractive(key) {\n",
              "          const element = document.querySelector('#df-de8b6aa2-06a7-487e-8b9c-4495e3981164');\n",
              "          const dataTable =\n",
              "            await google.colab.kernel.invokeFunction('convertToInteractive',\n",
              "                                                     [key], {});\n",
              "          if (!dataTable) return;\n",
              "\n",
              "          const docLinkHtml = 'Like what you see? Visit the ' +\n",
              "            '<a target=\"_blank\" href=https://colab.research.google.com/notebooks/data_table.ipynb>data table notebook</a>'\n",
              "            + ' to learn more about interactive tables.';\n",
              "          element.innerHTML = '';\n",
              "          dataTable['output_type'] = 'display_data';\n",
              "          await google.colab.output.renderOutput(dataTable, element);\n",
              "          const docLink = document.createElement('div');\n",
              "          docLink.innerHTML = docLinkHtml;\n",
              "          element.appendChild(docLink);\n",
              "        }\n",
              "      </script>\n",
              "    </div>\n",
              "  </div>\n",
              "  "
            ],
            "text/plain": [
              "                                                    file  \\\n",
              "0      /content/voice/train/train/de_m_df90bffac026f7...   \n",
              "1      /content/voice/train/train/de_m_0345d503166fbc...   \n",
              "2      /content/voice/train/train/en_m_d2f13c7f37ecec...   \n",
              "3      /content/voice/train/train/en_m_3a8f30bef6d7b6...   \n",
              "4      /content/voice/train/train/en_f_7701e10392ce7b...   \n",
              "...                                                  ...   \n",
              "36535  /content/voice/train/train/de_f_26ddc4e756f612...   \n",
              "36536  /content/voice/train/train/en_m_17b5d499519197...   \n",
              "36537  /content/voice/train/train/es_f_56ef0bde6c92a0...   \n",
              "36538  /content/voice/train/train/es_f_cc86b9208b120f...   \n",
              "36539  /content/voice/train/train/de_m_2cfa348b2b6852...   \n",
              "\n",
              "                                                      ID lang  \n",
              "0      de_m_df90bffac026f705f4a99871d71684f1.fragment...   de  \n",
              "1      de_m_0345d503166fbcb125b6e10e2e804443.fragment...   de  \n",
              "2      en_m_d2f13c7f37ecec67df0f46408c224bc1.fragment...   en  \n",
              "3      en_m_3a8f30bef6d7b6a1332629491eabcbf0.fragment...   en  \n",
              "4      en_f_7701e10392ce7bcfba6d2fcca56fb8d9.fragment...   en  \n",
              "...                                                  ...  ...  \n",
              "36535  de_f_26ddc4e756f61233d74d42cc000c9dae.fragment...   de  \n",
              "36536  en_m_17b5d4995191976232356345dfbb82cb.fragment...   en  \n",
              "36537  es_f_56ef0bde6c92a0100da23cdd39a8a112.fragment...   es  \n",
              "36538  es_f_cc86b9208b120f1f147a9246ab39f5e4.fragment...   es  \n",
              "36539  de_m_2cfa348b2b6852e38637a4225158678d.fragment...   de  \n",
              "\n",
              "[36540 rows x 3 columns]"
            ]
          },
          "execution_count": 11,
          "metadata": {},
          "output_type": "execute_result"
        }
      ],
      "source": [
        "first_half_df"
      ]
    },
    {
      "cell_type": "markdown",
      "metadata": {
        "id": "HhkQSjZEpDgA"
      },
      "source": [
        "### generate spectrogram"
      ]
    },
    {
      "cell_type": "code",
      "execution_count": null,
      "metadata": {
        "id": "HULoVkVrr19K"
      },
      "outputs": [],
      "source": [
        "def spectrogram_mat(address_prefix, file, save_prefix, format='flac'):\n",
        "    clip, sample_rate = librosa.load(address_prefix+file[:-3]+format, sr=None)\n",
        "    S = librosa.feature.melspectrogram(y=clip, sr=sample_rate)#, n_mels=40, hop_length=221) ##\n",
        "    SP = librosa.power_to_db(S, ref=np.max)\n",
        "    np.save(save_prefix+file, SP)"
      ]
    },
    {
      "cell_type": "code",
      "execution_count": null,
      "metadata": {
        "colab": {
          "base_uri": "https://localhost:8080/",
          "height": 458
        },
        "id": "uIaCzWPdqFeH",
        "outputId": "8cbd221f-87be-480d-bd19-c5fd34bf305a"
      },
      "outputs": [
        {
          "name": "stdout",
          "output_type": "stream",
          "text": [
            "CPU times: user 1h 1min, sys: 1h 55min 49s, total: 2h 56min 50s\n",
            "Wall time: 50min 14s\n"
          ]
        },
        {
          "data": {
            "text/html": [
              "\n",
              "\n",
              "  <div id=\"df-068c64a2-9143-4726-9f2d-94aca01979e6\">\n",
              "    <div class=\"colab-df-container\">\n",
              "      <div>\n",
              "<style scoped>\n",
              "    .dataframe tbody tr th:only-of-type {\n",
              "        vertical-align: middle;\n",
              "    }\n",
              "\n",
              "    .dataframe tbody tr th {\n",
              "        vertical-align: top;\n",
              "    }\n",
              "\n",
              "    .dataframe thead th {\n",
              "        text-align: right;\n",
              "    }\n",
              "</style>\n",
              "<table border=\"1\" class=\"dataframe\">\n",
              "  <thead>\n",
              "    <tr style=\"text-align: right;\">\n",
              "      <th></th>\n",
              "      <th>file</th>\n",
              "      <th>ID</th>\n",
              "      <th>lang</th>\n",
              "    </tr>\n",
              "  </thead>\n",
              "  <tbody>\n",
              "    <tr>\n",
              "      <th>0</th>\n",
              "      <td>/content/voice/train/train/de_f_404792fda5c66b...</td>\n",
              "      <td>de_f_404792fda5c66b95903adafd5a5f5d10.fragment...</td>\n",
              "      <td>de</td>\n",
              "    </tr>\n",
              "    <tr>\n",
              "      <th>1</th>\n",
              "      <td>/content/voice/train/train/es_m_534a0cf6f6aea8...</td>\n",
              "      <td>es_m_534a0cf6f6aea8e35667a9147d2d0f8d.fragment...</td>\n",
              "      <td>es</td>\n",
              "    </tr>\n",
              "    <tr>\n",
              "      <th>2</th>\n",
              "      <td>/content/voice/train/train/es_m_406bb0dc71a220...</td>\n",
              "      <td>es_m_406bb0dc71a22051d900bc55cdfad59e.fragment...</td>\n",
              "      <td>es</td>\n",
              "    </tr>\n",
              "    <tr>\n",
              "      <th>3</th>\n",
              "      <td>/content/voice/train/train/de_m_8ea3514af1c014...</td>\n",
              "      <td>de_m_8ea3514af1c01478fbcd004b026fea71.fragment...</td>\n",
              "      <td>de</td>\n",
              "    </tr>\n",
              "    <tr>\n",
              "      <th>4</th>\n",
              "      <td>/content/voice/train/train/en_m_17b5d499519197...</td>\n",
              "      <td>en_m_17b5d4995191976232356345dfbb82cb.fragment...</td>\n",
              "      <td>en</td>\n",
              "    </tr>\n",
              "    <tr>\n",
              "      <th>...</th>\n",
              "      <td>...</td>\n",
              "      <td>...</td>\n",
              "      <td>...</td>\n",
              "    </tr>\n",
              "    <tr>\n",
              "      <th>73075</th>\n",
              "      <td>/content/voice/train/train/de_m_502293f2297515...</td>\n",
              "      <td>de_m_502293f229751563d1768dd2367a6b29.fragment...</td>\n",
              "      <td>de</td>\n",
              "    </tr>\n",
              "    <tr>\n",
              "      <th>73076</th>\n",
              "      <td>/content/voice/train/train/de_f_9bd3b58fe6f75d...</td>\n",
              "      <td>de_f_9bd3b58fe6f75dc40e85021914b4b06a.fragment...</td>\n",
              "      <td>de</td>\n",
              "    </tr>\n",
              "    <tr>\n",
              "      <th>73077</th>\n",
              "      <td>/content/voice/train/train/de_f_9bd3b58fe6f75d...</td>\n",
              "      <td>de_f_9bd3b58fe6f75dc40e85021914b4b06a.fragment...</td>\n",
              "      <td>de</td>\n",
              "    </tr>\n",
              "    <tr>\n",
              "      <th>73078</th>\n",
              "      <td>/content/voice/train/train/de_m_1b27ef4569a51e...</td>\n",
              "      <td>de_m_1b27ef4569a51e82d6b2dfae8d565d25.fragment...</td>\n",
              "      <td>de</td>\n",
              "    </tr>\n",
              "    <tr>\n",
              "      <th>73079</th>\n",
              "      <td>/content/voice/train/train/de_m_502293f2297515...</td>\n",
              "      <td>de_m_502293f229751563d1768dd2367a6b29.fragment...</td>\n",
              "      <td>de</td>\n",
              "    </tr>\n",
              "  </tbody>\n",
              "</table>\n",
              "<p>73080 rows × 3 columns</p>\n",
              "</div>\n",
              "      <button class=\"colab-df-convert\" onclick=\"convertToInteractive('df-068c64a2-9143-4726-9f2d-94aca01979e6')\"\n",
              "              title=\"Convert this dataframe to an interactive table.\"\n",
              "              style=\"display:none;\">\n",
              "\n",
              "  <svg xmlns=\"http://www.w3.org/2000/svg\" height=\"24px\"viewBox=\"0 0 24 24\"\n",
              "       width=\"24px\">\n",
              "    <path d=\"M0 0h24v24H0V0z\" fill=\"none\"/>\n",
              "    <path d=\"M18.56 5.44l.94 2.06.94-2.06 2.06-.94-2.06-.94-.94-2.06-.94 2.06-2.06.94zm-11 1L8.5 8.5l.94-2.06 2.06-.94-2.06-.94L8.5 2.5l-.94 2.06-2.06.94zm10 10l.94 2.06.94-2.06 2.06-.94-2.06-.94-.94-2.06-.94 2.06-2.06.94z\"/><path d=\"M17.41 7.96l-1.37-1.37c-.4-.4-.92-.59-1.43-.59-.52 0-1.04.2-1.43.59L10.3 9.45l-7.72 7.72c-.78.78-.78 2.05 0 2.83L4 21.41c.39.39.9.59 1.41.59.51 0 1.02-.2 1.41-.59l7.78-7.78 2.81-2.81c.8-.78.8-2.07 0-2.86zM5.41 20L4 18.59l7.72-7.72 1.47 1.35L5.41 20z\"/>\n",
              "  </svg>\n",
              "      </button>\n",
              "\n",
              "\n",
              "\n",
              "    <div id=\"df-80ddfa9d-a3bd-48a7-bc5f-f5487641c889\">\n",
              "      <button class=\"colab-df-quickchart\" onclick=\"quickchart('df-80ddfa9d-a3bd-48a7-bc5f-f5487641c889')\"\n",
              "              title=\"Suggest charts.\"\n",
              "              style=\"display:none;\">\n",
              "\n",
              "<svg xmlns=\"http://www.w3.org/2000/svg\" height=\"24px\"viewBox=\"0 0 24 24\"\n",
              "     width=\"24px\">\n",
              "    <g>\n",
              "        <path d=\"M19 3H5c-1.1 0-2 .9-2 2v14c0 1.1.9 2 2 2h14c1.1 0 2-.9 2-2V5c0-1.1-.9-2-2-2zM9 17H7v-7h2v7zm4 0h-2V7h2v10zm4 0h-2v-4h2v4z\"/>\n",
              "    </g>\n",
              "</svg>\n",
              "      </button>\n",
              "    </div>\n",
              "\n",
              "<style>\n",
              "  .colab-df-quickchart {\n",
              "    background-color: #E8F0FE;\n",
              "    border: none;\n",
              "    border-radius: 50%;\n",
              "    cursor: pointer;\n",
              "    display: none;\n",
              "    fill: #1967D2;\n",
              "    height: 32px;\n",
              "    padding: 0 0 0 0;\n",
              "    width: 32px;\n",
              "  }\n",
              "\n",
              "  .colab-df-quickchart:hover {\n",
              "    background-color: #E2EBFA;\n",
              "    box-shadow: 0px 1px 2px rgba(60, 64, 67, 0.3), 0px 1px 3px 1px rgba(60, 64, 67, 0.15);\n",
              "    fill: #174EA6;\n",
              "  }\n",
              "\n",
              "  [theme=dark] .colab-df-quickchart {\n",
              "    background-color: #3B4455;\n",
              "    fill: #D2E3FC;\n",
              "  }\n",
              "\n",
              "  [theme=dark] .colab-df-quickchart:hover {\n",
              "    background-color: #434B5C;\n",
              "    box-shadow: 0px 1px 3px 1px rgba(0, 0, 0, 0.15);\n",
              "    filter: drop-shadow(0px 1px 2px rgba(0, 0, 0, 0.3));\n",
              "    fill: #FFFFFF;\n",
              "  }\n",
              "</style>\n",
              "\n",
              "    <script>\n",
              "      async function quickchart(key) {\n",
              "        const containerElement = document.querySelector('#' + key);\n",
              "        const charts = await google.colab.kernel.invokeFunction(\n",
              "            'suggestCharts', [key], {});\n",
              "      }\n",
              "    </script>\n",
              "\n",
              "      <script>\n",
              "\n",
              "function displayQuickchartButton(domScope) {\n",
              "  let quickchartButtonEl =\n",
              "    domScope.querySelector('#df-80ddfa9d-a3bd-48a7-bc5f-f5487641c889 button.colab-df-quickchart');\n",
              "  quickchartButtonEl.style.display =\n",
              "    google.colab.kernel.accessAllowed ? 'block' : 'none';\n",
              "}\n",
              "\n",
              "        displayQuickchartButton(document);\n",
              "      </script>\n",
              "      <style>\n",
              "    .colab-df-container {\n",
              "      display:flex;\n",
              "      flex-wrap:wrap;\n",
              "      gap: 12px;\n",
              "    }\n",
              "\n",
              "    .colab-df-convert {\n",
              "      background-color: #E8F0FE;\n",
              "      border: none;\n",
              "      border-radius: 50%;\n",
              "      cursor: pointer;\n",
              "      display: none;\n",
              "      fill: #1967D2;\n",
              "      height: 32px;\n",
              "      padding: 0 0 0 0;\n",
              "      width: 32px;\n",
              "    }\n",
              "\n",
              "    .colab-df-convert:hover {\n",
              "      background-color: #E2EBFA;\n",
              "      box-shadow: 0px 1px 2px rgba(60, 64, 67, 0.3), 0px 1px 3px 1px rgba(60, 64, 67, 0.15);\n",
              "      fill: #174EA6;\n",
              "    }\n",
              "\n",
              "    [theme=dark] .colab-df-convert {\n",
              "      background-color: #3B4455;\n",
              "      fill: #D2E3FC;\n",
              "    }\n",
              "\n",
              "    [theme=dark] .colab-df-convert:hover {\n",
              "      background-color: #434B5C;\n",
              "      box-shadow: 0px 1px 3px 1px rgba(0, 0, 0, 0.15);\n",
              "      filter: drop-shadow(0px 1px 2px rgba(0, 0, 0, 0.3));\n",
              "      fill: #FFFFFF;\n",
              "    }\n",
              "  </style>\n",
              "\n",
              "      <script>\n",
              "        const buttonEl =\n",
              "          document.querySelector('#df-068c64a2-9143-4726-9f2d-94aca01979e6 button.colab-df-convert');\n",
              "        buttonEl.style.display =\n",
              "          google.colab.kernel.accessAllowed ? 'block' : 'none';\n",
              "\n",
              "        async function convertToInteractive(key) {\n",
              "          const element = document.querySelector('#df-068c64a2-9143-4726-9f2d-94aca01979e6');\n",
              "          const dataTable =\n",
              "            await google.colab.kernel.invokeFunction('convertToInteractive',\n",
              "                                                     [key], {});\n",
              "          if (!dataTable) return;\n",
              "\n",
              "          const docLinkHtml = 'Like what you see? Visit the ' +\n",
              "            '<a target=\"_blank\" href=https://colab.research.google.com/notebooks/data_table.ipynb>data table notebook</a>'\n",
              "            + ' to learn more about interactive tables.';\n",
              "          element.innerHTML = '';\n",
              "          dataTable['output_type'] = 'display_data';\n",
              "          await google.colab.output.renderOutput(dataTable, element);\n",
              "          const docLink = document.createElement('div');\n",
              "          docLink.innerHTML = docLinkHtml;\n",
              "          element.appendChild(docLink);\n",
              "        }\n",
              "      </script>\n",
              "    </div>\n",
              "  </div>\n"
            ],
            "text/plain": [
              "                                                    file  \\\n",
              "0      /content/voice/train/train/de_f_404792fda5c66b...   \n",
              "1      /content/voice/train/train/es_m_534a0cf6f6aea8...   \n",
              "2      /content/voice/train/train/es_m_406bb0dc71a220...   \n",
              "3      /content/voice/train/train/de_m_8ea3514af1c014...   \n",
              "4      /content/voice/train/train/en_m_17b5d499519197...   \n",
              "...                                                  ...   \n",
              "73075  /content/voice/train/train/de_m_502293f2297515...   \n",
              "73076  /content/voice/train/train/de_f_9bd3b58fe6f75d...   \n",
              "73077  /content/voice/train/train/de_f_9bd3b58fe6f75d...   \n",
              "73078  /content/voice/train/train/de_m_1b27ef4569a51e...   \n",
              "73079  /content/voice/train/train/de_m_502293f2297515...   \n",
              "\n",
              "                                                      ID lang  \n",
              "0      de_f_404792fda5c66b95903adafd5a5f5d10.fragment...   de  \n",
              "1      es_m_534a0cf6f6aea8e35667a9147d2d0f8d.fragment...   es  \n",
              "2      es_m_406bb0dc71a22051d900bc55cdfad59e.fragment...   es  \n",
              "3      de_m_8ea3514af1c01478fbcd004b026fea71.fragment...   de  \n",
              "4      en_m_17b5d4995191976232356345dfbb82cb.fragment...   en  \n",
              "...                                                  ...  ...  \n",
              "73075  de_m_502293f229751563d1768dd2367a6b29.fragment...   de  \n",
              "73076  de_f_9bd3b58fe6f75dc40e85021914b4b06a.fragment...   de  \n",
              "73077  de_f_9bd3b58fe6f75dc40e85021914b4b06a.fragment...   de  \n",
              "73078  de_m_1b27ef4569a51e82d6b2dfae8d565d25.fragment...   de  \n",
              "73079  de_m_502293f229751563d1768dd2367a6b29.fragment...   de  \n",
              "\n",
              "[73080 rows x 3 columns]"
            ]
          },
          "execution_count": 18,
          "metadata": {},
          "output_type": "execute_result"
        }
      ],
      "source": [
        "%%time\n",
        "format_len = len('flac')\n",
        "np.vectorize(spectrogram_mat)(TRAIN_VOICE_PATH, traindf['ID'], TRAIN_MAT_PATH)\n",
        "traindf"
      ]
    },
    {
      "cell_type": "code",
      "execution_count": null,
      "metadata": {
        "colab": {
          "base_uri": "https://localhost:8080/",
          "height": 458
        },
        "id": "hry7YS9cpyHd",
        "outputId": "7e8c8216-9be9-4d9b-fd18-dbc95ce715a0"
      },
      "outputs": [
        {
          "name": "stdout",
          "output_type": "stream",
          "text": [
            "CPU times: user 27.1 s, sys: 48.1 s, total: 1min 15s\n",
            "Wall time: 21.8 s\n"
          ]
        },
        {
          "data": {
            "text/html": [
              "\n",
              "\n",
              "  <div id=\"df-a05e499c-a006-4400-8b89-60e34fd829df\">\n",
              "    <div class=\"colab-df-container\">\n",
              "      <div>\n",
              "<style scoped>\n",
              "    .dataframe tbody tr th:only-of-type {\n",
              "        vertical-align: middle;\n",
              "    }\n",
              "\n",
              "    .dataframe tbody tr th {\n",
              "        vertical-align: top;\n",
              "    }\n",
              "\n",
              "    .dataframe thead th {\n",
              "        text-align: right;\n",
              "    }\n",
              "</style>\n",
              "<table border=\"1\" class=\"dataframe\">\n",
              "  <thead>\n",
              "    <tr style=\"text-align: right;\">\n",
              "      <th></th>\n",
              "      <th>file</th>\n",
              "      <th>ID</th>\n",
              "      <th>lang</th>\n",
              "    </tr>\n",
              "  </thead>\n",
              "  <tbody>\n",
              "    <tr>\n",
              "      <th>0</th>\n",
              "      <td>/content/voice/test/test/de_f_63f5b79c76cf5a1a...</td>\n",
              "      <td>de_f_63f5b79c76cf5a1a4bbd1c40f54b166e.fragment...</td>\n",
              "      <td>de</td>\n",
              "    </tr>\n",
              "    <tr>\n",
              "      <th>1</th>\n",
              "      <td>/content/voice/test/test/es_m_08111ce8d6a7ebc6...</td>\n",
              "      <td>es_m_08111ce8d6a7ebc6cd2c27e62a3d98f0.fragment...</td>\n",
              "      <td>es</td>\n",
              "    </tr>\n",
              "    <tr>\n",
              "      <th>2</th>\n",
              "      <td>/content/voice/test/test/es_f_50298ab71aaba850...</td>\n",
              "      <td>es_f_50298ab71aaba8508ebeef49d853df11.fragment...</td>\n",
              "      <td>es</td>\n",
              "    </tr>\n",
              "    <tr>\n",
              "      <th>3</th>\n",
              "      <td>/content/voice/test/test/en_m_b74b2bf2af570393...</td>\n",
              "      <td>en_m_b74b2bf2af570393cae91f4ed89cece7.fragment...</td>\n",
              "      <td>en</td>\n",
              "    </tr>\n",
              "    <tr>\n",
              "      <th>4</th>\n",
              "      <td>/content/voice/test/test/de_m_923551d571cc4373...</td>\n",
              "      <td>de_m_923551d571cc437382d0294dda2dd0aa.fragment...</td>\n",
              "      <td>de</td>\n",
              "    </tr>\n",
              "    <tr>\n",
              "      <th>...</th>\n",
              "      <td>...</td>\n",
              "      <td>...</td>\n",
              "      <td>...</td>\n",
              "    </tr>\n",
              "    <tr>\n",
              "      <th>535</th>\n",
              "      <td>/content/voice/test/test/en_f_67a0cba10d171b24...</td>\n",
              "      <td>en_f_67a0cba10d171b24039a79faa1d4d603.fragment...</td>\n",
              "      <td>en</td>\n",
              "    </tr>\n",
              "    <tr>\n",
              "      <th>536</th>\n",
              "      <td>/content/voice/test/test/de_m_923551d571cc4373...</td>\n",
              "      <td>de_m_923551d571cc437382d0294dda2dd0aa.fragment...</td>\n",
              "      <td>de</td>\n",
              "    </tr>\n",
              "    <tr>\n",
              "      <th>537</th>\n",
              "      <td>/content/voice/test/test/en_m_b74b2bf2af570393...</td>\n",
              "      <td>en_m_b74b2bf2af570393cae91f4ed89cece7.fragment...</td>\n",
              "      <td>en</td>\n",
              "    </tr>\n",
              "    <tr>\n",
              "      <th>538</th>\n",
              "      <td>/content/voice/test/test/de_m_923551d571cc4373...</td>\n",
              "      <td>de_m_923551d571cc437382d0294dda2dd0aa.fragment...</td>\n",
              "      <td>de</td>\n",
              "    </tr>\n",
              "    <tr>\n",
              "      <th>539</th>\n",
              "      <td>/content/voice/test/test/es_m_08111ce8d6a7ebc6...</td>\n",
              "      <td>es_m_08111ce8d6a7ebc6cd2c27e62a3d98f0.fragment...</td>\n",
              "      <td>es</td>\n",
              "    </tr>\n",
              "  </tbody>\n",
              "</table>\n",
              "<p>540 rows × 3 columns</p>\n",
              "</div>\n",
              "      <button class=\"colab-df-convert\" onclick=\"convertToInteractive('df-a05e499c-a006-4400-8b89-60e34fd829df')\"\n",
              "              title=\"Convert this dataframe to an interactive table.\"\n",
              "              style=\"display:none;\">\n",
              "\n",
              "  <svg xmlns=\"http://www.w3.org/2000/svg\" height=\"24px\"viewBox=\"0 0 24 24\"\n",
              "       width=\"24px\">\n",
              "    <path d=\"M0 0h24v24H0V0z\" fill=\"none\"/>\n",
              "    <path d=\"M18.56 5.44l.94 2.06.94-2.06 2.06-.94-2.06-.94-.94-2.06-.94 2.06-2.06.94zm-11 1L8.5 8.5l.94-2.06 2.06-.94-2.06-.94L8.5 2.5l-.94 2.06-2.06.94zm10 10l.94 2.06.94-2.06 2.06-.94-2.06-.94-.94-2.06-.94 2.06-2.06.94z\"/><path d=\"M17.41 7.96l-1.37-1.37c-.4-.4-.92-.59-1.43-.59-.52 0-1.04.2-1.43.59L10.3 9.45l-7.72 7.72c-.78.78-.78 2.05 0 2.83L4 21.41c.39.39.9.59 1.41.59.51 0 1.02-.2 1.41-.59l7.78-7.78 2.81-2.81c.8-.78.8-2.07 0-2.86zM5.41 20L4 18.59l7.72-7.72 1.47 1.35L5.41 20z\"/>\n",
              "  </svg>\n",
              "      </button>\n",
              "\n",
              "\n",
              "\n",
              "    <div id=\"df-e21359d0-8c2b-496b-8b13-2f22669a8d82\">\n",
              "      <button class=\"colab-df-quickchart\" onclick=\"quickchart('df-e21359d0-8c2b-496b-8b13-2f22669a8d82')\"\n",
              "              title=\"Suggest charts.\"\n",
              "              style=\"display:none;\">\n",
              "\n",
              "<svg xmlns=\"http://www.w3.org/2000/svg\" height=\"24px\"viewBox=\"0 0 24 24\"\n",
              "     width=\"24px\">\n",
              "    <g>\n",
              "        <path d=\"M19 3H5c-1.1 0-2 .9-2 2v14c0 1.1.9 2 2 2h14c1.1 0 2-.9 2-2V5c0-1.1-.9-2-2-2zM9 17H7v-7h2v7zm4 0h-2V7h2v10zm4 0h-2v-4h2v4z\"/>\n",
              "    </g>\n",
              "</svg>\n",
              "      </button>\n",
              "    </div>\n",
              "\n",
              "<style>\n",
              "  .colab-df-quickchart {\n",
              "    background-color: #E8F0FE;\n",
              "    border: none;\n",
              "    border-radius: 50%;\n",
              "    cursor: pointer;\n",
              "    display: none;\n",
              "    fill: #1967D2;\n",
              "    height: 32px;\n",
              "    padding: 0 0 0 0;\n",
              "    width: 32px;\n",
              "  }\n",
              "\n",
              "  .colab-df-quickchart:hover {\n",
              "    background-color: #E2EBFA;\n",
              "    box-shadow: 0px 1px 2px rgba(60, 64, 67, 0.3), 0px 1px 3px 1px rgba(60, 64, 67, 0.15);\n",
              "    fill: #174EA6;\n",
              "  }\n",
              "\n",
              "  [theme=dark] .colab-df-quickchart {\n",
              "    background-color: #3B4455;\n",
              "    fill: #D2E3FC;\n",
              "  }\n",
              "\n",
              "  [theme=dark] .colab-df-quickchart:hover {\n",
              "    background-color: #434B5C;\n",
              "    box-shadow: 0px 1px 3px 1px rgba(0, 0, 0, 0.15);\n",
              "    filter: drop-shadow(0px 1px 2px rgba(0, 0, 0, 0.3));\n",
              "    fill: #FFFFFF;\n",
              "  }\n",
              "</style>\n",
              "\n",
              "    <script>\n",
              "      async function quickchart(key) {\n",
              "        const containerElement = document.querySelector('#' + key);\n",
              "        const charts = await google.colab.kernel.invokeFunction(\n",
              "            'suggestCharts', [key], {});\n",
              "      }\n",
              "    </script>\n",
              "\n",
              "      <script>\n",
              "\n",
              "function displayQuickchartButton(domScope) {\n",
              "  let quickchartButtonEl =\n",
              "    domScope.querySelector('#df-e21359d0-8c2b-496b-8b13-2f22669a8d82 button.colab-df-quickchart');\n",
              "  quickchartButtonEl.style.display =\n",
              "    google.colab.kernel.accessAllowed ? 'block' : 'none';\n",
              "}\n",
              "\n",
              "        displayQuickchartButton(document);\n",
              "      </script>\n",
              "      <style>\n",
              "    .colab-df-container {\n",
              "      display:flex;\n",
              "      flex-wrap:wrap;\n",
              "      gap: 12px;\n",
              "    }\n",
              "\n",
              "    .colab-df-convert {\n",
              "      background-color: #E8F0FE;\n",
              "      border: none;\n",
              "      border-radius: 50%;\n",
              "      cursor: pointer;\n",
              "      display: none;\n",
              "      fill: #1967D2;\n",
              "      height: 32px;\n",
              "      padding: 0 0 0 0;\n",
              "      width: 32px;\n",
              "    }\n",
              "\n",
              "    .colab-df-convert:hover {\n",
              "      background-color: #E2EBFA;\n",
              "      box-shadow: 0px 1px 2px rgba(60, 64, 67, 0.3), 0px 1px 3px 1px rgba(60, 64, 67, 0.15);\n",
              "      fill: #174EA6;\n",
              "    }\n",
              "\n",
              "    [theme=dark] .colab-df-convert {\n",
              "      background-color: #3B4455;\n",
              "      fill: #D2E3FC;\n",
              "    }\n",
              "\n",
              "    [theme=dark] .colab-df-convert:hover {\n",
              "      background-color: #434B5C;\n",
              "      box-shadow: 0px 1px 3px 1px rgba(0, 0, 0, 0.15);\n",
              "      filter: drop-shadow(0px 1px 2px rgba(0, 0, 0, 0.3));\n",
              "      fill: #FFFFFF;\n",
              "    }\n",
              "  </style>\n",
              "\n",
              "      <script>\n",
              "        const buttonEl =\n",
              "          document.querySelector('#df-a05e499c-a006-4400-8b89-60e34fd829df button.colab-df-convert');\n",
              "        buttonEl.style.display =\n",
              "          google.colab.kernel.accessAllowed ? 'block' : 'none';\n",
              "\n",
              "        async function convertToInteractive(key) {\n",
              "          const element = document.querySelector('#df-a05e499c-a006-4400-8b89-60e34fd829df');\n",
              "          const dataTable =\n",
              "            await google.colab.kernel.invokeFunction('convertToInteractive',\n",
              "                                                     [key], {});\n",
              "          if (!dataTable) return;\n",
              "\n",
              "          const docLinkHtml = 'Like what you see? Visit the ' +\n",
              "            '<a target=\"_blank\" href=https://colab.research.google.com/notebooks/data_table.ipynb>data table notebook</a>'\n",
              "            + ' to learn more about interactive tables.';\n",
              "          element.innerHTML = '';\n",
              "          dataTable['output_type'] = 'display_data';\n",
              "          await google.colab.output.renderOutput(dataTable, element);\n",
              "          const docLink = document.createElement('div');\n",
              "          docLink.innerHTML = docLinkHtml;\n",
              "          element.appendChild(docLink);\n",
              "        }\n",
              "      </script>\n",
              "    </div>\n",
              "  </div>\n"
            ],
            "text/plain": [
              "                                                  file  \\\n",
              "0    /content/voice/test/test/de_f_63f5b79c76cf5a1a...   \n",
              "1    /content/voice/test/test/es_m_08111ce8d6a7ebc6...   \n",
              "2    /content/voice/test/test/es_f_50298ab71aaba850...   \n",
              "3    /content/voice/test/test/en_m_b74b2bf2af570393...   \n",
              "4    /content/voice/test/test/de_m_923551d571cc4373...   \n",
              "..                                                 ...   \n",
              "535  /content/voice/test/test/en_f_67a0cba10d171b24...   \n",
              "536  /content/voice/test/test/de_m_923551d571cc4373...   \n",
              "537  /content/voice/test/test/en_m_b74b2bf2af570393...   \n",
              "538  /content/voice/test/test/de_m_923551d571cc4373...   \n",
              "539  /content/voice/test/test/es_m_08111ce8d6a7ebc6...   \n",
              "\n",
              "                                                    ID lang  \n",
              "0    de_f_63f5b79c76cf5a1a4bbd1c40f54b166e.fragment...   de  \n",
              "1    es_m_08111ce8d6a7ebc6cd2c27e62a3d98f0.fragment...   es  \n",
              "2    es_f_50298ab71aaba8508ebeef49d853df11.fragment...   es  \n",
              "3    en_m_b74b2bf2af570393cae91f4ed89cece7.fragment...   en  \n",
              "4    de_m_923551d571cc437382d0294dda2dd0aa.fragment...   de  \n",
              "..                                                 ...  ...  \n",
              "535  en_f_67a0cba10d171b24039a79faa1d4d603.fragment...   en  \n",
              "536  de_m_923551d571cc437382d0294dda2dd0aa.fragment...   de  \n",
              "537  en_m_b74b2bf2af570393cae91f4ed89cece7.fragment...   en  \n",
              "538  de_m_923551d571cc437382d0294dda2dd0aa.fragment...   de  \n",
              "539  es_m_08111ce8d6a7ebc6cd2c27e62a3d98f0.fragment...   es  \n",
              "\n",
              "[540 rows x 3 columns]"
            ]
          },
          "execution_count": 17,
          "metadata": {},
          "output_type": "execute_result"
        }
      ],
      "source": [
        "%%time\n",
        "format_len = len('flac')\n",
        "np.vectorize(spectrogram_mat)(TEST_VOICE_PATH, testdf['ID'], TEST_MAT_PATH)\n",
        "testdf"
      ]
    },
    {
      "cell_type": "code",
      "execution_count": null,
      "metadata": {
        "colab": {
          "base_uri": "https://localhost:8080/"
        },
        "id": "22z9IdN7SkdO",
        "outputId": "23e644d9-8e32-4290-bfa4-cf93cde444e2"
      },
      "outputs": [
        {
          "name": "stdout",
          "output_type": "stream",
          "text": [
            "es_f_56ef0bde6c92a0100da23cdd39a8a112.fragment13.speed3.npy\n"
          ]
        }
      ],
      "source": [
        "print(traindf.iloc[0].ID)"
      ]
    },
    {
      "cell_type": "code",
      "execution_count": null,
      "metadata": {
        "colab": {
          "base_uri": "https://localhost:8080/"
        },
        "id": "TSUhsMzeRuGH",
        "outputId": "acdc6cc5-9d15-40e4-dba8-e1a0775053e0"
      },
      "outputs": [
        {
          "data": {
            "text/plain": [
              "100189"
            ]
          },
          "execution_count": 15,
          "metadata": {},
          "output_type": "execute_result"
        }
      ],
      "source": [
        "gc.collect()"
      ]
    },
    {
      "cell_type": "code",
      "execution_count": null,
      "metadata": {
        "id": "FNiuDK1aWySP"
      },
      "outputs": [],
      "source": [
        "!rm {CUR_DIR}spoken-language-identification.zip"
      ]
    },
    {
      "cell_type": "code",
      "execution_count": null,
      "metadata": {
        "id": "4-_dYXqrwDgz"
      },
      "outputs": [],
      "source": [
        "!rm $VOICE_DIR -r"
      ]
    },
    {
      "cell_type": "code",
      "execution_count": null,
      "metadata": {
        "id": "qmyH3T2jTI5y"
      },
      "outputs": [],
      "source": [
        "traindf=pd.read_csv(DRIVE_PATH+'traindf.csv')"
      ]
    },
    {
      "cell_type": "code",
      "execution_count": null,
      "metadata": {
        "colab": {
          "base_uri": "https://localhost:8080/"
        },
        "id": "YIHmheBsPwBC",
        "outputId": "cb6c9c86-b5fd-46ba-f5f2-50afb3544edf"
      },
      "outputs": [
        {
          "name": "stdout",
          "output_type": "stream",
          "text": [
            "ls: cannot access '/content/mat/train//first_half': No such file or directory\n",
            "0\n"
          ]
        }
      ],
      "source": [
        "! ls $TRAIN_MAT_PATH/first_half -1 | wc -l"
      ]
    },
    {
      "cell_type": "code",
      "execution_count": null,
      "metadata": {
        "colab": {
          "base_uri": "https://localhost:8080/"
        },
        "id": "SJsR7tw7QFSr",
        "outputId": "eeafb63e-515a-4a8a-b29e-24f731654c96"
      },
      "outputs": [
        {
          "name": "stdout",
          "output_type": "stream",
          "text": [
            "36540\n"
          ]
        }
      ],
      "source": [
        "! ls {DRIVE3_PATH}first_half -1 | wc -l"
      ]
    },
    {
      "cell_type": "code",
      "execution_count": null,
      "metadata": {
        "id": "O_sUzyqS2HAm"
      },
      "outputs": [],
      "source": [
        "file_paths = traindf['ID'].values\n",
        "lang = np.array(traindf['lang'].values)\n",
        "\n",
        "data = [np.load(file_path) for file_path in file_paths]\n",
        "data = np.stack(data)"
      ]
    },
    {
      "cell_type": "code",
      "execution_count": null,
      "metadata": {
        "id": "WZHb4IfgAEEE"
      },
      "outputs": [],
      "source": [
        "%cd $CUR_DIR"
      ]
    },
    {
      "cell_type": "code",
      "execution_count": null,
      "metadata": {
        "colab": {
          "base_uri": "https://localhost:8080/"
        },
        "id": "zfh66l0Ll7CF",
        "outputId": "19aee80b-c4d4-4825-9661-ba67c7d9c182"
      },
      "outputs": [
        {
          "data": {
            "text/plain": [
              "(10000, 128, 431, 1)"
            ]
          },
          "execution_count": 44,
          "metadata": {},
          "output_type": "execute_result"
        }
      ],
      "source": [
        "cur_shape = data.shape\n",
        "data = data.reshape((cur_shape[0], cur_shape[1], cur_shape[2], 1))\n",
        "data.shape"
      ]
    },
    {
      "cell_type": "code",
      "execution_count": null,
      "metadata": {
        "colab": {
          "base_uri": "https://localhost:8080/"
        },
        "id": "Gx4Sg3UxAL5F",
        "outputId": "9991d227-5033-4c0e-b71e-10805da8892f"
      },
      "outputs": [
        {
          "name": "stdout",
          "output_type": "stream",
          "text": [
            "10000\n"
          ]
        }
      ],
      "source": [
        "! ls {DRIVE_PATH}/train -1 | wc -l"
      ]
    },
    {
      "cell_type": "code",
      "execution_count": null,
      "metadata": {
        "colab": {
          "base_uri": "https://localhost:8080/"
        },
        "id": "rmOlMsCfliAd",
        "outputId": "e460f83b-4ec5-4916-a3e5-01f97f6479be"
      },
      "outputs": [
        {
          "data": {
            "text/plain": [
              "(128, 431, 1)"
            ]
          },
          "execution_count": 58,
          "metadata": {},
          "output_type": "execute_result"
        }
      ],
      "source": [
        "data[0].shape"
      ]
    },
    {
      "cell_type": "markdown",
      "metadata": {
        "id": "e73tPbkOQ6Ga"
      },
      "source": [
        "## Data Generator"
      ]
    },
    {
      "cell_type": "code",
      "execution_count": null,
      "metadata": {
        "id": "RHwu6KKIkUpR"
      },
      "outputs": [],
      "source": [
        "from tensorflow import keras\n",
        "import numpy as np\n",
        "import os\n",
        "\n",
        "class NumpyDataGenerator(keras.utils.Sequence):\n",
        "    def __init__(self, data_folder, ids, labels, batch_size, shuffle=True, seed=None, rescale=None, subset='training'):\n",
        "        self.data_folder = data_folder\n",
        "        ## changed:\n",
        "        #self.ids = ids\n",
        "        self.file_list = ids\n",
        "        #self.labels = labels\n",
        "        self.file_labels = labels\n",
        "\n",
        "        self.batch_size = batch_size\n",
        "        #self.validation_split = validation_split\n",
        "        self.shuffle = shuffle\n",
        "        self.seed = seed\n",
        "        self.rescale = rescale\n",
        "        self.subset = subset\n",
        "\n",
        "        #self._split_data()\n",
        "\n",
        "        if self.shuffle:\n",
        "            self._shuffle_data()\n",
        "\n",
        "    #def _split_data(self):\n",
        "    #    split_index = int(self.validation_split * len(self.ids))\n",
        "    #    if self.subset == 'training':\n",
        "    #        self.file_list = self.ids[split_index:]\n",
        "    #        self.file_labels = self.labels[split_index:]\n",
        "    #    else:\n",
        "    #        self.file_list = self.ids[:split_index]\n",
        "    #        self.file_labels = self.labels[:split_index]\n",
        "\n",
        "    def _shuffle_data(self):\n",
        "        if self.seed is not None:\n",
        "            np.random.seed(self.seed)\n",
        "        indices = np.random.permutation(len(self.file_list))\n",
        "        self.file_list = self.file_list[indices]\n",
        "        self.file_labels = self.file_labels[indices]\n",
        "\n",
        "    #def _create_spectrogram(self, file_address): #address_prefix, given_file, format='flac'\n",
        "    #  clip, sample_rate = librosa.load(file_address, sr=None) #address_prefix+given_file[:-3]+format\n",
        "    #  S = librosa.feature.melspectrogram(y=clip, sr=sample_rate, n_mels=40, hop_length=221)\n",
        "    #  SP = librosa.power_to_db(S, ref=np.max)\n",
        "    #  return SP\n",
        "\n",
        "    def __len__(self):\n",
        "        return len(self.file_list) // self.batch_size\n",
        "\n",
        "    def __getitem__(self, idx):\n",
        "        r = (idx + 1) * self.batch_size\n",
        "        if r > len(self.file_list):\n",
        "            r = len(self.file_list)\n",
        "        batch_files = self.file_list[idx * self.batch_size: r]\n",
        "        batch_labels = self.file_labels[idx * self.batch_size: r]\n",
        "\n",
        "        batch_data = np.empty((len(batch_files), *(128, 431))) #(40, 998)\n",
        "        for i, filename in enumerate(batch_files):\n",
        "            batch_data[i,] = np.load(os.path.join(self.data_folder, filename))\n",
        "            #batch_data[i,] = self._create_spectrogram(self.data_folder, filename)\n",
        "            #batch_data[i,] = self._create_spectrogram(os.path.join(self.data_folder, filename[:-3]+'flac'))\n",
        "\n",
        "        return batch_data, batch_labels\n",
        "\n",
        "    def on_epoch_end(self, logs=None):\n",
        "        if self.shuffle:\n",
        "            self._shuffle_data()\n"
      ]
    },
    {
      "cell_type": "code",
      "execution_count": null,
      "metadata": {
        "id": "AFD4E5mxp0B-"
      },
      "outputs": [],
      "source": [
        "X_trainid = np.array(traindf['ID'].values)\n",
        "y_train = np.array(traindf['lang'].values)\n",
        "\n",
        "from sklearn.preprocessing import LabelEncoder\n",
        "from keras.utils import to_categorical\n",
        "\n",
        "label_encoder = LabelEncoder()\n",
        "y_train = label_encoder.fit_transform(y_train)\n",
        "y_train = to_categorical(y_train, 3)"
      ]
    },
    {
      "cell_type": "code",
      "execution_count": null,
      "metadata": {
        "id": "K9j3tB7yBCPx"
      },
      "outputs": [],
      "source": [
        "traindf"
      ]
    },
    {
      "cell_type": "code",
      "execution_count": null,
      "metadata": {
        "id": "iybX9q-DGLOs"
      },
      "outputs": [],
      "source": [
        "np.random.seed(42)\n",
        "shuffle_indices = np.random.permutation(len(X_trainid))\n",
        "X_trainid = X_trainid[shuffle_indices]\n",
        "y_train = y_train[shuffle_indices]"
      ]
    },
    {
      "cell_type": "code",
      "execution_count": null,
      "metadata": {
        "id": "xGqL5b8bJmaa"
      },
      "outputs": [],
      "source": [
        "import copy\n",
        "def split_data(X_id, y_label, validation_split):\n",
        "    split_index = int(validation_split * len(X_id))\n",
        "    X_train_id = copy.deepcopy(X_id[split_index:])\n",
        "    y_train_label = copy.deepcopy(y_label[split_index:])\n",
        "    X_valid_id = copy.deepcopy(X_id[:split_index])\n",
        "    y_valid_label = copy.deepcopy(y_label[:split_index])\n",
        "    return X_train_id, y_train_label, X_valid_id, y_valid_label"
      ]
    },
    {
      "cell_type": "code",
      "execution_count": null,
      "metadata": {
        "id": "3XaVHyvQLIat"
      },
      "outputs": [],
      "source": [
        "X_train_id, y_train_label, X_valid_id, y_valid_label = split_data(X_trainid, y_train, 0.2)"
      ]
    },
    {
      "cell_type": "code",
      "execution_count": null,
      "metadata": {
        "colab": {
          "base_uri": "https://localhost:8080/"
        },
        "id": "IaPnVeVVlBVv",
        "outputId": "63ee27d9-2de4-4719-ae84-2e1fde19421c"
      },
      "outputs": [
        {
          "name": "stdout",
          "output_type": "stream",
          "text": [
            "4835\n",
            "4849\n",
            "4932\n",
            "19525\n",
            "19511\n",
            "19428\n"
          ]
        }
      ],
      "source": [
        "print((y_valid_label[:,0] == 1.0).sum())\n",
        "print((y_valid_label[:,1] == 1.0).sum())\n",
        "print((y_valid_label[:,2] == 1.0).sum())\n",
        "print((y_train_label[:,0] == 1.0).sum())\n",
        "print((y_train_label[:,1] == 1.0).sum())\n",
        "print((y_train_label[:,2] == 1.0).sum())"
      ]
    },
    {
      "cell_type": "code",
      "execution_count": null,
      "metadata": {
        "colab": {
          "base_uri": "https://localhost:8080/"
        },
        "id": "SF_ZAVVBBLZa",
        "outputId": "ebf1fa40-b713-4bf1-ebbf-28d6c6b34e86"
      },
      "outputs": [
        {
          "name": "stdout",
          "output_type": "stream",
          "text": [
            "58464 58464 14616 14616\n"
          ]
        }
      ],
      "source": [
        "print(len(X_train_id), len(y_train_label), len(X_valid_id), len(y_valid_label))"
      ]
    },
    {
      "cell_type": "code",
      "execution_count": null,
      "metadata": {
        "id": "gh_vfG3ewu-E"
      },
      "outputs": [],
      "source": [
        "print(X_trainid)"
      ]
    },
    {
      "cell_type": "code",
      "execution_count": null,
      "metadata": {
        "id": "skhzubjgww5A"
      },
      "outputs": [],
      "source": [
        "print(y_train)"
      ]
    },
    {
      "cell_type": "code",
      "execution_count": null,
      "metadata": {
        "colab": {
          "base_uri": "https://localhost:8080/"
        },
        "id": "Q8DedOj1743l",
        "outputId": "e6fb25c6-b407-4aae-aa6d-bf11569d69a0"
      },
      "outputs": [
        {
          "name": "stdout",
          "output_type": "stream",
          "text": [
            "en_m_81995ee8a5e990193b7858ec4b158e48.fragment5.pitch5.npy [0. 1. 0.]\n"
          ]
        }
      ],
      "source": [
        "print(X_trainid[3], y_train[3])"
      ]
    },
    {
      "cell_type": "code",
      "execution_count": null,
      "metadata": {
        "id": "brTlMAeqxwok"
      },
      "outputs": [],
      "source": [
        "print(str(y_train[0]))"
      ]
    },
    {
      "cell_type": "code",
      "execution_count": null,
      "metadata": {
        "id": "DmTKTbhHkv_W"
      },
      "outputs": [],
      "source": [
        "data_folder = TRAIN_MAT_PATH #########\n",
        "batch_size = 32\n",
        "validation_split = 0.2\n",
        "rescale_factor = 1.0 / 255.0\n",
        "\n",
        "params = {\n",
        "    'data_folder': data_folder,\n",
        "    ##'ids' : X_trainid,\n",
        "    ##'labels': y_train,\n",
        "    'batch_size': batch_size,\n",
        "    #'validation_split': validation_split,\n",
        "    'shuffle': True, #############################\n",
        "    'seed': 42,\n",
        "    'rescale': rescale_factor,\n",
        "}\n",
        "\n",
        "train_generator = NumpyDataGenerator(subset='training', ids= X_train_id, labels= y_train_label, **params)\n",
        "valid_generator = NumpyDataGenerator(subset='validation', ids= X_valid_id, labels= y_valid_label, **params)"
      ]
    },
    {
      "cell_type": "markdown",
      "metadata": {
        "id": "3BZVjpx_Ml4_"
      },
      "source": [
        "### prepare test data"
      ]
    },
    {
      "cell_type": "code",
      "execution_count": null,
      "metadata": {
        "id": "KW3Kq5uKp1go"
      },
      "outputs": [],
      "source": [
        "X_testid = np.array(testdf['ID'].values)\n",
        "y_test = np.array(testdf['lang'].values)\n",
        "\n",
        "# lablel_encoder that was used for train and validation\n",
        "# so we only use transform\n",
        "y_test = label_encoder.transform(y_test)\n",
        "y_test = to_categorical(y_test, 3)"
      ]
    },
    {
      "cell_type": "code",
      "execution_count": null,
      "metadata": {
        "id": "k8iF9ZZNpOlV"
      },
      "outputs": [],
      "source": [
        "test_data_folder = TEST_MAT_PATH #########\n",
        "batch_size = 32\n",
        "#validation_split = 0.2\n",
        "rescale_factor = 1.0 / 255.0\n",
        "\n",
        "test_params = {\n",
        "    'data_folder': test_data_folder,\n",
        "    ##'ids' : X_testid,\n",
        "    ##'labels': y_test,\n",
        "    'batch_size': batch_size,\n",
        "    #'validation_split': validation_split,\n",
        "    'shuffle': False, #############################\n",
        "    'seed': 42,\n",
        "    'rescale': rescale_factor,\n",
        "}\n",
        "\n",
        "test_generator = NumpyDataGenerator(subset='test', ids= X_testid, labels= y_test, **test_params)"
      ]
    },
    {
      "cell_type": "markdown",
      "metadata": {
        "id": "LnmKfcm492WL"
      },
      "source": [
        "### CNN without dropout"
      ]
    },
    {
      "cell_type": "code",
      "execution_count": null,
      "metadata": {
        "id": "fnggG8c5Kr0l"
      },
      "outputs": [],
      "source": [
        "from keras.models import Sequential, Model\n",
        "from keras.layers import Dense, Activation, Flatten, Dropout, BatchNormalization, Conv2D, MaxPooling2D\n",
        "#from keras import regularizers, optimizers\n",
        "import keras\n",
        "\n",
        "model_without_dropout = Sequential()\n",
        "#first block:\n",
        "model_without_dropout.add(Conv2D(32, (7, 7), padding='valid', input_shape=(128, 431, 1), activation='relu')) #128, 431\n",
        "model_without_dropout.add(BatchNormalization())\n",
        "##model_without_dropout.add(Dropout(0.5))\n",
        "model_without_dropout.add(MaxPooling2D(pool_size=(3, 3), strides=2, padding='same'))\n",
        "#second block:\n",
        "model_without_dropout.add(Conv2D(64, (5, 5), padding='same', activation='relu'))\n",
        "model_without_dropout.add(BatchNormalization())\n",
        "##model_without_dropout.add(Dropout(0.5))\n",
        "model_without_dropout.add(MaxPooling2D(pool_size=(3, 3), strides=2, padding='same'))\n",
        "#third block:\n",
        "model_without_dropout.add(Conv2D(128, (3, 3), padding='same', activation='relu'))\n",
        "model_without_dropout.add(BatchNormalization())\n",
        "##model_without_dropout.add(Dropout(0.5))\n",
        "model_without_dropout.add(MaxPooling2D(pool_size=(3, 3), strides=2, padding='same'))\n",
        "#fourth block:\n",
        "model_without_dropout.add(Conv2D(256, (3, 3), padding='same', activation='relu'))\n",
        "model_without_dropout.add(BatchNormalization())\n",
        "##model_without_dropout.add(Dropout(0.5))\n",
        "model_without_dropout.add(MaxPooling2D(pool_size=(3, 3), strides=2, padding='same'))\n",
        "#fifth block:\n",
        "model_without_dropout.add(Conv2D(512, (3, 3), padding='same', activation='relu'))\n",
        "model_without_dropout.add(BatchNormalization())\n",
        "##model_without_dropout.add(Dropout(0.5))\n",
        "model_without_dropout.add(MaxPooling2D(pool_size=(3, 3), strides=2, padding='same'))\n",
        "#flatten layer:\n",
        "model_without_dropout.add(Flatten())\n",
        "model_without_dropout.add(BatchNormalization())\n",
        "model_without_dropout.add(Dense(256, activation='relu'))\n",
        "model_without_dropout.add(BatchNormalization())\n",
        "\n",
        "model_without_dropout.add(Dropout(0.5))\n",
        "model_without_dropout.add(Dense(3, activation='softmax'))"
      ]
    },
    {
      "cell_type": "code",
      "execution_count": null,
      "metadata": {
        "id": "a7bzWv-N9nae"
      },
      "outputs": [],
      "source": [
        "model_without_dropout.compile(optimizer=keras.optimizers.Adam(learning_rate=0.001, decay=1e-6),\n",
        "              loss=keras.losses.CategoricalCrossentropy(),\n",
        "              metrics=[\"accuracy\"])\n",
        "model_without_dropout.summary()"
      ]
    },
    {
      "cell_type": "code",
      "execution_count": null,
      "metadata": {
        "id": "5rQMmaCv9w2e"
      },
      "outputs": [],
      "source": [
        "from keras.callbacks import ModelCheckpoint\n",
        "checkpoint = ModelCheckpoint(DRIVE_PATH+\"models/\"+\"paperCNN_withoutdropout_auto_after20.hdf5\", #.{epoch:02d}-{val_loss:.4f}\n",
        "                             save_weights_only=False,\n",
        "                             monitor='val_accuracy',\n",
        "                             verbose=0,\n",
        "                             save_best_only=True,\n",
        "                             mode='auto',\n",
        "                             save_freq=\"epoch\")"
      ]
    },
    {
      "cell_type": "code",
      "execution_count": null,
      "metadata": {
        "colab": {
          "base_uri": "https://localhost:8080/"
        },
        "id": "brXhCT6AesXi",
        "outputId": "d0a2f39a-c47a-4539-e881-e61ce839344b"
      },
      "outputs": [
        {
          "name": "stdout",
          "output_type": "stream",
          "text": [
            "Epoch 1/20\n",
            "1827/1827 [==============================] - 309s 168ms/step - loss: 0.4153 - accuracy: 0.8352 - val_loss: 0.7938 - val_accuracy: 0.7404\n",
            "Epoch 2/20\n",
            "1827/1827 [==============================] - 329s 180ms/step - loss: 0.0926 - accuracy: 0.9670 - val_loss: 0.3327 - val_accuracy: 0.8715\n",
            "Epoch 3/20\n",
            "1827/1827 [==============================] - 338s 185ms/step - loss: 0.0504 - accuracy: 0.9826 - val_loss: 0.8189 - val_accuracy: 0.7394\n",
            "Epoch 4/20\n",
            "1827/1827 [==============================] - 301s 165ms/step - loss: 0.0472 - accuracy: 0.9833 - val_loss: 0.7278 - val_accuracy: 0.8153\n",
            "Epoch 5/20\n",
            "1827/1827 [==============================] - 327s 179ms/step - loss: 0.0337 - accuracy: 0.9884 - val_loss: 0.0434 - val_accuracy: 0.9870\n",
            "Epoch 6/20\n",
            "1827/1827 [==============================] - 305s 167ms/step - loss: 0.0279 - accuracy: 0.9902 - val_loss: 1.3791 - val_accuracy: 0.7058\n",
            "Epoch 7/20\n",
            "1827/1827 [==============================] - 295s 162ms/step - loss: 0.0245 - accuracy: 0.9916 - val_loss: 0.2661 - val_accuracy: 0.9762\n",
            "Epoch 8/20\n",
            "1827/1827 [==============================] - 316s 173ms/step - loss: 0.0180 - accuracy: 0.9937 - val_loss: 2.2710 - val_accuracy: 0.7141\n",
            "Epoch 9/20\n",
            "1827/1827 [==============================] - 325s 178ms/step - loss: 0.0207 - accuracy: 0.9929 - val_loss: 0.0432 - val_accuracy: 0.9851\n",
            "Epoch 10/20\n",
            "1827/1827 [==============================] - 300s 164ms/step - loss: 0.0195 - accuracy: 0.9935 - val_loss: 0.2656 - val_accuracy: 0.9670\n",
            "Epoch 11/20\n",
            "1827/1827 [==============================] - 300s 164ms/step - loss: 0.0137 - accuracy: 0.9957 - val_loss: 0.3424 - val_accuracy: 0.9838\n",
            "Epoch 12/20\n",
            "1827/1827 [==============================] - 305s 167ms/step - loss: 0.0224 - accuracy: 0.9926 - val_loss: 0.0988 - val_accuracy: 0.9948\n",
            "Epoch 13/20\n",
            "1827/1827 [==============================] - 300s 164ms/step - loss: 0.0107 - accuracy: 0.9964 - val_loss: 1.0608 - val_accuracy: 0.9265\n",
            "Epoch 14/20\n",
            "1827/1827 [==============================] - 299s 163ms/step - loss: 0.0084 - accuracy: 0.9970 - val_loss: 3.9390 - val_accuracy: 0.9212\n",
            "Epoch 15/20\n",
            "1827/1827 [==============================] - 323s 177ms/step - loss: 0.0124 - accuracy: 0.9962 - val_loss: 0.2426 - val_accuracy: 0.9918\n",
            "Epoch 16/20\n",
            "1827/1827 [==============================] - 282s 154ms/step - loss: 0.0102 - accuracy: 0.9965 - val_loss: 0.3649 - val_accuracy: 0.9281\n",
            "Epoch 17/20\n",
            "1827/1827 [==============================] - 287s 157ms/step - loss: 0.0090 - accuracy: 0.9966 - val_loss: 0.0755 - val_accuracy: 0.9912\n",
            "Epoch 18/20\n",
            "1827/1827 [==============================] - 293s 160ms/step - loss: 0.0102 - accuracy: 0.9967 - val_loss: 0.1208 - val_accuracy: 0.9919\n",
            "Epoch 19/20\n",
            "1827/1827 [==============================] - 289s 158ms/step - loss: 0.0082 - accuracy: 0.9975 - val_loss: 0.3142 - val_accuracy: 0.9941\n",
            "Epoch 20/20\n",
            "1827/1827 [==============================] - 301s 165ms/step - loss: 0.0074 - accuracy: 0.9974 - val_loss: 0.1148 - val_accuracy: 0.9840\n"
          ]
        },
        {
          "data": {
            "text/plain": [
              "<keras.callbacks.History at 0x7a1840cb1ff0>"
            ]
          },
          "execution_count": 61,
          "metadata": {},
          "output_type": "execute_result"
        }
      ],
      "source": [
        "model_without_dropout.fit(\n",
        "    train_generator,\n",
        "    steps_per_epoch=len(train_generator),\n",
        "    epochs=20,\n",
        "    validation_data=valid_generator,\n",
        "    validation_steps=len(valid_generator),\n",
        "    callbacks=[checkpoint],\n",
        ")"
      ]
    },
    {
      "cell_type": "code",
      "execution_count": null,
      "metadata": {
        "id": "V5W9YWjdD44M"
      },
      "outputs": [],
      "source": [
        "model_without_dropout.save(DRIVE_PATH+\"models/\"+'without_dropout_20epoch_day2.h5')"
      ]
    },
    {
      "cell_type": "code",
      "execution_count": null,
      "metadata": {
        "id": "GTeWBUVbLv4e"
      },
      "outputs": [],
      "source": [
        "from keras.callbacks import ModelCheckpoint\n",
        "checkpoint = ModelCheckpoint(DRIVE_PATH+\"models/\"+\"paper_withoutdropout_auto_havedone20_{epoch:02d}_{val_loss:.4f}.hdf5\",\n",
        "                             save_weights_only=False,\n",
        "                             monitor='val_accuracy',\n",
        "                             verbose=0,\n",
        "                             save_best_only=True,\n",
        "                             mode='auto',\n",
        "                             save_freq=\"epoch\")"
      ]
    },
    {
      "cell_type": "code",
      "execution_count": null,
      "metadata": {
        "colab": {
          "base_uri": "https://localhost:8080/"
        },
        "id": "tXGBf5icMA2y",
        "outputId": "f5c7936e-6c41-4365-df73-2d2b683b6ce7"
      },
      "outputs": [
        {
          "name": "stdout",
          "output_type": "stream",
          "text": [
            "Epoch 21/30\n",
            "1827/1827 [==============================] - 306s 167ms/step - loss: 0.0076 - accuracy: 0.9974 - val_loss: 0.0903 - val_accuracy: 0.9889\n",
            "Epoch 22/30\n",
            "1827/1827 [==============================] - 325s 178ms/step - loss: 0.0090 - accuracy: 0.9971 - val_loss: 0.7003 - val_accuracy: 0.8999\n",
            "Epoch 23/30\n",
            "1827/1827 [==============================] - 299s 164ms/step - loss: 0.0051 - accuracy: 0.9984 - val_loss: 0.1393 - val_accuracy: 0.9681\n",
            "Epoch 24/30\n",
            "1827/1827 [==============================] - 299s 164ms/step - loss: 0.0075 - accuracy: 0.9976 - val_loss: 0.1330 - val_accuracy: 0.9959\n",
            "Epoch 25/30\n",
            "1827/1827 [==============================] - 287s 157ms/step - loss: 0.0067 - accuracy: 0.9978 - val_loss: 0.0969 - val_accuracy: 0.9968\n",
            "Epoch 26/30\n",
            "1827/1827 [==============================] - 293s 160ms/step - loss: 0.0045 - accuracy: 0.9983 - val_loss: 0.2812 - val_accuracy: 0.9943\n",
            "Epoch 27/30\n",
            "1827/1827 [==============================] - 289s 158ms/step - loss: 0.0069 - accuracy: 0.9980 - val_loss: 1.2521 - val_accuracy: 0.9588\n",
            "Epoch 28/30\n",
            "1827/1827 [==============================] - 294s 161ms/step - loss: 0.0061 - accuracy: 0.9981 - val_loss: 0.4130 - val_accuracy: 0.9923\n",
            "Epoch 29/30\n",
            "1827/1827 [==============================] - 308s 168ms/step - loss: 0.0037 - accuracy: 0.9987 - val_loss: 0.1679 - val_accuracy: 0.9981\n",
            "Epoch 30/30\n",
            "1827/1827 [==============================] - 301s 164ms/step - loss: 0.0053 - accuracy: 0.9982 - val_loss: 5.2185 - val_accuracy: 0.9619\n"
          ]
        },
        {
          "data": {
            "text/plain": [
              "<keras.callbacks.History at 0x7a1840e978e0>"
            ]
          },
          "execution_count": 70,
          "metadata": {},
          "output_type": "execute_result"
        }
      ],
      "source": [
        "model_without_dropout.fit(\n",
        "    train_generator,\n",
        "    steps_per_epoch=len(train_generator),\n",
        "    epochs=30,\n",
        "    initial_epoch=20,\n",
        "    validation_data=valid_generator,\n",
        "    validation_steps=len(valid_generator),\n",
        "    callbacks=[checkpoint],\n",
        ")"
      ]
    },
    {
      "cell_type": "code",
      "execution_count": null,
      "metadata": {
        "id": "I70Kr3ApinZi"
      },
      "outputs": [],
      "source": [
        "model_without_dropout.save(DRIVE_PATH+\"models/\"+'without_dropout_30epoch_day2.h5')"
      ]
    },
    {
      "cell_type": "code",
      "execution_count": null,
      "metadata": {
        "id": "2dLNYxLJXmSc"
      },
      "outputs": [],
      "source": [
        "from keras.callbacks import ModelCheckpoint\n",
        "checkpoint = ModelCheckpoint(DRIVE_PATH+\"models/\"+\"paper_withoutdropout_auto_havedone30_{epoch:02d}_{val_loss:.4f}.hdf5\",\n",
        "                             save_weights_only=False,\n",
        "                             monitor='val_accuracy',\n",
        "                             verbose=0,\n",
        "                             save_best_only=True,\n",
        "                             mode='auto',\n",
        "                             save_freq=\"epoch\")"
      ]
    },
    {
      "cell_type": "code",
      "execution_count": null,
      "metadata": {
        "colab": {
          "base_uri": "https://localhost:8080/"
        },
        "id": "8SbSteMuWzYw",
        "outputId": "5c9613c3-e592-4d9d-f75a-e583ea17a749"
      },
      "outputs": [
        {
          "name": "stdout",
          "output_type": "stream",
          "text": [
            "Epoch 31/40\n",
            "1827/1827 [==============================] - 324s 177ms/step - loss: 0.0052 - accuracy: 0.9985 - val_loss: 0.0595 - val_accuracy: 0.9975\n",
            "Epoch 32/40\n",
            "1827/1827 [==============================] - 309s 169ms/step - loss: 0.0020 - accuracy: 0.9993 - val_loss: 0.2633 - val_accuracy: 0.9966\n",
            "Epoch 33/40\n",
            "1827/1827 [==============================] - 311s 170ms/step - loss: 0.0051 - accuracy: 0.9984 - val_loss: 1.1949 - val_accuracy: 0.9890\n",
            "Epoch 34/40\n",
            "1827/1827 [==============================] - 301s 165ms/step - loss: 0.0042 - accuracy: 0.9986 - val_loss: 0.9794 - val_accuracy: 0.9877\n",
            "Epoch 35/40\n",
            "1827/1827 [==============================] - 308s 169ms/step - loss: 0.0126 - accuracy: 0.9969 - val_loss: 0.0704 - val_accuracy: 0.9895\n",
            "Epoch 36/40\n",
            "1827/1827 [==============================] - 300s 164ms/step - loss: 0.0046 - accuracy: 0.9987 - val_loss: 1.8634 - val_accuracy: 0.9917\n",
            "Epoch 37/40\n",
            "1827/1827 [==============================] - 300s 164ms/step - loss: 0.0029 - accuracy: 0.9991 - val_loss: 10.6981 - val_accuracy: 0.9217\n",
            "Epoch 38/40\n",
            "1827/1827 [==============================] - 334s 183ms/step - loss: 0.0040 - accuracy: 0.9988 - val_loss: 700.5900 - val_accuracy: 0.5857\n",
            "Epoch 39/40\n",
            "1827/1827 [==============================] - 294s 161ms/step - loss: 0.0059 - accuracy: 0.9982 - val_loss: 0.0474 - val_accuracy: 0.9978\n",
            "Epoch 40/40\n",
            "1827/1827 [==============================] - 310s 170ms/step - loss: 0.0032 - accuracy: 0.9990 - val_loss: 0.2461 - val_accuracy: 0.9977\n"
          ]
        },
        {
          "data": {
            "text/plain": [
              "<keras.callbacks.History at 0x7a1841571a50>"
            ]
          },
          "execution_count": 74,
          "metadata": {},
          "output_type": "execute_result"
        }
      ],
      "source": [
        "model_without_dropout.fit(\n",
        "    train_generator,\n",
        "    steps_per_epoch=len(train_generator),\n",
        "    epochs=40,\n",
        "    initial_epoch=30,\n",
        "    validation_data=valid_generator,\n",
        "    validation_steps=len(valid_generator),\n",
        "    callbacks=[checkpoint],\n",
        ")"
      ]
    },
    {
      "cell_type": "code",
      "execution_count": null,
      "metadata": {
        "id": "moPNocH7XqEw"
      },
      "outputs": [],
      "source": [
        "model_without_dropout.save(DRIVE_PATH+\"models/\"+'without_dropout_40epoch_day2.h5')"
      ]
    },
    {
      "cell_type": "code",
      "execution_count": null,
      "metadata": {
        "colab": {
          "base_uri": "https://localhost:8080/"
        },
        "id": "Mw94Axh_fwuh",
        "outputId": "8884b943-ad61-4383-e300-093a8c771ca4"
      },
      "outputs": [
        {
          "name": "stdout",
          "output_type": "stream",
          "text": [
            "16/16 [==============================] - 2s 102ms/step - loss: 0.7510 - accuracy: 0.9629\n"
          ]
        },
        {
          "data": {
            "text/plain": [
              "[0.7510324120521545, 0.962890625]"
            ]
          },
          "execution_count": 76,
          "metadata": {},
          "output_type": "execute_result"
        }
      ],
      "source": [
        "model_without_dropout.evaluate(test_generator, steps= len(test_generator))"
      ]
    }
  ],
  "metadata": {
    "accelerator": "GPU",
    "colab": {
      "collapsed_sections": [
        "Cb2ozf98pN2y",
        "0UurKaezGDn7",
        "6DUcka63cKQD",
        "St5T1VnPNfrF",
        "5x4GSZ4uPEoP",
        "mvANCgj-TGOf",
        "AMV31YTFlKm0",
        "reQjMHcMK41H",
        "brR9cOxBMsPm",
        "bVM2ty7eKzY2"
      ],
      "gpuType": "T4",
      "machine_shape": "hm",
      "provenance": []
    },
    "kernelspec": {
      "display_name": "Python 3",
      "name": "python3"
    },
    "language_info": {
      "name": "python"
    }
  },
  "nbformat": 4,
  "nbformat_minor": 0
}
