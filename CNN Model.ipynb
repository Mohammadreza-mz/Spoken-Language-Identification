{
  "cells": [
    {
      "cell_type": "markdown",
      "metadata": {
        "id": "u9QJw4y73hD7"
      },
      "source": [
        "## check GPU availabilty"
      ]
    },
    {
      "cell_type": "code",
      "execution_count": null,
      "metadata": {
        "colab": {
          "base_uri": "https://localhost:8080/",
          "height": 35
        },
        "id": "0f1G9cgB3lbE",
        "outputId": "1fe88616-6ca7-484a-af59-53f7d1841809"
      },
      "outputs": [
        {
          "data": {
            "application/vnd.google.colaboratory.intrinsic+json": {
              "type": "string"
            },
            "text/plain": [
              "'/device:GPU:0'"
            ]
          },
          "execution_count": 1,
          "metadata": {},
          "output_type": "execute_result"
        }
      ],
      "source": [
        "import tensorflow as tf\n",
        "tf.test.gpu_device_name()"
      ]
    },
    {
      "cell_type": "code",
      "execution_count": null,
      "metadata": {
        "colab": {
          "base_uri": "https://localhost:8080/"
        },
        "id": "oUGyMYnSh5vP",
        "outputId": "95886b0e-ea34-4410-8e84-96f3f04a1117"
      },
      "outputs": [
        {
          "name": "stdout",
          "output_type": "stream",
          "text": [
            "Number of GPUs Available:  1\n"
          ]
        }
      ],
      "source": [
        "physical_devices = tf.config.experimental.list_physical_devices('GPU')\n",
        "print(\"Number of GPUs Available: \", len(physical_devices))\n",
        "if len(physical_devices) > 0:\n",
        "    tf.config.experimental.set_memory_growth(physical_devices[0], True)"
      ]
    },
    {
      "cell_type": "markdown",
      "metadata": {
        "id": "zvW1K9G_Qfoc"
      },
      "source": [
        "## Paths"
      ]
    },
    {
      "cell_type": "code",
      "execution_count": null,
      "metadata": {
        "id": "SgP9QBEnQhZb"
      },
      "outputs": [],
      "source": [
        "CUR_DIR = '/content/' #this may be different runnig local\n",
        "MAT_DIR= CUR_DIR+'mat/'\n",
        "TRAIN_MAT_PATH = MAT_DIR + 'train/train/'\n",
        "TEST_MAT_PATH = MAT_DIR + 'test/test/'\n",
        "VOICE_DIR = CUR_DIR+'voice/'\n",
        "TRAIN_VOICE_PATH = VOICE_DIR+'train/train/'\n",
        "TEST_VOICE_PATH = VOICE_DIR+'test/test/'\n",
        "DRIVE_PATH = CUR_DIR+'drive/MyDrive/Bachelor_Project/'\n",
        "DRIVE2_PATH = CUR_DIR+'drive/MyDrive/Bachelor_Project_Part2/'\n",
        "DRIVE3_PATH = CUR_DIR+'drive/MyDrive/Bachelor_Project_Part3/'\n",
        "#TRAIN_VOICE_OLD_PATH = CUR_DIR+'train/train/'\n",
        "#TEST_VOICE_OLD_PATH = CUR_DIR+'test/test/'\n",
        "#TRAIN_IMG_PATH = CUR_DIR+'train/train-img/'\n",
        "#TEST_IMG_PATH = CUR_DIR+'test/test-img/'\n",
        "TRAIN_MAT_PATH = MAT_DIR + 'train/'\n",
        "TEST_MAT_PATH = MAT_DIR + 'test/'\n",
        "MOZILLA_PATH= CUR_DIR+'mozilla/'\n",
        "MOZILLA_VALID_TRAIN = CUR_DIR+'mozilla/cv-valid-train/'\n",
        "MOZILLA_VALID_DEV = CUR_DIR+'mozilla/cv-valid-dev/'\n",
        "MOZILLA_VALID_TEST = CUR_DIR+'mozilla/cv-valid-test/'"
      ]
    },
    {
      "cell_type": "code",
      "execution_count": null,
      "metadata": {
        "id": "elHdKK-PBVe3"
      },
      "outputs": [],
      "source": [
        "! mkdir $MAT_DIR\n",
        "! mkdir $VOICE_DIR\n",
        "! mkdir $TRAIN_MAT_PATH\n",
        "! mkdir $TEST_MAT_PATH"
      ]
    },
    {
      "cell_type": "markdown",
      "metadata": {
        "id": "9S7dMYTCVJyS"
      },
      "source": [
        "## mount google drive"
      ]
    },
    {
      "cell_type": "code",
      "execution_count": null,
      "metadata": {
        "colab": {
          "base_uri": "https://localhost:8080/"
        },
        "id": "wIC__YLQ4a52",
        "outputId": "0f0b87e2-620b-455f-cde5-38eecb1d3ad9"
      },
      "outputs": [
        {
          "name": "stdout",
          "output_type": "stream",
          "text": [
            "Mounted at /content/drive/\n"
          ]
        }
      ],
      "source": [
        "from google.colab import drive\n",
        "drive.mount(CUR_DIR+'drive/', force_remount=True)\n",
        "#%cd '{CUR_DIR}drive/MyDrive/Bachelor_Project/'\n",
        "#%ls"
      ]
    },
    {
      "cell_type": "markdown",
      "metadata": {
        "id": "4JYKCq_iWqkk"
      },
      "source": [
        "## import libraries\n",
        "\n"
      ]
    },
    {
      "cell_type": "code",
      "execution_count": null,
      "metadata": {
        "id": "PmjeHkGEflz4"
      },
      "outputs": [],
      "source": [
        "# low import\n",
        "import numpy as np\n",
        "import pandas as pd\n",
        "import gc"
      ]
    },
    {
      "cell_type": "code",
      "execution_count": null,
      "metadata": {
        "id": "tKaCosVCH3to"
      },
      "outputs": [],
      "source": [
        "import numpy as np\n",
        "import pandas as pd\n",
        "import matplotlib.pyplot as plt\n",
        "import matplotlib\n",
        "from glob import glob\n",
        "import librosa\n",
        "import librosa.display\n",
        "import soundfile as sf\n",
        "import scipy.signal as signal\n",
        "import gc\n",
        "import shutil"
      ]
    },
    {
      "cell_type": "markdown",
      "metadata": {
        "id": "mWz-0PAmBGu0"
      },
      "source": [
        "## spoken-language-identification dataset\n"
      ]
    },
    {
      "cell_type": "code",
      "execution_count": null,
      "metadata": {
        "colab": {
          "base_uri": "https://localhost:8080/"
        },
        "id": "IiDJhi0oBGcV",
        "outputId": "f6d92176-0199-48ec-d276-ad8c4c5dabe9"
      },
      "outputs": [
        {
          "name": "stdout",
          "output_type": "stream",
          "text": [
            "Downloading spoken-language-identification.zip to /content\n",
            "100% 14.9G/14.9G [14:19<00:00, 19.8MB/s]\n",
            "100% 14.9G/14.9G [14:19<00:00, 18.6MB/s]\n"
          ]
        }
      ],
      "source": [
        "! mkdir ~/.kaggle\n",
        "! cp $DRIVE_PATH/kaggle.json ~/.kaggle/\n",
        "! chmod 600 ~/.kaggle/kaggle.json\n",
        "! kaggle datasets download toponowicz/spoken-language-identification"
      ]
    },
    {
      "cell_type": "code",
      "execution_count": null,
      "metadata": {
        "id": "SLKtPwKI-oZv"
      },
      "outputs": [],
      "source": [
        "%%capture\n",
        "!unzip {CUR_DIR}spoken-language-identification.zip -d $VOICE_DIR"
      ]
    },
    {
      "cell_type": "code",
      "execution_count": null,
      "metadata": {
        "id": "iqV7sP6ligzP"
      },
      "outputs": [],
      "source": [
        "! mkdir $CUR_DIR/train\n",
        "! mkdir $CUR_DIR/test"
      ]
    },
    {
      "cell_type": "code",
      "execution_count": null,
      "metadata": {
        "id": "3-XIBcY_hllf"
      },
      "outputs": [],
      "source": [
        "! mv $TRAIN_VOICE_PATH $TRAIN_VOICE_OLD_PATH\n",
        "! mv $TEST_VOICE_PATH $TEST_VOICE_OLD_PATH"
      ]
    },
    {
      "cell_type": "code",
      "execution_count": null,
      "metadata": {
        "colab": {
          "base_uri": "https://localhost:8080/"
        },
        "id": "fsqFx6eL_n8H",
        "outputId": "2e81c425-3a0d-4d77-a6ed-c787731edadd"
      },
      "outputs": [
        {
          "name": "stdout",
          "output_type": "stream",
          "text": [
            "mkdir: missing operand\n",
            "Try 'mkdir --help' for more information.\n",
            "mkdir: missing operand\n",
            "Try 'mkdir --help' for more information.\n"
          ]
        }
      ],
      "source": [
        "!mkdir $TRAIN_IMG_PATH\n",
        "!mkdir $TEST_IMG_PATH"
      ]
    },
    {
      "cell_type": "markdown",
      "metadata": {
        "id": "0UurKaezGDn7"
      },
      "source": [
        "## Mozilla Dataset"
      ]
    },
    {
      "cell_type": "code",
      "execution_count": null,
      "metadata": {
        "id": "my5nSPwcGE3a"
      },
      "outputs": [],
      "source": [
        "! kaggle datasets download mozillaorg/common-voice"
      ]
    },
    {
      "cell_type": "code",
      "execution_count": null,
      "metadata": {
        "id": "Qfkd966-IT4n"
      },
      "outputs": [],
      "source": [
        "!mkdir mozilla"
      ]
    },
    {
      "cell_type": "code",
      "execution_count": null,
      "metadata": {
        "id": "f2RS9C4tGP5j"
      },
      "outputs": [],
      "source": [
        "%%capture\n",
        "!unzip {CUR_DIR}common-voice.zip -d $MOZILLA_PATH"
      ]
    },
    {
      "cell_type": "markdown",
      "metadata": {
        "id": "3PGxfNHYI4Ev"
      },
      "source": [
        "### remove invalid and other datasets"
      ]
    },
    {
      "cell_type": "code",
      "execution_count": null,
      "metadata": {
        "id": "b3CWtQwQI3ag"
      },
      "outputs": [],
      "source": [
        "!rm $MOZILLA_PATH/LICENSE.txt\n",
        "!rm $MOZILLA_PATH/README.txt\n",
        "!rm -r $MOZILLA_PATH/cv-other*\n",
        "!rm -r $MOZILLA_PATH/cv-invalid*"
      ]
    },
    {
      "cell_type": "code",
      "execution_count": null,
      "metadata": {
        "id": "eKNLQb_HLZZN"
      },
      "outputs": [],
      "source": [
        "valid_train_df = pd.read_csv(MOZILLA_PATH+\"cv-valid-train.csv\")\n",
        "valid_train_df"
      ]
    },
    {
      "cell_type": "code",
      "execution_count": null,
      "metadata": {
        "id": "jkrbXBPrXH8X"
      },
      "outputs": [],
      "source": [
        "valid_dev_df = pd.read_csv(MOZILLA_PATH+\"cv-valid-dev.csv\")\n",
        "valid_dev_df"
      ]
    },
    {
      "cell_type": "code",
      "execution_count": null,
      "metadata": {
        "id": "l2t5U5n1XHxp"
      },
      "outputs": [],
      "source": [
        "valid_test_df = pd.read_csv(MOZILLA_PATH+\"cv-valid-test.csv\")\n",
        "valid_test_df"
      ]
    },
    {
      "cell_type": "code",
      "execution_count": null,
      "metadata": {
        "id": "vHQ0uqZAXW94"
      },
      "outputs": [],
      "source": [
        "def process_mozilla_df(df, path_type):\n",
        "    #df = df[pd.notnull(df['accent'])]\n",
        "    df.dropna(subset=['accent'], inplace=True)\n",
        "    df.rename(columns={'filename': 'file', 'accent': 'lang'}, inplace=True)\n",
        "    df['ID'] = df['file'].str.split('/', expand=True)[1] + '.npy'\n",
        "    df['file'] = path_type+df['file']"
      ]
    },
    {
      "cell_type": "code",
      "execution_count": null,
      "metadata": {
        "id": "o1Y-m4L_Xwno"
      },
      "outputs": [],
      "source": [
        "process_mozilla_df(valid_train_df, MOZILLA_VALID_TRAIN)\n",
        "process_mozilla_df(valid_dev_df, MOZILLA_VALID_DEV)\n",
        "process_mozilla_df(valid_test_df, MOZILLA_VALID_TEST)"
      ]
    },
    {
      "cell_type": "code",
      "execution_count": null,
      "metadata": {
        "colab": {
          "base_uri": "https://localhost:8080/",
          "height": 423
        },
        "id": "5KajzVirY77m",
        "outputId": "322df90b-2810-4941-d429-9438d2cb7768"
      },
      "outputs": [
        {
          "data": {
            "text/html": [
              "\n",
              "  <div id=\"df-01ad72b8-0ffd-47ea-9747-d87c09094e80\">\n",
              "    <div class=\"colab-df-container\">\n",
              "      <div>\n",
              "<style scoped>\n",
              "    .dataframe tbody tr th:only-of-type {\n",
              "        vertical-align: middle;\n",
              "    }\n",
              "\n",
              "    .dataframe tbody tr th {\n",
              "        vertical-align: top;\n",
              "    }\n",
              "\n",
              "    .dataframe thead th {\n",
              "        text-align: right;\n",
              "    }\n",
              "</style>\n",
              "<table border=\"1\" class=\"dataframe\">\n",
              "  <thead>\n",
              "    <tr style=\"text-align: right;\">\n",
              "      <th></th>\n",
              "      <th>file</th>\n",
              "      <th>text</th>\n",
              "      <th>up_votes</th>\n",
              "      <th>down_votes</th>\n",
              "      <th>age</th>\n",
              "      <th>gender</th>\n",
              "      <th>lang</th>\n",
              "      <th>duration</th>\n",
              "      <th>ID</th>\n",
              "    </tr>\n",
              "  </thead>\n",
              "  <tbody>\n",
              "    <tr>\n",
              "      <th>5</th>\n",
              "      <td>/content/mozilla/cv-valid-train/cv-valid-train...</td>\n",
              "      <td>a shepherd may like to travel but he should ne...</td>\n",
              "      <td>1</td>\n",
              "      <td>0</td>\n",
              "      <td>twenties</td>\n",
              "      <td>female</td>\n",
              "      <td>us</td>\n",
              "      <td>NaN</td>\n",
              "      <td>sample-000005.mp3.jpg</td>\n",
              "    </tr>\n",
              "    <tr>\n",
              "      <th>8</th>\n",
              "      <td>/content/mozilla/cv-valid-train/cv-valid-train...</td>\n",
              "      <td>put jackie right on the staff</td>\n",
              "      <td>3</td>\n",
              "      <td>0</td>\n",
              "      <td>seventies</td>\n",
              "      <td>male</td>\n",
              "      <td>us</td>\n",
              "      <td>NaN</td>\n",
              "      <td>sample-000008.mp3.jpg</td>\n",
              "    </tr>\n",
              "    <tr>\n",
              "      <th>13</th>\n",
              "      <td>/content/mozilla/cv-valid-train/cv-valid-train...</td>\n",
              "      <td>but he had found a guide and didn't want to mi...</td>\n",
              "      <td>1</td>\n",
              "      <td>0</td>\n",
              "      <td>thirties</td>\n",
              "      <td>female</td>\n",
              "      <td>us</td>\n",
              "      <td>NaN</td>\n",
              "      <td>sample-000013.mp3.jpg</td>\n",
              "    </tr>\n",
              "    <tr>\n",
              "      <th>14</th>\n",
              "      <td>/content/mozilla/cv-valid-train/cv-valid-train...</td>\n",
              "      <td>as they began to decorate the hallway a silhou...</td>\n",
              "      <td>1</td>\n",
              "      <td>0</td>\n",
              "      <td>sixties</td>\n",
              "      <td>male</td>\n",
              "      <td>england</td>\n",
              "      <td>NaN</td>\n",
              "      <td>sample-000014.mp3.jpg</td>\n",
              "    </tr>\n",
              "    <tr>\n",
              "      <th>19</th>\n",
              "      <td>/content/mozilla/cv-valid-train/cv-valid-train...</td>\n",
              "      <td>then they got ahold of some dough and went goofy</td>\n",
              "      <td>1</td>\n",
              "      <td>0</td>\n",
              "      <td>fifties</td>\n",
              "      <td>male</td>\n",
              "      <td>australia</td>\n",
              "      <td>NaN</td>\n",
              "      <td>sample-000019.mp3.jpg</td>\n",
              "    </tr>\n",
              "    <tr>\n",
              "      <th>...</th>\n",
              "      <td>...</td>\n",
              "      <td>...</td>\n",
              "      <td>...</td>\n",
              "      <td>...</td>\n",
              "      <td>...</td>\n",
              "      <td>...</td>\n",
              "      <td>...</td>\n",
              "      <td>...</td>\n",
              "      <td>...</td>\n",
              "    </tr>\n",
              "    <tr>\n",
              "      <th>195766</th>\n",
              "      <td>/content/mozilla/cv-valid-train/cv-valid-train...</td>\n",
              "      <td>but before i go i want to tell you a little story</td>\n",
              "      <td>1</td>\n",
              "      <td>0</td>\n",
              "      <td>fourties</td>\n",
              "      <td>male</td>\n",
              "      <td>england</td>\n",
              "      <td>NaN</td>\n",
              "      <td>sample-195766.mp3.jpg</td>\n",
              "    </tr>\n",
              "    <tr>\n",
              "      <th>195767</th>\n",
              "      <td>/content/mozilla/cv-valid-train/cv-valid-train...</td>\n",
              "      <td>down below in the darkness were hundreds of pe...</td>\n",
              "      <td>3</td>\n",
              "      <td>0</td>\n",
              "      <td>thirties</td>\n",
              "      <td>female</td>\n",
              "      <td>us</td>\n",
              "      <td>NaN</td>\n",
              "      <td>sample-195767.mp3.jpg</td>\n",
              "    </tr>\n",
              "    <tr>\n",
              "      <th>195770</th>\n",
              "      <td>/content/mozilla/cv-valid-train/cv-valid-train...</td>\n",
              "      <td>he heard a muffled grating sound and saw the b...</td>\n",
              "      <td>4</td>\n",
              "      <td>0</td>\n",
              "      <td>twenties</td>\n",
              "      <td>male</td>\n",
              "      <td>england</td>\n",
              "      <td>NaN</td>\n",
              "      <td>sample-195770.mp3.jpg</td>\n",
              "    </tr>\n",
              "    <tr>\n",
              "      <th>195771</th>\n",
              "      <td>/content/mozilla/cv-valid-train/cv-valid-train...</td>\n",
              "      <td>the englishman said nothing</td>\n",
              "      <td>1</td>\n",
              "      <td>0</td>\n",
              "      <td>thirties</td>\n",
              "      <td>male</td>\n",
              "      <td>england</td>\n",
              "      <td>NaN</td>\n",
              "      <td>sample-195771.mp3.jpg</td>\n",
              "    </tr>\n",
              "    <tr>\n",
              "      <th>195774</th>\n",
              "      <td>/content/mozilla/cv-valid-train/cv-valid-train...</td>\n",
              "      <td>the phone rang while she was awake</td>\n",
              "      <td>2</td>\n",
              "      <td>0</td>\n",
              "      <td>twenties</td>\n",
              "      <td>male</td>\n",
              "      <td>us</td>\n",
              "      <td>NaN</td>\n",
              "      <td>sample-195774.mp3.jpg</td>\n",
              "    </tr>\n",
              "  </tbody>\n",
              "</table>\n",
              "<p>64711 rows × 9 columns</p>\n",
              "</div>\n",
              "      <button class=\"colab-df-convert\" onclick=\"convertToInteractive('df-01ad72b8-0ffd-47ea-9747-d87c09094e80')\"\n",
              "              title=\"Convert this dataframe to an interactive table.\"\n",
              "              style=\"display:none;\">\n",
              "        \n",
              "  <svg xmlns=\"http://www.w3.org/2000/svg\" height=\"24px\"viewBox=\"0 0 24 24\"\n",
              "       width=\"24px\">\n",
              "    <path d=\"M0 0h24v24H0V0z\" fill=\"none\"/>\n",
              "    <path d=\"M18.56 5.44l.94 2.06.94-2.06 2.06-.94-2.06-.94-.94-2.06-.94 2.06-2.06.94zm-11 1L8.5 8.5l.94-2.06 2.06-.94-2.06-.94L8.5 2.5l-.94 2.06-2.06.94zm10 10l.94 2.06.94-2.06 2.06-.94-2.06-.94-.94-2.06-.94 2.06-2.06.94z\"/><path d=\"M17.41 7.96l-1.37-1.37c-.4-.4-.92-.59-1.43-.59-.52 0-1.04.2-1.43.59L10.3 9.45l-7.72 7.72c-.78.78-.78 2.05 0 2.83L4 21.41c.39.39.9.59 1.41.59.51 0 1.02-.2 1.41-.59l7.78-7.78 2.81-2.81c.8-.78.8-2.07 0-2.86zM5.41 20L4 18.59l7.72-7.72 1.47 1.35L5.41 20z\"/>\n",
              "  </svg>\n",
              "      </button>\n",
              "      \n",
              "  <style>\n",
              "    .colab-df-container {\n",
              "      display:flex;\n",
              "      flex-wrap:wrap;\n",
              "      gap: 12px;\n",
              "    }\n",
              "\n",
              "    .colab-df-convert {\n",
              "      background-color: #E8F0FE;\n",
              "      border: none;\n",
              "      border-radius: 50%;\n",
              "      cursor: pointer;\n",
              "      display: none;\n",
              "      fill: #1967D2;\n",
              "      height: 32px;\n",
              "      padding: 0 0 0 0;\n",
              "      width: 32px;\n",
              "    }\n",
              "\n",
              "    .colab-df-convert:hover {\n",
              "      background-color: #E2EBFA;\n",
              "      box-shadow: 0px 1px 2px rgba(60, 64, 67, 0.3), 0px 1px 3px 1px rgba(60, 64, 67, 0.15);\n",
              "      fill: #174EA6;\n",
              "    }\n",
              "\n",
              "    [theme=dark] .colab-df-convert {\n",
              "      background-color: #3B4455;\n",
              "      fill: #D2E3FC;\n",
              "    }\n",
              "\n",
              "    [theme=dark] .colab-df-convert:hover {\n",
              "      background-color: #434B5C;\n",
              "      box-shadow: 0px 1px 3px 1px rgba(0, 0, 0, 0.15);\n",
              "      filter: drop-shadow(0px 1px 2px rgba(0, 0, 0, 0.3));\n",
              "      fill: #FFFFFF;\n",
              "    }\n",
              "  </style>\n",
              "\n",
              "      <script>\n",
              "        const buttonEl =\n",
              "          document.querySelector('#df-01ad72b8-0ffd-47ea-9747-d87c09094e80 button.colab-df-convert');\n",
              "        buttonEl.style.display =\n",
              "          google.colab.kernel.accessAllowed ? 'block' : 'none';\n",
              "\n",
              "        async function convertToInteractive(key) {\n",
              "          const element = document.querySelector('#df-01ad72b8-0ffd-47ea-9747-d87c09094e80');\n",
              "          const dataTable =\n",
              "            await google.colab.kernel.invokeFunction('convertToInteractive',\n",
              "                                                     [key], {});\n",
              "          if (!dataTable) return;\n",
              "\n",
              "          const docLinkHtml = 'Like what you see? Visit the ' +\n",
              "            '<a target=\"_blank\" href=https://colab.research.google.com/notebooks/data_table.ipynb>data table notebook</a>'\n",
              "            + ' to learn more about interactive tables.';\n",
              "          element.innerHTML = '';\n",
              "          dataTable['output_type'] = 'display_data';\n",
              "          await google.colab.output.renderOutput(dataTable, element);\n",
              "          const docLink = document.createElement('div');\n",
              "          docLink.innerHTML = docLinkHtml;\n",
              "          element.appendChild(docLink);\n",
              "        }\n",
              "      </script>\n",
              "    </div>\n",
              "  </div>\n",
              "  "
            ],
            "text/plain": [
              "                                                     file  \\\n",
              "5       /content/mozilla/cv-valid-train/cv-valid-train...   \n",
              "8       /content/mozilla/cv-valid-train/cv-valid-train...   \n",
              "13      /content/mozilla/cv-valid-train/cv-valid-train...   \n",
              "14      /content/mozilla/cv-valid-train/cv-valid-train...   \n",
              "19      /content/mozilla/cv-valid-train/cv-valid-train...   \n",
              "...                                                   ...   \n",
              "195766  /content/mozilla/cv-valid-train/cv-valid-train...   \n",
              "195767  /content/mozilla/cv-valid-train/cv-valid-train...   \n",
              "195770  /content/mozilla/cv-valid-train/cv-valid-train...   \n",
              "195771  /content/mozilla/cv-valid-train/cv-valid-train...   \n",
              "195774  /content/mozilla/cv-valid-train/cv-valid-train...   \n",
              "\n",
              "                                                     text  up_votes  \\\n",
              "5       a shepherd may like to travel but he should ne...         1   \n",
              "8                           put jackie right on the staff         3   \n",
              "13      but he had found a guide and didn't want to mi...         1   \n",
              "14      as they began to decorate the hallway a silhou...         1   \n",
              "19       then they got ahold of some dough and went goofy         1   \n",
              "...                                                   ...       ...   \n",
              "195766  but before i go i want to tell you a little story         1   \n",
              "195767  down below in the darkness were hundreds of pe...         3   \n",
              "195770  he heard a muffled grating sound and saw the b...         4   \n",
              "195771                        the englishman said nothing         1   \n",
              "195774                 the phone rang while she was awake         2   \n",
              "\n",
              "        down_votes        age  gender       lang  duration  \\\n",
              "5                0   twenties  female         us       NaN   \n",
              "8                0  seventies    male         us       NaN   \n",
              "13               0   thirties  female         us       NaN   \n",
              "14               0    sixties    male    england       NaN   \n",
              "19               0    fifties    male  australia       NaN   \n",
              "...            ...        ...     ...        ...       ...   \n",
              "195766           0   fourties    male    england       NaN   \n",
              "195767           0   thirties  female         us       NaN   \n",
              "195770           0   twenties    male    england       NaN   \n",
              "195771           0   thirties    male    england       NaN   \n",
              "195774           0   twenties    male         us       NaN   \n",
              "\n",
              "                           ID  \n",
              "5       sample-000005.mp3.jpg  \n",
              "8       sample-000008.mp3.jpg  \n",
              "13      sample-000013.mp3.jpg  \n",
              "14      sample-000014.mp3.jpg  \n",
              "19      sample-000019.mp3.jpg  \n",
              "...                       ...  \n",
              "195766  sample-195766.mp3.jpg  \n",
              "195767  sample-195767.mp3.jpg  \n",
              "195770  sample-195770.mp3.jpg  \n",
              "195771  sample-195771.mp3.jpg  \n",
              "195774  sample-195774.mp3.jpg  \n",
              "\n",
              "[64711 rows x 9 columns]"
            ]
          },
          "execution_count": 38,
          "metadata": {},
          "output_type": "execute_result"
        }
      ],
      "source": [
        "valid_train_df"
      ]
    },
    {
      "cell_type": "code",
      "execution_count": null,
      "metadata": {
        "colab": {
          "base_uri": "https://localhost:8080/",
          "height": 423
        },
        "id": "Aor9cbnWY-ZV",
        "outputId": "4353d557-c024-4127-f3b1-c5f8c7b9cfa7"
      },
      "outputs": [
        {
          "data": {
            "text/html": [
              "\n",
              "  <div id=\"df-7ac059a5-68b8-44bf-9e11-d8c56c651079\">\n",
              "    <div class=\"colab-df-container\">\n",
              "      <div>\n",
              "<style scoped>\n",
              "    .dataframe tbody tr th:only-of-type {\n",
              "        vertical-align: middle;\n",
              "    }\n",
              "\n",
              "    .dataframe tbody tr th {\n",
              "        vertical-align: top;\n",
              "    }\n",
              "\n",
              "    .dataframe thead th {\n",
              "        text-align: right;\n",
              "    }\n",
              "</style>\n",
              "<table border=\"1\" class=\"dataframe\">\n",
              "  <thead>\n",
              "    <tr style=\"text-align: right;\">\n",
              "      <th></th>\n",
              "      <th>file</th>\n",
              "      <th>text</th>\n",
              "      <th>up_votes</th>\n",
              "      <th>down_votes</th>\n",
              "      <th>age</th>\n",
              "      <th>gender</th>\n",
              "      <th>lang</th>\n",
              "      <th>duration</th>\n",
              "      <th>ID</th>\n",
              "    </tr>\n",
              "  </thead>\n",
              "  <tbody>\n",
              "    <tr>\n",
              "      <th>4</th>\n",
              "      <td>/content/mozilla/cv-valid-dev/cv-valid-dev/sam...</td>\n",
              "      <td>he moved about invisible but everyone could he...</td>\n",
              "      <td>1</td>\n",
              "      <td>0</td>\n",
              "      <td>fourties</td>\n",
              "      <td>female</td>\n",
              "      <td>england</td>\n",
              "      <td>NaN</td>\n",
              "      <td>sample-000004.mp3.jpg</td>\n",
              "    </tr>\n",
              "    <tr>\n",
              "      <th>5</th>\n",
              "      <td>/content/mozilla/cv-valid-dev/cv-valid-dev/sam...</td>\n",
              "      <td>but everything had changed</td>\n",
              "      <td>3</td>\n",
              "      <td>0</td>\n",
              "      <td>teens</td>\n",
              "      <td>male</td>\n",
              "      <td>us</td>\n",
              "      <td>NaN</td>\n",
              "      <td>sample-000005.mp3.jpg</td>\n",
              "    </tr>\n",
              "    <tr>\n",
              "      <th>8</th>\n",
              "      <td>/content/mozilla/cv-valid-dev/cv-valid-dev/sam...</td>\n",
              "      <td>the shop folks were taking down their shutters...</td>\n",
              "      <td>1</td>\n",
              "      <td>0</td>\n",
              "      <td>twenties</td>\n",
              "      <td>female</td>\n",
              "      <td>canada</td>\n",
              "      <td>NaN</td>\n",
              "      <td>sample-000008.mp3.jpg</td>\n",
              "    </tr>\n",
              "    <tr>\n",
              "      <th>9</th>\n",
              "      <td>/content/mozilla/cv-valid-dev/cv-valid-dev/sam...</td>\n",
              "      <td>the teacher thought that he'd taught himself a...</td>\n",
              "      <td>1</td>\n",
              "      <td>0</td>\n",
              "      <td>fifties</td>\n",
              "      <td>female</td>\n",
              "      <td>australia</td>\n",
              "      <td>NaN</td>\n",
              "      <td>sample-000009.mp3.jpg</td>\n",
              "    </tr>\n",
              "    <tr>\n",
              "      <th>13</th>\n",
              "      <td>/content/mozilla/cv-valid-dev/cv-valid-dev/sam...</td>\n",
              "      <td>in those days very few of the people had any i...</td>\n",
              "      <td>5</td>\n",
              "      <td>0</td>\n",
              "      <td>twenties</td>\n",
              "      <td>male</td>\n",
              "      <td>us</td>\n",
              "      <td>NaN</td>\n",
              "      <td>sample-000013.mp3.jpg</td>\n",
              "    </tr>\n",
              "    <tr>\n",
              "      <th>...</th>\n",
              "      <td>...</td>\n",
              "      <td>...</td>\n",
              "      <td>...</td>\n",
              "      <td>...</td>\n",
              "      <td>...</td>\n",
              "      <td>...</td>\n",
              "      <td>...</td>\n",
              "      <td>...</td>\n",
              "      <td>...</td>\n",
              "    </tr>\n",
              "    <tr>\n",
              "      <th>4053</th>\n",
              "      <td>/content/mozilla/cv-valid-dev/cv-valid-dev/sam...</td>\n",
              "      <td>if you start your emails with greetings let me...</td>\n",
              "      <td>1</td>\n",
              "      <td>0</td>\n",
              "      <td>sixties</td>\n",
              "      <td>female</td>\n",
              "      <td>canada</td>\n",
              "      <td>NaN</td>\n",
              "      <td>sample-004053.mp3.jpg</td>\n",
              "    </tr>\n",
              "    <tr>\n",
              "      <th>4055</th>\n",
              "      <td>/content/mozilla/cv-valid-dev/cv-valid-dev/sam...</td>\n",
              "      <td>the atmosphere was suffused with the sweet sce...</td>\n",
              "      <td>4</td>\n",
              "      <td>1</td>\n",
              "      <td>fourties</td>\n",
              "      <td>male</td>\n",
              "      <td>england</td>\n",
              "      <td>NaN</td>\n",
              "      <td>sample-004055.mp3.jpg</td>\n",
              "    </tr>\n",
              "    <tr>\n",
              "      <th>4067</th>\n",
              "      <td>/content/mozilla/cv-valid-dev/cv-valid-dev/sam...</td>\n",
              "      <td>they reached the center of a large plaza where...</td>\n",
              "      <td>3</td>\n",
              "      <td>0</td>\n",
              "      <td>fourties</td>\n",
              "      <td>female</td>\n",
              "      <td>us</td>\n",
              "      <td>NaN</td>\n",
              "      <td>sample-004067.mp3.jpg</td>\n",
              "    </tr>\n",
              "    <tr>\n",
              "      <th>4069</th>\n",
              "      <td>/content/mozilla/cv-valid-dev/cv-valid-dev/sam...</td>\n",
              "      <td>no sense messing up the streets</td>\n",
              "      <td>2</td>\n",
              "      <td>0</td>\n",
              "      <td>thirties</td>\n",
              "      <td>male</td>\n",
              "      <td>england</td>\n",
              "      <td>NaN</td>\n",
              "      <td>sample-004069.mp3.jpg</td>\n",
              "    </tr>\n",
              "    <tr>\n",
              "      <th>4073</th>\n",
              "      <td>/content/mozilla/cv-valid-dev/cv-valid-dev/sam...</td>\n",
              "      <td>that's what i'm not supposed to say</td>\n",
              "      <td>2</td>\n",
              "      <td>0</td>\n",
              "      <td>thirties</td>\n",
              "      <td>male</td>\n",
              "      <td>us</td>\n",
              "      <td>NaN</td>\n",
              "      <td>sample-004073.mp3.jpg</td>\n",
              "    </tr>\n",
              "  </tbody>\n",
              "</table>\n",
              "<p>1350 rows × 9 columns</p>\n",
              "</div>\n",
              "      <button class=\"colab-df-convert\" onclick=\"convertToInteractive('df-7ac059a5-68b8-44bf-9e11-d8c56c651079')\"\n",
              "              title=\"Convert this dataframe to an interactive table.\"\n",
              "              style=\"display:none;\">\n",
              "        \n",
              "  <svg xmlns=\"http://www.w3.org/2000/svg\" height=\"24px\"viewBox=\"0 0 24 24\"\n",
              "       width=\"24px\">\n",
              "    <path d=\"M0 0h24v24H0V0z\" fill=\"none\"/>\n",
              "    <path d=\"M18.56 5.44l.94 2.06.94-2.06 2.06-.94-2.06-.94-.94-2.06-.94 2.06-2.06.94zm-11 1L8.5 8.5l.94-2.06 2.06-.94-2.06-.94L8.5 2.5l-.94 2.06-2.06.94zm10 10l.94 2.06.94-2.06 2.06-.94-2.06-.94-.94-2.06-.94 2.06-2.06.94z\"/><path d=\"M17.41 7.96l-1.37-1.37c-.4-.4-.92-.59-1.43-.59-.52 0-1.04.2-1.43.59L10.3 9.45l-7.72 7.72c-.78.78-.78 2.05 0 2.83L4 21.41c.39.39.9.59 1.41.59.51 0 1.02-.2 1.41-.59l7.78-7.78 2.81-2.81c.8-.78.8-2.07 0-2.86zM5.41 20L4 18.59l7.72-7.72 1.47 1.35L5.41 20z\"/>\n",
              "  </svg>\n",
              "      </button>\n",
              "      \n",
              "  <style>\n",
              "    .colab-df-container {\n",
              "      display:flex;\n",
              "      flex-wrap:wrap;\n",
              "      gap: 12px;\n",
              "    }\n",
              "\n",
              "    .colab-df-convert {\n",
              "      background-color: #E8F0FE;\n",
              "      border: none;\n",
              "      border-radius: 50%;\n",
              "      cursor: pointer;\n",
              "      display: none;\n",
              "      fill: #1967D2;\n",
              "      height: 32px;\n",
              "      padding: 0 0 0 0;\n",
              "      width: 32px;\n",
              "    }\n",
              "\n",
              "    .colab-df-convert:hover {\n",
              "      background-color: #E2EBFA;\n",
              "      box-shadow: 0px 1px 2px rgba(60, 64, 67, 0.3), 0px 1px 3px 1px rgba(60, 64, 67, 0.15);\n",
              "      fill: #174EA6;\n",
              "    }\n",
              "\n",
              "    [theme=dark] .colab-df-convert {\n",
              "      background-color: #3B4455;\n",
              "      fill: #D2E3FC;\n",
              "    }\n",
              "\n",
              "    [theme=dark] .colab-df-convert:hover {\n",
              "      background-color: #434B5C;\n",
              "      box-shadow: 0px 1px 3px 1px rgba(0, 0, 0, 0.15);\n",
              "      filter: drop-shadow(0px 1px 2px rgba(0, 0, 0, 0.3));\n",
              "      fill: #FFFFFF;\n",
              "    }\n",
              "  </style>\n",
              "\n",
              "      <script>\n",
              "        const buttonEl =\n",
              "          document.querySelector('#df-7ac059a5-68b8-44bf-9e11-d8c56c651079 button.colab-df-convert');\n",
              "        buttonEl.style.display =\n",
              "          google.colab.kernel.accessAllowed ? 'block' : 'none';\n",
              "\n",
              "        async function convertToInteractive(key) {\n",
              "          const element = document.querySelector('#df-7ac059a5-68b8-44bf-9e11-d8c56c651079');\n",
              "          const dataTable =\n",
              "            await google.colab.kernel.invokeFunction('convertToInteractive',\n",
              "                                                     [key], {});\n",
              "          if (!dataTable) return;\n",
              "\n",
              "          const docLinkHtml = 'Like what you see? Visit the ' +\n",
              "            '<a target=\"_blank\" href=https://colab.research.google.com/notebooks/data_table.ipynb>data table notebook</a>'\n",
              "            + ' to learn more about interactive tables.';\n",
              "          element.innerHTML = '';\n",
              "          dataTable['output_type'] = 'display_data';\n",
              "          await google.colab.output.renderOutput(dataTable, element);\n",
              "          const docLink = document.createElement('div');\n",
              "          docLink.innerHTML = docLinkHtml;\n",
              "          element.appendChild(docLink);\n",
              "        }\n",
              "      </script>\n",
              "    </div>\n",
              "  </div>\n",
              "  "
            ],
            "text/plain": [
              "                                                   file  \\\n",
              "4     /content/mozilla/cv-valid-dev/cv-valid-dev/sam...   \n",
              "5     /content/mozilla/cv-valid-dev/cv-valid-dev/sam...   \n",
              "8     /content/mozilla/cv-valid-dev/cv-valid-dev/sam...   \n",
              "9     /content/mozilla/cv-valid-dev/cv-valid-dev/sam...   \n",
              "13    /content/mozilla/cv-valid-dev/cv-valid-dev/sam...   \n",
              "...                                                 ...   \n",
              "4053  /content/mozilla/cv-valid-dev/cv-valid-dev/sam...   \n",
              "4055  /content/mozilla/cv-valid-dev/cv-valid-dev/sam...   \n",
              "4067  /content/mozilla/cv-valid-dev/cv-valid-dev/sam...   \n",
              "4069  /content/mozilla/cv-valid-dev/cv-valid-dev/sam...   \n",
              "4073  /content/mozilla/cv-valid-dev/cv-valid-dev/sam...   \n",
              "\n",
              "                                                   text  up_votes  down_votes  \\\n",
              "4     he moved about invisible but everyone could he...         1           0   \n",
              "5                            but everything had changed         3           0   \n",
              "8     the shop folks were taking down their shutters...         1           0   \n",
              "9     the teacher thought that he'd taught himself a...         1           0   \n",
              "13    in those days very few of the people had any i...         5           0   \n",
              "...                                                 ...       ...         ...   \n",
              "4053  if you start your emails with greetings let me...         1           0   \n",
              "4055  the atmosphere was suffused with the sweet sce...         4           1   \n",
              "4067  they reached the center of a large plaza where...         3           0   \n",
              "4069                    no sense messing up the streets         2           0   \n",
              "4073                that's what i'm not supposed to say         2           0   \n",
              "\n",
              "           age  gender       lang  duration                     ID  \n",
              "4     fourties  female    england       NaN  sample-000004.mp3.jpg  \n",
              "5        teens    male         us       NaN  sample-000005.mp3.jpg  \n",
              "8     twenties  female     canada       NaN  sample-000008.mp3.jpg  \n",
              "9      fifties  female  australia       NaN  sample-000009.mp3.jpg  \n",
              "13    twenties    male         us       NaN  sample-000013.mp3.jpg  \n",
              "...        ...     ...        ...       ...                    ...  \n",
              "4053   sixties  female     canada       NaN  sample-004053.mp3.jpg  \n",
              "4055  fourties    male    england       NaN  sample-004055.mp3.jpg  \n",
              "4067  fourties  female         us       NaN  sample-004067.mp3.jpg  \n",
              "4069  thirties    male    england       NaN  sample-004069.mp3.jpg  \n",
              "4073  thirties    male         us       NaN  sample-004073.mp3.jpg  \n",
              "\n",
              "[1350 rows x 9 columns]"
            ]
          },
          "execution_count": 39,
          "metadata": {},
          "output_type": "execute_result"
        }
      ],
      "source": [
        "valid_dev_df"
      ]
    },
    {
      "cell_type": "code",
      "execution_count": null,
      "metadata": {
        "colab": {
          "base_uri": "https://localhost:8080/",
          "height": 423
        },
        "id": "zqBaDMh2ZBYD",
        "outputId": "24de5737-346b-453b-cfab-808c000ca53d"
      },
      "outputs": [
        {
          "data": {
            "text/html": [
              "\n",
              "  <div id=\"df-82e00292-9d80-4749-a9bd-489594c6e33e\">\n",
              "    <div class=\"colab-df-container\">\n",
              "      <div>\n",
              "<style scoped>\n",
              "    .dataframe tbody tr th:only-of-type {\n",
              "        vertical-align: middle;\n",
              "    }\n",
              "\n",
              "    .dataframe tbody tr th {\n",
              "        vertical-align: top;\n",
              "    }\n",
              "\n",
              "    .dataframe thead th {\n",
              "        text-align: right;\n",
              "    }\n",
              "</style>\n",
              "<table border=\"1\" class=\"dataframe\">\n",
              "  <thead>\n",
              "    <tr style=\"text-align: right;\">\n",
              "      <th></th>\n",
              "      <th>file</th>\n",
              "      <th>text</th>\n",
              "      <th>up_votes</th>\n",
              "      <th>down_votes</th>\n",
              "      <th>age</th>\n",
              "      <th>gender</th>\n",
              "      <th>lang</th>\n",
              "      <th>duration</th>\n",
              "      <th>ID</th>\n",
              "    </tr>\n",
              "  </thead>\n",
              "  <tbody>\n",
              "    <tr>\n",
              "      <th>3</th>\n",
              "      <td>/content/mozilla/cv-valid-test/cv-valid-test/s...</td>\n",
              "      <td>down below in the darkness were hundreds of pe...</td>\n",
              "      <td>4</td>\n",
              "      <td>0</td>\n",
              "      <td>twenties</td>\n",
              "      <td>male</td>\n",
              "      <td>us</td>\n",
              "      <td>NaN</td>\n",
              "      <td>sample-000003.mp3.jpg</td>\n",
              "    </tr>\n",
              "    <tr>\n",
              "      <th>5</th>\n",
              "      <td>/content/mozilla/cv-valid-test/cv-valid-test/s...</td>\n",
              "      <td>down below in the darkness were hundreds of pe...</td>\n",
              "      <td>4</td>\n",
              "      <td>1</td>\n",
              "      <td>twenties</td>\n",
              "      <td>male</td>\n",
              "      <td>us</td>\n",
              "      <td>NaN</td>\n",
              "      <td>sample-000005.mp3.jpg</td>\n",
              "    </tr>\n",
              "    <tr>\n",
              "      <th>8</th>\n",
              "      <td>/content/mozilla/cv-valid-test/cv-valid-test/s...</td>\n",
              "      <td>this was the strangest of all things that ever...</td>\n",
              "      <td>1</td>\n",
              "      <td>0</td>\n",
              "      <td>thirties</td>\n",
              "      <td>male</td>\n",
              "      <td>england</td>\n",
              "      <td>NaN</td>\n",
              "      <td>sample-000008.mp3.jpg</td>\n",
              "    </tr>\n",
              "    <tr>\n",
              "      <th>9</th>\n",
              "      <td>/content/mozilla/cv-valid-test/cv-valid-test/s...</td>\n",
              "      <td>it was glaringly hot not a cloud in the sky no...</td>\n",
              "      <td>3</td>\n",
              "      <td>0</td>\n",
              "      <td>fifties</td>\n",
              "      <td>male</td>\n",
              "      <td>us</td>\n",
              "      <td>NaN</td>\n",
              "      <td>sample-000009.mp3.jpg</td>\n",
              "    </tr>\n",
              "    <tr>\n",
              "      <th>14</th>\n",
              "      <td>/content/mozilla/cv-valid-test/cv-valid-test/s...</td>\n",
              "      <td>follow the instructions here</td>\n",
              "      <td>1</td>\n",
              "      <td>0</td>\n",
              "      <td>twenties</td>\n",
              "      <td>male</td>\n",
              "      <td>scotland</td>\n",
              "      <td>NaN</td>\n",
              "      <td>sample-000014.mp3.jpg</td>\n",
              "    </tr>\n",
              "    <tr>\n",
              "      <th>...</th>\n",
              "      <td>...</td>\n",
              "      <td>...</td>\n",
              "      <td>...</td>\n",
              "      <td>...</td>\n",
              "      <td>...</td>\n",
              "      <td>...</td>\n",
              "      <td>...</td>\n",
              "      <td>...</td>\n",
              "      <td>...</td>\n",
              "    </tr>\n",
              "    <tr>\n",
              "      <th>3971</th>\n",
              "      <td>/content/mozilla/cv-valid-test/cv-valid-test/s...</td>\n",
              "      <td>he's on my phone</td>\n",
              "      <td>1</td>\n",
              "      <td>0</td>\n",
              "      <td>teens</td>\n",
              "      <td>male</td>\n",
              "      <td>england</td>\n",
              "      <td>NaN</td>\n",
              "      <td>sample-003971.mp3.jpg</td>\n",
              "    </tr>\n",
              "    <tr>\n",
              "      <th>3975</th>\n",
              "      <td>/content/mozilla/cv-valid-test/cv-valid-test/s...</td>\n",
              "      <td>the planet's core is made of solid gold but ev...</td>\n",
              "      <td>1</td>\n",
              "      <td>0</td>\n",
              "      <td>twenties</td>\n",
              "      <td>male</td>\n",
              "      <td>us</td>\n",
              "      <td>NaN</td>\n",
              "      <td>sample-003975.mp3.jpg</td>\n",
              "    </tr>\n",
              "    <tr>\n",
              "      <th>3976</th>\n",
              "      <td>/content/mozilla/cv-valid-test/cv-valid-test/s...</td>\n",
              "      <td>we've got her located</td>\n",
              "      <td>1</td>\n",
              "      <td>0</td>\n",
              "      <td>thirties</td>\n",
              "      <td>male</td>\n",
              "      <td>england</td>\n",
              "      <td>NaN</td>\n",
              "      <td>sample-003976.mp3.jpg</td>\n",
              "    </tr>\n",
              "    <tr>\n",
              "      <th>3980</th>\n",
              "      <td>/content/mozilla/cv-valid-test/cv-valid-test/s...</td>\n",
              "      <td>i've got to see nicole right away</td>\n",
              "      <td>1</td>\n",
              "      <td>0</td>\n",
              "      <td>fifties</td>\n",
              "      <td>male</td>\n",
              "      <td>australia</td>\n",
              "      <td>NaN</td>\n",
              "      <td>sample-003980.mp3.jpg</td>\n",
              "    </tr>\n",
              "    <tr>\n",
              "      <th>3989</th>\n",
              "      <td>/content/mozilla/cv-valid-test/cv-valid-test/s...</td>\n",
              "      <td>i'm playing for keeps</td>\n",
              "      <td>2</td>\n",
              "      <td>0</td>\n",
              "      <td>fifties</td>\n",
              "      <td>male</td>\n",
              "      <td>australia</td>\n",
              "      <td>NaN</td>\n",
              "      <td>sample-003989.mp3.jpg</td>\n",
              "    </tr>\n",
              "  </tbody>\n",
              "</table>\n",
              "<p>1338 rows × 9 columns</p>\n",
              "</div>\n",
              "      <button class=\"colab-df-convert\" onclick=\"convertToInteractive('df-82e00292-9d80-4749-a9bd-489594c6e33e')\"\n",
              "              title=\"Convert this dataframe to an interactive table.\"\n",
              "              style=\"display:none;\">\n",
              "        \n",
              "  <svg xmlns=\"http://www.w3.org/2000/svg\" height=\"24px\"viewBox=\"0 0 24 24\"\n",
              "       width=\"24px\">\n",
              "    <path d=\"M0 0h24v24H0V0z\" fill=\"none\"/>\n",
              "    <path d=\"M18.56 5.44l.94 2.06.94-2.06 2.06-.94-2.06-.94-.94-2.06-.94 2.06-2.06.94zm-11 1L8.5 8.5l.94-2.06 2.06-.94-2.06-.94L8.5 2.5l-.94 2.06-2.06.94zm10 10l.94 2.06.94-2.06 2.06-.94-2.06-.94-.94-2.06-.94 2.06-2.06.94z\"/><path d=\"M17.41 7.96l-1.37-1.37c-.4-.4-.92-.59-1.43-.59-.52 0-1.04.2-1.43.59L10.3 9.45l-7.72 7.72c-.78.78-.78 2.05 0 2.83L4 21.41c.39.39.9.59 1.41.59.51 0 1.02-.2 1.41-.59l7.78-7.78 2.81-2.81c.8-.78.8-2.07 0-2.86zM5.41 20L4 18.59l7.72-7.72 1.47 1.35L5.41 20z\"/>\n",
              "  </svg>\n",
              "      </button>\n",
              "      \n",
              "  <style>\n",
              "    .colab-df-container {\n",
              "      display:flex;\n",
              "      flex-wrap:wrap;\n",
              "      gap: 12px;\n",
              "    }\n",
              "\n",
              "    .colab-df-convert {\n",
              "      background-color: #E8F0FE;\n",
              "      border: none;\n",
              "      border-radius: 50%;\n",
              "      cursor: pointer;\n",
              "      display: none;\n",
              "      fill: #1967D2;\n",
              "      height: 32px;\n",
              "      padding: 0 0 0 0;\n",
              "      width: 32px;\n",
              "    }\n",
              "\n",
              "    .colab-df-convert:hover {\n",
              "      background-color: #E2EBFA;\n",
              "      box-shadow: 0px 1px 2px rgba(60, 64, 67, 0.3), 0px 1px 3px 1px rgba(60, 64, 67, 0.15);\n",
              "      fill: #174EA6;\n",
              "    }\n",
              "\n",
              "    [theme=dark] .colab-df-convert {\n",
              "      background-color: #3B4455;\n",
              "      fill: #D2E3FC;\n",
              "    }\n",
              "\n",
              "    [theme=dark] .colab-df-convert:hover {\n",
              "      background-color: #434B5C;\n",
              "      box-shadow: 0px 1px 3px 1px rgba(0, 0, 0, 0.15);\n",
              "      filter: drop-shadow(0px 1px 2px rgba(0, 0, 0, 0.3));\n",
              "      fill: #FFFFFF;\n",
              "    }\n",
              "  </style>\n",
              "\n",
              "      <script>\n",
              "        const buttonEl =\n",
              "          document.querySelector('#df-82e00292-9d80-4749-a9bd-489594c6e33e button.colab-df-convert');\n",
              "        buttonEl.style.display =\n",
              "          google.colab.kernel.accessAllowed ? 'block' : 'none';\n",
              "\n",
              "        async function convertToInteractive(key) {\n",
              "          const element = document.querySelector('#df-82e00292-9d80-4749-a9bd-489594c6e33e');\n",
              "          const dataTable =\n",
              "            await google.colab.kernel.invokeFunction('convertToInteractive',\n",
              "                                                     [key], {});\n",
              "          if (!dataTable) return;\n",
              "\n",
              "          const docLinkHtml = 'Like what you see? Visit the ' +\n",
              "            '<a target=\"_blank\" href=https://colab.research.google.com/notebooks/data_table.ipynb>data table notebook</a>'\n",
              "            + ' to learn more about interactive tables.';\n",
              "          element.innerHTML = '';\n",
              "          dataTable['output_type'] = 'display_data';\n",
              "          await google.colab.output.renderOutput(dataTable, element);\n",
              "          const docLink = document.createElement('div');\n",
              "          docLink.innerHTML = docLinkHtml;\n",
              "          element.appendChild(docLink);\n",
              "        }\n",
              "      </script>\n",
              "    </div>\n",
              "  </div>\n",
              "  "
            ],
            "text/plain": [
              "                                                   file  \\\n",
              "3     /content/mozilla/cv-valid-test/cv-valid-test/s...   \n",
              "5     /content/mozilla/cv-valid-test/cv-valid-test/s...   \n",
              "8     /content/mozilla/cv-valid-test/cv-valid-test/s...   \n",
              "9     /content/mozilla/cv-valid-test/cv-valid-test/s...   \n",
              "14    /content/mozilla/cv-valid-test/cv-valid-test/s...   \n",
              "...                                                 ...   \n",
              "3971  /content/mozilla/cv-valid-test/cv-valid-test/s...   \n",
              "3975  /content/mozilla/cv-valid-test/cv-valid-test/s...   \n",
              "3976  /content/mozilla/cv-valid-test/cv-valid-test/s...   \n",
              "3980  /content/mozilla/cv-valid-test/cv-valid-test/s...   \n",
              "3989  /content/mozilla/cv-valid-test/cv-valid-test/s...   \n",
              "\n",
              "                                                   text  up_votes  down_votes  \\\n",
              "3     down below in the darkness were hundreds of pe...         4           0   \n",
              "5     down below in the darkness were hundreds of pe...         4           1   \n",
              "8     this was the strangest of all things that ever...         1           0   \n",
              "9     it was glaringly hot not a cloud in the sky no...         3           0   \n",
              "14                         follow the instructions here         1           0   \n",
              "...                                                 ...       ...         ...   \n",
              "3971                                   he's on my phone         1           0   \n",
              "3975  the planet's core is made of solid gold but ev...         1           0   \n",
              "3976                              we've got her located         1           0   \n",
              "3980                  i've got to see nicole right away         1           0   \n",
              "3989                              i'm playing for keeps         2           0   \n",
              "\n",
              "           age gender       lang  duration                     ID  \n",
              "3     twenties   male         us       NaN  sample-000003.mp3.jpg  \n",
              "5     twenties   male         us       NaN  sample-000005.mp3.jpg  \n",
              "8     thirties   male    england       NaN  sample-000008.mp3.jpg  \n",
              "9      fifties   male         us       NaN  sample-000009.mp3.jpg  \n",
              "14    twenties   male   scotland       NaN  sample-000014.mp3.jpg  \n",
              "...        ...    ...        ...       ...                    ...  \n",
              "3971     teens   male    england       NaN  sample-003971.mp3.jpg  \n",
              "3975  twenties   male         us       NaN  sample-003975.mp3.jpg  \n",
              "3976  thirties   male    england       NaN  sample-003976.mp3.jpg  \n",
              "3980   fifties   male  australia       NaN  sample-003980.mp3.jpg  \n",
              "3989   fifties   male  australia       NaN  sample-003989.mp3.jpg  \n",
              "\n",
              "[1338 rows x 9 columns]"
            ]
          },
          "execution_count": 40,
          "metadata": {},
          "output_type": "execute_result"
        }
      ],
      "source": [
        "valid_test_df"
      ]
    },
    {
      "cell_type": "markdown",
      "metadata": {
        "id": "6DUcka63cKQD"
      },
      "source": [
        "## Managing dataset"
      ]
    },
    {
      "cell_type": "markdown",
      "metadata": {
        "id": "dsHSflutcaGb"
      },
      "source": [
        "### Load datasets"
      ]
    },
    {
      "cell_type": "code",
      "execution_count": null,
      "metadata": {
        "id": "AuDZ9hTrccwe"
      },
      "outputs": [],
      "source": [
        "first_half_df = pd.read_csv(DRIVE_PATH + \"first_half.csv\")"
      ]
    },
    {
      "cell_type": "code",
      "execution_count": null,
      "metadata": {
        "colab": {
          "base_uri": "https://localhost:8080/",
          "height": 424
        },
        "id": "lEDPpjEOcpmc",
        "outputId": "6cdd3904-18a7-4cea-b505-d6bf1090cf65"
      },
      "outputs": [
        {
          "data": {
            "text/html": [
              "\n",
              "  <div id=\"df-d017bcd3-4b00-40a9-8995-c918749fe1ac\">\n",
              "    <div class=\"colab-df-container\">\n",
              "      <div>\n",
              "<style scoped>\n",
              "    .dataframe tbody tr th:only-of-type {\n",
              "        vertical-align: middle;\n",
              "    }\n",
              "\n",
              "    .dataframe tbody tr th {\n",
              "        vertical-align: top;\n",
              "    }\n",
              "\n",
              "    .dataframe thead th {\n",
              "        text-align: right;\n",
              "    }\n",
              "</style>\n",
              "<table border=\"1\" class=\"dataframe\">\n",
              "  <thead>\n",
              "    <tr style=\"text-align: right;\">\n",
              "      <th></th>\n",
              "      <th>file</th>\n",
              "      <th>ID</th>\n",
              "      <th>lang</th>\n",
              "    </tr>\n",
              "  </thead>\n",
              "  <tbody>\n",
              "    <tr>\n",
              "      <th>0</th>\n",
              "      <td>/content/voice/train/train/de_m_df90bffac026f7...</td>\n",
              "      <td>de_m_df90bffac026f705f4a99871d71684f1.fragment...</td>\n",
              "      <td>de</td>\n",
              "    </tr>\n",
              "    <tr>\n",
              "      <th>1</th>\n",
              "      <td>/content/voice/train/train/de_m_0345d503166fbc...</td>\n",
              "      <td>de_m_0345d503166fbcb125b6e10e2e804443.fragment...</td>\n",
              "      <td>de</td>\n",
              "    </tr>\n",
              "    <tr>\n",
              "      <th>2</th>\n",
              "      <td>/content/voice/train/train/en_m_d2f13c7f37ecec...</td>\n",
              "      <td>en_m_d2f13c7f37ecec67df0f46408c224bc1.fragment...</td>\n",
              "      <td>en</td>\n",
              "    </tr>\n",
              "    <tr>\n",
              "      <th>3</th>\n",
              "      <td>/content/voice/train/train/en_m_3a8f30bef6d7b6...</td>\n",
              "      <td>en_m_3a8f30bef6d7b6a1332629491eabcbf0.fragment...</td>\n",
              "      <td>en</td>\n",
              "    </tr>\n",
              "    <tr>\n",
              "      <th>4</th>\n",
              "      <td>/content/voice/train/train/en_f_7701e10392ce7b...</td>\n",
              "      <td>en_f_7701e10392ce7bcfba6d2fcca56fb8d9.fragment...</td>\n",
              "      <td>en</td>\n",
              "    </tr>\n",
              "    <tr>\n",
              "      <th>...</th>\n",
              "      <td>...</td>\n",
              "      <td>...</td>\n",
              "      <td>...</td>\n",
              "    </tr>\n",
              "    <tr>\n",
              "      <th>36535</th>\n",
              "      <td>/content/voice/train/train/de_f_26ddc4e756f612...</td>\n",
              "      <td>de_f_26ddc4e756f61233d74d42cc000c9dae.fragment...</td>\n",
              "      <td>de</td>\n",
              "    </tr>\n",
              "    <tr>\n",
              "      <th>36536</th>\n",
              "      <td>/content/voice/train/train/en_m_17b5d499519197...</td>\n",
              "      <td>en_m_17b5d4995191976232356345dfbb82cb.fragment...</td>\n",
              "      <td>en</td>\n",
              "    </tr>\n",
              "    <tr>\n",
              "      <th>36537</th>\n",
              "      <td>/content/voice/train/train/es_f_56ef0bde6c92a0...</td>\n",
              "      <td>es_f_56ef0bde6c92a0100da23cdd39a8a112.fragment...</td>\n",
              "      <td>es</td>\n",
              "    </tr>\n",
              "    <tr>\n",
              "      <th>36538</th>\n",
              "      <td>/content/voice/train/train/es_f_cc86b9208b120f...</td>\n",
              "      <td>es_f_cc86b9208b120f1f147a9246ab39f5e4.fragment...</td>\n",
              "      <td>es</td>\n",
              "    </tr>\n",
              "    <tr>\n",
              "      <th>36539</th>\n",
              "      <td>/content/voice/train/train/de_m_2cfa348b2b6852...</td>\n",
              "      <td>de_m_2cfa348b2b6852e38637a4225158678d.fragment...</td>\n",
              "      <td>de</td>\n",
              "    </tr>\n",
              "  </tbody>\n",
              "</table>\n",
              "<p>36540 rows × 3 columns</p>\n",
              "</div>\n",
              "      <button class=\"colab-df-convert\" onclick=\"convertToInteractive('df-d017bcd3-4b00-40a9-8995-c918749fe1ac')\"\n",
              "              title=\"Convert this dataframe to an interactive table.\"\n",
              "              style=\"display:none;\">\n",
              "        \n",
              "  <svg xmlns=\"http://www.w3.org/2000/svg\" height=\"24px\"viewBox=\"0 0 24 24\"\n",
              "       width=\"24px\">\n",
              "    <path d=\"M0 0h24v24H0V0z\" fill=\"none\"/>\n",
              "    <path d=\"M18.56 5.44l.94 2.06.94-2.06 2.06-.94-2.06-.94-.94-2.06-.94 2.06-2.06.94zm-11 1L8.5 8.5l.94-2.06 2.06-.94-2.06-.94L8.5 2.5l-.94 2.06-2.06.94zm10 10l.94 2.06.94-2.06 2.06-.94-2.06-.94-.94-2.06-.94 2.06-2.06.94z\"/><path d=\"M17.41 7.96l-1.37-1.37c-.4-.4-.92-.59-1.43-.59-.52 0-1.04.2-1.43.59L10.3 9.45l-7.72 7.72c-.78.78-.78 2.05 0 2.83L4 21.41c.39.39.9.59 1.41.59.51 0 1.02-.2 1.41-.59l7.78-7.78 2.81-2.81c.8-.78.8-2.07 0-2.86zM5.41 20L4 18.59l7.72-7.72 1.47 1.35L5.41 20z\"/>\n",
              "  </svg>\n",
              "      </button>\n",
              "      \n",
              "  <style>\n",
              "    .colab-df-container {\n",
              "      display:flex;\n",
              "      flex-wrap:wrap;\n",
              "      gap: 12px;\n",
              "    }\n",
              "\n",
              "    .colab-df-convert {\n",
              "      background-color: #E8F0FE;\n",
              "      border: none;\n",
              "      border-radius: 50%;\n",
              "      cursor: pointer;\n",
              "      display: none;\n",
              "      fill: #1967D2;\n",
              "      height: 32px;\n",
              "      padding: 0 0 0 0;\n",
              "      width: 32px;\n",
              "    }\n",
              "\n",
              "    .colab-df-convert:hover {\n",
              "      background-color: #E2EBFA;\n",
              "      box-shadow: 0px 1px 2px rgba(60, 64, 67, 0.3), 0px 1px 3px 1px rgba(60, 64, 67, 0.15);\n",
              "      fill: #174EA6;\n",
              "    }\n",
              "\n",
              "    [theme=dark] .colab-df-convert {\n",
              "      background-color: #3B4455;\n",
              "      fill: #D2E3FC;\n",
              "    }\n",
              "\n",
              "    [theme=dark] .colab-df-convert:hover {\n",
              "      background-color: #434B5C;\n",
              "      box-shadow: 0px 1px 3px 1px rgba(0, 0, 0, 0.15);\n",
              "      filter: drop-shadow(0px 1px 2px rgba(0, 0, 0, 0.3));\n",
              "      fill: #FFFFFF;\n",
              "    }\n",
              "  </style>\n",
              "\n",
              "      <script>\n",
              "        const buttonEl =\n",
              "          document.querySelector('#df-d017bcd3-4b00-40a9-8995-c918749fe1ac button.colab-df-convert');\n",
              "        buttonEl.style.display =\n",
              "          google.colab.kernel.accessAllowed ? 'block' : 'none';\n",
              "\n",
              "        async function convertToInteractive(key) {\n",
              "          const element = document.querySelector('#df-d017bcd3-4b00-40a9-8995-c918749fe1ac');\n",
              "          const dataTable =\n",
              "            await google.colab.kernel.invokeFunction('convertToInteractive',\n",
              "                                                     [key], {});\n",
              "          if (!dataTable) return;\n",
              "\n",
              "          const docLinkHtml = 'Like what you see? Visit the ' +\n",
              "            '<a target=\"_blank\" href=https://colab.research.google.com/notebooks/data_table.ipynb>data table notebook</a>'\n",
              "            + ' to learn more about interactive tables.';\n",
              "          element.innerHTML = '';\n",
              "          dataTable['output_type'] = 'display_data';\n",
              "          await google.colab.output.renderOutput(dataTable, element);\n",
              "          const docLink = document.createElement('div');\n",
              "          docLink.innerHTML = docLinkHtml;\n",
              "          element.appendChild(docLink);\n",
              "        }\n",
              "      </script>\n",
              "    </div>\n",
              "  </div>\n",
              "  "
            ],
            "text/plain": [
              "                                                    file  \\\n",
              "0      /content/voice/train/train/de_m_df90bffac026f7...   \n",
              "1      /content/voice/train/train/de_m_0345d503166fbc...   \n",
              "2      /content/voice/train/train/en_m_d2f13c7f37ecec...   \n",
              "3      /content/voice/train/train/en_m_3a8f30bef6d7b6...   \n",
              "4      /content/voice/train/train/en_f_7701e10392ce7b...   \n",
              "...                                                  ...   \n",
              "36535  /content/voice/train/train/de_f_26ddc4e756f612...   \n",
              "36536  /content/voice/train/train/en_m_17b5d499519197...   \n",
              "36537  /content/voice/train/train/es_f_56ef0bde6c92a0...   \n",
              "36538  /content/voice/train/train/es_f_cc86b9208b120f...   \n",
              "36539  /content/voice/train/train/de_m_2cfa348b2b6852...   \n",
              "\n",
              "                                                      ID lang  \n",
              "0      de_m_df90bffac026f705f4a99871d71684f1.fragment...   de  \n",
              "1      de_m_0345d503166fbcb125b6e10e2e804443.fragment...   de  \n",
              "2      en_m_d2f13c7f37ecec67df0f46408c224bc1.fragment...   en  \n",
              "3      en_m_3a8f30bef6d7b6a1332629491eabcbf0.fragment...   en  \n",
              "4      en_f_7701e10392ce7bcfba6d2fcca56fb8d9.fragment...   en  \n",
              "...                                                  ...  ...  \n",
              "36535  de_f_26ddc4e756f61233d74d42cc000c9dae.fragment...   de  \n",
              "36536  en_m_17b5d4995191976232356345dfbb82cb.fragment...   en  \n",
              "36537  es_f_56ef0bde6c92a0100da23cdd39a8a112.fragment...   es  \n",
              "36538  es_f_cc86b9208b120f1f147a9246ab39f5e4.fragment...   es  \n",
              "36539  de_m_2cfa348b2b6852e38637a4225158678d.fragment...   de  \n",
              "\n",
              "[36540 rows x 3 columns]"
            ]
          },
          "execution_count": 11,
          "metadata": {},
          "output_type": "execute_result"
        }
      ],
      "source": [
        "first_half_df"
      ]
    },
    {
      "cell_type": "code",
      "execution_count": null,
      "metadata": {
        "colab": {
          "base_uri": "https://localhost:8080/"
        },
        "id": "odaq1m6AkMa4",
        "outputId": "a10ebb04-27ac-44a6-be5f-cf119d611843"
      },
      "outputs": [
        {
          "name": "stdout",
          "output_type": "stream",
          "text": [
            "12163\n",
            "12200\n",
            "12177\n"
          ]
        }
      ],
      "source": [
        "print(len(first_half_df[first_half_df['lang']  == 'en']))\n",
        "print(len(first_half_df[first_half_df['lang']  == 'es']))\n",
        "print(len(first_half_df[first_half_df['lang']  == 'de']))"
      ]
    },
    {
      "cell_type": "code",
      "execution_count": null,
      "metadata": {
        "colab": {
          "base_uri": "https://localhost:8080/"
        },
        "id": "HuRGxcs-c2LL",
        "outputId": "588a24ec-2027-4d44-d172-5796f4daa5e4"
      },
      "outputs": [
        {
          "name": "stdout",
          "output_type": "stream",
          "text": [
            "de_m_0345d503166fbcb125b6e10e2e804443.fragment25.speed4.npy\n"
          ]
        }
      ],
      "source": [
        "print(first_half_df[\"ID\"].iloc[1])"
      ]
    },
    {
      "cell_type": "code",
      "execution_count": null,
      "metadata": {
        "colab": {
          "background_save": true,
          "base_uri": "https://localhost:8080/"
        },
        "id": "UU00IxwvdZHL",
        "outputId": "719448f3-577f-4ee3-cf35-10ba9bdae281"
      },
      "outputs": [
        {
          "name": "stdout",
          "output_type": "stream",
          "text": [
            "CPU times: user 36min 28s, sys: 26min 53s, total: 1h 3min 22s\n",
            "Wall time: 41min\n"
          ]
        },
        {
          "data": {
            "text/plain": [
              "array([None, None, None, ..., None, None, None], dtype=object)"
            ]
          },
          "execution_count": 16,
          "metadata": {},
          "output_type": "execute_result"
        }
      ],
      "source": [
        "%%time\n",
        "format_len = len('flac')\n",
        "np.vectorize(spectrogram_mat)(TRAIN_VOICE_PATH, first_half_df['ID'], TRAIN_MAT_PATH)"
      ]
    },
    {
      "cell_type": "code",
      "execution_count": null,
      "metadata": {
        "colab": {
          "base_uri": "https://localhost:8080/"
        },
        "id": "iyUJDXham2J0",
        "outputId": "e524879e-8e9d-4a36-b046-7485f460d565"
      },
      "outputs": [
        {
          "name": "stdout",
          "output_type": "stream",
          "text": [
            "7.6G\t/content/mat/train/\n"
          ]
        }
      ],
      "source": [
        "! du -sh $TRAIN_MAT_PATH"
      ]
    },
    {
      "cell_type": "code",
      "execution_count": null,
      "metadata": {
        "id": "W9rq5fYtdYE_"
      },
      "outputs": [],
      "source": [
        "! rm -r $VOICE_DIR"
      ]
    },
    {
      "cell_type": "code",
      "execution_count": null,
      "metadata": {
        "id": "Bf-zmhilne0I"
      },
      "outputs": [],
      "source": [
        "! mkdir {DRIVE3_PATH}first_half"
      ]
    },
    {
      "cell_type": "code",
      "execution_count": null,
      "metadata": {
        "colab": {
          "base_uri": "https://localhost:8080/"
        },
        "id": "LUa8zD2Gpg7Y",
        "outputId": "acfd287a-0c61-4f56-d391-662608678176"
      },
      "outputs": [
        {
          "data": {
            "text/plain": [
              "0        /content/drive/MyDrive/Bachelor_Project_Part3/...\n",
              "1        /content/drive/MyDrive/Bachelor_Project_Part3/...\n",
              "2        /content/drive/MyDrive/Bachelor_Project_Part3/...\n",
              "3        /content/drive/MyDrive/Bachelor_Project_Part3/...\n",
              "4        /content/drive/MyDrive/Bachelor_Project_Part3/...\n",
              "                               ...                        \n",
              "36535    /content/drive/MyDrive/Bachelor_Project_Part3/...\n",
              "36536    /content/drive/MyDrive/Bachelor_Project_Part3/...\n",
              "36537    /content/drive/MyDrive/Bachelor_Project_Part3/...\n",
              "36538    /content/drive/MyDrive/Bachelor_Project_Part3/...\n",
              "36539    /content/drive/MyDrive/Bachelor_Project_Part3/...\n",
              "Length: 36540, dtype: object"
            ]
          },
          "execution_count": 24,
          "metadata": {},
          "output_type": "execute_result"
        }
      ],
      "source": [
        "first_half_df.apply(lambda x: shutil.copy(TRAIN_MAT_PATH+x.ID, DRIVE3_PATH+\"first_half/\"+x.ID), axis=1)"
      ]
    },
    {
      "cell_type": "code",
      "execution_count": null,
      "metadata": {
        "id": "0-LI3X3u4cpi"
      },
      "outputs": [],
      "source": [
        "first_half_df['lang'] = first_half_df['ID'].apply(lambda x: x.split('_')[0])"
      ]
    },
    {
      "cell_type": "code",
      "execution_count": null,
      "metadata": {
        "id": "Dki3aezF4k34"
      },
      "outputs": [],
      "source": [
        "first_half_df.to_csv(DRIVE_PATH+\"first_half.csv\")"
      ]
    },
    {
      "cell_type": "code",
      "execution_count": null,
      "metadata": {
        "colab": {
          "base_uri": "https://localhost:8080/",
          "height": 424
        },
        "id": "naNZWxMa4828",
        "outputId": "0f905b88-3baa-4f87-cf14-ab67d810edea"
      },
      "outputs": [
        {
          "data": {
            "text/html": [
              "\n",
              "  <div id=\"df-572c82b5-db38-40e3-925a-858d6b8c6ace\">\n",
              "    <div class=\"colab-df-container\">\n",
              "      <div>\n",
              "<style scoped>\n",
              "    .dataframe tbody tr th:only-of-type {\n",
              "        vertical-align: middle;\n",
              "    }\n",
              "\n",
              "    .dataframe tbody tr th {\n",
              "        vertical-align: top;\n",
              "    }\n",
              "\n",
              "    .dataframe thead th {\n",
              "        text-align: right;\n",
              "    }\n",
              "</style>\n",
              "<table border=\"1\" class=\"dataframe\">\n",
              "  <thead>\n",
              "    <tr style=\"text-align: right;\">\n",
              "      <th></th>\n",
              "      <th>file</th>\n",
              "      <th>ID</th>\n",
              "    </tr>\n",
              "  </thead>\n",
              "  <tbody>\n",
              "    <tr>\n",
              "      <th>0</th>\n",
              "      <td>/content/voice/test/test/en_f_67a0cba10d171b24...</td>\n",
              "      <td>en_f_67a0cba10d171b24039a79faa1d4d603.fragment...</td>\n",
              "    </tr>\n",
              "    <tr>\n",
              "      <th>1</th>\n",
              "      <td>/content/voice/test/test/en_m_b74b2bf2af570393...</td>\n",
              "      <td>en_m_b74b2bf2af570393cae91f4ed89cece7.fragment...</td>\n",
              "    </tr>\n",
              "    <tr>\n",
              "      <th>2</th>\n",
              "      <td>/content/voice/test/test/es_f_50298ab71aaba850...</td>\n",
              "      <td>es_f_50298ab71aaba8508ebeef49d853df11.fragment...</td>\n",
              "    </tr>\n",
              "    <tr>\n",
              "      <th>3</th>\n",
              "      <td>/content/voice/test/test/de_f_63f5b79c76cf5a1a...</td>\n",
              "      <td>de_f_63f5b79c76cf5a1a4bbd1c40f54b166e.fragment...</td>\n",
              "    </tr>\n",
              "    <tr>\n",
              "      <th>4</th>\n",
              "      <td>/content/voice/test/test/en_f_67a0cba10d171b24...</td>\n",
              "      <td>en_f_67a0cba10d171b24039a79faa1d4d603.fragment...</td>\n",
              "    </tr>\n",
              "    <tr>\n",
              "      <th>...</th>\n",
              "      <td>...</td>\n",
              "      <td>...</td>\n",
              "    </tr>\n",
              "    <tr>\n",
              "      <th>535</th>\n",
              "      <td>/content/voice/test/test/de_m_923551d571cc4373...</td>\n",
              "      <td>de_m_923551d571cc437382d0294dda2dd0aa.fragment...</td>\n",
              "    </tr>\n",
              "    <tr>\n",
              "      <th>536</th>\n",
              "      <td>/content/voice/test/test/en_m_b74b2bf2af570393...</td>\n",
              "      <td>en_m_b74b2bf2af570393cae91f4ed89cece7.fragment...</td>\n",
              "    </tr>\n",
              "    <tr>\n",
              "      <th>537</th>\n",
              "      <td>/content/voice/test/test/en_m_b74b2bf2af570393...</td>\n",
              "      <td>en_m_b74b2bf2af570393cae91f4ed89cece7.fragment...</td>\n",
              "    </tr>\n",
              "    <tr>\n",
              "      <th>538</th>\n",
              "      <td>/content/voice/test/test/de_m_923551d571cc4373...</td>\n",
              "      <td>de_m_923551d571cc437382d0294dda2dd0aa.fragment...</td>\n",
              "    </tr>\n",
              "    <tr>\n",
              "      <th>539</th>\n",
              "      <td>/content/voice/test/test/de_m_923551d571cc4373...</td>\n",
              "      <td>de_m_923551d571cc437382d0294dda2dd0aa.fragment...</td>\n",
              "    </tr>\n",
              "  </tbody>\n",
              "</table>\n",
              "<p>540 rows × 2 columns</p>\n",
              "</div>\n",
              "      <button class=\"colab-df-convert\" onclick=\"convertToInteractive('df-572c82b5-db38-40e3-925a-858d6b8c6ace')\"\n",
              "              title=\"Convert this dataframe to an interactive table.\"\n",
              "              style=\"display:none;\">\n",
              "        \n",
              "  <svg xmlns=\"http://www.w3.org/2000/svg\" height=\"24px\"viewBox=\"0 0 24 24\"\n",
              "       width=\"24px\">\n",
              "    <path d=\"M0 0h24v24H0V0z\" fill=\"none\"/>\n",
              "    <path d=\"M18.56 5.44l.94 2.06.94-2.06 2.06-.94-2.06-.94-.94-2.06-.94 2.06-2.06.94zm-11 1L8.5 8.5l.94-2.06 2.06-.94-2.06-.94L8.5 2.5l-.94 2.06-2.06.94zm10 10l.94 2.06.94-2.06 2.06-.94-2.06-.94-.94-2.06-.94 2.06-2.06.94z\"/><path d=\"M17.41 7.96l-1.37-1.37c-.4-.4-.92-.59-1.43-.59-.52 0-1.04.2-1.43.59L10.3 9.45l-7.72 7.72c-.78.78-.78 2.05 0 2.83L4 21.41c.39.39.9.59 1.41.59.51 0 1.02-.2 1.41-.59l7.78-7.78 2.81-2.81c.8-.78.8-2.07 0-2.86zM5.41 20L4 18.59l7.72-7.72 1.47 1.35L5.41 20z\"/>\n",
              "  </svg>\n",
              "      </button>\n",
              "      \n",
              "  <style>\n",
              "    .colab-df-container {\n",
              "      display:flex;\n",
              "      flex-wrap:wrap;\n",
              "      gap: 12px;\n",
              "    }\n",
              "\n",
              "    .colab-df-convert {\n",
              "      background-color: #E8F0FE;\n",
              "      border: none;\n",
              "      border-radius: 50%;\n",
              "      cursor: pointer;\n",
              "      display: none;\n",
              "      fill: #1967D2;\n",
              "      height: 32px;\n",
              "      padding: 0 0 0 0;\n",
              "      width: 32px;\n",
              "    }\n",
              "\n",
              "    .colab-df-convert:hover {\n",
              "      background-color: #E2EBFA;\n",
              "      box-shadow: 0px 1px 2px rgba(60, 64, 67, 0.3), 0px 1px 3px 1px rgba(60, 64, 67, 0.15);\n",
              "      fill: #174EA6;\n",
              "    }\n",
              "\n",
              "    [theme=dark] .colab-df-convert {\n",
              "      background-color: #3B4455;\n",
              "      fill: #D2E3FC;\n",
              "    }\n",
              "\n",
              "    [theme=dark] .colab-df-convert:hover {\n",
              "      background-color: #434B5C;\n",
              "      box-shadow: 0px 1px 3px 1px rgba(0, 0, 0, 0.15);\n",
              "      filter: drop-shadow(0px 1px 2px rgba(0, 0, 0, 0.3));\n",
              "      fill: #FFFFFF;\n",
              "    }\n",
              "  </style>\n",
              "\n",
              "      <script>\n",
              "        const buttonEl =\n",
              "          document.querySelector('#df-572c82b5-db38-40e3-925a-858d6b8c6ace button.colab-df-convert');\n",
              "        buttonEl.style.display =\n",
              "          google.colab.kernel.accessAllowed ? 'block' : 'none';\n",
              "\n",
              "        async function convertToInteractive(key) {\n",
              "          const element = document.querySelector('#df-572c82b5-db38-40e3-925a-858d6b8c6ace');\n",
              "          const dataTable =\n",
              "            await google.colab.kernel.invokeFunction('convertToInteractive',\n",
              "                                                     [key], {});\n",
              "          if (!dataTable) return;\n",
              "\n",
              "          const docLinkHtml = 'Like what you see? Visit the ' +\n",
              "            '<a target=\"_blank\" href=https://colab.research.google.com/notebooks/data_table.ipynb>data table notebook</a>'\n",
              "            + ' to learn more about interactive tables.';\n",
              "          element.innerHTML = '';\n",
              "          dataTable['output_type'] = 'display_data';\n",
              "          await google.colab.output.renderOutput(dataTable, element);\n",
              "          const docLink = document.createElement('div');\n",
              "          docLink.innerHTML = docLinkHtml;\n",
              "          element.appendChild(docLink);\n",
              "        }\n",
              "      </script>\n",
              "    </div>\n",
              "  </div>\n",
              "  "
            ],
            "text/plain": [
              "                                                  file  \\\n",
              "0    /content/voice/test/test/en_f_67a0cba10d171b24...   \n",
              "1    /content/voice/test/test/en_m_b74b2bf2af570393...   \n",
              "2    /content/voice/test/test/es_f_50298ab71aaba850...   \n",
              "3    /content/voice/test/test/de_f_63f5b79c76cf5a1a...   \n",
              "4    /content/voice/test/test/en_f_67a0cba10d171b24...   \n",
              "..                                                 ...   \n",
              "535  /content/voice/test/test/de_m_923551d571cc4373...   \n",
              "536  /content/voice/test/test/en_m_b74b2bf2af570393...   \n",
              "537  /content/voice/test/test/en_m_b74b2bf2af570393...   \n",
              "538  /content/voice/test/test/de_m_923551d571cc4373...   \n",
              "539  /content/voice/test/test/de_m_923551d571cc4373...   \n",
              "\n",
              "                                                    ID  \n",
              "0    en_f_67a0cba10d171b24039a79faa1d4d603.fragment...  \n",
              "1    en_m_b74b2bf2af570393cae91f4ed89cece7.fragment...  \n",
              "2    es_f_50298ab71aaba8508ebeef49d853df11.fragment...  \n",
              "3    de_f_63f5b79c76cf5a1a4bbd1c40f54b166e.fragment...  \n",
              "4    en_f_67a0cba10d171b24039a79faa1d4d603.fragment...  \n",
              "..                                                 ...  \n",
              "535  de_m_923551d571cc437382d0294dda2dd0aa.fragment...  \n",
              "536  en_m_b74b2bf2af570393cae91f4ed89cece7.fragment...  \n",
              "537  en_m_b74b2bf2af570393cae91f4ed89cece7.fragment...  \n",
              "538  de_m_923551d571cc437382d0294dda2dd0aa.fragment...  \n",
              "539  de_m_923551d571cc437382d0294dda2dd0aa.fragment...  \n",
              "\n",
              "[540 rows x 2 columns]"
            ]
          },
          "execution_count": 49,
          "metadata": {},
          "output_type": "execute_result"
        }
      ],
      "source": [
        "testdf"
      ]
    },
    {
      "cell_type": "code",
      "execution_count": null,
      "metadata": {
        "id": "thXNH4KN5Avc"
      },
      "outputs": [],
      "source": [
        "testdf['lang'] = testdf['ID'].apply(lambda x: x.split('_')[0])"
      ]
    },
    {
      "cell_type": "code",
      "execution_count": null,
      "metadata": {
        "id": "Ple2I_-Z5EZ1"
      },
      "outputs": [],
      "source": [
        "testdf.to_csv(DRIVE_PATH+\"testdf.csv\")"
      ]
    },
    {
      "cell_type": "code",
      "execution_count": null,
      "metadata": {
        "id": "f6hmSdAznF1j"
      },
      "outputs": [],
      "source": [
        "%%time\n",
        "format_len = len('flac')\n",
        "testdf = pd.DataFrame(test_data_dir,columns = ['file'])\n",
        "testdf['ID']= testdf['file'].apply(lambda x: x.split('/')[-1][:-format_len]+'npy')\n",
        "np.vectorize(spectrogram_mat)(TEST_VOICE_PATH, testdf['ID'], TEST_MAT_PATH)\n",
        "testdf"
      ]
    },
    {
      "cell_type": "markdown",
      "metadata": {
        "id": "sVpP1-wL5bCG"
      },
      "source": [
        "### Move to label directory"
      ]
    },
    {
      "cell_type": "code",
      "execution_count": null,
      "metadata": {
        "id": "TYPdn2T57hKP"
      },
      "outputs": [],
      "source": [
        "labels = ['en','es','de']\n",
        "for x in labels:\n",
        "    !mkdir $TRAIN_IMG_PATH/$x\n",
        "    !mkdir $TEST_IMG_PATH/$x"
      ]
    },
    {
      "cell_type": "code",
      "execution_count": null,
      "metadata": {
        "id": "44EIDFSN5ezC"
      },
      "outputs": [],
      "source": [
        "def move_to_label(name,lang, is_train=True):\n",
        "    prefix= TRAIN_IMG_PATH\n",
        "    if not is_train:\n",
        "        prefix= TEST_IMG_PATH\n",
        "    shutil.move(prefix+name,prefix+lang+\"/\"+name)\n",
        "    #print(prefix+name, \"to\", prefix+lang+\"/\"+name)"
      ]
    },
    {
      "cell_type": "code",
      "execution_count": null,
      "metadata": {
        "id": "e82Oa-y_Dt6H"
      },
      "outputs": [],
      "source": [
        "train_data_dir=np.array(glob(TRAIN_VOICE_PATH+\"*\"))\n",
        "test_data_dir=np.array(glob(TEST_VOICE_PATH+\"*\"))"
      ]
    },
    {
      "cell_type": "code",
      "execution_count": null,
      "metadata": {
        "colab": {
          "base_uri": "https://localhost:8080/"
        },
        "id": "db65db8ek_jz",
        "outputId": "bcac4185-1a26-4d2f-8d4d-cc5e27bc948b"
      },
      "outputs": [
        {
          "data": {
            "text/plain": [
              "array(['/content/voice/train/train/de_m_df90bffac026f705f4a99871d71684f1.fragment28.noise3.flac',\n",
              "       '/content/voice/train/train/en_f_9a47e3d56398b8108f59385aab8bbe87.fragment21.pitch5.flac',\n",
              "       '/content/voice/train/train/de_f_2825fa225d6ca4800f0cf0504b76ca65.fragment14.speed6.flac',\n",
              "       ...,\n",
              "       '/content/voice/train/train/es_f_68e1dcf1b41edcfa24b402f46ec2a65e.fragment2.speed7.flac',\n",
              "       '/content/voice/train/train/de_m_3aa01c55ba7ca85cad2977c848eb826f.fragment8.noise6.flac',\n",
              "       '/content/voice/train/train/de_m_fc6bd6bb9d66a89bb8d8a8a7efa23e6b.fragment9.speed8.flac'],\n",
              "      dtype='<U88')"
            ]
          },
          "execution_count": 12,
          "metadata": {},
          "output_type": "execute_result"
        }
      ],
      "source": [
        "train_data_dir"
      ]
    },
    {
      "cell_type": "code",
      "execution_count": null,
      "metadata": {
        "colab": {
          "base_uri": "https://localhost:8080/"
        },
        "id": "5YW5vRAXH1fN",
        "outputId": "7117196a-7c5e-4382-cbe5-acf06beaf2e1"
      },
      "outputs": [
        {
          "name": "stdout",
          "output_type": "stream",
          "text": [
            "73080\n"
          ]
        }
      ],
      "source": [
        "print(len(train_data_dir))"
      ]
    },
    {
      "cell_type": "code",
      "execution_count": null,
      "metadata": {
        "colab": {
          "base_uri": "https://localhost:8080/"
        },
        "id": "h6rgH8U3P8X9",
        "outputId": "4452d2ae-2f6e-47ca-a3f5-0db57021c8fd"
      },
      "outputs": [
        {
          "name": "stdout",
          "output_type": "stream",
          "text": [
            "540\n"
          ]
        }
      ],
      "source": [
        "print(len(test_data_dir))"
      ]
    },
    {
      "cell_type": "markdown",
      "metadata": {
        "id": "cAI2IvaJK2BL"
      },
      "source": [
        "## Create spectogram"
      ]
    },
    {
      "cell_type": "markdown",
      "metadata": {
        "id": "St5T1VnPNfrF"
      },
      "source": [
        "### ok spectrograms:"
      ]
    },
    {
      "cell_type": "code",
      "execution_count": null,
      "metadata": {
        "id": "Z4Fp3veENn6v"
      },
      "outputs": [],
      "source": [
        "def spectrogram_mat(address_prefix, file, save_prefix, format='flac'):\n",
        "    clip, sample_rate = librosa.load(address_prefix+file[:-3]+format, sr=None)\n",
        "    S = librosa.feature.melspectrogram(y=clip, sr=sample_rate)\n",
        "    SP = librosa.power_to_db(S, ref=np.max)\n",
        "    np.save(save_prefix+file, SP)"
      ]
    },
    {
      "cell_type": "code",
      "execution_count": null,
      "metadata": {
        "id": "yik9qPtO4Q_n"
      },
      "outputs": [],
      "source": [
        "def show_spectrogram_mat(filename, file, is_train=True):\n",
        "    plt.interactive(False)\n",
        "    ###clip, sample_rate = librosa.load(filename, sr=None)\n",
        "    fig = plt.figure(figsize=[0.72,0.72])\n",
        "    ax = fig.add_subplot(111)\n",
        "    ax.axes.get_xaxis().set_visible(False)\n",
        "    ax.axes.get_yaxis().set_visible(False)\n",
        "    ax.set_frame_on(False)\n",
        "    ###S = librosa.feature.melspectrogram(y=clip, sr=sample_rate)\n",
        "    ###SP = librosa.power_to_db(S, ref=np.max)\n",
        "    #S = librosa.feature.mfcc(y=clip, sr=sample_rate)\n",
        "    S= np.load(filename)\n",
        "    #librosa.display.specshow(librosa.power_to_db(S, ref=np.max))\n",
        "    librosa.display.specshow(S)\n",
        "    prefix= TRAIN_IMG_PATH\n",
        "    if not is_train:\n",
        "        prefix= TEST_IMG_PATH\n",
        "    name  = prefix + file[:-4] + \".jpg\"\n",
        "    #name2  = prefix + file[:-4] + \"2.jpg\"\n",
        "    #np.save(name, S)\n",
        "    #np.save(name2, SP)\n",
        "    plt.savefig(name, dpi=400, bbox_inches='tight',pad_inches=0)\n",
        "    plt.close()\n",
        "    fig.clf()\n",
        "    plt.close(fig)\n",
        "    plt.close('all')\n",
        "    #del filename,name,clip,sample_rate,fig,ax,S"
      ]
    },
    {
      "cell_type": "markdown",
      "metadata": {
        "id": "5x4GSZ4uPEoP"
      },
      "source": [
        "### ok generating"
      ]
    },
    {
      "cell_type": "code",
      "execution_count": null,
      "metadata": {
        "colab": {
          "base_uri": "https://localhost:8080/",
          "height": 460
        },
        "id": "S50fw78pO-Sr",
        "outputId": "a80b30f0-087d-421e-e8f5-c11f260290f6"
      },
      "outputs": [
        {
          "name": "stdout",
          "output_type": "stream",
          "text": [
            "CPU times: user 47min 31s, sys: 32min 12s, total: 1h 19min 43s\n",
            "Wall time: 49min 5s\n"
          ]
        },
        {
          "data": {
            "text/html": [
              "\n",
              "  <div id=\"df-0e82ad6e-2dec-4845-92b1-fced59e4b824\">\n",
              "    <div class=\"colab-df-container\">\n",
              "      <div>\n",
              "<style scoped>\n",
              "    .dataframe tbody tr th:only-of-type {\n",
              "        vertical-align: middle;\n",
              "    }\n",
              "\n",
              "    .dataframe tbody tr th {\n",
              "        vertical-align: top;\n",
              "    }\n",
              "\n",
              "    .dataframe thead th {\n",
              "        text-align: right;\n",
              "    }\n",
              "</style>\n",
              "<table border=\"1\" class=\"dataframe\">\n",
              "  <thead>\n",
              "    <tr style=\"text-align: right;\">\n",
              "      <th></th>\n",
              "      <th>file</th>\n",
              "      <th>ID</th>\n",
              "    </tr>\n",
              "  </thead>\n",
              "  <tbody>\n",
              "    <tr>\n",
              "      <th>0</th>\n",
              "      <td>/content/voice/train/train/de_m_df90bffac026f7...</td>\n",
              "      <td>de_m_df90bffac026f705f4a99871d71684f1.fragment...</td>\n",
              "    </tr>\n",
              "    <tr>\n",
              "      <th>1</th>\n",
              "      <td>/content/voice/train/train/en_f_9a47e3d56398b8...</td>\n",
              "      <td>en_f_9a47e3d56398b8108f59385aab8bbe87.fragment...</td>\n",
              "    </tr>\n",
              "    <tr>\n",
              "      <th>2</th>\n",
              "      <td>/content/voice/train/train/de_f_2825fa225d6ca4...</td>\n",
              "      <td>de_f_2825fa225d6ca4800f0cf0504b76ca65.fragment...</td>\n",
              "    </tr>\n",
              "    <tr>\n",
              "      <th>3</th>\n",
              "      <td>/content/voice/train/train/en_m_81995ee8a5e990...</td>\n",
              "      <td>en_m_81995ee8a5e990193b7858ec4b158e48.fragment...</td>\n",
              "    </tr>\n",
              "    <tr>\n",
              "      <th>4</th>\n",
              "      <td>/content/voice/train/train/en_m_1e512792ebab2b...</td>\n",
              "      <td>en_m_1e512792ebab2bd93b7aacac3d521390.fragment...</td>\n",
              "    </tr>\n",
              "    <tr>\n",
              "      <th>...</th>\n",
              "      <td>...</td>\n",
              "      <td>...</td>\n",
              "    </tr>\n",
              "    <tr>\n",
              "      <th>73075</th>\n",
              "      <td>/content/voice/train/train/de_f_8e8ed685b0cf9f...</td>\n",
              "      <td>de_f_8e8ed685b0cf9f5bbd13a04629ee64c5.fragment...</td>\n",
              "    </tr>\n",
              "    <tr>\n",
              "      <th>73076</th>\n",
              "      <td>/content/voice/train/train/es_f_47bd2e6178465c...</td>\n",
              "      <td>es_f_47bd2e6178465cd745c86c9db5ffe447.fragment...</td>\n",
              "    </tr>\n",
              "    <tr>\n",
              "      <th>73077</th>\n",
              "      <td>/content/voice/train/train/es_f_68e1dcf1b41edc...</td>\n",
              "      <td>es_f_68e1dcf1b41edcfa24b402f46ec2a65e.fragment...</td>\n",
              "    </tr>\n",
              "    <tr>\n",
              "      <th>73078</th>\n",
              "      <td>/content/voice/train/train/de_m_3aa01c55ba7ca8...</td>\n",
              "      <td>de_m_3aa01c55ba7ca85cad2977c848eb826f.fragment...</td>\n",
              "    </tr>\n",
              "    <tr>\n",
              "      <th>73079</th>\n",
              "      <td>/content/voice/train/train/de_m_fc6bd6bb9d66a8...</td>\n",
              "      <td>de_m_fc6bd6bb9d66a89bb8d8a8a7efa23e6b.fragment...</td>\n",
              "    </tr>\n",
              "  </tbody>\n",
              "</table>\n",
              "<p>73080 rows × 2 columns</p>\n",
              "</div>\n",
              "      <button class=\"colab-df-convert\" onclick=\"convertToInteractive('df-0e82ad6e-2dec-4845-92b1-fced59e4b824')\"\n",
              "              title=\"Convert this dataframe to an interactive table.\"\n",
              "              style=\"display:none;\">\n",
              "        \n",
              "  <svg xmlns=\"http://www.w3.org/2000/svg\" height=\"24px\"viewBox=\"0 0 24 24\"\n",
              "       width=\"24px\">\n",
              "    <path d=\"M0 0h24v24H0V0z\" fill=\"none\"/>\n",
              "    <path d=\"M18.56 5.44l.94 2.06.94-2.06 2.06-.94-2.06-.94-.94-2.06-.94 2.06-2.06.94zm-11 1L8.5 8.5l.94-2.06 2.06-.94-2.06-.94L8.5 2.5l-.94 2.06-2.06.94zm10 10l.94 2.06.94-2.06 2.06-.94-2.06-.94-.94-2.06-.94 2.06-2.06.94z\"/><path d=\"M17.41 7.96l-1.37-1.37c-.4-.4-.92-.59-1.43-.59-.52 0-1.04.2-1.43.59L10.3 9.45l-7.72 7.72c-.78.78-.78 2.05 0 2.83L4 21.41c.39.39.9.59 1.41.59.51 0 1.02-.2 1.41-.59l7.78-7.78 2.81-2.81c.8-.78.8-2.07 0-2.86zM5.41 20L4 18.59l7.72-7.72 1.47 1.35L5.41 20z\"/>\n",
              "  </svg>\n",
              "      </button>\n",
              "      \n",
              "  <style>\n",
              "    .colab-df-container {\n",
              "      display:flex;\n",
              "      flex-wrap:wrap;\n",
              "      gap: 12px;\n",
              "    }\n",
              "\n",
              "    .colab-df-convert {\n",
              "      background-color: #E8F0FE;\n",
              "      border: none;\n",
              "      border-radius: 50%;\n",
              "      cursor: pointer;\n",
              "      display: none;\n",
              "      fill: #1967D2;\n",
              "      height: 32px;\n",
              "      padding: 0 0 0 0;\n",
              "      width: 32px;\n",
              "    }\n",
              "\n",
              "    .colab-df-convert:hover {\n",
              "      background-color: #E2EBFA;\n",
              "      box-shadow: 0px 1px 2px rgba(60, 64, 67, 0.3), 0px 1px 3px 1px rgba(60, 64, 67, 0.15);\n",
              "      fill: #174EA6;\n",
              "    }\n",
              "\n",
              "    [theme=dark] .colab-df-convert {\n",
              "      background-color: #3B4455;\n",
              "      fill: #D2E3FC;\n",
              "    }\n",
              "\n",
              "    [theme=dark] .colab-df-convert:hover {\n",
              "      background-color: #434B5C;\n",
              "      box-shadow: 0px 1px 3px 1px rgba(0, 0, 0, 0.15);\n",
              "      filter: drop-shadow(0px 1px 2px rgba(0, 0, 0, 0.3));\n",
              "      fill: #FFFFFF;\n",
              "    }\n",
              "  </style>\n",
              "\n",
              "      <script>\n",
              "        const buttonEl =\n",
              "          document.querySelector('#df-0e82ad6e-2dec-4845-92b1-fced59e4b824 button.colab-df-convert');\n",
              "        buttonEl.style.display =\n",
              "          google.colab.kernel.accessAllowed ? 'block' : 'none';\n",
              "\n",
              "        async function convertToInteractive(key) {\n",
              "          const element = document.querySelector('#df-0e82ad6e-2dec-4845-92b1-fced59e4b824');\n",
              "          const dataTable =\n",
              "            await google.colab.kernel.invokeFunction('convertToInteractive',\n",
              "                                                     [key], {});\n",
              "          if (!dataTable) return;\n",
              "\n",
              "          const docLinkHtml = 'Like what you see? Visit the ' +\n",
              "            '<a target=\"_blank\" href=https://colab.research.google.com/notebooks/data_table.ipynb>data table notebook</a>'\n",
              "            + ' to learn more about interactive tables.';\n",
              "          element.innerHTML = '';\n",
              "          dataTable['output_type'] = 'display_data';\n",
              "          await google.colab.output.renderOutput(dataTable, element);\n",
              "          const docLink = document.createElement('div');\n",
              "          docLink.innerHTML = docLinkHtml;\n",
              "          element.appendChild(docLink);\n",
              "        }\n",
              "      </script>\n",
              "    </div>\n",
              "  </div>\n",
              "  "
            ],
            "text/plain": [
              "                                                    file  \\\n",
              "0      /content/voice/train/train/de_m_df90bffac026f7...   \n",
              "1      /content/voice/train/train/en_f_9a47e3d56398b8...   \n",
              "2      /content/voice/train/train/de_f_2825fa225d6ca4...   \n",
              "3      /content/voice/train/train/en_m_81995ee8a5e990...   \n",
              "4      /content/voice/train/train/en_m_1e512792ebab2b...   \n",
              "...                                                  ...   \n",
              "73075  /content/voice/train/train/de_f_8e8ed685b0cf9f...   \n",
              "73076  /content/voice/train/train/es_f_47bd2e6178465c...   \n",
              "73077  /content/voice/train/train/es_f_68e1dcf1b41edc...   \n",
              "73078  /content/voice/train/train/de_m_3aa01c55ba7ca8...   \n",
              "73079  /content/voice/train/train/de_m_fc6bd6bb9d66a8...   \n",
              "\n",
              "                                                      ID  \n",
              "0      de_m_df90bffac026f705f4a99871d71684f1.fragment...  \n",
              "1      en_f_9a47e3d56398b8108f59385aab8bbe87.fragment...  \n",
              "2      de_f_2825fa225d6ca4800f0cf0504b76ca65.fragment...  \n",
              "3      en_m_81995ee8a5e990193b7858ec4b158e48.fragment...  \n",
              "4      en_m_1e512792ebab2bd93b7aacac3d521390.fragment...  \n",
              "...                                                  ...  \n",
              "73075  de_f_8e8ed685b0cf9f5bbd13a04629ee64c5.fragment...  \n",
              "73076  es_f_47bd2e6178465cd745c86c9db5ffe447.fragment...  \n",
              "73077  es_f_68e1dcf1b41edcfa24b402f46ec2a65e.fragment...  \n",
              "73078  de_m_3aa01c55ba7ca85cad2977c848eb826f.fragment...  \n",
              "73079  de_m_fc6bd6bb9d66a89bb8d8a8a7efa23e6b.fragment...  \n",
              "\n",
              "[73080 rows x 2 columns]"
            ]
          },
          "execution_count": 17,
          "metadata": {},
          "output_type": "execute_result"
        }
      ],
      "source": [
        "%%time\n",
        "format_len = len('flac')\n",
        "traindf = pd.DataFrame(train_data_dir,columns = ['file'])\n",
        "traindf['ID']= traindf['file'].apply(lambda x: x.split('/')[-1][:-format_len]+'npy')\n",
        "np.vectorize(spectrogram_mat)(TRAIN_VOICE_PATH, traindf['ID'], TRAIN_MAT_PATH)\n",
        "traindf"
      ]
    },
    {
      "cell_type": "code",
      "execution_count": null,
      "metadata": {
        "colab": {
          "base_uri": "https://localhost:8080/",
          "height": 458
        },
        "id": "YWmnouKbBnZo",
        "outputId": "d2e84180-9589-4721-9703-547f7ce9002a"
      },
      "outputs": [
        {
          "name": "stdout",
          "output_type": "stream",
          "text": [
            "CPU times: user 29.8 s, sys: 21.6 s, total: 51.3 s\n",
            "Wall time: 32.7 s\n"
          ]
        },
        {
          "data": {
            "text/html": [
              "\n",
              "  <div id=\"df-a52b57d2-84c9-434d-ae3a-2c574e92fe33\">\n",
              "    <div class=\"colab-df-container\">\n",
              "      <div>\n",
              "<style scoped>\n",
              "    .dataframe tbody tr th:only-of-type {\n",
              "        vertical-align: middle;\n",
              "    }\n",
              "\n",
              "    .dataframe tbody tr th {\n",
              "        vertical-align: top;\n",
              "    }\n",
              "\n",
              "    .dataframe thead th {\n",
              "        text-align: right;\n",
              "    }\n",
              "</style>\n",
              "<table border=\"1\" class=\"dataframe\">\n",
              "  <thead>\n",
              "    <tr style=\"text-align: right;\">\n",
              "      <th></th>\n",
              "      <th>file</th>\n",
              "      <th>ID</th>\n",
              "    </tr>\n",
              "  </thead>\n",
              "  <tbody>\n",
              "    <tr>\n",
              "      <th>0</th>\n",
              "      <td>/content/voice/test/test/en_f_67a0cba10d171b24...</td>\n",
              "      <td>en_f_67a0cba10d171b24039a79faa1d4d603.fragment...</td>\n",
              "    </tr>\n",
              "    <tr>\n",
              "      <th>1</th>\n",
              "      <td>/content/voice/test/test/en_m_b74b2bf2af570393...</td>\n",
              "      <td>en_m_b74b2bf2af570393cae91f4ed89cece7.fragment...</td>\n",
              "    </tr>\n",
              "    <tr>\n",
              "      <th>2</th>\n",
              "      <td>/content/voice/test/test/es_f_50298ab71aaba850...</td>\n",
              "      <td>es_f_50298ab71aaba8508ebeef49d853df11.fragment...</td>\n",
              "    </tr>\n",
              "    <tr>\n",
              "      <th>3</th>\n",
              "      <td>/content/voice/test/test/de_f_63f5b79c76cf5a1a...</td>\n",
              "      <td>de_f_63f5b79c76cf5a1a4bbd1c40f54b166e.fragment...</td>\n",
              "    </tr>\n",
              "    <tr>\n",
              "      <th>4</th>\n",
              "      <td>/content/voice/test/test/en_f_67a0cba10d171b24...</td>\n",
              "      <td>en_f_67a0cba10d171b24039a79faa1d4d603.fragment...</td>\n",
              "    </tr>\n",
              "    <tr>\n",
              "      <th>...</th>\n",
              "      <td>...</td>\n",
              "      <td>...</td>\n",
              "    </tr>\n",
              "    <tr>\n",
              "      <th>535</th>\n",
              "      <td>/content/voice/test/test/de_m_923551d571cc4373...</td>\n",
              "      <td>de_m_923551d571cc437382d0294dda2dd0aa.fragment...</td>\n",
              "    </tr>\n",
              "    <tr>\n",
              "      <th>536</th>\n",
              "      <td>/content/voice/test/test/en_m_b74b2bf2af570393...</td>\n",
              "      <td>en_m_b74b2bf2af570393cae91f4ed89cece7.fragment...</td>\n",
              "    </tr>\n",
              "    <tr>\n",
              "      <th>537</th>\n",
              "      <td>/content/voice/test/test/en_m_b74b2bf2af570393...</td>\n",
              "      <td>en_m_b74b2bf2af570393cae91f4ed89cece7.fragment...</td>\n",
              "    </tr>\n",
              "    <tr>\n",
              "      <th>538</th>\n",
              "      <td>/content/voice/test/test/de_m_923551d571cc4373...</td>\n",
              "      <td>de_m_923551d571cc437382d0294dda2dd0aa.fragment...</td>\n",
              "    </tr>\n",
              "    <tr>\n",
              "      <th>539</th>\n",
              "      <td>/content/voice/test/test/de_m_923551d571cc4373...</td>\n",
              "      <td>de_m_923551d571cc437382d0294dda2dd0aa.fragment...</td>\n",
              "    </tr>\n",
              "  </tbody>\n",
              "</table>\n",
              "<p>540 rows × 2 columns</p>\n",
              "</div>\n",
              "      <button class=\"colab-df-convert\" onclick=\"convertToInteractive('df-a52b57d2-84c9-434d-ae3a-2c574e92fe33')\"\n",
              "              title=\"Convert this dataframe to an interactive table.\"\n",
              "              style=\"display:none;\">\n",
              "        \n",
              "  <svg xmlns=\"http://www.w3.org/2000/svg\" height=\"24px\"viewBox=\"0 0 24 24\"\n",
              "       width=\"24px\">\n",
              "    <path d=\"M0 0h24v24H0V0z\" fill=\"none\"/>\n",
              "    <path d=\"M18.56 5.44l.94 2.06.94-2.06 2.06-.94-2.06-.94-.94-2.06-.94 2.06-2.06.94zm-11 1L8.5 8.5l.94-2.06 2.06-.94-2.06-.94L8.5 2.5l-.94 2.06-2.06.94zm10 10l.94 2.06.94-2.06 2.06-.94-2.06-.94-.94-2.06-.94 2.06-2.06.94z\"/><path d=\"M17.41 7.96l-1.37-1.37c-.4-.4-.92-.59-1.43-.59-.52 0-1.04.2-1.43.59L10.3 9.45l-7.72 7.72c-.78.78-.78 2.05 0 2.83L4 21.41c.39.39.9.59 1.41.59.51 0 1.02-.2 1.41-.59l7.78-7.78 2.81-2.81c.8-.78.8-2.07 0-2.86zM5.41 20L4 18.59l7.72-7.72 1.47 1.35L5.41 20z\"/>\n",
              "  </svg>\n",
              "      </button>\n",
              "      \n",
              "  <style>\n",
              "    .colab-df-container {\n",
              "      display:flex;\n",
              "      flex-wrap:wrap;\n",
              "      gap: 12px;\n",
              "    }\n",
              "\n",
              "    .colab-df-convert {\n",
              "      background-color: #E8F0FE;\n",
              "      border: none;\n",
              "      border-radius: 50%;\n",
              "      cursor: pointer;\n",
              "      display: none;\n",
              "      fill: #1967D2;\n",
              "      height: 32px;\n",
              "      padding: 0 0 0 0;\n",
              "      width: 32px;\n",
              "    }\n",
              "\n",
              "    .colab-df-convert:hover {\n",
              "      background-color: #E2EBFA;\n",
              "      box-shadow: 0px 1px 2px rgba(60, 64, 67, 0.3), 0px 1px 3px 1px rgba(60, 64, 67, 0.15);\n",
              "      fill: #174EA6;\n",
              "    }\n",
              "\n",
              "    [theme=dark] .colab-df-convert {\n",
              "      background-color: #3B4455;\n",
              "      fill: #D2E3FC;\n",
              "    }\n",
              "\n",
              "    [theme=dark] .colab-df-convert:hover {\n",
              "      background-color: #434B5C;\n",
              "      box-shadow: 0px 1px 3px 1px rgba(0, 0, 0, 0.15);\n",
              "      filter: drop-shadow(0px 1px 2px rgba(0, 0, 0, 0.3));\n",
              "      fill: #FFFFFF;\n",
              "    }\n",
              "  </style>\n",
              "\n",
              "      <script>\n",
              "        const buttonEl =\n",
              "          document.querySelector('#df-a52b57d2-84c9-434d-ae3a-2c574e92fe33 button.colab-df-convert');\n",
              "        buttonEl.style.display =\n",
              "          google.colab.kernel.accessAllowed ? 'block' : 'none';\n",
              "\n",
              "        async function convertToInteractive(key) {\n",
              "          const element = document.querySelector('#df-a52b57d2-84c9-434d-ae3a-2c574e92fe33');\n",
              "          const dataTable =\n",
              "            await google.colab.kernel.invokeFunction('convertToInteractive',\n",
              "                                                     [key], {});\n",
              "          if (!dataTable) return;\n",
              "\n",
              "          const docLinkHtml = 'Like what you see? Visit the ' +\n",
              "            '<a target=\"_blank\" href=https://colab.research.google.com/notebooks/data_table.ipynb>data table notebook</a>'\n",
              "            + ' to learn more about interactive tables.';\n",
              "          element.innerHTML = '';\n",
              "          dataTable['output_type'] = 'display_data';\n",
              "          await google.colab.output.renderOutput(dataTable, element);\n",
              "          const docLink = document.createElement('div');\n",
              "          docLink.innerHTML = docLinkHtml;\n",
              "          element.appendChild(docLink);\n",
              "        }\n",
              "      </script>\n",
              "    </div>\n",
              "  </div>\n",
              "  "
            ],
            "text/plain": [
              "                                                  file  \\\n",
              "0    /content/voice/test/test/en_f_67a0cba10d171b24...   \n",
              "1    /content/voice/test/test/en_m_b74b2bf2af570393...   \n",
              "2    /content/voice/test/test/es_f_50298ab71aaba850...   \n",
              "3    /content/voice/test/test/de_f_63f5b79c76cf5a1a...   \n",
              "4    /content/voice/test/test/en_f_67a0cba10d171b24...   \n",
              "..                                                 ...   \n",
              "535  /content/voice/test/test/de_m_923551d571cc4373...   \n",
              "536  /content/voice/test/test/en_m_b74b2bf2af570393...   \n",
              "537  /content/voice/test/test/en_m_b74b2bf2af570393...   \n",
              "538  /content/voice/test/test/de_m_923551d571cc4373...   \n",
              "539  /content/voice/test/test/de_m_923551d571cc4373...   \n",
              "\n",
              "                                                    ID  \n",
              "0    en_f_67a0cba10d171b24039a79faa1d4d603.fragment...  \n",
              "1    en_m_b74b2bf2af570393cae91f4ed89cece7.fragment...  \n",
              "2    es_f_50298ab71aaba8508ebeef49d853df11.fragment...  \n",
              "3    de_f_63f5b79c76cf5a1a4bbd1c40f54b166e.fragment...  \n",
              "4    en_f_67a0cba10d171b24039a79faa1d4d603.fragment...  \n",
              "..                                                 ...  \n",
              "535  de_m_923551d571cc437382d0294dda2dd0aa.fragment...  \n",
              "536  en_m_b74b2bf2af570393cae91f4ed89cece7.fragment...  \n",
              "537  en_m_b74b2bf2af570393cae91f4ed89cece7.fragment...  \n",
              "538  de_m_923551d571cc437382d0294dda2dd0aa.fragment...  \n",
              "539  de_m_923551d571cc437382d0294dda2dd0aa.fragment...  \n",
              "\n",
              "[540 rows x 2 columns]"
            ]
          },
          "execution_count": 26,
          "metadata": {},
          "output_type": "execute_result"
        }
      ],
      "source": [
        "%%time\n",
        "format_len = len('flac')\n",
        "testdf = pd.DataFrame(test_data_dir,columns = ['file'])\n",
        "testdf['ID']= testdf['file'].apply(lambda x: x.split('/')[-1][:-format_len]+'npy')\n",
        "np.vectorize(spectrogram_mat)(TEST_VOICE_PATH, testdf['ID'], TEST_MAT_PATH)\n",
        "testdf"
      ]
    },
    {
      "cell_type": "code",
      "execution_count": null,
      "metadata": {
        "colab": {
          "base_uri": "https://localhost:8080/"
        },
        "id": "GqvQWrTecciU",
        "outputId": "2b09024f-f0ec-491b-ca52-8a4ae2ad23c4"
      },
      "outputs": [
        {
          "name": "stdout",
          "output_type": "stream",
          "text": [
            "73080\n"
          ]
        }
      ],
      "source": [
        "! ls $TRAIN_MAT_PATH -1 | wc -l"
      ]
    },
    {
      "cell_type": "code",
      "execution_count": null,
      "metadata": {
        "colab": {
          "base_uri": "https://localhost:8080/"
        },
        "id": "3y5Q4nz4cyTo",
        "outputId": "b520af1b-6ef8-4fec-d402-985a245e194c"
      },
      "outputs": [
        {
          "name": "stdout",
          "output_type": "stream",
          "text": [
            "16G\t/content/mat/train/\n"
          ]
        }
      ],
      "source": [
        "! du -sh $TRAIN_MAT_PATH"
      ]
    },
    {
      "cell_type": "code",
      "execution_count": null,
      "metadata": {
        "id": "mhpt7b1nsmWT"
      },
      "outputs": [],
      "source": [
        "! mkdir {DRIVE3_PATH}\"test/\""
      ]
    },
    {
      "cell_type": "code",
      "execution_count": null,
      "metadata": {
        "id": "8AqKncPl5J_G"
      },
      "outputs": [],
      "source": [
        "show_spectrogram_mat('/content/train/train-img/de_f_26ddc4e756f61233d74d42cc000c9dae.fragment23.pitch8.flac2.npy','de_f_26ddc4e756f61233d74d42cc000c9dae.fragment23.pitch8.flac2.npy')"
      ]
    },
    {
      "cell_type": "code",
      "execution_count": null,
      "metadata": {
        "id": "izW38vKhQqWz"
      },
      "outputs": [],
      "source": [
        "traindf['lang'] = traindf['ID'].apply(lambda x: x.split('_')[0])"
      ]
    },
    {
      "cell_type": "code",
      "execution_count": null,
      "metadata": {
        "id": "OiwIDVj2FVXF"
      },
      "outputs": [],
      "source": [
        "move_to_label(traindf['ID'][0], traindf['lang'][0])"
      ]
    },
    {
      "cell_type": "code",
      "execution_count": null,
      "metadata": {
        "id": "bBgN5An38tm3"
      },
      "outputs": [],
      "source": [
        "np.vectorize(move_to_label, cache=True)(traindf['ID'], traindf['lang'])"
      ]
    },
    {
      "cell_type": "markdown",
      "metadata": {
        "id": "mvANCgj-TGOf"
      },
      "source": [
        "# read data from drive"
      ]
    },
    {
      "cell_type": "code",
      "execution_count": null,
      "metadata": {
        "id": "b2ljVZQDtsWk"
      },
      "outputs": [],
      "source": [
        "### for first_half\n",
        "first_half_df=pd.read_csv(DRIVE_PATH+'first_half.csv')\n",
        "traindf = first_half_df"
      ]
    },
    {
      "cell_type": "code",
      "execution_count": null,
      "metadata": {
        "colab": {
          "base_uri": "https://localhost:8080/",
          "height": 424
        },
        "id": "uF8FncyKqPZi",
        "outputId": "a1c01151-d7a2-4788-ce31-eba1ea7f4aeb"
      },
      "outputs": [
        {
          "data": {
            "text/html": [
              "\n",
              "  <div id=\"df-de8b6aa2-06a7-487e-8b9c-4495e3981164\">\n",
              "    <div class=\"colab-df-container\">\n",
              "      <div>\n",
              "<style scoped>\n",
              "    .dataframe tbody tr th:only-of-type {\n",
              "        vertical-align: middle;\n",
              "    }\n",
              "\n",
              "    .dataframe tbody tr th {\n",
              "        vertical-align: top;\n",
              "    }\n",
              "\n",
              "    .dataframe thead th {\n",
              "        text-align: right;\n",
              "    }\n",
              "</style>\n",
              "<table border=\"1\" class=\"dataframe\">\n",
              "  <thead>\n",
              "    <tr style=\"text-align: right;\">\n",
              "      <th></th>\n",
              "      <th>file</th>\n",
              "      <th>ID</th>\n",
              "      <th>lang</th>\n",
              "    </tr>\n",
              "  </thead>\n",
              "  <tbody>\n",
              "    <tr>\n",
              "      <th>0</th>\n",
              "      <td>/content/voice/train/train/de_m_df90bffac026f7...</td>\n",
              "      <td>de_m_df90bffac026f705f4a99871d71684f1.fragment...</td>\n",
              "      <td>de</td>\n",
              "    </tr>\n",
              "    <tr>\n",
              "      <th>1</th>\n",
              "      <td>/content/voice/train/train/de_m_0345d503166fbc...</td>\n",
              "      <td>de_m_0345d503166fbcb125b6e10e2e804443.fragment...</td>\n",
              "      <td>de</td>\n",
              "    </tr>\n",
              "    <tr>\n",
              "      <th>2</th>\n",
              "      <td>/content/voice/train/train/en_m_d2f13c7f37ecec...</td>\n",
              "      <td>en_m_d2f13c7f37ecec67df0f46408c224bc1.fragment...</td>\n",
              "      <td>en</td>\n",
              "    </tr>\n",
              "    <tr>\n",
              "      <th>3</th>\n",
              "      <td>/content/voice/train/train/en_m_3a8f30bef6d7b6...</td>\n",
              "      <td>en_m_3a8f30bef6d7b6a1332629491eabcbf0.fragment...</td>\n",
              "      <td>en</td>\n",
              "    </tr>\n",
              "    <tr>\n",
              "      <th>4</th>\n",
              "      <td>/content/voice/train/train/en_f_7701e10392ce7b...</td>\n",
              "      <td>en_f_7701e10392ce7bcfba6d2fcca56fb8d9.fragment...</td>\n",
              "      <td>en</td>\n",
              "    </tr>\n",
              "    <tr>\n",
              "      <th>...</th>\n",
              "      <td>...</td>\n",
              "      <td>...</td>\n",
              "      <td>...</td>\n",
              "    </tr>\n",
              "    <tr>\n",
              "      <th>36535</th>\n",
              "      <td>/content/voice/train/train/de_f_26ddc4e756f612...</td>\n",
              "      <td>de_f_26ddc4e756f61233d74d42cc000c9dae.fragment...</td>\n",
              "      <td>de</td>\n",
              "    </tr>\n",
              "    <tr>\n",
              "      <th>36536</th>\n",
              "      <td>/content/voice/train/train/en_m_17b5d499519197...</td>\n",
              "      <td>en_m_17b5d4995191976232356345dfbb82cb.fragment...</td>\n",
              "      <td>en</td>\n",
              "    </tr>\n",
              "    <tr>\n",
              "      <th>36537</th>\n",
              "      <td>/content/voice/train/train/es_f_56ef0bde6c92a0...</td>\n",
              "      <td>es_f_56ef0bde6c92a0100da23cdd39a8a112.fragment...</td>\n",
              "      <td>es</td>\n",
              "    </tr>\n",
              "    <tr>\n",
              "      <th>36538</th>\n",
              "      <td>/content/voice/train/train/es_f_cc86b9208b120f...</td>\n",
              "      <td>es_f_cc86b9208b120f1f147a9246ab39f5e4.fragment...</td>\n",
              "      <td>es</td>\n",
              "    </tr>\n",
              "    <tr>\n",
              "      <th>36539</th>\n",
              "      <td>/content/voice/train/train/de_m_2cfa348b2b6852...</td>\n",
              "      <td>de_m_2cfa348b2b6852e38637a4225158678d.fragment...</td>\n",
              "      <td>de</td>\n",
              "    </tr>\n",
              "  </tbody>\n",
              "</table>\n",
              "<p>36540 rows × 3 columns</p>\n",
              "</div>\n",
              "      <button class=\"colab-df-convert\" onclick=\"convertToInteractive('df-de8b6aa2-06a7-487e-8b9c-4495e3981164')\"\n",
              "              title=\"Convert this dataframe to an interactive table.\"\n",
              "              style=\"display:none;\">\n",
              "        \n",
              "  <svg xmlns=\"http://www.w3.org/2000/svg\" height=\"24px\"viewBox=\"0 0 24 24\"\n",
              "       width=\"24px\">\n",
              "    <path d=\"M0 0h24v24H0V0z\" fill=\"none\"/>\n",
              "    <path d=\"M18.56 5.44l.94 2.06.94-2.06 2.06-.94-2.06-.94-.94-2.06-.94 2.06-2.06.94zm-11 1L8.5 8.5l.94-2.06 2.06-.94-2.06-.94L8.5 2.5l-.94 2.06-2.06.94zm10 10l.94 2.06.94-2.06 2.06-.94-2.06-.94-.94-2.06-.94 2.06-2.06.94z\"/><path d=\"M17.41 7.96l-1.37-1.37c-.4-.4-.92-.59-1.43-.59-.52 0-1.04.2-1.43.59L10.3 9.45l-7.72 7.72c-.78.78-.78 2.05 0 2.83L4 21.41c.39.39.9.59 1.41.59.51 0 1.02-.2 1.41-.59l7.78-7.78 2.81-2.81c.8-.78.8-2.07 0-2.86zM5.41 20L4 18.59l7.72-7.72 1.47 1.35L5.41 20z\"/>\n",
              "  </svg>\n",
              "      </button>\n",
              "      \n",
              "  <style>\n",
              "    .colab-df-container {\n",
              "      display:flex;\n",
              "      flex-wrap:wrap;\n",
              "      gap: 12px;\n",
              "    }\n",
              "\n",
              "    .colab-df-convert {\n",
              "      background-color: #E8F0FE;\n",
              "      border: none;\n",
              "      border-radius: 50%;\n",
              "      cursor: pointer;\n",
              "      display: none;\n",
              "      fill: #1967D2;\n",
              "      height: 32px;\n",
              "      padding: 0 0 0 0;\n",
              "      width: 32px;\n",
              "    }\n",
              "\n",
              "    .colab-df-convert:hover {\n",
              "      background-color: #E2EBFA;\n",
              "      box-shadow: 0px 1px 2px rgba(60, 64, 67, 0.3), 0px 1px 3px 1px rgba(60, 64, 67, 0.15);\n",
              "      fill: #174EA6;\n",
              "    }\n",
              "\n",
              "    [theme=dark] .colab-df-convert {\n",
              "      background-color: #3B4455;\n",
              "      fill: #D2E3FC;\n",
              "    }\n",
              "\n",
              "    [theme=dark] .colab-df-convert:hover {\n",
              "      background-color: #434B5C;\n",
              "      box-shadow: 0px 1px 3px 1px rgba(0, 0, 0, 0.15);\n",
              "      filter: drop-shadow(0px 1px 2px rgba(0, 0, 0, 0.3));\n",
              "      fill: #FFFFFF;\n",
              "    }\n",
              "  </style>\n",
              "\n",
              "      <script>\n",
              "        const buttonEl =\n",
              "          document.querySelector('#df-de8b6aa2-06a7-487e-8b9c-4495e3981164 button.colab-df-convert');\n",
              "        buttonEl.style.display =\n",
              "          google.colab.kernel.accessAllowed ? 'block' : 'none';\n",
              "\n",
              "        async function convertToInteractive(key) {\n",
              "          const element = document.querySelector('#df-de8b6aa2-06a7-487e-8b9c-4495e3981164');\n",
              "          const dataTable =\n",
              "            await google.colab.kernel.invokeFunction('convertToInteractive',\n",
              "                                                     [key], {});\n",
              "          if (!dataTable) return;\n",
              "\n",
              "          const docLinkHtml = 'Like what you see? Visit the ' +\n",
              "            '<a target=\"_blank\" href=https://colab.research.google.com/notebooks/data_table.ipynb>data table notebook</a>'\n",
              "            + ' to learn more about interactive tables.';\n",
              "          element.innerHTML = '';\n",
              "          dataTable['output_type'] = 'display_data';\n",
              "          await google.colab.output.renderOutput(dataTable, element);\n",
              "          const docLink = document.createElement('div');\n",
              "          docLink.innerHTML = docLinkHtml;\n",
              "          element.appendChild(docLink);\n",
              "        }\n",
              "      </script>\n",
              "    </div>\n",
              "  </div>\n",
              "  "
            ],
            "text/plain": [
              "                                                    file  \\\n",
              "0      /content/voice/train/train/de_m_df90bffac026f7...   \n",
              "1      /content/voice/train/train/de_m_0345d503166fbc...   \n",
              "2      /content/voice/train/train/en_m_d2f13c7f37ecec...   \n",
              "3      /content/voice/train/train/en_m_3a8f30bef6d7b6...   \n",
              "4      /content/voice/train/train/en_f_7701e10392ce7b...   \n",
              "...                                                  ...   \n",
              "36535  /content/voice/train/train/de_f_26ddc4e756f612...   \n",
              "36536  /content/voice/train/train/en_m_17b5d499519197...   \n",
              "36537  /content/voice/train/train/es_f_56ef0bde6c92a0...   \n",
              "36538  /content/voice/train/train/es_f_cc86b9208b120f...   \n",
              "36539  /content/voice/train/train/de_m_2cfa348b2b6852...   \n",
              "\n",
              "                                                      ID lang  \n",
              "0      de_m_df90bffac026f705f4a99871d71684f1.fragment...   de  \n",
              "1      de_m_0345d503166fbcb125b6e10e2e804443.fragment...   de  \n",
              "2      en_m_d2f13c7f37ecec67df0f46408c224bc1.fragment...   en  \n",
              "3      en_m_3a8f30bef6d7b6a1332629491eabcbf0.fragment...   en  \n",
              "4      en_f_7701e10392ce7bcfba6d2fcca56fb8d9.fragment...   en  \n",
              "...                                                  ...  ...  \n",
              "36535  de_f_26ddc4e756f61233d74d42cc000c9dae.fragment...   de  \n",
              "36536  en_m_17b5d4995191976232356345dfbb82cb.fragment...   en  \n",
              "36537  es_f_56ef0bde6c92a0100da23cdd39a8a112.fragment...   es  \n",
              "36538  es_f_cc86b9208b120f1f147a9246ab39f5e4.fragment...   es  \n",
              "36539  de_m_2cfa348b2b6852e38637a4225158678d.fragment...   de  \n",
              "\n",
              "[36540 rows x 3 columns]"
            ]
          },
          "execution_count": 11,
          "metadata": {},
          "output_type": "execute_result"
        }
      ],
      "source": [
        "first_half_df"
      ]
    },
    {
      "cell_type": "code",
      "execution_count": null,
      "metadata": {
        "colab": {
          "base_uri": "https://localhost:8080/",
          "height": 458
        },
        "id": "uIaCzWPdqFeH",
        "outputId": "4e4dafb7-be3f-4d72-bb4d-c0ce3b96e753"
      },
      "outputs": [
        {
          "name": "stdout",
          "output_type": "stream",
          "text": [
            "CPU times: user 28min 8s, sys: 20min 40s, total: 48min 49s\n",
            "Wall time: 30min 31s\n"
          ]
        },
        {
          "data": {
            "text/html": [
              "\n",
              "  <div id=\"df-07159db3-6746-47e9-8a2f-5db7a97ca8ec\">\n",
              "    <div class=\"colab-df-container\">\n",
              "      <div>\n",
              "<style scoped>\n",
              "    .dataframe tbody tr th:only-of-type {\n",
              "        vertical-align: middle;\n",
              "    }\n",
              "\n",
              "    .dataframe tbody tr th {\n",
              "        vertical-align: top;\n",
              "    }\n",
              "\n",
              "    .dataframe thead th {\n",
              "        text-align: right;\n",
              "    }\n",
              "</style>\n",
              "<table border=\"1\" class=\"dataframe\">\n",
              "  <thead>\n",
              "    <tr style=\"text-align: right;\">\n",
              "      <th></th>\n",
              "      <th>file</th>\n",
              "      <th>ID</th>\n",
              "      <th>lang</th>\n",
              "    </tr>\n",
              "  </thead>\n",
              "  <tbody>\n",
              "    <tr>\n",
              "      <th>0</th>\n",
              "      <td>/content/voice/train/train/de_m_df90bffac026f7...</td>\n",
              "      <td>de_m_df90bffac026f705f4a99871d71684f1.fragment...</td>\n",
              "      <td>de</td>\n",
              "    </tr>\n",
              "    <tr>\n",
              "      <th>1</th>\n",
              "      <td>/content/voice/train/train/de_m_0345d503166fbc...</td>\n",
              "      <td>de_m_0345d503166fbcb125b6e10e2e804443.fragment...</td>\n",
              "      <td>de</td>\n",
              "    </tr>\n",
              "    <tr>\n",
              "      <th>2</th>\n",
              "      <td>/content/voice/train/train/en_m_d2f13c7f37ecec...</td>\n",
              "      <td>en_m_d2f13c7f37ecec67df0f46408c224bc1.fragment...</td>\n",
              "      <td>en</td>\n",
              "    </tr>\n",
              "    <tr>\n",
              "      <th>3</th>\n",
              "      <td>/content/voice/train/train/en_m_3a8f30bef6d7b6...</td>\n",
              "      <td>en_m_3a8f30bef6d7b6a1332629491eabcbf0.fragment...</td>\n",
              "      <td>en</td>\n",
              "    </tr>\n",
              "    <tr>\n",
              "      <th>4</th>\n",
              "      <td>/content/voice/train/train/en_f_7701e10392ce7b...</td>\n",
              "      <td>en_f_7701e10392ce7bcfba6d2fcca56fb8d9.fragment...</td>\n",
              "      <td>en</td>\n",
              "    </tr>\n",
              "    <tr>\n",
              "      <th>...</th>\n",
              "      <td>...</td>\n",
              "      <td>...</td>\n",
              "      <td>...</td>\n",
              "    </tr>\n",
              "    <tr>\n",
              "      <th>36535</th>\n",
              "      <td>/content/voice/train/train/de_f_26ddc4e756f612...</td>\n",
              "      <td>de_f_26ddc4e756f61233d74d42cc000c9dae.fragment...</td>\n",
              "      <td>de</td>\n",
              "    </tr>\n",
              "    <tr>\n",
              "      <th>36536</th>\n",
              "      <td>/content/voice/train/train/en_m_17b5d499519197...</td>\n",
              "      <td>en_m_17b5d4995191976232356345dfbb82cb.fragment...</td>\n",
              "      <td>en</td>\n",
              "    </tr>\n",
              "    <tr>\n",
              "      <th>36537</th>\n",
              "      <td>/content/voice/train/train/es_f_56ef0bde6c92a0...</td>\n",
              "      <td>es_f_56ef0bde6c92a0100da23cdd39a8a112.fragment...</td>\n",
              "      <td>es</td>\n",
              "    </tr>\n",
              "    <tr>\n",
              "      <th>36538</th>\n",
              "      <td>/content/voice/train/train/es_f_cc86b9208b120f...</td>\n",
              "      <td>es_f_cc86b9208b120f1f147a9246ab39f5e4.fragment...</td>\n",
              "      <td>es</td>\n",
              "    </tr>\n",
              "    <tr>\n",
              "      <th>36539</th>\n",
              "      <td>/content/voice/train/train/de_m_2cfa348b2b6852...</td>\n",
              "      <td>de_m_2cfa348b2b6852e38637a4225158678d.fragment...</td>\n",
              "      <td>de</td>\n",
              "    </tr>\n",
              "  </tbody>\n",
              "</table>\n",
              "<p>36540 rows × 3 columns</p>\n",
              "</div>\n",
              "      <button class=\"colab-df-convert\" onclick=\"convertToInteractive('df-07159db3-6746-47e9-8a2f-5db7a97ca8ec')\"\n",
              "              title=\"Convert this dataframe to an interactive table.\"\n",
              "              style=\"display:none;\">\n",
              "        \n",
              "  <svg xmlns=\"http://www.w3.org/2000/svg\" height=\"24px\"viewBox=\"0 0 24 24\"\n",
              "       width=\"24px\">\n",
              "    <path d=\"M0 0h24v24H0V0z\" fill=\"none\"/>\n",
              "    <path d=\"M18.56 5.44l.94 2.06.94-2.06 2.06-.94-2.06-.94-.94-2.06-.94 2.06-2.06.94zm-11 1L8.5 8.5l.94-2.06 2.06-.94-2.06-.94L8.5 2.5l-.94 2.06-2.06.94zm10 10l.94 2.06.94-2.06 2.06-.94-2.06-.94-.94-2.06-.94 2.06-2.06.94z\"/><path d=\"M17.41 7.96l-1.37-1.37c-.4-.4-.92-.59-1.43-.59-.52 0-1.04.2-1.43.59L10.3 9.45l-7.72 7.72c-.78.78-.78 2.05 0 2.83L4 21.41c.39.39.9.59 1.41.59.51 0 1.02-.2 1.41-.59l7.78-7.78 2.81-2.81c.8-.78.8-2.07 0-2.86zM5.41 20L4 18.59l7.72-7.72 1.47 1.35L5.41 20z\"/>\n",
              "  </svg>\n",
              "      </button>\n",
              "      \n",
              "  <style>\n",
              "    .colab-df-container {\n",
              "      display:flex;\n",
              "      flex-wrap:wrap;\n",
              "      gap: 12px;\n",
              "    }\n",
              "\n",
              "    .colab-df-convert {\n",
              "      background-color: #E8F0FE;\n",
              "      border: none;\n",
              "      border-radius: 50%;\n",
              "      cursor: pointer;\n",
              "      display: none;\n",
              "      fill: #1967D2;\n",
              "      height: 32px;\n",
              "      padding: 0 0 0 0;\n",
              "      width: 32px;\n",
              "    }\n",
              "\n",
              "    .colab-df-convert:hover {\n",
              "      background-color: #E2EBFA;\n",
              "      box-shadow: 0px 1px 2px rgba(60, 64, 67, 0.3), 0px 1px 3px 1px rgba(60, 64, 67, 0.15);\n",
              "      fill: #174EA6;\n",
              "    }\n",
              "\n",
              "    [theme=dark] .colab-df-convert {\n",
              "      background-color: #3B4455;\n",
              "      fill: #D2E3FC;\n",
              "    }\n",
              "\n",
              "    [theme=dark] .colab-df-convert:hover {\n",
              "      background-color: #434B5C;\n",
              "      box-shadow: 0px 1px 3px 1px rgba(0, 0, 0, 0.15);\n",
              "      filter: drop-shadow(0px 1px 2px rgba(0, 0, 0, 0.3));\n",
              "      fill: #FFFFFF;\n",
              "    }\n",
              "  </style>\n",
              "\n",
              "      <script>\n",
              "        const buttonEl =\n",
              "          document.querySelector('#df-07159db3-6746-47e9-8a2f-5db7a97ca8ec button.colab-df-convert');\n",
              "        buttonEl.style.display =\n",
              "          google.colab.kernel.accessAllowed ? 'block' : 'none';\n",
              "\n",
              "        async function convertToInteractive(key) {\n",
              "          const element = document.querySelector('#df-07159db3-6746-47e9-8a2f-5db7a97ca8ec');\n",
              "          const dataTable =\n",
              "            await google.colab.kernel.invokeFunction('convertToInteractive',\n",
              "                                                     [key], {});\n",
              "          if (!dataTable) return;\n",
              "\n",
              "          const docLinkHtml = 'Like what you see? Visit the ' +\n",
              "            '<a target=\"_blank\" href=https://colab.research.google.com/notebooks/data_table.ipynb>data table notebook</a>'\n",
              "            + ' to learn more about interactive tables.';\n",
              "          element.innerHTML = '';\n",
              "          dataTable['output_type'] = 'display_data';\n",
              "          await google.colab.output.renderOutput(dataTable, element);\n",
              "          const docLink = document.createElement('div');\n",
              "          docLink.innerHTML = docLinkHtml;\n",
              "          element.appendChild(docLink);\n",
              "        }\n",
              "      </script>\n",
              "    </div>\n",
              "  </div>\n",
              "  "
            ],
            "text/plain": [
              "                                                    file  \\\n",
              "0      /content/voice/train/train/de_m_df90bffac026f7...   \n",
              "1      /content/voice/train/train/de_m_0345d503166fbc...   \n",
              "2      /content/voice/train/train/en_m_d2f13c7f37ecec...   \n",
              "3      /content/voice/train/train/en_m_3a8f30bef6d7b6...   \n",
              "4      /content/voice/train/train/en_f_7701e10392ce7b...   \n",
              "...                                                  ...   \n",
              "36535  /content/voice/train/train/de_f_26ddc4e756f612...   \n",
              "36536  /content/voice/train/train/en_m_17b5d499519197...   \n",
              "36537  /content/voice/train/train/es_f_56ef0bde6c92a0...   \n",
              "36538  /content/voice/train/train/es_f_cc86b9208b120f...   \n",
              "36539  /content/voice/train/train/de_m_2cfa348b2b6852...   \n",
              "\n",
              "                                                      ID lang  \n",
              "0      de_m_df90bffac026f705f4a99871d71684f1.fragment...   de  \n",
              "1      de_m_0345d503166fbcb125b6e10e2e804443.fragment...   de  \n",
              "2      en_m_d2f13c7f37ecec67df0f46408c224bc1.fragment...   en  \n",
              "3      en_m_3a8f30bef6d7b6a1332629491eabcbf0.fragment...   en  \n",
              "4      en_f_7701e10392ce7bcfba6d2fcca56fb8d9.fragment...   en  \n",
              "...                                                  ...  ...  \n",
              "36535  de_f_26ddc4e756f61233d74d42cc000c9dae.fragment...   de  \n",
              "36536  en_m_17b5d4995191976232356345dfbb82cb.fragment...   en  \n",
              "36537  es_f_56ef0bde6c92a0100da23cdd39a8a112.fragment...   es  \n",
              "36538  es_f_cc86b9208b120f1f147a9246ab39f5e4.fragment...   es  \n",
              "36539  de_m_2cfa348b2b6852e38637a4225158678d.fragment...   de  \n",
              "\n",
              "[36540 rows x 3 columns]"
            ]
          },
          "execution_count": 12,
          "metadata": {},
          "output_type": "execute_result"
        }
      ],
      "source": [
        "%%time\n",
        "format_len = len('flac')\n",
        "np.vectorize(spectrogram_mat)(TRAIN_VOICE_PATH, traindf['ID'], TRAIN_MAT_PATH)\n",
        "traindf"
      ]
    },
    {
      "cell_type": "code",
      "execution_count": null,
      "metadata": {
        "colab": {
          "base_uri": "https://localhost:8080/"
        },
        "id": "22z9IdN7SkdO",
        "outputId": "77bdb494-e208-4b6f-a179-49b33f3d7b6e"
      },
      "outputs": [
        {
          "name": "stdout",
          "output_type": "stream",
          "text": [
            "de_m_df90bffac026f705f4a99871d71684f1.fragment3.speed8.npy\n"
          ]
        }
      ],
      "source": [
        "print(traindf.iloc[0].ID)"
      ]
    },
    {
      "cell_type": "code",
      "execution_count": null,
      "metadata": {
        "colab": {
          "base_uri": "https://localhost:8080/"
        },
        "id": "TSUhsMzeRuGH",
        "outputId": "b80979f4-7d0a-4695-d06d-92ed3b5a1ed2"
      },
      "outputs": [
        {
          "data": {
            "text/plain": [
              "9130"
            ]
          },
          "execution_count": 38,
          "metadata": {},
          "output_type": "execute_result"
        }
      ],
      "source": [
        "gc.collect()"
      ]
    },
    {
      "cell_type": "code",
      "execution_count": null,
      "metadata": {
        "id": "FNiuDK1aWySP"
      },
      "outputs": [],
      "source": [
        "!rm {CUR_DIR}spoken-language-identification.zip"
      ]
    },
    {
      "cell_type": "code",
      "execution_count": null,
      "metadata": {
        "id": "4-_dYXqrwDgz"
      },
      "outputs": [],
      "source": [
        "!rm $VOICE_DIR -r"
      ]
    },
    {
      "cell_type": "code",
      "execution_count": null,
      "metadata": {
        "id": "qmyH3T2jTI5y"
      },
      "outputs": [],
      "source": [
        "traindf=pd.read_csv(DRIVE_PATH+'traindf.csv')"
      ]
    },
    {
      "cell_type": "code",
      "execution_count": null,
      "metadata": {
        "colab": {
          "base_uri": "https://localhost:8080/"
        },
        "id": "YIHmheBsPwBC",
        "outputId": "cb6c9c86-b5fd-46ba-f5f2-50afb3544edf"
      },
      "outputs": [
        {
          "name": "stdout",
          "output_type": "stream",
          "text": [
            "ls: cannot access '/content/mat/train//first_half': No such file or directory\n",
            "0\n"
          ]
        }
      ],
      "source": [
        "! ls $TRAIN_MAT_PATH/first_half -1 | wc -l"
      ]
    },
    {
      "cell_type": "code",
      "execution_count": null,
      "metadata": {
        "colab": {
          "base_uri": "https://localhost:8080/"
        },
        "id": "SJsR7tw7QFSr",
        "outputId": "eeafb63e-515a-4a8a-b29e-24f731654c96"
      },
      "outputs": [
        {
          "name": "stdout",
          "output_type": "stream",
          "text": [
            "36540\n"
          ]
        }
      ],
      "source": [
        "! ls {DRIVE3_PATH}first_half -1 | wc -l"
      ]
    },
    {
      "cell_type": "code",
      "execution_count": null,
      "metadata": {
        "colab": {
          "base_uri": "https://localhost:8080/",
          "height": 487
        },
        "id": "A1P9Y8O9XDHY",
        "outputId": "fc958cb2-7cd1-4e3e-89a7-0a10580cacf1"
      },
      "outputs": [
        {
          "data": {
            "text/html": [
              "\n",
              "  <div id=\"df-6fabb3f1-bf43-43d3-ad98-b4eb0ba2d815\">\n",
              "    <div class=\"colab-df-container\">\n",
              "      <div>\n",
              "<style scoped>\n",
              "    .dataframe tbody tr th:only-of-type {\n",
              "        vertical-align: middle;\n",
              "    }\n",
              "\n",
              "    .dataframe tbody tr th {\n",
              "        vertical-align: top;\n",
              "    }\n",
              "\n",
              "    .dataframe thead th {\n",
              "        text-align: right;\n",
              "    }\n",
              "</style>\n",
              "<table border=\"1\" class=\"dataframe\">\n",
              "  <thead>\n",
              "    <tr style=\"text-align: right;\">\n",
              "      <th></th>\n",
              "      <th>file</th>\n",
              "      <th>ID</th>\n",
              "      <th>lang</th>\n",
              "    </tr>\n",
              "  </thead>\n",
              "  <tbody>\n",
              "    <tr>\n",
              "      <th>0</th>\n",
              "      <td>/content/test/test/en_f_67a0cba10d171b24039a79...</td>\n",
              "      <td>en_f_67a0cba10d171b24039a79faa1d4d603.fragment...</td>\n",
              "      <td>en</td>\n",
              "    </tr>\n",
              "    <tr>\n",
              "      <th>1</th>\n",
              "      <td>/content/test/test/de_f_63f5b79c76cf5a1a4bbd1c...</td>\n",
              "      <td>de_f_63f5b79c76cf5a1a4bbd1c40f54b166e.fragment...</td>\n",
              "      <td>de</td>\n",
              "    </tr>\n",
              "    <tr>\n",
              "      <th>2</th>\n",
              "      <td>/content/test/test/es_m_08111ce8d6a7ebc6cd2c27...</td>\n",
              "      <td>es_m_08111ce8d6a7ebc6cd2c27e62a3d98f0.fragment...</td>\n",
              "      <td>es</td>\n",
              "    </tr>\n",
              "    <tr>\n",
              "      <th>3</th>\n",
              "      <td>/content/test/test/de_f_63f5b79c76cf5a1a4bbd1c...</td>\n",
              "      <td>de_f_63f5b79c76cf5a1a4bbd1c40f54b166e.fragment...</td>\n",
              "      <td>de</td>\n",
              "    </tr>\n",
              "    <tr>\n",
              "      <th>4</th>\n",
              "      <td>/content/test/test/de_f_63f5b79c76cf5a1a4bbd1c...</td>\n",
              "      <td>de_f_63f5b79c76cf5a1a4bbd1c40f54b166e.fragment...</td>\n",
              "      <td>de</td>\n",
              "    </tr>\n",
              "    <tr>\n",
              "      <th>...</th>\n",
              "      <td>...</td>\n",
              "      <td>...</td>\n",
              "      <td>...</td>\n",
              "    </tr>\n",
              "    <tr>\n",
              "      <th>95</th>\n",
              "      <td>/content/test/test/en_f_67a0cba10d171b24039a79...</td>\n",
              "      <td>en_f_67a0cba10d171b24039a79faa1d4d603.fragment...</td>\n",
              "      <td>en</td>\n",
              "    </tr>\n",
              "    <tr>\n",
              "      <th>96</th>\n",
              "      <td>/content/test/test/de_m_923551d571cc437382d029...</td>\n",
              "      <td>de_m_923551d571cc437382d0294dda2dd0aa.fragment...</td>\n",
              "      <td>de</td>\n",
              "    </tr>\n",
              "    <tr>\n",
              "      <th>97</th>\n",
              "      <td>/content/test/test/es_m_08111ce8d6a7ebc6cd2c27...</td>\n",
              "      <td>es_m_08111ce8d6a7ebc6cd2c27e62a3d98f0.fragment...</td>\n",
              "      <td>es</td>\n",
              "    </tr>\n",
              "    <tr>\n",
              "      <th>98</th>\n",
              "      <td>/content/test/test/es_f_50298ab71aaba8508ebeef...</td>\n",
              "      <td>es_f_50298ab71aaba8508ebeef49d853df11.fragment...</td>\n",
              "      <td>es</td>\n",
              "    </tr>\n",
              "    <tr>\n",
              "      <th>99</th>\n",
              "      <td>/content/test/test/de_m_923551d571cc437382d029...</td>\n",
              "      <td>de_m_923551d571cc437382d0294dda2dd0aa.fragment...</td>\n",
              "      <td>de</td>\n",
              "    </tr>\n",
              "  </tbody>\n",
              "</table>\n",
              "<p>100 rows × 3 columns</p>\n",
              "</div>\n",
              "      <button class=\"colab-df-convert\" onclick=\"convertToInteractive('df-6fabb3f1-bf43-43d3-ad98-b4eb0ba2d815')\"\n",
              "              title=\"Convert this dataframe to an interactive table.\"\n",
              "              style=\"display:none;\">\n",
              "        \n",
              "  <svg xmlns=\"http://www.w3.org/2000/svg\" height=\"24px\"viewBox=\"0 0 24 24\"\n",
              "       width=\"24px\">\n",
              "    <path d=\"M0 0h24v24H0V0z\" fill=\"none\"/>\n",
              "    <path d=\"M18.56 5.44l.94 2.06.94-2.06 2.06-.94-2.06-.94-.94-2.06-.94 2.06-2.06.94zm-11 1L8.5 8.5l.94-2.06 2.06-.94-2.06-.94L8.5 2.5l-.94 2.06-2.06.94zm10 10l.94 2.06.94-2.06 2.06-.94-2.06-.94-.94-2.06-.94 2.06-2.06.94z\"/><path d=\"M17.41 7.96l-1.37-1.37c-.4-.4-.92-.59-1.43-.59-.52 0-1.04.2-1.43.59L10.3 9.45l-7.72 7.72c-.78.78-.78 2.05 0 2.83L4 21.41c.39.39.9.59 1.41.59.51 0 1.02-.2 1.41-.59l7.78-7.78 2.81-2.81c.8-.78.8-2.07 0-2.86zM5.41 20L4 18.59l7.72-7.72 1.47 1.35L5.41 20z\"/>\n",
              "  </svg>\n",
              "      </button>\n",
              "      \n",
              "  <style>\n",
              "    .colab-df-container {\n",
              "      display:flex;\n",
              "      flex-wrap:wrap;\n",
              "      gap: 12px;\n",
              "    }\n",
              "\n",
              "    .colab-df-convert {\n",
              "      background-color: #E8F0FE;\n",
              "      border: none;\n",
              "      border-radius: 50%;\n",
              "      cursor: pointer;\n",
              "      display: none;\n",
              "      fill: #1967D2;\n",
              "      height: 32px;\n",
              "      padding: 0 0 0 0;\n",
              "      width: 32px;\n",
              "    }\n",
              "\n",
              "    .colab-df-convert:hover {\n",
              "      background-color: #E2EBFA;\n",
              "      box-shadow: 0px 1px 2px rgba(60, 64, 67, 0.3), 0px 1px 3px 1px rgba(60, 64, 67, 0.15);\n",
              "      fill: #174EA6;\n",
              "    }\n",
              "\n",
              "    [theme=dark] .colab-df-convert {\n",
              "      background-color: #3B4455;\n",
              "      fill: #D2E3FC;\n",
              "    }\n",
              "\n",
              "    [theme=dark] .colab-df-convert:hover {\n",
              "      background-color: #434B5C;\n",
              "      box-shadow: 0px 1px 3px 1px rgba(0, 0, 0, 0.15);\n",
              "      filter: drop-shadow(0px 1px 2px rgba(0, 0, 0, 0.3));\n",
              "      fill: #FFFFFF;\n",
              "    }\n",
              "  </style>\n",
              "\n",
              "      <script>\n",
              "        const buttonEl =\n",
              "          document.querySelector('#df-6fabb3f1-bf43-43d3-ad98-b4eb0ba2d815 button.colab-df-convert');\n",
              "        buttonEl.style.display =\n",
              "          google.colab.kernel.accessAllowed ? 'block' : 'none';\n",
              "\n",
              "        async function convertToInteractive(key) {\n",
              "          const element = document.querySelector('#df-6fabb3f1-bf43-43d3-ad98-b4eb0ba2d815');\n",
              "          const dataTable =\n",
              "            await google.colab.kernel.invokeFunction('convertToInteractive',\n",
              "                                                     [key], {});\n",
              "          if (!dataTable) return;\n",
              "\n",
              "          const docLinkHtml = 'Like what you see? Visit the ' +\n",
              "            '<a target=\"_blank\" href=https://colab.research.google.com/notebooks/data_table.ipynb>data table notebook</a>'\n",
              "            + ' to learn more about interactive tables.';\n",
              "          element.innerHTML = '';\n",
              "          dataTable['output_type'] = 'display_data';\n",
              "          await google.colab.output.renderOutput(dataTable, element);\n",
              "          const docLink = document.createElement('div');\n",
              "          docLink.innerHTML = docLinkHtml;\n",
              "          element.appendChild(docLink);\n",
              "        }\n",
              "      </script>\n",
              "    </div>\n",
              "  </div>\n",
              "  "
            ],
            "text/plain": [
              "                                                 file  \\\n",
              "0   /content/test/test/en_f_67a0cba10d171b24039a79...   \n",
              "1   /content/test/test/de_f_63f5b79c76cf5a1a4bbd1c...   \n",
              "2   /content/test/test/es_m_08111ce8d6a7ebc6cd2c27...   \n",
              "3   /content/test/test/de_f_63f5b79c76cf5a1a4bbd1c...   \n",
              "4   /content/test/test/de_f_63f5b79c76cf5a1a4bbd1c...   \n",
              "..                                                ...   \n",
              "95  /content/test/test/en_f_67a0cba10d171b24039a79...   \n",
              "96  /content/test/test/de_m_923551d571cc437382d029...   \n",
              "97  /content/test/test/es_m_08111ce8d6a7ebc6cd2c27...   \n",
              "98  /content/test/test/es_f_50298ab71aaba8508ebeef...   \n",
              "99  /content/test/test/de_m_923551d571cc437382d029...   \n",
              "\n",
              "                                                   ID lang  \n",
              "0   en_f_67a0cba10d171b24039a79faa1d4d603.fragment...   en  \n",
              "1   de_f_63f5b79c76cf5a1a4bbd1c40f54b166e.fragment...   de  \n",
              "2   es_m_08111ce8d6a7ebc6cd2c27e62a3d98f0.fragment...   es  \n",
              "3   de_f_63f5b79c76cf5a1a4bbd1c40f54b166e.fragment...   de  \n",
              "4   de_f_63f5b79c76cf5a1a4bbd1c40f54b166e.fragment...   de  \n",
              "..                                                ...  ...  \n",
              "95  en_f_67a0cba10d171b24039a79faa1d4d603.fragment...   en  \n",
              "96  de_m_923551d571cc437382d0294dda2dd0aa.fragment...   de  \n",
              "97  es_m_08111ce8d6a7ebc6cd2c27e62a3d98f0.fragment...   es  \n",
              "98  es_f_50298ab71aaba8508ebeef49d853df11.fragment...   es  \n",
              "99  de_m_923551d571cc437382d0294dda2dd0aa.fragment...   de  \n",
              "\n",
              "[100 rows x 3 columns]"
            ]
          },
          "execution_count": 58,
          "metadata": {},
          "output_type": "execute_result"
        }
      ],
      "source": [
        "#%%time\n",
        "#i= train_size #start i after train_size\n",
        "#test_id = []\n",
        "#for file in test_data_dir[i:i+test_size]:\n",
        "#    name = file.split('/')[-1]\n",
        "#    test_id.append(name+'.jpg')\n",
        "#    create_spectrogram(file,name, is_train=False)\n",
        "\n",
        "testdf = pd.DataFrame(test_data_dir[:test_size],columns = ['file'])\n",
        "testdf['ID']= testdf['file'].apply(lambda x: x.split('/')[-1]+'.jpg')\n",
        "#testdf.apply(lambda x: create_spectrogram(x.file, x.ID), axis=1)\n",
        "np.vectorize(create_spectrogram)(testdf['file'], testdf['ID'], is_train=False)\n",
        "testdf['lang'] = testdf['ID'].apply(lambda x: x.split('_')[0])\n",
        "testdf"
      ]
    },
    {
      "cell_type": "code",
      "execution_count": null,
      "metadata": {
        "colab": {
          "base_uri": "https://localhost:8080/",
          "height": 487
        },
        "id": "ZjdswInagYuR",
        "outputId": "40b74901-2cb4-47a4-fff0-74b98829032c"
      },
      "outputs": [
        {
          "data": {
            "text/html": [
              "\n",
              "  <div id=\"df-3d3ca52c-0656-4660-8f55-e86750c430bd\">\n",
              "    <div class=\"colab-df-container\">\n",
              "      <div>\n",
              "<style scoped>\n",
              "    .dataframe tbody tr th:only-of-type {\n",
              "        vertical-align: middle;\n",
              "    }\n",
              "\n",
              "    .dataframe tbody tr th {\n",
              "        vertical-align: top;\n",
              "    }\n",
              "\n",
              "    .dataframe thead th {\n",
              "        text-align: right;\n",
              "    }\n",
              "</style>\n",
              "<table border=\"1\" class=\"dataframe\">\n",
              "  <thead>\n",
              "    <tr style=\"text-align: right;\">\n",
              "      <th></th>\n",
              "      <th>file</th>\n",
              "      <th>ID</th>\n",
              "      <th>lang</th>\n",
              "    </tr>\n",
              "  </thead>\n",
              "  <tbody>\n",
              "    <tr>\n",
              "      <th>0</th>\n",
              "      <td>/content/test/test/en_f_67a0cba10d171b24039a79...</td>\n",
              "      <td>en_f_67a0cba10d171b24039a79faa1d4d603.fragment...</td>\n",
              "      <td>en</td>\n",
              "    </tr>\n",
              "    <tr>\n",
              "      <th>1</th>\n",
              "      <td>/content/test/test/de_f_63f5b79c76cf5a1a4bbd1c...</td>\n",
              "      <td>de_f_63f5b79c76cf5a1a4bbd1c40f54b166e.fragment...</td>\n",
              "      <td>de</td>\n",
              "    </tr>\n",
              "    <tr>\n",
              "      <th>2</th>\n",
              "      <td>/content/test/test/es_m_08111ce8d6a7ebc6cd2c27...</td>\n",
              "      <td>es_m_08111ce8d6a7ebc6cd2c27e62a3d98f0.fragment...</td>\n",
              "      <td>es</td>\n",
              "    </tr>\n",
              "    <tr>\n",
              "      <th>3</th>\n",
              "      <td>/content/test/test/de_f_63f5b79c76cf5a1a4bbd1c...</td>\n",
              "      <td>de_f_63f5b79c76cf5a1a4bbd1c40f54b166e.fragment...</td>\n",
              "      <td>de</td>\n",
              "    </tr>\n",
              "    <tr>\n",
              "      <th>4</th>\n",
              "      <td>/content/test/test/de_f_63f5b79c76cf5a1a4bbd1c...</td>\n",
              "      <td>de_f_63f5b79c76cf5a1a4bbd1c40f54b166e.fragment...</td>\n",
              "      <td>de</td>\n",
              "    </tr>\n",
              "    <tr>\n",
              "      <th>...</th>\n",
              "      <td>...</td>\n",
              "      <td>...</td>\n",
              "      <td>...</td>\n",
              "    </tr>\n",
              "    <tr>\n",
              "      <th>95</th>\n",
              "      <td>/content/test/test/en_f_67a0cba10d171b24039a79...</td>\n",
              "      <td>en_f_67a0cba10d171b24039a79faa1d4d603.fragment...</td>\n",
              "      <td>en</td>\n",
              "    </tr>\n",
              "    <tr>\n",
              "      <th>96</th>\n",
              "      <td>/content/test/test/de_m_923551d571cc437382d029...</td>\n",
              "      <td>de_m_923551d571cc437382d0294dda2dd0aa.fragment...</td>\n",
              "      <td>de</td>\n",
              "    </tr>\n",
              "    <tr>\n",
              "      <th>97</th>\n",
              "      <td>/content/test/test/es_m_08111ce8d6a7ebc6cd2c27...</td>\n",
              "      <td>es_m_08111ce8d6a7ebc6cd2c27e62a3d98f0.fragment...</td>\n",
              "      <td>es</td>\n",
              "    </tr>\n",
              "    <tr>\n",
              "      <th>98</th>\n",
              "      <td>/content/test/test/es_f_50298ab71aaba8508ebeef...</td>\n",
              "      <td>es_f_50298ab71aaba8508ebeef49d853df11.fragment...</td>\n",
              "      <td>es</td>\n",
              "    </tr>\n",
              "    <tr>\n",
              "      <th>99</th>\n",
              "      <td>/content/test/test/de_m_923551d571cc437382d029...</td>\n",
              "      <td>de_m_923551d571cc437382d0294dda2dd0aa.fragment...</td>\n",
              "      <td>de</td>\n",
              "    </tr>\n",
              "  </tbody>\n",
              "</table>\n",
              "<p>100 rows × 3 columns</p>\n",
              "</div>\n",
              "      <button class=\"colab-df-convert\" onclick=\"convertToInteractive('df-3d3ca52c-0656-4660-8f55-e86750c430bd')\"\n",
              "              title=\"Convert this dataframe to an interactive table.\"\n",
              "              style=\"display:none;\">\n",
              "        \n",
              "  <svg xmlns=\"http://www.w3.org/2000/svg\" height=\"24px\"viewBox=\"0 0 24 24\"\n",
              "       width=\"24px\">\n",
              "    <path d=\"M0 0h24v24H0V0z\" fill=\"none\"/>\n",
              "    <path d=\"M18.56 5.44l.94 2.06.94-2.06 2.06-.94-2.06-.94-.94-2.06-.94 2.06-2.06.94zm-11 1L8.5 8.5l.94-2.06 2.06-.94-2.06-.94L8.5 2.5l-.94 2.06-2.06.94zm10 10l.94 2.06.94-2.06 2.06-.94-2.06-.94-.94-2.06-.94 2.06-2.06.94z\"/><path d=\"M17.41 7.96l-1.37-1.37c-.4-.4-.92-.59-1.43-.59-.52 0-1.04.2-1.43.59L10.3 9.45l-7.72 7.72c-.78.78-.78 2.05 0 2.83L4 21.41c.39.39.9.59 1.41.59.51 0 1.02-.2 1.41-.59l7.78-7.78 2.81-2.81c.8-.78.8-2.07 0-2.86zM5.41 20L4 18.59l7.72-7.72 1.47 1.35L5.41 20z\"/>\n",
              "  </svg>\n",
              "      </button>\n",
              "      \n",
              "  <style>\n",
              "    .colab-df-container {\n",
              "      display:flex;\n",
              "      flex-wrap:wrap;\n",
              "      gap: 12px;\n",
              "    }\n",
              "\n",
              "    .colab-df-convert {\n",
              "      background-color: #E8F0FE;\n",
              "      border: none;\n",
              "      border-radius: 50%;\n",
              "      cursor: pointer;\n",
              "      display: none;\n",
              "      fill: #1967D2;\n",
              "      height: 32px;\n",
              "      padding: 0 0 0 0;\n",
              "      width: 32px;\n",
              "    }\n",
              "\n",
              "    .colab-df-convert:hover {\n",
              "      background-color: #E2EBFA;\n",
              "      box-shadow: 0px 1px 2px rgba(60, 64, 67, 0.3), 0px 1px 3px 1px rgba(60, 64, 67, 0.15);\n",
              "      fill: #174EA6;\n",
              "    }\n",
              "\n",
              "    [theme=dark] .colab-df-convert {\n",
              "      background-color: #3B4455;\n",
              "      fill: #D2E3FC;\n",
              "    }\n",
              "\n",
              "    [theme=dark] .colab-df-convert:hover {\n",
              "      background-color: #434B5C;\n",
              "      box-shadow: 0px 1px 3px 1px rgba(0, 0, 0, 0.15);\n",
              "      filter: drop-shadow(0px 1px 2px rgba(0, 0, 0, 0.3));\n",
              "      fill: #FFFFFF;\n",
              "    }\n",
              "  </style>\n",
              "\n",
              "      <script>\n",
              "        const buttonEl =\n",
              "          document.querySelector('#df-3d3ca52c-0656-4660-8f55-e86750c430bd button.colab-df-convert');\n",
              "        buttonEl.style.display =\n",
              "          google.colab.kernel.accessAllowed ? 'block' : 'none';\n",
              "\n",
              "        async function convertToInteractive(key) {\n",
              "          const element = document.querySelector('#df-3d3ca52c-0656-4660-8f55-e86750c430bd');\n",
              "          const dataTable =\n",
              "            await google.colab.kernel.invokeFunction('convertToInteractive',\n",
              "                                                     [key], {});\n",
              "          if (!dataTable) return;\n",
              "\n",
              "          const docLinkHtml = 'Like what you see? Visit the ' +\n",
              "            '<a target=\"_blank\" href=https://colab.research.google.com/notebooks/data_table.ipynb>data table notebook</a>'\n",
              "            + ' to learn more about interactive tables.';\n",
              "          element.innerHTML = '';\n",
              "          dataTable['output_type'] = 'display_data';\n",
              "          await google.colab.output.renderOutput(dataTable, element);\n",
              "          const docLink = document.createElement('div');\n",
              "          docLink.innerHTML = docLinkHtml;\n",
              "          element.appendChild(docLink);\n",
              "        }\n",
              "      </script>\n",
              "    </div>\n",
              "  </div>\n",
              "  "
            ],
            "text/plain": [
              "                                                 file  \\\n",
              "0   /content/test/test/en_f_67a0cba10d171b24039a79...   \n",
              "1   /content/test/test/de_f_63f5b79c76cf5a1a4bbd1c...   \n",
              "2   /content/test/test/es_m_08111ce8d6a7ebc6cd2c27...   \n",
              "3   /content/test/test/de_f_63f5b79c76cf5a1a4bbd1c...   \n",
              "4   /content/test/test/de_f_63f5b79c76cf5a1a4bbd1c...   \n",
              "..                                                ...   \n",
              "95  /content/test/test/en_f_67a0cba10d171b24039a79...   \n",
              "96  /content/test/test/de_m_923551d571cc437382d029...   \n",
              "97  /content/test/test/es_m_08111ce8d6a7ebc6cd2c27...   \n",
              "98  /content/test/test/es_f_50298ab71aaba8508ebeef...   \n",
              "99  /content/test/test/de_m_923551d571cc437382d029...   \n",
              "\n",
              "                                                   ID lang  \n",
              "0   en_f_67a0cba10d171b24039a79faa1d4d603.fragment...   en  \n",
              "1   de_f_63f5b79c76cf5a1a4bbd1c40f54b166e.fragment...   de  \n",
              "2   es_m_08111ce8d6a7ebc6cd2c27e62a3d98f0.fragment...   es  \n",
              "3   de_f_63f5b79c76cf5a1a4bbd1c40f54b166e.fragment...   de  \n",
              "4   de_f_63f5b79c76cf5a1a4bbd1c40f54b166e.fragment...   de  \n",
              "..                                                ...  ...  \n",
              "95  en_f_67a0cba10d171b24039a79faa1d4d603.fragment...   en  \n",
              "96  de_m_923551d571cc437382d0294dda2dd0aa.fragment...   de  \n",
              "97  es_m_08111ce8d6a7ebc6cd2c27e62a3d98f0.fragment...   es  \n",
              "98  es_f_50298ab71aaba8508ebeef49d853df11.fragment...   es  \n",
              "99  de_m_923551d571cc437382d0294dda2dd0aa.fragment...   de  \n",
              "\n",
              "[100 rows x 3 columns]"
            ]
          },
          "execution_count": 59,
          "metadata": {},
          "output_type": "execute_result"
        }
      ],
      "source": [
        "testdf"
      ]
    },
    {
      "cell_type": "code",
      "execution_count": null,
      "metadata": {
        "id": "O_sUzyqS2HAm"
      },
      "outputs": [],
      "source": [
        "file_paths = traindf['ID'].values\n",
        "lang = np.array(traindf['lang'].values)\n",
        "\n",
        "data = [np.load(file_path) for file_path in file_paths]\n",
        "data = np.stack(data)"
      ]
    },
    {
      "cell_type": "code",
      "execution_count": null,
      "metadata": {
        "id": "WZHb4IfgAEEE"
      },
      "outputs": [],
      "source": [
        "%cd $CUR_DIR"
      ]
    },
    {
      "cell_type": "code",
      "execution_count": null,
      "metadata": {
        "colab": {
          "base_uri": "https://localhost:8080/"
        },
        "id": "zfh66l0Ll7CF",
        "outputId": "19aee80b-c4d4-4825-9661-ba67c7d9c182"
      },
      "outputs": [
        {
          "data": {
            "text/plain": [
              "(10000, 128, 431, 1)"
            ]
          },
          "execution_count": 44,
          "metadata": {},
          "output_type": "execute_result"
        }
      ],
      "source": [
        "cur_shape = data.shape\n",
        "data = data.reshape((cur_shape[0], cur_shape[1], cur_shape[2], 1))\n",
        "data.shape"
      ]
    },
    {
      "cell_type": "code",
      "execution_count": null,
      "metadata": {
        "colab": {
          "base_uri": "https://localhost:8080/"
        },
        "id": "Gx4Sg3UxAL5F",
        "outputId": "9991d227-5033-4c0e-b71e-10805da8892f"
      },
      "outputs": [
        {
          "name": "stdout",
          "output_type": "stream",
          "text": [
            "10000\n"
          ]
        }
      ],
      "source": [
        "! ls {DRIVE_PATH}/train -1 | wc -l"
      ]
    },
    {
      "cell_type": "code",
      "execution_count": null,
      "metadata": {
        "colab": {
          "base_uri": "https://localhost:8080/"
        },
        "id": "fAgFwxJRgbNK",
        "outputId": "8dade378-4998-4f6e-d51e-afac1050ca84"
      },
      "outputs": [
        {
          "name": "stdout",
          "output_type": "stream",
          "text": [
            "Collecting Keras-Preprocessing\n",
            "  Downloading Keras_Preprocessing-1.1.2-py2.py3-none-any.whl (42 kB)\n",
            "\u001b[?25l     \u001b[90m━━━━━━━━━━━━━━━━━━━━━━━━━━━━━━━━━━━━━━━━\u001b[0m \u001b[32m0.0/42.6 kB\u001b[0m \u001b[31m?\u001b[0m eta \u001b[36m-:--:--\u001b[0m\r\u001b[2K     \u001b[90m━━━━━━━━━━━━━━━━━━━━━━━━━━━━━━━━━━━━━━━━\u001b[0m \u001b[32m42.6/42.6 kB\u001b[0m \u001b[31m1.8 MB/s\u001b[0m eta \u001b[36m0:00:00\u001b[0m\n",
            "\u001b[?25hRequirement already satisfied: numpy>=1.9.1 in /usr/local/lib/python3.10/dist-packages (from Keras-Preprocessing) (1.22.4)\n",
            "Requirement already satisfied: six>=1.9.0 in /usr/local/lib/python3.10/dist-packages (from Keras-Preprocessing) (1.16.0)\n",
            "Installing collected packages: Keras-Preprocessing\n",
            "Successfully installed Keras-Preprocessing-1.1.2\n"
          ]
        }
      ],
      "source": [
        "!pip install Keras-Preprocessing\n",
        "from keras_preprocessing.image import ImageDataGenerator"
      ]
    },
    {
      "cell_type": "code",
      "execution_count": null,
      "metadata": {
        "colab": {
          "base_uri": "https://localhost:8080/"
        },
        "id": "jegheRISg6IK",
        "outputId": "b8a2b8bb-2580-43f9-af48-16c134544108"
      },
      "outputs": [
        {
          "name": "stdout",
          "output_type": "stream",
          "text": [
            "Found 0 validated image filenames belonging to 0 classes.\n",
            "Found 0 validated image filenames belonging to 0 classes.\n"
          ]
        },
        {
          "name": "stderr",
          "output_type": "stream",
          "text": [
            "/usr/local/lib/python3.10/dist-packages/keras_preprocessing/image/dataframe_iterator.py:279: UserWarning: Found 10000 invalid image filename(s) in x_col=\"ID\". These filename(s) will be ignored.\n",
            "  warnings.warn(\n",
            "/usr/local/lib/python3.10/dist-packages/keras_preprocessing/image/dataframe_iterator.py:279: UserWarning: Found 10000 invalid image filename(s) in x_col=\"ID\". These filename(s) will be ignored.\n",
            "  warnings.warn(\n"
          ]
        }
      ],
      "source": [
        "datagen=ImageDataGenerator(rescale=1./255.,validation_split=0.2) #.flow_from_\n",
        "\n",
        "\n",
        "train_generator=datagen.flow_from_dataframe(\n",
        "    dataframe=traindf,\n",
        "    directory=TRAIN_MAT_PATH+\"train/\",\n",
        "    x_col=\"ID\",\n",
        "    y_col=\"lang\",\n",
        "    subset=\"training\",\n",
        "    batch_size=32,\n",
        "    seed=42,\n",
        "    shuffle=True,\n",
        "    class_mode=\"categorical\",\n",
        "    target_size=(64,64))\n",
        "\n",
        "valid_generator=datagen.flow_from_dataframe(\n",
        "    dataframe=traindf,\n",
        "    directory=TRAIN_MAT_PATH+\"train/\",\n",
        "    x_col=\"ID\",\n",
        "    y_col=\"lang\",\n",
        "    subset=\"validation\",\n",
        "    batch_size=32,\n",
        "    seed=42,\n",
        "    shuffle=True,\n",
        "    class_mode=\"categorical\",\n",
        "    target_size=(64,64))\n",
        "\n"
      ]
    },
    {
      "cell_type": "code",
      "execution_count": null,
      "metadata": {
        "colab": {
          "base_uri": "https://localhost:8080/",
          "height": 243
        },
        "id": "h7S7EmNpB7vC",
        "outputId": "8a122dd4-f569-4363-886d-2c6dbcd30e3c"
      },
      "outputs": [],
      "source": [
        "# npy\n",
        "datagen=ImageDataGenerator(rescale=1./255.,validation_split=0.2) #.flow_from_\n",
        "\n",
        "\n",
        "train_generator=datagen.flow(\n",
        "    #dataframe=traindf,\n",
        "    #directory=TRAIN_MAT_PATH+\"train/\",\n",
        "    x=data,\n",
        "    y=lang,\n",
        "    subset=\"training\",\n",
        "    batch_size=32,\n",
        "    seed=42,\n",
        "    shuffle=True,\n",
        "    #class_mode=\"categorical\",\n",
        "    #target_size=(64,64)\n",
        "    )\n",
        "\n",
        "valid_generator=datagen.flow(\n",
        "    #dataframe=traindf,\n",
        "    #directory=TRAIN_MAT_PATH+\"train/\",\n",
        "    x=data,\n",
        "    y=lang,\n",
        "    subset=\"validation\",\n",
        "    batch_size=32,\n",
        "    seed=42,\n",
        "    shuffle=True,\n",
        "    #class_mode=\"categorical\",\n",
        "    #target_size=(64,64)\n",
        "    )\n",
        "\n"
      ]
    },
    {
      "cell_type": "code",
      "execution_count": null,
      "metadata": {
        "colab": {
          "base_uri": "https://localhost:8080/"
        },
        "id": "rmOlMsCfliAd",
        "outputId": "e460f83b-4ec5-4916-a3e5-01f97f6479be"
      },
      "outputs": [
        {
          "data": {
            "text/plain": [
              "(128, 431, 1)"
            ]
          },
          "execution_count": 58,
          "metadata": {},
          "output_type": "execute_result"
        }
      ],
      "source": [
        "data[0].shape"
      ]
    },
    {
      "cell_type": "markdown",
      "metadata": {
        "id": "oIosUKRcfFZ2"
      },
      "source": [
        "\n",
        "## Paper's CNN without generator"
      ]
    },
    {
      "cell_type": "code",
      "execution_count": null,
      "metadata": {
        "id": "-rDSL0QCfFHu"
      },
      "outputs": [],
      "source": [
        "from keras.models import Sequential\n",
        "from keras.layers import Conv2D, MaxPooling2D, Flatten, Dense\n",
        "from keras.preprocessing.image import ImageDataGenerator\n",
        "\n",
        "from sklearn.model_selection import train_test_split\n",
        "batch_size= 32\n",
        "X_train, X_val, y_train, y_val = train_test_split(data, lang, test_size=0.2, shuffle=True, random_state=42)\n",
        "\n",
        "X_train = X_train.reshape(X_train.shape[0], X_train.shape[1], X_train.shape[2], 1)\n",
        "X_val = X_val.reshape(X_val.shape[0], X_val.shape[1], X_val.shape[2], 1)"
      ]
    },
    {
      "cell_type": "code",
      "execution_count": null,
      "metadata": {
        "id": "lvyHjhrWhQ6Y"
      },
      "outputs": [],
      "source": [
        "from sklearn.preprocessing import LabelEncoder\n",
        "\n",
        "label_encoder = LabelEncoder()\n",
        "y_train = label_encoder.fit_transform(y_train)\n",
        "y_val = label_encoder.transform(y_val)\n",
        "\n",
        "\n",
        "from keras.utils import to_categorical\n",
        "\n",
        "y_train = to_categorical(y_train, 3)\n",
        "y_val = to_categorical(y_val, 3)"
      ]
    },
    {
      "cell_type": "code",
      "execution_count": null,
      "metadata": {
        "id": "ASZ0JuHDhQuv"
      },
      "outputs": [],
      "source": [
        "train_datagen = ImageDataGenerator(rescale=1./255)\n",
        "val_datagen = ImageDataGenerator(rescale=1./255)\n",
        "test_datagen = ImageDataGenerator(rescale=1./255)\n",
        "\n",
        "train_generator = train_datagen.flow(X_train, y_train, batch_size=batch_size)\n",
        "val_generator = val_datagen.flow(X_val, y_val, batch_size=batch_size)\n",
        "#test_generator = test_datagen.flow(X_test, y_test, batch_size=batch_size)"
      ]
    },
    {
      "cell_type": "markdown",
      "metadata": {
        "id": "e73tPbkOQ6Ga"
      },
      "source": [
        "## Paper's CNN"
      ]
    },
    {
      "cell_type": "code",
      "execution_count": null,
      "metadata": {
        "id": "RHwu6KKIkUpR"
      },
      "outputs": [],
      "source": [
        "from tensorflow import keras\n",
        "import numpy as np\n",
        "import os\n",
        "\n",
        "class NumpyDataGenerator(keras.utils.Sequence):\n",
        "  def __init__(self, data_folder, ids, labels, batch_size, validation_split=0.2, shuffle=True, seed=None, rescale=None, subset='training'):\n",
        "    self.data_folder = data_folder\n",
        "    self.ids = ids\n",
        "    self.labels = labels\n",
        "    self.batch_size = batch_size\n",
        "    #self.file_list = os.listdir(data_folder)\n",
        "    self.file_list = ids\n",
        "    self.validation_split = validation_split\n",
        "    self.shuffle = shuffle\n",
        "    self.seed = seed\n",
        "    self.rescale = rescale\n",
        "    self.subset = subset\n",
        "\n",
        "    if self.shuffle:\n",
        "        self._shuffle_data()\n",
        "\n",
        "    split_index = int(self.validation_split * len(self.file_list))\n",
        "    if self.subset == 'training':\n",
        "        self.file_list = self.file_list[split_index:]\n",
        "    else:\n",
        "        self.file_list = self.file_list[:split_index]\n",
        "\n",
        "  def _shuffle_data(self):\n",
        "    if self.seed is not None:\n",
        "        np.random.seed(self.seed)\n",
        "    self.file_list = np.random.permutation(self.file_list)\n",
        "    self.labels = self.labels[np.random.permutation(len(self.labels))]\n",
        "\n",
        "  def __len__(self):\n",
        "    return len(self.file_list) // self.batch_size\n",
        "\n",
        "  def __getitem__(self, idx):\n",
        "    r = (idx + 1) * self.batch_size\n",
        "    if r > len(self.file_list):\n",
        "      r= len(self.file_list)\n",
        "    batch_files = self.file_list[idx * self.batch_size: r]\n",
        "    batch_labels = self.labels[idx * self.batch_size: r]\n",
        "    batch_data = []\n",
        "\n",
        "    for file_name in batch_files:\n",
        "        file_path = os.path.join(self.data_folder, file_name)\n",
        "        data = np.load(file_path)\n",
        "\n",
        "        # Apply rescaling if specified\n",
        "        if self.rescale is not None:\n",
        "            data = data * self.rescale\n",
        "\n",
        "        batch_data.append(data)\n",
        "\n",
        "    batch_data = np.array(batch_data)\n",
        "    # here:\n",
        "    batch_data = np.stack(batch_data)\n",
        "    batch_data.reshape((batch_data.shape[0], batch_data.shape[1], batch_data.shape[2], 1))\n",
        "\n",
        "    return batch_data, batch_labels\n",
        "\n",
        "  def on_epoch_end(self):\n",
        "    if self.shuffle:\n",
        "      self._shuffle_data()\n"
      ]
    },
    {
      "cell_type": "code",
      "execution_count": null,
      "metadata": {
        "id": "AFD4E5mxp0B-"
      },
      "outputs": [],
      "source": [
        "X_train = np.array(traindf['ID'].values)\n",
        "y_train = np.array(traindf['lang'].values)\n",
        "\n",
        "from sklearn.preprocessing import LabelEncoder\n",
        "from keras.utils import to_categorical\n",
        "\n",
        "label_encoder = LabelEncoder()\n",
        "y_train = label_encoder.fit_transform(y_train)\n",
        "y_train = to_categorical(y_train, 3)"
      ]
    },
    {
      "cell_type": "code",
      "execution_count": null,
      "metadata": {
        "id": "DmTKTbhHkv_W"
      },
      "outputs": [],
      "source": [
        "data_folder = TRAIN_MAT_PATH\n",
        "batch_size = 32\n",
        "validation_split = 0.2\n",
        "rescale_factor = 1.0 / 255.0\n",
        "\n",
        "params = {\n",
        "    'data_folder': data_folder,\n",
        "    'ids' : X_train,\n",
        "    'labels': y_train,\n",
        "    'batch_size': batch_size,\n",
        "    'validation_split': validation_split,\n",
        "    'shuffle': True,\n",
        "    'seed': 42,\n",
        "    'rescale': rescale_factor,\n",
        "}\n",
        "\n",
        "train_generator = NumpyDataGenerator(subset='training', **params)\n",
        "valid_generator = NumpyDataGenerator(subset='validation', **params)"
      ]
    },
    {
      "cell_type": "code",
      "execution_count": null,
      "metadata": {
        "id": "SQXOxDtnQ-K8"
      },
      "outputs": [],
      "source": [
        "file_paths = traindf['ID'].values\n",
        "y_train = np.array(traindf['lang'].values)\n",
        "\n",
        "X_train = [np.load(MAT_DIR+\"train/train/\"+file_path) for file_path in file_paths]\n",
        "X_train = np.stack(X_train)"
      ]
    },
    {
      "cell_type": "code",
      "execution_count": null,
      "metadata": {
        "id": "3rf87bVSRKJL"
      },
      "outputs": [],
      "source": [
        "from keras.preprocessing.image import ImageDataGenerator\n",
        "train_valid_datagen = ImageDataGenerator(rescale=1./255, validation_split=0.2)\n",
        "\n",
        "train_generator = train_valid_datagen.flow(X_train, y_train,\n",
        "                                           batch_size=32,\n",
        "                                           subset='training',\n",
        "                                           seed=42,\n",
        "                                           shuffle=True)\n",
        "\n",
        "val_generator = train_valid_datagen.flow(X_train, y_train,\n",
        "                                         batch_size=32,\n",
        "                                         subset='validation',\n",
        "                                         seed=42,\n",
        "                                         shuffle=True)\n",
        "\n",
        "#test_generator = test_datagen.flow(X_test, y_test, batch_size=batch_size)"
      ]
    },
    {
      "cell_type": "code",
      "execution_count": null,
      "metadata": {
        "id": "wKk8JoA1RLez"
      },
      "outputs": [],
      "source": [
        "from keras.models import Sequential, Model\n",
        "from keras.layers import Dense, Activation, Flatten, Dropout, BatchNormalization, Conv2D, MaxPooling2D\n",
        "#from keras import regularizers, optimizers\n",
        "import keras\n",
        "\n",
        "model = Sequential()\n",
        "#first block:\n",
        "model.add(Conv2D(32, (7, 7), padding='valid', input_shape=(128, 431, 1)))\n",
        "model.add(BatchNormalization())\n",
        "model.add(Activation('relu'))\n",
        "model.add(Dropout(0.5))\n",
        "model.add(MaxPooling2D(pool_size=(3, 3), strides=2))\n",
        "#second block:\n",
        "model.add(Conv2D(64, (5, 5), padding='same'))\n",
        "model.add(BatchNormalization())\n",
        "model.add(Activation('relu'))\n",
        "model.add(Dropout(0.5))\n",
        "model.add(MaxPooling2D(pool_size=(3, 3), strides=2))\n",
        "#third block:\n",
        "model.add(Conv2D(128, (3, 3), padding='same'))\n",
        "model.add(BatchNormalization())\n",
        "model.add(Activation('relu'))\n",
        "model.add(Dropout(0.5))\n",
        "model.add(MaxPooling2D(pool_size=(3, 3), strides=2))\n",
        "#fourth block:\n",
        "model.add(Conv2D(256, (3, 3), padding='same'))\n",
        "model.add(BatchNormalization())\n",
        "model.add(Activation('relu'))\n",
        "model.add(Dropout(0.5))\n",
        "model.add(MaxPooling2D(pool_size=(3, 3), strides=2))\n",
        "#fifth block:\n",
        "model.add(Conv2D(512, (3, 3), padding='same'))\n",
        "model.add(BatchNormalization())\n",
        "model.add(Activation('relu'))\n",
        "model.add(Dropout(0.5))\n",
        "model.add(MaxPooling2D(pool_size=(3, 3), strides=2))\n",
        "#flatten layer:\n",
        "model.add(Flatten())\n",
        "model.add(BatchNormalization())\n",
        "model.add(Dense(256))\n",
        "model.add(BatchNormalization())\n",
        "\n",
        "model.add(Dropout(0.5))\n",
        "model.add(Dense(3, activation='softmax'))\n",
        "#model.compile(optimizer=keras.optimizers.Adam(learning_rate=0.0001),\n",
        "#              loss=keras.losses.CategoricalCrossentropy(),\n",
        "#              metrics=[\"accuracy\"])\n",
        "#model.summary()"
      ]
    },
    {
      "cell_type": "code",
      "execution_count": null,
      "metadata": {
        "colab": {
          "base_uri": "https://localhost:8080/"
        },
        "id": "EaZQg-LGoTjg",
        "outputId": "0b644e3b-d6cd-47d6-b53d-312ac492e673"
      },
      "outputs": [
        {
          "name": "stdout",
          "output_type": "stream",
          "text": [
            "Model: \"sequential_5\"\n",
            "_________________________________________________________________\n",
            " Layer (type)                Output Shape              Param #   \n",
            "=================================================================\n",
            " conv2d_28 (Conv2D)          (None, 122, 425, 32)      1600      \n",
            "                                                                 \n",
            " batch_normalization_14 (Bat  (None, 122, 425, 32)     128       \n",
            " chNormalization)                                                \n",
            "                                                                 \n",
            " activation_31 (Activation)  (None, 122, 425, 32)      0         \n",
            "                                                                 \n",
            " dropout_24 (Dropout)        (None, 122, 425, 32)      0         \n",
            "                                                                 \n",
            " max_pooling2d_19 (MaxPoolin  (None, 60, 212, 32)      0         \n",
            " g2D)                                                            \n",
            "                                                                 \n",
            " conv2d_29 (Conv2D)          (None, 60, 212, 64)       51264     \n",
            "                                                                 \n",
            " batch_normalization_15 (Bat  (None, 60, 212, 64)      256       \n",
            " chNormalization)                                                \n",
            "                                                                 \n",
            " activation_32 (Activation)  (None, 60, 212, 64)       0         \n",
            "                                                                 \n",
            " dropout_25 (Dropout)        (None, 60, 212, 64)       0         \n",
            "                                                                 \n",
            " max_pooling2d_20 (MaxPoolin  (None, 29, 105, 64)      0         \n",
            " g2D)                                                            \n",
            "                                                                 \n",
            " conv2d_30 (Conv2D)          (None, 29, 105, 128)      73856     \n",
            "                                                                 \n",
            " batch_normalization_16 (Bat  (None, 29, 105, 128)     512       \n",
            " chNormalization)                                                \n",
            "                                                                 \n",
            " activation_33 (Activation)  (None, 29, 105, 128)      0         \n",
            "                                                                 \n",
            " dropout_26 (Dropout)        (None, 29, 105, 128)      0         \n",
            "                                                                 \n",
            " max_pooling2d_21 (MaxPoolin  (None, 14, 52, 128)      0         \n",
            " g2D)                                                            \n",
            "                                                                 \n",
            " conv2d_31 (Conv2D)          (None, 14, 52, 256)       295168    \n",
            "                                                                 \n",
            " batch_normalization_17 (Bat  (None, 14, 52, 256)      1024      \n",
            " chNormalization)                                                \n",
            "                                                                 \n",
            " activation_34 (Activation)  (None, 14, 52, 256)       0         \n",
            "                                                                 \n",
            " dropout_27 (Dropout)        (None, 14, 52, 256)       0         \n",
            "                                                                 \n",
            " max_pooling2d_22 (MaxPoolin  (None, 6, 25, 256)       0         \n",
            " g2D)                                                            \n",
            "                                                                 \n",
            " conv2d_32 (Conv2D)          (None, 6, 25, 512)        1180160   \n",
            "                                                                 \n",
            " batch_normalization_18 (Bat  (None, 6, 25, 512)       2048      \n",
            " chNormalization)                                                \n",
            "                                                                 \n",
            " activation_35 (Activation)  (None, 6, 25, 512)        0         \n",
            "                                                                 \n",
            " dropout_28 (Dropout)        (None, 6, 25, 512)        0         \n",
            "                                                                 \n",
            " max_pooling2d_23 (MaxPoolin  (None, 2, 12, 512)       0         \n",
            " g2D)                                                            \n",
            "                                                                 \n",
            " flatten_5 (Flatten)         (None, 12288)             0         \n",
            "                                                                 \n",
            " batch_normalization_19 (Bat  (None, 12288)            49152     \n",
            " chNormalization)                                                \n",
            "                                                                 \n",
            " dense_10 (Dense)            (None, 256)               3145984   \n",
            "                                                                 \n",
            " batch_normalization_20 (Bat  (None, 256)              1024      \n",
            " chNormalization)                                                \n",
            "                                                                 \n",
            " dropout_29 (Dropout)        (None, 256)               0         \n",
            "                                                                 \n",
            " dense_11 (Dense)            (None, 3)                 771       \n",
            "                                                                 \n",
            "=================================================================\n",
            "Total params: 4,802,947\n",
            "Trainable params: 4,775,875\n",
            "Non-trainable params: 27,072\n",
            "_________________________________________________________________\n"
          ]
        }
      ],
      "source": [
        "#model.compile(optimizer=keras.optimizers.Adam(learning_rate=0.0001), loss='categorical_crossentropy', metrics=['accuracy'])\n",
        "model.compile(optimizer=keras.optimizers.Adam(learning_rate=0.01),\n",
        "              loss=keras.losses.CategoricalCrossentropy(),\n",
        "              metrics=[\"accuracy\"])\n",
        "model.summary()"
      ]
    },
    {
      "cell_type": "code",
      "execution_count": null,
      "metadata": {
        "colab": {
          "base_uri": "https://localhost:8080/"
        },
        "id": "57brGH4_osbt",
        "outputId": "da040689-b2b3-422e-e4ef-021d8cdde0b9"
      },
      "outputs": [
        {
          "name": "stdout",
          "output_type": "stream",
          "text": [
            "Epoch 1/60\n",
            "913/913 [==============================] - 155s 168ms/step - loss: 1.2376 - accuracy: 0.3316 - val_loss: 1.1228 - val_accuracy: 0.3387\n",
            "Epoch 2/60\n",
            "913/913 [==============================] - 172s 189ms/step - loss: 1.1100 - accuracy: 0.3319 - val_loss: 1.0986 - val_accuracy: 0.3328\n",
            "Epoch 3/60\n",
            "913/913 [==============================] - 153s 167ms/step - loss: 1.1008 - accuracy: 0.3378 - val_loss: 1.1000 - val_accuracy: 0.3314\n",
            "Epoch 4/60\n",
            "913/913 [==============================] - 152s 167ms/step - loss: 1.1015 - accuracy: 0.3353 - val_loss: 1.1005 - val_accuracy: 0.3372\n",
            "Epoch 5/60\n",
            "913/913 [==============================] - 153s 168ms/step - loss: 1.1055 - accuracy: 0.3341 - val_loss: 1.1121 - val_accuracy: 0.3370\n",
            "Epoch 6/60\n",
            "808/913 [=========================>....] - ETA: 15s - loss: 1.1089 - accuracy: 0.3311"
          ]
        }
      ],
      "source": [
        "model.fit(\n",
        "    train_generator,\n",
        "    steps_per_epoch=len(train_generator),\n",
        "    epochs=60,\n",
        "    validation_data=valid_generator,\n",
        "    validation_steps=len(valid_generator)\n",
        ")"
      ]
    },
    {
      "cell_type": "code",
      "execution_count": null,
      "metadata": {
        "id": "oN_T8JcIROLU"
      },
      "outputs": [],
      "source": [
        "model.fit(\n",
        "    train_generator,\n",
        "    steps_per_epoch=train_generator.n // 32,\n",
        "    epochs=60,\n",
        "    validation_data=val_generator,\n",
        "    validation_steps= val_generator.n // 32\n",
        ")"
      ]
    },
    {
      "cell_type": "code",
      "execution_count": null,
      "metadata": {
        "colab": {
          "base_uri": "https://localhost:8080/"
        },
        "id": "4SN0u7mj9aOj",
        "outputId": "4902894f-0429-4115-dd9b-c33fdabaeda7"
      },
      "outputs": [
        {
          "name": "stdout",
          "output_type": "stream",
          "text": [
            "Model: \"sequential_4\"\n",
            "_________________________________________________________________\n",
            " Layer (type)                Output Shape              Param #   \n",
            "=================================================================\n",
            " conv2d_22 (Conv2D)          (None, 128, 431, 32)      320       \n",
            "                                                                 \n",
            " activation_24 (Activation)  (None, 128, 431, 32)      0         \n",
            "                                                                 \n",
            " conv2d_23 (Conv2D)          (None, 126, 429, 64)      18496     \n",
            "                                                                 \n",
            " activation_25 (Activation)  (None, 126, 429, 64)      0         \n",
            "                                                                 \n",
            " max_pooling2d_16 (MaxPoolin  (None, 63, 214, 64)      0         \n",
            " g2D)                                                            \n",
            "                                                                 \n",
            " dropout_20 (Dropout)        (None, 63, 214, 64)       0         \n",
            "                                                                 \n",
            " conv2d_24 (Conv2D)          (None, 63, 214, 64)       36928     \n",
            "                                                                 \n",
            " activation_26 (Activation)  (None, 63, 214, 64)       0         \n",
            "                                                                 \n",
            " conv2d_25 (Conv2D)          (None, 61, 212, 64)       36928     \n",
            "                                                                 \n",
            " activation_27 (Activation)  (None, 61, 212, 64)       0         \n",
            "                                                                 \n",
            " max_pooling2d_17 (MaxPoolin  (None, 30, 106, 64)      0         \n",
            " g2D)                                                            \n",
            "                                                                 \n",
            " dropout_21 (Dropout)        (None, 30, 106, 64)       0         \n",
            "                                                                 \n",
            " conv2d_26 (Conv2D)          (None, 30, 106, 128)      73856     \n",
            "                                                                 \n",
            " activation_28 (Activation)  (None, 30, 106, 128)      0         \n",
            "                                                                 \n",
            " conv2d_27 (Conv2D)          (None, 28, 104, 128)      147584    \n",
            "                                                                 \n",
            " activation_29 (Activation)  (None, 28, 104, 128)      0         \n",
            "                                                                 \n",
            " max_pooling2d_18 (MaxPoolin  (None, 14, 52, 128)      0         \n",
            " g2D)                                                            \n",
            "                                                                 \n",
            " dropout_22 (Dropout)        (None, 14, 52, 128)       0         \n",
            "                                                                 \n",
            " flatten_4 (Flatten)         (None, 93184)             0         \n",
            "                                                                 \n",
            " dense_8 (Dense)             (None, 512)               47710720  \n",
            "                                                                 \n",
            " activation_30 (Activation)  (None, 512)               0         \n",
            "                                                                 \n",
            " dropout_23 (Dropout)        (None, 512)               0         \n",
            "                                                                 \n",
            " dense_9 (Dense)             (None, 3)                 1539      \n",
            "                                                                 \n",
            "=================================================================\n",
            "Total params: 48,026,371\n",
            "Trainable params: 48,026,371\n",
            "Non-trainable params: 0\n",
            "_________________________________________________________________\n"
          ]
        },
        {
          "name": "stderr",
          "output_type": "stream",
          "text": [
            "/usr/local/lib/python3.10/dist-packages/keras/optimizers/legacy/rmsprop.py:143: UserWarning: The `lr` argument is deprecated, use `learning_rate` instead.\n",
            "  super().__init__(name, **kwargs)\n"
          ]
        }
      ],
      "source": [
        "from keras.layers import Dense, Activation, Flatten, Dropout, BatchNormalization\n",
        "from keras.models import Sequential, Model\n",
        "from keras.layers import Conv2D, MaxPooling2D\n",
        "from keras import regularizers, optimizers\n",
        "import keras\n",
        "\n",
        "model = Sequential()\n",
        "model.add(Conv2D(32, (3, 3), padding='same',\n",
        "                 input_shape=(128, 431, 1)))\n",
        "model.add(Activation('relu'))\n",
        "model.add(Conv2D(64, (3, 3)))\n",
        "model.add(Activation('relu'))\n",
        "model.add(MaxPooling2D(pool_size=(2, 2)))\n",
        "model.add(Dropout(0.25))\n",
        "model.add(Conv2D(64, (3, 3), padding='same'))\n",
        "model.add(Activation('relu'))\n",
        "model.add(Conv2D(64, (3, 3)))\n",
        "model.add(Activation('relu'))\n",
        "model.add(MaxPooling2D(pool_size=(2, 2)))\n",
        "model.add(Dropout(0.5))\n",
        "model.add(Conv2D(128, (3, 3), padding='same'))\n",
        "model.add(Activation('relu'))\n",
        "model.add(Conv2D(128, (3, 3)))\n",
        "model.add(Activation('relu'))\n",
        "model.add(MaxPooling2D(pool_size=(2, 2)))\n",
        "model.add(Dropout(0.5))\n",
        "model.add(Flatten())\n",
        "model.add(Dense(512))\n",
        "model.add(Activation('relu'))\n",
        "model.add(Dropout(0.5))\n",
        "model.add(Dense(3, activation='softmax'))\n",
        "model.compile(optimizer=keras.optimizers.RMSprop(lr=0.0005, decay=1e-6),loss=\"categorical_crossentropy\",metrics=[\"accuracy\"])\n",
        "model.summary()"
      ]
    },
    {
      "cell_type": "code",
      "execution_count": null,
      "metadata": {
        "colab": {
          "base_uri": "https://localhost:8080/",
          "height": 589
        },
        "id": "JIfsyATi9npe",
        "outputId": "d9542081-8f80-4946-eef2-4bdcdfff1376"
      },
      "outputs": [],
      "source": [
        "model.fit(\n",
        "    train_generator,\n",
        "    steps_per_epoch=len(train_generator),\n",
        "    epochs=60,\n",
        "    validation_data=valid_generator,\n",
        "    validation_steps=len(valid_generator)\n",
        ")"
      ]
    },
    {
      "cell_type": "code",
      "execution_count": null,
      "metadata": {
        "id": "sNR0Fp9D9ojY"
      },
      "outputs": [],
      "source": []
    }
  ],
  "metadata": {
    "accelerator": "GPU",
    "colab": {
      "collapsed_sections": [
        "0UurKaezGDn7",
        "6DUcka63cKQD"
      ],
      "gpuType": "T4",
      "provenance": []
    },
    "kernelspec": {
      "display_name": "Python 3",
      "name": "python3"
    },
    "language_info": {
      "name": "python"
    }
  },
  "nbformat": 4,
  "nbformat_minor": 0
}
