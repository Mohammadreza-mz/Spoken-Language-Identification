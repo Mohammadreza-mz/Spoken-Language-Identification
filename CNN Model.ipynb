{
  "cells": [
    {
      "cell_type": "markdown",
      "metadata": {
        "id": "u9QJw4y73hD7"
      },
      "source": [
        "## check GPU availabilty"
      ]
    },
    {
      "cell_type": "code",
      "execution_count": null,
      "metadata": {
        "colab": {
          "base_uri": "https://localhost:8080/",
          "height": 35
        },
        "id": "0f1G9cgB3lbE",
        "outputId": "f491a5e6-ba33-48b0-90e1-6c9e4fb36d8c"
      },
      "outputs": [
        {
          "output_type": "execute_result",
          "data": {
            "text/plain": [
              "'/device:GPU:0'"
            ],
            "application/vnd.google.colaboratory.intrinsic+json": {
              "type": "string"
            }
          },
          "metadata": {},
          "execution_count": 1
        }
      ],
      "source": [
        "import tensorflow as tf\n",
        "tf.test.gpu_device_name()"
      ]
    },
    {
      "cell_type": "code",
      "execution_count": null,
      "metadata": {
        "colab": {
          "base_uri": "https://localhost:8080/"
        },
        "id": "oUGyMYnSh5vP",
        "outputId": "b948fcb1-0d8d-4dd4-ec29-458be9698709"
      },
      "outputs": [
        {
          "output_type": "stream",
          "name": "stdout",
          "text": [
            "Number of GPUs Available:  1\n"
          ]
        }
      ],
      "source": [
        "physical_devices = tf.config.experimental.list_physical_devices('GPU')\n",
        "print(\"Number of GPUs Available: \", len(physical_devices))\n",
        "if len(physical_devices) > 0:\n",
        "    tf.config.experimental.set_memory_growth(physical_devices[0], True)"
      ]
    },
    {
      "cell_type": "markdown",
      "metadata": {
        "id": "zvW1K9G_Qfoc"
      },
      "source": [
        "## Paths"
      ]
    },
    {
      "cell_type": "code",
      "execution_count": null,
      "metadata": {
        "id": "SgP9QBEnQhZb"
      },
      "outputs": [],
      "source": [
        "CUR_DIR = '/content/' #this may be different runnig local\n",
        "MAT_DIR= CUR_DIR+'mat/'\n",
        "TRAIN_MAT_PATH = MAT_DIR + 'train/train/'\n",
        "TEST_MAT_PATH = MAT_DIR + 'test/test/'\n",
        "VOICE_DIR = CUR_DIR+'voice/'\n",
        "TRAIN_VOICE_PATH = VOICE_DIR+'train/train/'\n",
        "TEST_VOICE_PATH = VOICE_DIR+'test/test/'\n",
        "DRIVE_PATH = CUR_DIR+'drive/MyDrive/Bachelor_Project/'\n",
        "DRIVE2_PATH = CUR_DIR+'drive/MyDrive/Bachelor_Project_Part2/'\n",
        "DRIVE3_PATH = CUR_DIR+'drive/MyDrive/Bachelor_Project_Part3/'\n",
        "#TRAIN_VOICE_OLD_PATH = CUR_DIR+'train/train/'\n",
        "#TEST_VOICE_OLD_PATH = CUR_DIR+'test/test/'\n",
        "#TRAIN_IMG_PATH = CUR_DIR+'train/train-img/'\n",
        "#TEST_IMG_PATH = CUR_DIR+'test/test-img/'\n",
        "TRAIN_MAT_PATH = MAT_DIR + 'train/'\n",
        "TEST_MAT_PATH = MAT_DIR + 'test/'\n",
        "MOZILLA_PATH= CUR_DIR+'mozilla/'\n",
        "MOZILLA_VALID_TRAIN = CUR_DIR+'mozilla/cv-valid-train/'\n",
        "MOZILLA_VALID_DEV = CUR_DIR+'mozilla/cv-valid-dev/'\n",
        "MOZILLA_VALID_TEST = CUR_DIR+'mozilla/cv-valid-test/'"
      ]
    },
    {
      "cell_type": "code",
      "execution_count": null,
      "metadata": {
        "id": "elHdKK-PBVe3"
      },
      "outputs": [],
      "source": [
        "! mkdir $MAT_DIR\n",
        "! mkdir $VOICE_DIR\n",
        "! mkdir $TRAIN_MAT_PATH\n",
        "! mkdir $TEST_MAT_PATH"
      ]
    },
    {
      "cell_type": "markdown",
      "metadata": {
        "id": "9S7dMYTCVJyS"
      },
      "source": [
        "## mount google drive"
      ]
    },
    {
      "cell_type": "code",
      "execution_count": null,
      "metadata": {
        "id": "wIC__YLQ4a52",
        "colab": {
          "base_uri": "https://localhost:8080/"
        },
        "outputId": "e67056bc-d643-48dc-9eed-6d1bca01340a"
      },
      "outputs": [
        {
          "output_type": "stream",
          "name": "stdout",
          "text": [
            "Mounted at /content/drive/\n"
          ]
        }
      ],
      "source": [
        "from google.colab import drive\n",
        "drive.mount(CUR_DIR+'drive/', force_remount=True)\n",
        "#%cd '{CUR_DIR}drive/MyDrive/Bachelor_Project/'\n",
        "#%ls"
      ]
    },
    {
      "cell_type": "markdown",
      "metadata": {
        "id": "4JYKCq_iWqkk"
      },
      "source": [
        "## import libraries\n",
        "\n"
      ]
    },
    {
      "cell_type": "code",
      "execution_count": null,
      "metadata": {
        "id": "PmjeHkGEflz4"
      },
      "outputs": [],
      "source": [
        "# low import\n",
        "import numpy as np\n",
        "import pandas as pd\n",
        "import gc"
      ]
    },
    {
      "cell_type": "code",
      "execution_count": null,
      "metadata": {
        "id": "tKaCosVCH3to"
      },
      "outputs": [],
      "source": [
        "import numpy as np\n",
        "import pandas as pd\n",
        "import matplotlib.pyplot as plt\n",
        "import matplotlib\n",
        "from glob import glob\n",
        "import librosa\n",
        "import librosa.display\n",
        "import soundfile as sf\n",
        "import scipy.signal as signal\n",
        "import gc\n",
        "import shutil"
      ]
    },
    {
      "cell_type": "markdown",
      "metadata": {
        "id": "mWz-0PAmBGu0"
      },
      "source": [
        "## spoken-language-identification dataset\n"
      ]
    },
    {
      "cell_type": "code",
      "execution_count": null,
      "metadata": {
        "colab": {
          "base_uri": "https://localhost:8080/"
        },
        "id": "IiDJhi0oBGcV",
        "outputId": "e91efde6-1ea3-4dc5-8d88-4a6d023b6b77"
      },
      "outputs": [
        {
          "output_type": "stream",
          "name": "stdout",
          "text": [
            "Downloading spoken-language-identification.zip to /content\n",
            "100% 14.9G/14.9G [02:51<00:00, 99.0MB/s]\n",
            "100% 14.9G/14.9G [02:51<00:00, 93.5MB/s]\n"
          ]
        }
      ],
      "source": [
        "! mkdir ~/.kaggle\n",
        "! cp $DRIVE_PATH/kaggle.json ~/.kaggle/\n",
        "! chmod 600 ~/.kaggle/kaggle.json\n",
        "! kaggle datasets download toponowicz/spoken-language-identification"
      ]
    },
    {
      "cell_type": "code",
      "execution_count": null,
      "metadata": {
        "id": "SLKtPwKI-oZv"
      },
      "outputs": [],
      "source": [
        "%%capture\n",
        "!unzip {CUR_DIR}spoken-language-identification.zip -d $VOICE_DIR"
      ]
    },
    {
      "cell_type": "markdown",
      "source": [
        "### create dataframe"
      ],
      "metadata": {
        "id": "bXuPcfHjoSLC"
      }
    },
    {
      "cell_type": "code",
      "source": [
        "train_data_dir=np.array(glob(TRAIN_VOICE_PATH+\"*\"))\n",
        "traindf = pd.DataFrame(train_data_dir,columns = ['file'])\n",
        "format_len = len('flac')\n",
        "traindf['ID']= traindf['file'].apply(lambda x: x.split('/')[-1][:-format_len]+'npy')\n",
        "traindf"
      ],
      "metadata": {
        "colab": {
          "base_uri": "https://localhost:8080/",
          "height": 424
        },
        "id": "zhcLhD7NoUkY",
        "outputId": "08a15714-8570-4b8b-8002-2281059ad77f"
      },
      "execution_count": null,
      "outputs": [
        {
          "output_type": "execute_result",
          "data": {
            "text/plain": [
              "                                                    file  \\\n",
              "0      /content/voice/train/train/es_f_56ef0bde6c92a0...   \n",
              "1      /content/voice/train/train/en_f_c8835fb3edef24...   \n",
              "2      /content/voice/train/train/es_f_68e1dcf1b41edc...   \n",
              "3      /content/voice/train/train/en_m_6a5535d7512259...   \n",
              "4      /content/voice/train/train/de_f_d94712992f41e3...   \n",
              "...                                                  ...   \n",
              "73075  /content/voice/train/train/en_f_17211c49a9b296...   \n",
              "73076  /content/voice/train/train/de_f_f856a0201f94b3...   \n",
              "73077  /content/voice/train/train/es_f_bac9be13a058d1...   \n",
              "73078  /content/voice/train/train/de_f_5d2e7f30d69f2d...   \n",
              "73079  /content/voice/train/train/de_m_8ea3514af1c014...   \n",
              "\n",
              "                                                      ID  \n",
              "0      es_f_56ef0bde6c92a0100da23cdd39a8a112.fragment...  \n",
              "1      en_f_c8835fb3edef243176e1e9beef1f9681.fragment...  \n",
              "2      es_f_68e1dcf1b41edcfa24b402f46ec2a65e.fragment...  \n",
              "3      en_m_6a5535d7512259e7bef76ff997750873.fragment...  \n",
              "4      de_f_d94712992f41e3d8d21f22274b3d8fd9.fragment...  \n",
              "...                                                  ...  \n",
              "73075  en_f_17211c49a9b2967b57cffaccf0d5b565.fragment...  \n",
              "73076  de_f_f856a0201f94b3b57b61815ef8b715d2.fragment...  \n",
              "73077  es_f_bac9be13a058d1c859ed5d2e3a0dc27b.fragment...  \n",
              "73078  de_f_5d2e7f30d69f2d1d86fd05f3bbe120c2.fragment...  \n",
              "73079  de_m_8ea3514af1c01478fbcd004b026fea71.fragment...  \n",
              "\n",
              "[73080 rows x 2 columns]"
            ],
            "text/html": [
              "\n",
              "\n",
              "  <div id=\"df-144feccf-723b-4885-b6f2-6690ad121036\">\n",
              "    <div class=\"colab-df-container\">\n",
              "      <div>\n",
              "<style scoped>\n",
              "    .dataframe tbody tr th:only-of-type {\n",
              "        vertical-align: middle;\n",
              "    }\n",
              "\n",
              "    .dataframe tbody tr th {\n",
              "        vertical-align: top;\n",
              "    }\n",
              "\n",
              "    .dataframe thead th {\n",
              "        text-align: right;\n",
              "    }\n",
              "</style>\n",
              "<table border=\"1\" class=\"dataframe\">\n",
              "  <thead>\n",
              "    <tr style=\"text-align: right;\">\n",
              "      <th></th>\n",
              "      <th>file</th>\n",
              "      <th>ID</th>\n",
              "    </tr>\n",
              "  </thead>\n",
              "  <tbody>\n",
              "    <tr>\n",
              "      <th>0</th>\n",
              "      <td>/content/voice/train/train/es_f_56ef0bde6c92a0...</td>\n",
              "      <td>es_f_56ef0bde6c92a0100da23cdd39a8a112.fragment...</td>\n",
              "    </tr>\n",
              "    <tr>\n",
              "      <th>1</th>\n",
              "      <td>/content/voice/train/train/en_f_c8835fb3edef24...</td>\n",
              "      <td>en_f_c8835fb3edef243176e1e9beef1f9681.fragment...</td>\n",
              "    </tr>\n",
              "    <tr>\n",
              "      <th>2</th>\n",
              "      <td>/content/voice/train/train/es_f_68e1dcf1b41edc...</td>\n",
              "      <td>es_f_68e1dcf1b41edcfa24b402f46ec2a65e.fragment...</td>\n",
              "    </tr>\n",
              "    <tr>\n",
              "      <th>3</th>\n",
              "      <td>/content/voice/train/train/en_m_6a5535d7512259...</td>\n",
              "      <td>en_m_6a5535d7512259e7bef76ff997750873.fragment...</td>\n",
              "    </tr>\n",
              "    <tr>\n",
              "      <th>4</th>\n",
              "      <td>/content/voice/train/train/de_f_d94712992f41e3...</td>\n",
              "      <td>de_f_d94712992f41e3d8d21f22274b3d8fd9.fragment...</td>\n",
              "    </tr>\n",
              "    <tr>\n",
              "      <th>...</th>\n",
              "      <td>...</td>\n",
              "      <td>...</td>\n",
              "    </tr>\n",
              "    <tr>\n",
              "      <th>73075</th>\n",
              "      <td>/content/voice/train/train/en_f_17211c49a9b296...</td>\n",
              "      <td>en_f_17211c49a9b2967b57cffaccf0d5b565.fragment...</td>\n",
              "    </tr>\n",
              "    <tr>\n",
              "      <th>73076</th>\n",
              "      <td>/content/voice/train/train/de_f_f856a0201f94b3...</td>\n",
              "      <td>de_f_f856a0201f94b3b57b61815ef8b715d2.fragment...</td>\n",
              "    </tr>\n",
              "    <tr>\n",
              "      <th>73077</th>\n",
              "      <td>/content/voice/train/train/es_f_bac9be13a058d1...</td>\n",
              "      <td>es_f_bac9be13a058d1c859ed5d2e3a0dc27b.fragment...</td>\n",
              "    </tr>\n",
              "    <tr>\n",
              "      <th>73078</th>\n",
              "      <td>/content/voice/train/train/de_f_5d2e7f30d69f2d...</td>\n",
              "      <td>de_f_5d2e7f30d69f2d1d86fd05f3bbe120c2.fragment...</td>\n",
              "    </tr>\n",
              "    <tr>\n",
              "      <th>73079</th>\n",
              "      <td>/content/voice/train/train/de_m_8ea3514af1c014...</td>\n",
              "      <td>de_m_8ea3514af1c01478fbcd004b026fea71.fragment...</td>\n",
              "    </tr>\n",
              "  </tbody>\n",
              "</table>\n",
              "<p>73080 rows × 2 columns</p>\n",
              "</div>\n",
              "      <button class=\"colab-df-convert\" onclick=\"convertToInteractive('df-144feccf-723b-4885-b6f2-6690ad121036')\"\n",
              "              title=\"Convert this dataframe to an interactive table.\"\n",
              "              style=\"display:none;\">\n",
              "\n",
              "  <svg xmlns=\"http://www.w3.org/2000/svg\" height=\"24px\"viewBox=\"0 0 24 24\"\n",
              "       width=\"24px\">\n",
              "    <path d=\"M0 0h24v24H0V0z\" fill=\"none\"/>\n",
              "    <path d=\"M18.56 5.44l.94 2.06.94-2.06 2.06-.94-2.06-.94-.94-2.06-.94 2.06-2.06.94zm-11 1L8.5 8.5l.94-2.06 2.06-.94-2.06-.94L8.5 2.5l-.94 2.06-2.06.94zm10 10l.94 2.06.94-2.06 2.06-.94-2.06-.94-.94-2.06-.94 2.06-2.06.94z\"/><path d=\"M17.41 7.96l-1.37-1.37c-.4-.4-.92-.59-1.43-.59-.52 0-1.04.2-1.43.59L10.3 9.45l-7.72 7.72c-.78.78-.78 2.05 0 2.83L4 21.41c.39.39.9.59 1.41.59.51 0 1.02-.2 1.41-.59l7.78-7.78 2.81-2.81c.8-.78.8-2.07 0-2.86zM5.41 20L4 18.59l7.72-7.72 1.47 1.35L5.41 20z\"/>\n",
              "  </svg>\n",
              "      </button>\n",
              "\n",
              "\n",
              "\n",
              "    <div id=\"df-f60b3104-6f0f-4561-98ca-b869bbd40b55\">\n",
              "      <button class=\"colab-df-quickchart\" onclick=\"quickchart('df-f60b3104-6f0f-4561-98ca-b869bbd40b55')\"\n",
              "              title=\"Suggest charts.\"\n",
              "              style=\"display:none;\">\n",
              "\n",
              "<svg xmlns=\"http://www.w3.org/2000/svg\" height=\"24px\"viewBox=\"0 0 24 24\"\n",
              "     width=\"24px\">\n",
              "    <g>\n",
              "        <path d=\"M19 3H5c-1.1 0-2 .9-2 2v14c0 1.1.9 2 2 2h14c1.1 0 2-.9 2-2V5c0-1.1-.9-2-2-2zM9 17H7v-7h2v7zm4 0h-2V7h2v10zm4 0h-2v-4h2v4z\"/>\n",
              "    </g>\n",
              "</svg>\n",
              "      </button>\n",
              "    </div>\n",
              "\n",
              "<style>\n",
              "  .colab-df-quickchart {\n",
              "    background-color: #E8F0FE;\n",
              "    border: none;\n",
              "    border-radius: 50%;\n",
              "    cursor: pointer;\n",
              "    display: none;\n",
              "    fill: #1967D2;\n",
              "    height: 32px;\n",
              "    padding: 0 0 0 0;\n",
              "    width: 32px;\n",
              "  }\n",
              "\n",
              "  .colab-df-quickchart:hover {\n",
              "    background-color: #E2EBFA;\n",
              "    box-shadow: 0px 1px 2px rgba(60, 64, 67, 0.3), 0px 1px 3px 1px rgba(60, 64, 67, 0.15);\n",
              "    fill: #174EA6;\n",
              "  }\n",
              "\n",
              "  [theme=dark] .colab-df-quickchart {\n",
              "    background-color: #3B4455;\n",
              "    fill: #D2E3FC;\n",
              "  }\n",
              "\n",
              "  [theme=dark] .colab-df-quickchart:hover {\n",
              "    background-color: #434B5C;\n",
              "    box-shadow: 0px 1px 3px 1px rgba(0, 0, 0, 0.15);\n",
              "    filter: drop-shadow(0px 1px 2px rgba(0, 0, 0, 0.3));\n",
              "    fill: #FFFFFF;\n",
              "  }\n",
              "</style>\n",
              "\n",
              "    <script>\n",
              "      async function quickchart(key) {\n",
              "        const containerElement = document.querySelector('#' + key);\n",
              "        const charts = await google.colab.kernel.invokeFunction(\n",
              "            'suggestCharts', [key], {});\n",
              "      }\n",
              "    </script>\n",
              "\n",
              "      <script>\n",
              "\n",
              "function displayQuickchartButton(domScope) {\n",
              "  let quickchartButtonEl =\n",
              "    domScope.querySelector('#df-f60b3104-6f0f-4561-98ca-b869bbd40b55 button.colab-df-quickchart');\n",
              "  quickchartButtonEl.style.display =\n",
              "    google.colab.kernel.accessAllowed ? 'block' : 'none';\n",
              "}\n",
              "\n",
              "        displayQuickchartButton(document);\n",
              "      </script>\n",
              "      <style>\n",
              "    .colab-df-container {\n",
              "      display:flex;\n",
              "      flex-wrap:wrap;\n",
              "      gap: 12px;\n",
              "    }\n",
              "\n",
              "    .colab-df-convert {\n",
              "      background-color: #E8F0FE;\n",
              "      border: none;\n",
              "      border-radius: 50%;\n",
              "      cursor: pointer;\n",
              "      display: none;\n",
              "      fill: #1967D2;\n",
              "      height: 32px;\n",
              "      padding: 0 0 0 0;\n",
              "      width: 32px;\n",
              "    }\n",
              "\n",
              "    .colab-df-convert:hover {\n",
              "      background-color: #E2EBFA;\n",
              "      box-shadow: 0px 1px 2px rgba(60, 64, 67, 0.3), 0px 1px 3px 1px rgba(60, 64, 67, 0.15);\n",
              "      fill: #174EA6;\n",
              "    }\n",
              "\n",
              "    [theme=dark] .colab-df-convert {\n",
              "      background-color: #3B4455;\n",
              "      fill: #D2E3FC;\n",
              "    }\n",
              "\n",
              "    [theme=dark] .colab-df-convert:hover {\n",
              "      background-color: #434B5C;\n",
              "      box-shadow: 0px 1px 3px 1px rgba(0, 0, 0, 0.15);\n",
              "      filter: drop-shadow(0px 1px 2px rgba(0, 0, 0, 0.3));\n",
              "      fill: #FFFFFF;\n",
              "    }\n",
              "  </style>\n",
              "\n",
              "      <script>\n",
              "        const buttonEl =\n",
              "          document.querySelector('#df-144feccf-723b-4885-b6f2-6690ad121036 button.colab-df-convert');\n",
              "        buttonEl.style.display =\n",
              "          google.colab.kernel.accessAllowed ? 'block' : 'none';\n",
              "\n",
              "        async function convertToInteractive(key) {\n",
              "          const element = document.querySelector('#df-144feccf-723b-4885-b6f2-6690ad121036');\n",
              "          const dataTable =\n",
              "            await google.colab.kernel.invokeFunction('convertToInteractive',\n",
              "                                                     [key], {});\n",
              "          if (!dataTable) return;\n",
              "\n",
              "          const docLinkHtml = 'Like what you see? Visit the ' +\n",
              "            '<a target=\"_blank\" href=https://colab.research.google.com/notebooks/data_table.ipynb>data table notebook</a>'\n",
              "            + ' to learn more about interactive tables.';\n",
              "          element.innerHTML = '';\n",
              "          dataTable['output_type'] = 'display_data';\n",
              "          await google.colab.output.renderOutput(dataTable, element);\n",
              "          const docLink = document.createElement('div');\n",
              "          docLink.innerHTML = docLinkHtml;\n",
              "          element.appendChild(docLink);\n",
              "        }\n",
              "      </script>\n",
              "    </div>\n",
              "  </div>\n"
            ]
          },
          "metadata": {},
          "execution_count": 9
        }
      ]
    },
    {
      "cell_type": "code",
      "source": [
        "test_data_dir=np.array(glob(TEST_VOICE_PATH+\"*\"))\n",
        "testdf = pd.DataFrame(test_data_dir,columns = ['file'])\n",
        "format_len = len('flac')\n",
        "testdf['ID']= testdf['file'].apply(lambda x: x.split('/')[-1][:-format_len]+'npy')\n",
        "testdf"
      ],
      "metadata": {
        "colab": {
          "base_uri": "https://localhost:8080/",
          "height": 424
        },
        "id": "-S4L2xlCpnVm",
        "outputId": "b7cfa904-ea89-417d-add8-850d17490c1c"
      },
      "execution_count": null,
      "outputs": [
        {
          "output_type": "execute_result",
          "data": {
            "text/plain": [
              "                                                  file  \\\n",
              "0    /content/voice/test/test/de_f_63f5b79c76cf5a1a...   \n",
              "1    /content/voice/test/test/de_f_63f5b79c76cf5a1a...   \n",
              "2    /content/voice/test/test/es_m_08111ce8d6a7ebc6...   \n",
              "3    /content/voice/test/test/en_f_67a0cba10d171b24...   \n",
              "4    /content/voice/test/test/en_f_67a0cba10d171b24...   \n",
              "..                                                 ...   \n",
              "535  /content/voice/test/test/en_m_b74b2bf2af570393...   \n",
              "536  /content/voice/test/test/es_m_08111ce8d6a7ebc6...   \n",
              "537  /content/voice/test/test/de_f_63f5b79c76cf5a1a...   \n",
              "538  /content/voice/test/test/es_m_08111ce8d6a7ebc6...   \n",
              "539  /content/voice/test/test/en_m_b74b2bf2af570393...   \n",
              "\n",
              "                                                    ID  \n",
              "0    de_f_63f5b79c76cf5a1a4bbd1c40f54b166e.fragment...  \n",
              "1    de_f_63f5b79c76cf5a1a4bbd1c40f54b166e.fragment...  \n",
              "2    es_m_08111ce8d6a7ebc6cd2c27e62a3d98f0.fragment...  \n",
              "3    en_f_67a0cba10d171b24039a79faa1d4d603.fragment...  \n",
              "4    en_f_67a0cba10d171b24039a79faa1d4d603.fragment...  \n",
              "..                                                 ...  \n",
              "535  en_m_b74b2bf2af570393cae91f4ed89cece7.fragment...  \n",
              "536  es_m_08111ce8d6a7ebc6cd2c27e62a3d98f0.fragment...  \n",
              "537  de_f_63f5b79c76cf5a1a4bbd1c40f54b166e.fragment...  \n",
              "538  es_m_08111ce8d6a7ebc6cd2c27e62a3d98f0.fragment...  \n",
              "539  en_m_b74b2bf2af570393cae91f4ed89cece7.fragment...  \n",
              "\n",
              "[540 rows x 2 columns]"
            ],
            "text/html": [
              "\n",
              "\n",
              "  <div id=\"df-5e4c296d-3bea-45e6-b842-d6afa2ec1a14\">\n",
              "    <div class=\"colab-df-container\">\n",
              "      <div>\n",
              "<style scoped>\n",
              "    .dataframe tbody tr th:only-of-type {\n",
              "        vertical-align: middle;\n",
              "    }\n",
              "\n",
              "    .dataframe tbody tr th {\n",
              "        vertical-align: top;\n",
              "    }\n",
              "\n",
              "    .dataframe thead th {\n",
              "        text-align: right;\n",
              "    }\n",
              "</style>\n",
              "<table border=\"1\" class=\"dataframe\">\n",
              "  <thead>\n",
              "    <tr style=\"text-align: right;\">\n",
              "      <th></th>\n",
              "      <th>file</th>\n",
              "      <th>ID</th>\n",
              "    </tr>\n",
              "  </thead>\n",
              "  <tbody>\n",
              "    <tr>\n",
              "      <th>0</th>\n",
              "      <td>/content/voice/test/test/de_f_63f5b79c76cf5a1a...</td>\n",
              "      <td>de_f_63f5b79c76cf5a1a4bbd1c40f54b166e.fragment...</td>\n",
              "    </tr>\n",
              "    <tr>\n",
              "      <th>1</th>\n",
              "      <td>/content/voice/test/test/de_f_63f5b79c76cf5a1a...</td>\n",
              "      <td>de_f_63f5b79c76cf5a1a4bbd1c40f54b166e.fragment...</td>\n",
              "    </tr>\n",
              "    <tr>\n",
              "      <th>2</th>\n",
              "      <td>/content/voice/test/test/es_m_08111ce8d6a7ebc6...</td>\n",
              "      <td>es_m_08111ce8d6a7ebc6cd2c27e62a3d98f0.fragment...</td>\n",
              "    </tr>\n",
              "    <tr>\n",
              "      <th>3</th>\n",
              "      <td>/content/voice/test/test/en_f_67a0cba10d171b24...</td>\n",
              "      <td>en_f_67a0cba10d171b24039a79faa1d4d603.fragment...</td>\n",
              "    </tr>\n",
              "    <tr>\n",
              "      <th>4</th>\n",
              "      <td>/content/voice/test/test/en_f_67a0cba10d171b24...</td>\n",
              "      <td>en_f_67a0cba10d171b24039a79faa1d4d603.fragment...</td>\n",
              "    </tr>\n",
              "    <tr>\n",
              "      <th>...</th>\n",
              "      <td>...</td>\n",
              "      <td>...</td>\n",
              "    </tr>\n",
              "    <tr>\n",
              "      <th>535</th>\n",
              "      <td>/content/voice/test/test/en_m_b74b2bf2af570393...</td>\n",
              "      <td>en_m_b74b2bf2af570393cae91f4ed89cece7.fragment...</td>\n",
              "    </tr>\n",
              "    <tr>\n",
              "      <th>536</th>\n",
              "      <td>/content/voice/test/test/es_m_08111ce8d6a7ebc6...</td>\n",
              "      <td>es_m_08111ce8d6a7ebc6cd2c27e62a3d98f0.fragment...</td>\n",
              "    </tr>\n",
              "    <tr>\n",
              "      <th>537</th>\n",
              "      <td>/content/voice/test/test/de_f_63f5b79c76cf5a1a...</td>\n",
              "      <td>de_f_63f5b79c76cf5a1a4bbd1c40f54b166e.fragment...</td>\n",
              "    </tr>\n",
              "    <tr>\n",
              "      <th>538</th>\n",
              "      <td>/content/voice/test/test/es_m_08111ce8d6a7ebc6...</td>\n",
              "      <td>es_m_08111ce8d6a7ebc6cd2c27e62a3d98f0.fragment...</td>\n",
              "    </tr>\n",
              "    <tr>\n",
              "      <th>539</th>\n",
              "      <td>/content/voice/test/test/en_m_b74b2bf2af570393...</td>\n",
              "      <td>en_m_b74b2bf2af570393cae91f4ed89cece7.fragment...</td>\n",
              "    </tr>\n",
              "  </tbody>\n",
              "</table>\n",
              "<p>540 rows × 2 columns</p>\n",
              "</div>\n",
              "      <button class=\"colab-df-convert\" onclick=\"convertToInteractive('df-5e4c296d-3bea-45e6-b842-d6afa2ec1a14')\"\n",
              "              title=\"Convert this dataframe to an interactive table.\"\n",
              "              style=\"display:none;\">\n",
              "\n",
              "  <svg xmlns=\"http://www.w3.org/2000/svg\" height=\"24px\"viewBox=\"0 0 24 24\"\n",
              "       width=\"24px\">\n",
              "    <path d=\"M0 0h24v24H0V0z\" fill=\"none\"/>\n",
              "    <path d=\"M18.56 5.44l.94 2.06.94-2.06 2.06-.94-2.06-.94-.94-2.06-.94 2.06-2.06.94zm-11 1L8.5 8.5l.94-2.06 2.06-.94-2.06-.94L8.5 2.5l-.94 2.06-2.06.94zm10 10l.94 2.06.94-2.06 2.06-.94-2.06-.94-.94-2.06-.94 2.06-2.06.94z\"/><path d=\"M17.41 7.96l-1.37-1.37c-.4-.4-.92-.59-1.43-.59-.52 0-1.04.2-1.43.59L10.3 9.45l-7.72 7.72c-.78.78-.78 2.05 0 2.83L4 21.41c.39.39.9.59 1.41.59.51 0 1.02-.2 1.41-.59l7.78-7.78 2.81-2.81c.8-.78.8-2.07 0-2.86zM5.41 20L4 18.59l7.72-7.72 1.47 1.35L5.41 20z\"/>\n",
              "  </svg>\n",
              "      </button>\n",
              "\n",
              "\n",
              "\n",
              "    <div id=\"df-e5e014ed-1553-41b1-983d-9d611a695617\">\n",
              "      <button class=\"colab-df-quickchart\" onclick=\"quickchart('df-e5e014ed-1553-41b1-983d-9d611a695617')\"\n",
              "              title=\"Suggest charts.\"\n",
              "              style=\"display:none;\">\n",
              "\n",
              "<svg xmlns=\"http://www.w3.org/2000/svg\" height=\"24px\"viewBox=\"0 0 24 24\"\n",
              "     width=\"24px\">\n",
              "    <g>\n",
              "        <path d=\"M19 3H5c-1.1 0-2 .9-2 2v14c0 1.1.9 2 2 2h14c1.1 0 2-.9 2-2V5c0-1.1-.9-2-2-2zM9 17H7v-7h2v7zm4 0h-2V7h2v10zm4 0h-2v-4h2v4z\"/>\n",
              "    </g>\n",
              "</svg>\n",
              "      </button>\n",
              "    </div>\n",
              "\n",
              "<style>\n",
              "  .colab-df-quickchart {\n",
              "    background-color: #E8F0FE;\n",
              "    border: none;\n",
              "    border-radius: 50%;\n",
              "    cursor: pointer;\n",
              "    display: none;\n",
              "    fill: #1967D2;\n",
              "    height: 32px;\n",
              "    padding: 0 0 0 0;\n",
              "    width: 32px;\n",
              "  }\n",
              "\n",
              "  .colab-df-quickchart:hover {\n",
              "    background-color: #E2EBFA;\n",
              "    box-shadow: 0px 1px 2px rgba(60, 64, 67, 0.3), 0px 1px 3px 1px rgba(60, 64, 67, 0.15);\n",
              "    fill: #174EA6;\n",
              "  }\n",
              "\n",
              "  [theme=dark] .colab-df-quickchart {\n",
              "    background-color: #3B4455;\n",
              "    fill: #D2E3FC;\n",
              "  }\n",
              "\n",
              "  [theme=dark] .colab-df-quickchart:hover {\n",
              "    background-color: #434B5C;\n",
              "    box-shadow: 0px 1px 3px 1px rgba(0, 0, 0, 0.15);\n",
              "    filter: drop-shadow(0px 1px 2px rgba(0, 0, 0, 0.3));\n",
              "    fill: #FFFFFF;\n",
              "  }\n",
              "</style>\n",
              "\n",
              "    <script>\n",
              "      async function quickchart(key) {\n",
              "        const containerElement = document.querySelector('#' + key);\n",
              "        const charts = await google.colab.kernel.invokeFunction(\n",
              "            'suggestCharts', [key], {});\n",
              "      }\n",
              "    </script>\n",
              "\n",
              "      <script>\n",
              "\n",
              "function displayQuickchartButton(domScope) {\n",
              "  let quickchartButtonEl =\n",
              "    domScope.querySelector('#df-e5e014ed-1553-41b1-983d-9d611a695617 button.colab-df-quickchart');\n",
              "  quickchartButtonEl.style.display =\n",
              "    google.colab.kernel.accessAllowed ? 'block' : 'none';\n",
              "}\n",
              "\n",
              "        displayQuickchartButton(document);\n",
              "      </script>\n",
              "      <style>\n",
              "    .colab-df-container {\n",
              "      display:flex;\n",
              "      flex-wrap:wrap;\n",
              "      gap: 12px;\n",
              "    }\n",
              "\n",
              "    .colab-df-convert {\n",
              "      background-color: #E8F0FE;\n",
              "      border: none;\n",
              "      border-radius: 50%;\n",
              "      cursor: pointer;\n",
              "      display: none;\n",
              "      fill: #1967D2;\n",
              "      height: 32px;\n",
              "      padding: 0 0 0 0;\n",
              "      width: 32px;\n",
              "    }\n",
              "\n",
              "    .colab-df-convert:hover {\n",
              "      background-color: #E2EBFA;\n",
              "      box-shadow: 0px 1px 2px rgba(60, 64, 67, 0.3), 0px 1px 3px 1px rgba(60, 64, 67, 0.15);\n",
              "      fill: #174EA6;\n",
              "    }\n",
              "\n",
              "    [theme=dark] .colab-df-convert {\n",
              "      background-color: #3B4455;\n",
              "      fill: #D2E3FC;\n",
              "    }\n",
              "\n",
              "    [theme=dark] .colab-df-convert:hover {\n",
              "      background-color: #434B5C;\n",
              "      box-shadow: 0px 1px 3px 1px rgba(0, 0, 0, 0.15);\n",
              "      filter: drop-shadow(0px 1px 2px rgba(0, 0, 0, 0.3));\n",
              "      fill: #FFFFFF;\n",
              "    }\n",
              "  </style>\n",
              "\n",
              "      <script>\n",
              "        const buttonEl =\n",
              "          document.querySelector('#df-5e4c296d-3bea-45e6-b842-d6afa2ec1a14 button.colab-df-convert');\n",
              "        buttonEl.style.display =\n",
              "          google.colab.kernel.accessAllowed ? 'block' : 'none';\n",
              "\n",
              "        async function convertToInteractive(key) {\n",
              "          const element = document.querySelector('#df-5e4c296d-3bea-45e6-b842-d6afa2ec1a14');\n",
              "          const dataTable =\n",
              "            await google.colab.kernel.invokeFunction('convertToInteractive',\n",
              "                                                     [key], {});\n",
              "          if (!dataTable) return;\n",
              "\n",
              "          const docLinkHtml = 'Like what you see? Visit the ' +\n",
              "            '<a target=\"_blank\" href=https://colab.research.google.com/notebooks/data_table.ipynb>data table notebook</a>'\n",
              "            + ' to learn more about interactive tables.';\n",
              "          element.innerHTML = '';\n",
              "          dataTable['output_type'] = 'display_data';\n",
              "          await google.colab.output.renderOutput(dataTable, element);\n",
              "          const docLink = document.createElement('div');\n",
              "          docLink.innerHTML = docLinkHtml;\n",
              "          element.appendChild(docLink);\n",
              "        }\n",
              "      </script>\n",
              "    </div>\n",
              "  </div>\n"
            ]
          },
          "metadata": {},
          "execution_count": 10
        }
      ]
    },
    {
      "cell_type": "code",
      "source": [
        "traindf['lang'] = traindf['ID'].apply(lambda x: x.split('_')[0])\n",
        "testdf['lang'] = testdf['ID'].apply(lambda x: x.split('_')[0])"
      ],
      "metadata": {
        "id": "5R7PAuYu5EuY"
      },
      "execution_count": null,
      "outputs": []
    },
    {
      "cell_type": "markdown",
      "source": [
        "### create folders"
      ],
      "metadata": {
        "id": "Cb2ozf98pN2y"
      }
    },
    {
      "cell_type": "code",
      "execution_count": null,
      "metadata": {
        "id": "iqV7sP6ligzP"
      },
      "outputs": [],
      "source": [
        "! mkdir $CUR_DIR/train\n",
        "! mkdir $CUR_DIR/test"
      ]
    },
    {
      "cell_type": "code",
      "execution_count": null,
      "metadata": {
        "id": "3-XIBcY_hllf"
      },
      "outputs": [],
      "source": [
        "! mv $TRAIN_VOICE_PATH $TRAIN_VOICE_OLD_PATH\n",
        "! mv $TEST_VOICE_PATH $TEST_VOICE_OLD_PATH"
      ]
    },
    {
      "cell_type": "code",
      "execution_count": null,
      "metadata": {
        "colab": {
          "base_uri": "https://localhost:8080/"
        },
        "id": "fsqFx6eL_n8H",
        "outputId": "2e81c425-3a0d-4d77-a6ed-c787731edadd"
      },
      "outputs": [
        {
          "name": "stdout",
          "output_type": "stream",
          "text": [
            "mkdir: missing operand\n",
            "Try 'mkdir --help' for more information.\n",
            "mkdir: missing operand\n",
            "Try 'mkdir --help' for more information.\n"
          ]
        }
      ],
      "source": [
        "!mkdir $TRAIN_IMG_PATH\n",
        "!mkdir $TEST_IMG_PATH"
      ]
    },
    {
      "cell_type": "markdown",
      "metadata": {
        "id": "0UurKaezGDn7"
      },
      "source": [
        "## Mozilla Dataset"
      ]
    },
    {
      "cell_type": "code",
      "execution_count": null,
      "metadata": {
        "id": "my5nSPwcGE3a"
      },
      "outputs": [],
      "source": [
        "! kaggle datasets download mozillaorg/common-voice"
      ]
    },
    {
      "cell_type": "code",
      "execution_count": null,
      "metadata": {
        "id": "Qfkd966-IT4n"
      },
      "outputs": [],
      "source": [
        "!mkdir mozilla"
      ]
    },
    {
      "cell_type": "code",
      "execution_count": null,
      "metadata": {
        "id": "f2RS9C4tGP5j"
      },
      "outputs": [],
      "source": [
        "%%capture\n",
        "!unzip {CUR_DIR}common-voice.zip -d $MOZILLA_PATH"
      ]
    },
    {
      "cell_type": "markdown",
      "metadata": {
        "id": "3PGxfNHYI4Ev"
      },
      "source": [
        "### remove invalid and other datasets"
      ]
    },
    {
      "cell_type": "code",
      "execution_count": null,
      "metadata": {
        "id": "b3CWtQwQI3ag"
      },
      "outputs": [],
      "source": [
        "!rm $MOZILLA_PATH/LICENSE.txt\n",
        "!rm $MOZILLA_PATH/README.txt\n",
        "!rm -r $MOZILLA_PATH/cv-other*\n",
        "!rm -r $MOZILLA_PATH/cv-invalid*"
      ]
    },
    {
      "cell_type": "code",
      "execution_count": null,
      "metadata": {
        "id": "eKNLQb_HLZZN"
      },
      "outputs": [],
      "source": [
        "valid_train_df = pd.read_csv(MOZILLA_PATH+\"cv-valid-train.csv\")\n",
        "valid_train_df"
      ]
    },
    {
      "cell_type": "code",
      "execution_count": null,
      "metadata": {
        "id": "jkrbXBPrXH8X"
      },
      "outputs": [],
      "source": [
        "valid_dev_df = pd.read_csv(MOZILLA_PATH+\"cv-valid-dev.csv\")\n",
        "valid_dev_df"
      ]
    },
    {
      "cell_type": "code",
      "execution_count": null,
      "metadata": {
        "id": "l2t5U5n1XHxp"
      },
      "outputs": [],
      "source": [
        "valid_test_df = pd.read_csv(MOZILLA_PATH+\"cv-valid-test.csv\")\n",
        "valid_test_df"
      ]
    },
    {
      "cell_type": "code",
      "execution_count": null,
      "metadata": {
        "id": "vHQ0uqZAXW94"
      },
      "outputs": [],
      "source": [
        "def process_mozilla_df(df, path_type):\n",
        "    #df = df[pd.notnull(df['accent'])]\n",
        "    df.dropna(subset=['accent'], inplace=True)\n",
        "    df.rename(columns={'filename': 'file', 'accent': 'lang'}, inplace=True)\n",
        "    df['ID'] = df['file'].str.split('/', expand=True)[1] + '.npy'\n",
        "    df['file'] = path_type+df['file']"
      ]
    },
    {
      "cell_type": "code",
      "execution_count": null,
      "metadata": {
        "id": "o1Y-m4L_Xwno"
      },
      "outputs": [],
      "source": [
        "process_mozilla_df(valid_train_df, MOZILLA_VALID_TRAIN)\n",
        "process_mozilla_df(valid_dev_df, MOZILLA_VALID_DEV)\n",
        "process_mozilla_df(valid_test_df, MOZILLA_VALID_TEST)"
      ]
    },
    {
      "cell_type": "code",
      "execution_count": null,
      "metadata": {
        "colab": {
          "base_uri": "https://localhost:8080/",
          "height": 423
        },
        "id": "5KajzVirY77m",
        "outputId": "322df90b-2810-4941-d429-9438d2cb7768"
      },
      "outputs": [
        {
          "data": {
            "text/html": [
              "\n",
              "  <div id=\"df-01ad72b8-0ffd-47ea-9747-d87c09094e80\">\n",
              "    <div class=\"colab-df-container\">\n",
              "      <div>\n",
              "<style scoped>\n",
              "    .dataframe tbody tr th:only-of-type {\n",
              "        vertical-align: middle;\n",
              "    }\n",
              "\n",
              "    .dataframe tbody tr th {\n",
              "        vertical-align: top;\n",
              "    }\n",
              "\n",
              "    .dataframe thead th {\n",
              "        text-align: right;\n",
              "    }\n",
              "</style>\n",
              "<table border=\"1\" class=\"dataframe\">\n",
              "  <thead>\n",
              "    <tr style=\"text-align: right;\">\n",
              "      <th></th>\n",
              "      <th>file</th>\n",
              "      <th>text</th>\n",
              "      <th>up_votes</th>\n",
              "      <th>down_votes</th>\n",
              "      <th>age</th>\n",
              "      <th>gender</th>\n",
              "      <th>lang</th>\n",
              "      <th>duration</th>\n",
              "      <th>ID</th>\n",
              "    </tr>\n",
              "  </thead>\n",
              "  <tbody>\n",
              "    <tr>\n",
              "      <th>5</th>\n",
              "      <td>/content/mozilla/cv-valid-train/cv-valid-train...</td>\n",
              "      <td>a shepherd may like to travel but he should ne...</td>\n",
              "      <td>1</td>\n",
              "      <td>0</td>\n",
              "      <td>twenties</td>\n",
              "      <td>female</td>\n",
              "      <td>us</td>\n",
              "      <td>NaN</td>\n",
              "      <td>sample-000005.mp3.jpg</td>\n",
              "    </tr>\n",
              "    <tr>\n",
              "      <th>8</th>\n",
              "      <td>/content/mozilla/cv-valid-train/cv-valid-train...</td>\n",
              "      <td>put jackie right on the staff</td>\n",
              "      <td>3</td>\n",
              "      <td>0</td>\n",
              "      <td>seventies</td>\n",
              "      <td>male</td>\n",
              "      <td>us</td>\n",
              "      <td>NaN</td>\n",
              "      <td>sample-000008.mp3.jpg</td>\n",
              "    </tr>\n",
              "    <tr>\n",
              "      <th>13</th>\n",
              "      <td>/content/mozilla/cv-valid-train/cv-valid-train...</td>\n",
              "      <td>but he had found a guide and didn't want to mi...</td>\n",
              "      <td>1</td>\n",
              "      <td>0</td>\n",
              "      <td>thirties</td>\n",
              "      <td>female</td>\n",
              "      <td>us</td>\n",
              "      <td>NaN</td>\n",
              "      <td>sample-000013.mp3.jpg</td>\n",
              "    </tr>\n",
              "    <tr>\n",
              "      <th>14</th>\n",
              "      <td>/content/mozilla/cv-valid-train/cv-valid-train...</td>\n",
              "      <td>as they began to decorate the hallway a silhou...</td>\n",
              "      <td>1</td>\n",
              "      <td>0</td>\n",
              "      <td>sixties</td>\n",
              "      <td>male</td>\n",
              "      <td>england</td>\n",
              "      <td>NaN</td>\n",
              "      <td>sample-000014.mp3.jpg</td>\n",
              "    </tr>\n",
              "    <tr>\n",
              "      <th>19</th>\n",
              "      <td>/content/mozilla/cv-valid-train/cv-valid-train...</td>\n",
              "      <td>then they got ahold of some dough and went goofy</td>\n",
              "      <td>1</td>\n",
              "      <td>0</td>\n",
              "      <td>fifties</td>\n",
              "      <td>male</td>\n",
              "      <td>australia</td>\n",
              "      <td>NaN</td>\n",
              "      <td>sample-000019.mp3.jpg</td>\n",
              "    </tr>\n",
              "    <tr>\n",
              "      <th>...</th>\n",
              "      <td>...</td>\n",
              "      <td>...</td>\n",
              "      <td>...</td>\n",
              "      <td>...</td>\n",
              "      <td>...</td>\n",
              "      <td>...</td>\n",
              "      <td>...</td>\n",
              "      <td>...</td>\n",
              "      <td>...</td>\n",
              "    </tr>\n",
              "    <tr>\n",
              "      <th>195766</th>\n",
              "      <td>/content/mozilla/cv-valid-train/cv-valid-train...</td>\n",
              "      <td>but before i go i want to tell you a little story</td>\n",
              "      <td>1</td>\n",
              "      <td>0</td>\n",
              "      <td>fourties</td>\n",
              "      <td>male</td>\n",
              "      <td>england</td>\n",
              "      <td>NaN</td>\n",
              "      <td>sample-195766.mp3.jpg</td>\n",
              "    </tr>\n",
              "    <tr>\n",
              "      <th>195767</th>\n",
              "      <td>/content/mozilla/cv-valid-train/cv-valid-train...</td>\n",
              "      <td>down below in the darkness were hundreds of pe...</td>\n",
              "      <td>3</td>\n",
              "      <td>0</td>\n",
              "      <td>thirties</td>\n",
              "      <td>female</td>\n",
              "      <td>us</td>\n",
              "      <td>NaN</td>\n",
              "      <td>sample-195767.mp3.jpg</td>\n",
              "    </tr>\n",
              "    <tr>\n",
              "      <th>195770</th>\n",
              "      <td>/content/mozilla/cv-valid-train/cv-valid-train...</td>\n",
              "      <td>he heard a muffled grating sound and saw the b...</td>\n",
              "      <td>4</td>\n",
              "      <td>0</td>\n",
              "      <td>twenties</td>\n",
              "      <td>male</td>\n",
              "      <td>england</td>\n",
              "      <td>NaN</td>\n",
              "      <td>sample-195770.mp3.jpg</td>\n",
              "    </tr>\n",
              "    <tr>\n",
              "      <th>195771</th>\n",
              "      <td>/content/mozilla/cv-valid-train/cv-valid-train...</td>\n",
              "      <td>the englishman said nothing</td>\n",
              "      <td>1</td>\n",
              "      <td>0</td>\n",
              "      <td>thirties</td>\n",
              "      <td>male</td>\n",
              "      <td>england</td>\n",
              "      <td>NaN</td>\n",
              "      <td>sample-195771.mp3.jpg</td>\n",
              "    </tr>\n",
              "    <tr>\n",
              "      <th>195774</th>\n",
              "      <td>/content/mozilla/cv-valid-train/cv-valid-train...</td>\n",
              "      <td>the phone rang while she was awake</td>\n",
              "      <td>2</td>\n",
              "      <td>0</td>\n",
              "      <td>twenties</td>\n",
              "      <td>male</td>\n",
              "      <td>us</td>\n",
              "      <td>NaN</td>\n",
              "      <td>sample-195774.mp3.jpg</td>\n",
              "    </tr>\n",
              "  </tbody>\n",
              "</table>\n",
              "<p>64711 rows × 9 columns</p>\n",
              "</div>\n",
              "      <button class=\"colab-df-convert\" onclick=\"convertToInteractive('df-01ad72b8-0ffd-47ea-9747-d87c09094e80')\"\n",
              "              title=\"Convert this dataframe to an interactive table.\"\n",
              "              style=\"display:none;\">\n",
              "        \n",
              "  <svg xmlns=\"http://www.w3.org/2000/svg\" height=\"24px\"viewBox=\"0 0 24 24\"\n",
              "       width=\"24px\">\n",
              "    <path d=\"M0 0h24v24H0V0z\" fill=\"none\"/>\n",
              "    <path d=\"M18.56 5.44l.94 2.06.94-2.06 2.06-.94-2.06-.94-.94-2.06-.94 2.06-2.06.94zm-11 1L8.5 8.5l.94-2.06 2.06-.94-2.06-.94L8.5 2.5l-.94 2.06-2.06.94zm10 10l.94 2.06.94-2.06 2.06-.94-2.06-.94-.94-2.06-.94 2.06-2.06.94z\"/><path d=\"M17.41 7.96l-1.37-1.37c-.4-.4-.92-.59-1.43-.59-.52 0-1.04.2-1.43.59L10.3 9.45l-7.72 7.72c-.78.78-.78 2.05 0 2.83L4 21.41c.39.39.9.59 1.41.59.51 0 1.02-.2 1.41-.59l7.78-7.78 2.81-2.81c.8-.78.8-2.07 0-2.86zM5.41 20L4 18.59l7.72-7.72 1.47 1.35L5.41 20z\"/>\n",
              "  </svg>\n",
              "      </button>\n",
              "      \n",
              "  <style>\n",
              "    .colab-df-container {\n",
              "      display:flex;\n",
              "      flex-wrap:wrap;\n",
              "      gap: 12px;\n",
              "    }\n",
              "\n",
              "    .colab-df-convert {\n",
              "      background-color: #E8F0FE;\n",
              "      border: none;\n",
              "      border-radius: 50%;\n",
              "      cursor: pointer;\n",
              "      display: none;\n",
              "      fill: #1967D2;\n",
              "      height: 32px;\n",
              "      padding: 0 0 0 0;\n",
              "      width: 32px;\n",
              "    }\n",
              "\n",
              "    .colab-df-convert:hover {\n",
              "      background-color: #E2EBFA;\n",
              "      box-shadow: 0px 1px 2px rgba(60, 64, 67, 0.3), 0px 1px 3px 1px rgba(60, 64, 67, 0.15);\n",
              "      fill: #174EA6;\n",
              "    }\n",
              "\n",
              "    [theme=dark] .colab-df-convert {\n",
              "      background-color: #3B4455;\n",
              "      fill: #D2E3FC;\n",
              "    }\n",
              "\n",
              "    [theme=dark] .colab-df-convert:hover {\n",
              "      background-color: #434B5C;\n",
              "      box-shadow: 0px 1px 3px 1px rgba(0, 0, 0, 0.15);\n",
              "      filter: drop-shadow(0px 1px 2px rgba(0, 0, 0, 0.3));\n",
              "      fill: #FFFFFF;\n",
              "    }\n",
              "  </style>\n",
              "\n",
              "      <script>\n",
              "        const buttonEl =\n",
              "          document.querySelector('#df-01ad72b8-0ffd-47ea-9747-d87c09094e80 button.colab-df-convert');\n",
              "        buttonEl.style.display =\n",
              "          google.colab.kernel.accessAllowed ? 'block' : 'none';\n",
              "\n",
              "        async function convertToInteractive(key) {\n",
              "          const element = document.querySelector('#df-01ad72b8-0ffd-47ea-9747-d87c09094e80');\n",
              "          const dataTable =\n",
              "            await google.colab.kernel.invokeFunction('convertToInteractive',\n",
              "                                                     [key], {});\n",
              "          if (!dataTable) return;\n",
              "\n",
              "          const docLinkHtml = 'Like what you see? Visit the ' +\n",
              "            '<a target=\"_blank\" href=https://colab.research.google.com/notebooks/data_table.ipynb>data table notebook</a>'\n",
              "            + ' to learn more about interactive tables.';\n",
              "          element.innerHTML = '';\n",
              "          dataTable['output_type'] = 'display_data';\n",
              "          await google.colab.output.renderOutput(dataTable, element);\n",
              "          const docLink = document.createElement('div');\n",
              "          docLink.innerHTML = docLinkHtml;\n",
              "          element.appendChild(docLink);\n",
              "        }\n",
              "      </script>\n",
              "    </div>\n",
              "  </div>\n",
              "  "
            ],
            "text/plain": [
              "                                                     file  \\\n",
              "5       /content/mozilla/cv-valid-train/cv-valid-train...   \n",
              "8       /content/mozilla/cv-valid-train/cv-valid-train...   \n",
              "13      /content/mozilla/cv-valid-train/cv-valid-train...   \n",
              "14      /content/mozilla/cv-valid-train/cv-valid-train...   \n",
              "19      /content/mozilla/cv-valid-train/cv-valid-train...   \n",
              "...                                                   ...   \n",
              "195766  /content/mozilla/cv-valid-train/cv-valid-train...   \n",
              "195767  /content/mozilla/cv-valid-train/cv-valid-train...   \n",
              "195770  /content/mozilla/cv-valid-train/cv-valid-train...   \n",
              "195771  /content/mozilla/cv-valid-train/cv-valid-train...   \n",
              "195774  /content/mozilla/cv-valid-train/cv-valid-train...   \n",
              "\n",
              "                                                     text  up_votes  \\\n",
              "5       a shepherd may like to travel but he should ne...         1   \n",
              "8                           put jackie right on the staff         3   \n",
              "13      but he had found a guide and didn't want to mi...         1   \n",
              "14      as they began to decorate the hallway a silhou...         1   \n",
              "19       then they got ahold of some dough and went goofy         1   \n",
              "...                                                   ...       ...   \n",
              "195766  but before i go i want to tell you a little story         1   \n",
              "195767  down below in the darkness were hundreds of pe...         3   \n",
              "195770  he heard a muffled grating sound and saw the b...         4   \n",
              "195771                        the englishman said nothing         1   \n",
              "195774                 the phone rang while she was awake         2   \n",
              "\n",
              "        down_votes        age  gender       lang  duration  \\\n",
              "5                0   twenties  female         us       NaN   \n",
              "8                0  seventies    male         us       NaN   \n",
              "13               0   thirties  female         us       NaN   \n",
              "14               0    sixties    male    england       NaN   \n",
              "19               0    fifties    male  australia       NaN   \n",
              "...            ...        ...     ...        ...       ...   \n",
              "195766           0   fourties    male    england       NaN   \n",
              "195767           0   thirties  female         us       NaN   \n",
              "195770           0   twenties    male    england       NaN   \n",
              "195771           0   thirties    male    england       NaN   \n",
              "195774           0   twenties    male         us       NaN   \n",
              "\n",
              "                           ID  \n",
              "5       sample-000005.mp3.jpg  \n",
              "8       sample-000008.mp3.jpg  \n",
              "13      sample-000013.mp3.jpg  \n",
              "14      sample-000014.mp3.jpg  \n",
              "19      sample-000019.mp3.jpg  \n",
              "...                       ...  \n",
              "195766  sample-195766.mp3.jpg  \n",
              "195767  sample-195767.mp3.jpg  \n",
              "195770  sample-195770.mp3.jpg  \n",
              "195771  sample-195771.mp3.jpg  \n",
              "195774  sample-195774.mp3.jpg  \n",
              "\n",
              "[64711 rows x 9 columns]"
            ]
          },
          "execution_count": 38,
          "metadata": {},
          "output_type": "execute_result"
        }
      ],
      "source": [
        "valid_train_df"
      ]
    },
    {
      "cell_type": "code",
      "execution_count": null,
      "metadata": {
        "colab": {
          "base_uri": "https://localhost:8080/",
          "height": 423
        },
        "id": "Aor9cbnWY-ZV",
        "outputId": "4353d557-c024-4127-f3b1-c5f8c7b9cfa7"
      },
      "outputs": [
        {
          "data": {
            "text/html": [
              "\n",
              "  <div id=\"df-7ac059a5-68b8-44bf-9e11-d8c56c651079\">\n",
              "    <div class=\"colab-df-container\">\n",
              "      <div>\n",
              "<style scoped>\n",
              "    .dataframe tbody tr th:only-of-type {\n",
              "        vertical-align: middle;\n",
              "    }\n",
              "\n",
              "    .dataframe tbody tr th {\n",
              "        vertical-align: top;\n",
              "    }\n",
              "\n",
              "    .dataframe thead th {\n",
              "        text-align: right;\n",
              "    }\n",
              "</style>\n",
              "<table border=\"1\" class=\"dataframe\">\n",
              "  <thead>\n",
              "    <tr style=\"text-align: right;\">\n",
              "      <th></th>\n",
              "      <th>file</th>\n",
              "      <th>text</th>\n",
              "      <th>up_votes</th>\n",
              "      <th>down_votes</th>\n",
              "      <th>age</th>\n",
              "      <th>gender</th>\n",
              "      <th>lang</th>\n",
              "      <th>duration</th>\n",
              "      <th>ID</th>\n",
              "    </tr>\n",
              "  </thead>\n",
              "  <tbody>\n",
              "    <tr>\n",
              "      <th>4</th>\n",
              "      <td>/content/mozilla/cv-valid-dev/cv-valid-dev/sam...</td>\n",
              "      <td>he moved about invisible but everyone could he...</td>\n",
              "      <td>1</td>\n",
              "      <td>0</td>\n",
              "      <td>fourties</td>\n",
              "      <td>female</td>\n",
              "      <td>england</td>\n",
              "      <td>NaN</td>\n",
              "      <td>sample-000004.mp3.jpg</td>\n",
              "    </tr>\n",
              "    <tr>\n",
              "      <th>5</th>\n",
              "      <td>/content/mozilla/cv-valid-dev/cv-valid-dev/sam...</td>\n",
              "      <td>but everything had changed</td>\n",
              "      <td>3</td>\n",
              "      <td>0</td>\n",
              "      <td>teens</td>\n",
              "      <td>male</td>\n",
              "      <td>us</td>\n",
              "      <td>NaN</td>\n",
              "      <td>sample-000005.mp3.jpg</td>\n",
              "    </tr>\n",
              "    <tr>\n",
              "      <th>8</th>\n",
              "      <td>/content/mozilla/cv-valid-dev/cv-valid-dev/sam...</td>\n",
              "      <td>the shop folks were taking down their shutters...</td>\n",
              "      <td>1</td>\n",
              "      <td>0</td>\n",
              "      <td>twenties</td>\n",
              "      <td>female</td>\n",
              "      <td>canada</td>\n",
              "      <td>NaN</td>\n",
              "      <td>sample-000008.mp3.jpg</td>\n",
              "    </tr>\n",
              "    <tr>\n",
              "      <th>9</th>\n",
              "      <td>/content/mozilla/cv-valid-dev/cv-valid-dev/sam...</td>\n",
              "      <td>the teacher thought that he'd taught himself a...</td>\n",
              "      <td>1</td>\n",
              "      <td>0</td>\n",
              "      <td>fifties</td>\n",
              "      <td>female</td>\n",
              "      <td>australia</td>\n",
              "      <td>NaN</td>\n",
              "      <td>sample-000009.mp3.jpg</td>\n",
              "    </tr>\n",
              "    <tr>\n",
              "      <th>13</th>\n",
              "      <td>/content/mozilla/cv-valid-dev/cv-valid-dev/sam...</td>\n",
              "      <td>in those days very few of the people had any i...</td>\n",
              "      <td>5</td>\n",
              "      <td>0</td>\n",
              "      <td>twenties</td>\n",
              "      <td>male</td>\n",
              "      <td>us</td>\n",
              "      <td>NaN</td>\n",
              "      <td>sample-000013.mp3.jpg</td>\n",
              "    </tr>\n",
              "    <tr>\n",
              "      <th>...</th>\n",
              "      <td>...</td>\n",
              "      <td>...</td>\n",
              "      <td>...</td>\n",
              "      <td>...</td>\n",
              "      <td>...</td>\n",
              "      <td>...</td>\n",
              "      <td>...</td>\n",
              "      <td>...</td>\n",
              "      <td>...</td>\n",
              "    </tr>\n",
              "    <tr>\n",
              "      <th>4053</th>\n",
              "      <td>/content/mozilla/cv-valid-dev/cv-valid-dev/sam...</td>\n",
              "      <td>if you start your emails with greetings let me...</td>\n",
              "      <td>1</td>\n",
              "      <td>0</td>\n",
              "      <td>sixties</td>\n",
              "      <td>female</td>\n",
              "      <td>canada</td>\n",
              "      <td>NaN</td>\n",
              "      <td>sample-004053.mp3.jpg</td>\n",
              "    </tr>\n",
              "    <tr>\n",
              "      <th>4055</th>\n",
              "      <td>/content/mozilla/cv-valid-dev/cv-valid-dev/sam...</td>\n",
              "      <td>the atmosphere was suffused with the sweet sce...</td>\n",
              "      <td>4</td>\n",
              "      <td>1</td>\n",
              "      <td>fourties</td>\n",
              "      <td>male</td>\n",
              "      <td>england</td>\n",
              "      <td>NaN</td>\n",
              "      <td>sample-004055.mp3.jpg</td>\n",
              "    </tr>\n",
              "    <tr>\n",
              "      <th>4067</th>\n",
              "      <td>/content/mozilla/cv-valid-dev/cv-valid-dev/sam...</td>\n",
              "      <td>they reached the center of a large plaza where...</td>\n",
              "      <td>3</td>\n",
              "      <td>0</td>\n",
              "      <td>fourties</td>\n",
              "      <td>female</td>\n",
              "      <td>us</td>\n",
              "      <td>NaN</td>\n",
              "      <td>sample-004067.mp3.jpg</td>\n",
              "    </tr>\n",
              "    <tr>\n",
              "      <th>4069</th>\n",
              "      <td>/content/mozilla/cv-valid-dev/cv-valid-dev/sam...</td>\n",
              "      <td>no sense messing up the streets</td>\n",
              "      <td>2</td>\n",
              "      <td>0</td>\n",
              "      <td>thirties</td>\n",
              "      <td>male</td>\n",
              "      <td>england</td>\n",
              "      <td>NaN</td>\n",
              "      <td>sample-004069.mp3.jpg</td>\n",
              "    </tr>\n",
              "    <tr>\n",
              "      <th>4073</th>\n",
              "      <td>/content/mozilla/cv-valid-dev/cv-valid-dev/sam...</td>\n",
              "      <td>that's what i'm not supposed to say</td>\n",
              "      <td>2</td>\n",
              "      <td>0</td>\n",
              "      <td>thirties</td>\n",
              "      <td>male</td>\n",
              "      <td>us</td>\n",
              "      <td>NaN</td>\n",
              "      <td>sample-004073.mp3.jpg</td>\n",
              "    </tr>\n",
              "  </tbody>\n",
              "</table>\n",
              "<p>1350 rows × 9 columns</p>\n",
              "</div>\n",
              "      <button class=\"colab-df-convert\" onclick=\"convertToInteractive('df-7ac059a5-68b8-44bf-9e11-d8c56c651079')\"\n",
              "              title=\"Convert this dataframe to an interactive table.\"\n",
              "              style=\"display:none;\">\n",
              "        \n",
              "  <svg xmlns=\"http://www.w3.org/2000/svg\" height=\"24px\"viewBox=\"0 0 24 24\"\n",
              "       width=\"24px\">\n",
              "    <path d=\"M0 0h24v24H0V0z\" fill=\"none\"/>\n",
              "    <path d=\"M18.56 5.44l.94 2.06.94-2.06 2.06-.94-2.06-.94-.94-2.06-.94 2.06-2.06.94zm-11 1L8.5 8.5l.94-2.06 2.06-.94-2.06-.94L8.5 2.5l-.94 2.06-2.06.94zm10 10l.94 2.06.94-2.06 2.06-.94-2.06-.94-.94-2.06-.94 2.06-2.06.94z\"/><path d=\"M17.41 7.96l-1.37-1.37c-.4-.4-.92-.59-1.43-.59-.52 0-1.04.2-1.43.59L10.3 9.45l-7.72 7.72c-.78.78-.78 2.05 0 2.83L4 21.41c.39.39.9.59 1.41.59.51 0 1.02-.2 1.41-.59l7.78-7.78 2.81-2.81c.8-.78.8-2.07 0-2.86zM5.41 20L4 18.59l7.72-7.72 1.47 1.35L5.41 20z\"/>\n",
              "  </svg>\n",
              "      </button>\n",
              "      \n",
              "  <style>\n",
              "    .colab-df-container {\n",
              "      display:flex;\n",
              "      flex-wrap:wrap;\n",
              "      gap: 12px;\n",
              "    }\n",
              "\n",
              "    .colab-df-convert {\n",
              "      background-color: #E8F0FE;\n",
              "      border: none;\n",
              "      border-radius: 50%;\n",
              "      cursor: pointer;\n",
              "      display: none;\n",
              "      fill: #1967D2;\n",
              "      height: 32px;\n",
              "      padding: 0 0 0 0;\n",
              "      width: 32px;\n",
              "    }\n",
              "\n",
              "    .colab-df-convert:hover {\n",
              "      background-color: #E2EBFA;\n",
              "      box-shadow: 0px 1px 2px rgba(60, 64, 67, 0.3), 0px 1px 3px 1px rgba(60, 64, 67, 0.15);\n",
              "      fill: #174EA6;\n",
              "    }\n",
              "\n",
              "    [theme=dark] .colab-df-convert {\n",
              "      background-color: #3B4455;\n",
              "      fill: #D2E3FC;\n",
              "    }\n",
              "\n",
              "    [theme=dark] .colab-df-convert:hover {\n",
              "      background-color: #434B5C;\n",
              "      box-shadow: 0px 1px 3px 1px rgba(0, 0, 0, 0.15);\n",
              "      filter: drop-shadow(0px 1px 2px rgba(0, 0, 0, 0.3));\n",
              "      fill: #FFFFFF;\n",
              "    }\n",
              "  </style>\n",
              "\n",
              "      <script>\n",
              "        const buttonEl =\n",
              "          document.querySelector('#df-7ac059a5-68b8-44bf-9e11-d8c56c651079 button.colab-df-convert');\n",
              "        buttonEl.style.display =\n",
              "          google.colab.kernel.accessAllowed ? 'block' : 'none';\n",
              "\n",
              "        async function convertToInteractive(key) {\n",
              "          const element = document.querySelector('#df-7ac059a5-68b8-44bf-9e11-d8c56c651079');\n",
              "          const dataTable =\n",
              "            await google.colab.kernel.invokeFunction('convertToInteractive',\n",
              "                                                     [key], {});\n",
              "          if (!dataTable) return;\n",
              "\n",
              "          const docLinkHtml = 'Like what you see? Visit the ' +\n",
              "            '<a target=\"_blank\" href=https://colab.research.google.com/notebooks/data_table.ipynb>data table notebook</a>'\n",
              "            + ' to learn more about interactive tables.';\n",
              "          element.innerHTML = '';\n",
              "          dataTable['output_type'] = 'display_data';\n",
              "          await google.colab.output.renderOutput(dataTable, element);\n",
              "          const docLink = document.createElement('div');\n",
              "          docLink.innerHTML = docLinkHtml;\n",
              "          element.appendChild(docLink);\n",
              "        }\n",
              "      </script>\n",
              "    </div>\n",
              "  </div>\n",
              "  "
            ],
            "text/plain": [
              "                                                   file  \\\n",
              "4     /content/mozilla/cv-valid-dev/cv-valid-dev/sam...   \n",
              "5     /content/mozilla/cv-valid-dev/cv-valid-dev/sam...   \n",
              "8     /content/mozilla/cv-valid-dev/cv-valid-dev/sam...   \n",
              "9     /content/mozilla/cv-valid-dev/cv-valid-dev/sam...   \n",
              "13    /content/mozilla/cv-valid-dev/cv-valid-dev/sam...   \n",
              "...                                                 ...   \n",
              "4053  /content/mozilla/cv-valid-dev/cv-valid-dev/sam...   \n",
              "4055  /content/mozilla/cv-valid-dev/cv-valid-dev/sam...   \n",
              "4067  /content/mozilla/cv-valid-dev/cv-valid-dev/sam...   \n",
              "4069  /content/mozilla/cv-valid-dev/cv-valid-dev/sam...   \n",
              "4073  /content/mozilla/cv-valid-dev/cv-valid-dev/sam...   \n",
              "\n",
              "                                                   text  up_votes  down_votes  \\\n",
              "4     he moved about invisible but everyone could he...         1           0   \n",
              "5                            but everything had changed         3           0   \n",
              "8     the shop folks were taking down their shutters...         1           0   \n",
              "9     the teacher thought that he'd taught himself a...         1           0   \n",
              "13    in those days very few of the people had any i...         5           0   \n",
              "...                                                 ...       ...         ...   \n",
              "4053  if you start your emails with greetings let me...         1           0   \n",
              "4055  the atmosphere was suffused with the sweet sce...         4           1   \n",
              "4067  they reached the center of a large plaza where...         3           0   \n",
              "4069                    no sense messing up the streets         2           0   \n",
              "4073                that's what i'm not supposed to say         2           0   \n",
              "\n",
              "           age  gender       lang  duration                     ID  \n",
              "4     fourties  female    england       NaN  sample-000004.mp3.jpg  \n",
              "5        teens    male         us       NaN  sample-000005.mp3.jpg  \n",
              "8     twenties  female     canada       NaN  sample-000008.mp3.jpg  \n",
              "9      fifties  female  australia       NaN  sample-000009.mp3.jpg  \n",
              "13    twenties    male         us       NaN  sample-000013.mp3.jpg  \n",
              "...        ...     ...        ...       ...                    ...  \n",
              "4053   sixties  female     canada       NaN  sample-004053.mp3.jpg  \n",
              "4055  fourties    male    england       NaN  sample-004055.mp3.jpg  \n",
              "4067  fourties  female         us       NaN  sample-004067.mp3.jpg  \n",
              "4069  thirties    male    england       NaN  sample-004069.mp3.jpg  \n",
              "4073  thirties    male         us       NaN  sample-004073.mp3.jpg  \n",
              "\n",
              "[1350 rows x 9 columns]"
            ]
          },
          "execution_count": 39,
          "metadata": {},
          "output_type": "execute_result"
        }
      ],
      "source": [
        "valid_dev_df"
      ]
    },
    {
      "cell_type": "code",
      "execution_count": null,
      "metadata": {
        "colab": {
          "base_uri": "https://localhost:8080/",
          "height": 423
        },
        "id": "zqBaDMh2ZBYD",
        "outputId": "24de5737-346b-453b-cfab-808c000ca53d"
      },
      "outputs": [
        {
          "data": {
            "text/html": [
              "\n",
              "  <div id=\"df-82e00292-9d80-4749-a9bd-489594c6e33e\">\n",
              "    <div class=\"colab-df-container\">\n",
              "      <div>\n",
              "<style scoped>\n",
              "    .dataframe tbody tr th:only-of-type {\n",
              "        vertical-align: middle;\n",
              "    }\n",
              "\n",
              "    .dataframe tbody tr th {\n",
              "        vertical-align: top;\n",
              "    }\n",
              "\n",
              "    .dataframe thead th {\n",
              "        text-align: right;\n",
              "    }\n",
              "</style>\n",
              "<table border=\"1\" class=\"dataframe\">\n",
              "  <thead>\n",
              "    <tr style=\"text-align: right;\">\n",
              "      <th></th>\n",
              "      <th>file</th>\n",
              "      <th>text</th>\n",
              "      <th>up_votes</th>\n",
              "      <th>down_votes</th>\n",
              "      <th>age</th>\n",
              "      <th>gender</th>\n",
              "      <th>lang</th>\n",
              "      <th>duration</th>\n",
              "      <th>ID</th>\n",
              "    </tr>\n",
              "  </thead>\n",
              "  <tbody>\n",
              "    <tr>\n",
              "      <th>3</th>\n",
              "      <td>/content/mozilla/cv-valid-test/cv-valid-test/s...</td>\n",
              "      <td>down below in the darkness were hundreds of pe...</td>\n",
              "      <td>4</td>\n",
              "      <td>0</td>\n",
              "      <td>twenties</td>\n",
              "      <td>male</td>\n",
              "      <td>us</td>\n",
              "      <td>NaN</td>\n",
              "      <td>sample-000003.mp3.jpg</td>\n",
              "    </tr>\n",
              "    <tr>\n",
              "      <th>5</th>\n",
              "      <td>/content/mozilla/cv-valid-test/cv-valid-test/s...</td>\n",
              "      <td>down below in the darkness were hundreds of pe...</td>\n",
              "      <td>4</td>\n",
              "      <td>1</td>\n",
              "      <td>twenties</td>\n",
              "      <td>male</td>\n",
              "      <td>us</td>\n",
              "      <td>NaN</td>\n",
              "      <td>sample-000005.mp3.jpg</td>\n",
              "    </tr>\n",
              "    <tr>\n",
              "      <th>8</th>\n",
              "      <td>/content/mozilla/cv-valid-test/cv-valid-test/s...</td>\n",
              "      <td>this was the strangest of all things that ever...</td>\n",
              "      <td>1</td>\n",
              "      <td>0</td>\n",
              "      <td>thirties</td>\n",
              "      <td>male</td>\n",
              "      <td>england</td>\n",
              "      <td>NaN</td>\n",
              "      <td>sample-000008.mp3.jpg</td>\n",
              "    </tr>\n",
              "    <tr>\n",
              "      <th>9</th>\n",
              "      <td>/content/mozilla/cv-valid-test/cv-valid-test/s...</td>\n",
              "      <td>it was glaringly hot not a cloud in the sky no...</td>\n",
              "      <td>3</td>\n",
              "      <td>0</td>\n",
              "      <td>fifties</td>\n",
              "      <td>male</td>\n",
              "      <td>us</td>\n",
              "      <td>NaN</td>\n",
              "      <td>sample-000009.mp3.jpg</td>\n",
              "    </tr>\n",
              "    <tr>\n",
              "      <th>14</th>\n",
              "      <td>/content/mozilla/cv-valid-test/cv-valid-test/s...</td>\n",
              "      <td>follow the instructions here</td>\n",
              "      <td>1</td>\n",
              "      <td>0</td>\n",
              "      <td>twenties</td>\n",
              "      <td>male</td>\n",
              "      <td>scotland</td>\n",
              "      <td>NaN</td>\n",
              "      <td>sample-000014.mp3.jpg</td>\n",
              "    </tr>\n",
              "    <tr>\n",
              "      <th>...</th>\n",
              "      <td>...</td>\n",
              "      <td>...</td>\n",
              "      <td>...</td>\n",
              "      <td>...</td>\n",
              "      <td>...</td>\n",
              "      <td>...</td>\n",
              "      <td>...</td>\n",
              "      <td>...</td>\n",
              "      <td>...</td>\n",
              "    </tr>\n",
              "    <tr>\n",
              "      <th>3971</th>\n",
              "      <td>/content/mozilla/cv-valid-test/cv-valid-test/s...</td>\n",
              "      <td>he's on my phone</td>\n",
              "      <td>1</td>\n",
              "      <td>0</td>\n",
              "      <td>teens</td>\n",
              "      <td>male</td>\n",
              "      <td>england</td>\n",
              "      <td>NaN</td>\n",
              "      <td>sample-003971.mp3.jpg</td>\n",
              "    </tr>\n",
              "    <tr>\n",
              "      <th>3975</th>\n",
              "      <td>/content/mozilla/cv-valid-test/cv-valid-test/s...</td>\n",
              "      <td>the planet's core is made of solid gold but ev...</td>\n",
              "      <td>1</td>\n",
              "      <td>0</td>\n",
              "      <td>twenties</td>\n",
              "      <td>male</td>\n",
              "      <td>us</td>\n",
              "      <td>NaN</td>\n",
              "      <td>sample-003975.mp3.jpg</td>\n",
              "    </tr>\n",
              "    <tr>\n",
              "      <th>3976</th>\n",
              "      <td>/content/mozilla/cv-valid-test/cv-valid-test/s...</td>\n",
              "      <td>we've got her located</td>\n",
              "      <td>1</td>\n",
              "      <td>0</td>\n",
              "      <td>thirties</td>\n",
              "      <td>male</td>\n",
              "      <td>england</td>\n",
              "      <td>NaN</td>\n",
              "      <td>sample-003976.mp3.jpg</td>\n",
              "    </tr>\n",
              "    <tr>\n",
              "      <th>3980</th>\n",
              "      <td>/content/mozilla/cv-valid-test/cv-valid-test/s...</td>\n",
              "      <td>i've got to see nicole right away</td>\n",
              "      <td>1</td>\n",
              "      <td>0</td>\n",
              "      <td>fifties</td>\n",
              "      <td>male</td>\n",
              "      <td>australia</td>\n",
              "      <td>NaN</td>\n",
              "      <td>sample-003980.mp3.jpg</td>\n",
              "    </tr>\n",
              "    <tr>\n",
              "      <th>3989</th>\n",
              "      <td>/content/mozilla/cv-valid-test/cv-valid-test/s...</td>\n",
              "      <td>i'm playing for keeps</td>\n",
              "      <td>2</td>\n",
              "      <td>0</td>\n",
              "      <td>fifties</td>\n",
              "      <td>male</td>\n",
              "      <td>australia</td>\n",
              "      <td>NaN</td>\n",
              "      <td>sample-003989.mp3.jpg</td>\n",
              "    </tr>\n",
              "  </tbody>\n",
              "</table>\n",
              "<p>1338 rows × 9 columns</p>\n",
              "</div>\n",
              "      <button class=\"colab-df-convert\" onclick=\"convertToInteractive('df-82e00292-9d80-4749-a9bd-489594c6e33e')\"\n",
              "              title=\"Convert this dataframe to an interactive table.\"\n",
              "              style=\"display:none;\">\n",
              "        \n",
              "  <svg xmlns=\"http://www.w3.org/2000/svg\" height=\"24px\"viewBox=\"0 0 24 24\"\n",
              "       width=\"24px\">\n",
              "    <path d=\"M0 0h24v24H0V0z\" fill=\"none\"/>\n",
              "    <path d=\"M18.56 5.44l.94 2.06.94-2.06 2.06-.94-2.06-.94-.94-2.06-.94 2.06-2.06.94zm-11 1L8.5 8.5l.94-2.06 2.06-.94-2.06-.94L8.5 2.5l-.94 2.06-2.06.94zm10 10l.94 2.06.94-2.06 2.06-.94-2.06-.94-.94-2.06-.94 2.06-2.06.94z\"/><path d=\"M17.41 7.96l-1.37-1.37c-.4-.4-.92-.59-1.43-.59-.52 0-1.04.2-1.43.59L10.3 9.45l-7.72 7.72c-.78.78-.78 2.05 0 2.83L4 21.41c.39.39.9.59 1.41.59.51 0 1.02-.2 1.41-.59l7.78-7.78 2.81-2.81c.8-.78.8-2.07 0-2.86zM5.41 20L4 18.59l7.72-7.72 1.47 1.35L5.41 20z\"/>\n",
              "  </svg>\n",
              "      </button>\n",
              "      \n",
              "  <style>\n",
              "    .colab-df-container {\n",
              "      display:flex;\n",
              "      flex-wrap:wrap;\n",
              "      gap: 12px;\n",
              "    }\n",
              "\n",
              "    .colab-df-convert {\n",
              "      background-color: #E8F0FE;\n",
              "      border: none;\n",
              "      border-radius: 50%;\n",
              "      cursor: pointer;\n",
              "      display: none;\n",
              "      fill: #1967D2;\n",
              "      height: 32px;\n",
              "      padding: 0 0 0 0;\n",
              "      width: 32px;\n",
              "    }\n",
              "\n",
              "    .colab-df-convert:hover {\n",
              "      background-color: #E2EBFA;\n",
              "      box-shadow: 0px 1px 2px rgba(60, 64, 67, 0.3), 0px 1px 3px 1px rgba(60, 64, 67, 0.15);\n",
              "      fill: #174EA6;\n",
              "    }\n",
              "\n",
              "    [theme=dark] .colab-df-convert {\n",
              "      background-color: #3B4455;\n",
              "      fill: #D2E3FC;\n",
              "    }\n",
              "\n",
              "    [theme=dark] .colab-df-convert:hover {\n",
              "      background-color: #434B5C;\n",
              "      box-shadow: 0px 1px 3px 1px rgba(0, 0, 0, 0.15);\n",
              "      filter: drop-shadow(0px 1px 2px rgba(0, 0, 0, 0.3));\n",
              "      fill: #FFFFFF;\n",
              "    }\n",
              "  </style>\n",
              "\n",
              "      <script>\n",
              "        const buttonEl =\n",
              "          document.querySelector('#df-82e00292-9d80-4749-a9bd-489594c6e33e button.colab-df-convert');\n",
              "        buttonEl.style.display =\n",
              "          google.colab.kernel.accessAllowed ? 'block' : 'none';\n",
              "\n",
              "        async function convertToInteractive(key) {\n",
              "          const element = document.querySelector('#df-82e00292-9d80-4749-a9bd-489594c6e33e');\n",
              "          const dataTable =\n",
              "            await google.colab.kernel.invokeFunction('convertToInteractive',\n",
              "                                                     [key], {});\n",
              "          if (!dataTable) return;\n",
              "\n",
              "          const docLinkHtml = 'Like what you see? Visit the ' +\n",
              "            '<a target=\"_blank\" href=https://colab.research.google.com/notebooks/data_table.ipynb>data table notebook</a>'\n",
              "            + ' to learn more about interactive tables.';\n",
              "          element.innerHTML = '';\n",
              "          dataTable['output_type'] = 'display_data';\n",
              "          await google.colab.output.renderOutput(dataTable, element);\n",
              "          const docLink = document.createElement('div');\n",
              "          docLink.innerHTML = docLinkHtml;\n",
              "          element.appendChild(docLink);\n",
              "        }\n",
              "      </script>\n",
              "    </div>\n",
              "  </div>\n",
              "  "
            ],
            "text/plain": [
              "                                                   file  \\\n",
              "3     /content/mozilla/cv-valid-test/cv-valid-test/s...   \n",
              "5     /content/mozilla/cv-valid-test/cv-valid-test/s...   \n",
              "8     /content/mozilla/cv-valid-test/cv-valid-test/s...   \n",
              "9     /content/mozilla/cv-valid-test/cv-valid-test/s...   \n",
              "14    /content/mozilla/cv-valid-test/cv-valid-test/s...   \n",
              "...                                                 ...   \n",
              "3971  /content/mozilla/cv-valid-test/cv-valid-test/s...   \n",
              "3975  /content/mozilla/cv-valid-test/cv-valid-test/s...   \n",
              "3976  /content/mozilla/cv-valid-test/cv-valid-test/s...   \n",
              "3980  /content/mozilla/cv-valid-test/cv-valid-test/s...   \n",
              "3989  /content/mozilla/cv-valid-test/cv-valid-test/s...   \n",
              "\n",
              "                                                   text  up_votes  down_votes  \\\n",
              "3     down below in the darkness were hundreds of pe...         4           0   \n",
              "5     down below in the darkness were hundreds of pe...         4           1   \n",
              "8     this was the strangest of all things that ever...         1           0   \n",
              "9     it was glaringly hot not a cloud in the sky no...         3           0   \n",
              "14                         follow the instructions here         1           0   \n",
              "...                                                 ...       ...         ...   \n",
              "3971                                   he's on my phone         1           0   \n",
              "3975  the planet's core is made of solid gold but ev...         1           0   \n",
              "3976                              we've got her located         1           0   \n",
              "3980                  i've got to see nicole right away         1           0   \n",
              "3989                              i'm playing for keeps         2           0   \n",
              "\n",
              "           age gender       lang  duration                     ID  \n",
              "3     twenties   male         us       NaN  sample-000003.mp3.jpg  \n",
              "5     twenties   male         us       NaN  sample-000005.mp3.jpg  \n",
              "8     thirties   male    england       NaN  sample-000008.mp3.jpg  \n",
              "9      fifties   male         us       NaN  sample-000009.mp3.jpg  \n",
              "14    twenties   male   scotland       NaN  sample-000014.mp3.jpg  \n",
              "...        ...    ...        ...       ...                    ...  \n",
              "3971     teens   male    england       NaN  sample-003971.mp3.jpg  \n",
              "3975  twenties   male         us       NaN  sample-003975.mp3.jpg  \n",
              "3976  thirties   male    england       NaN  sample-003976.mp3.jpg  \n",
              "3980   fifties   male  australia       NaN  sample-003980.mp3.jpg  \n",
              "3989   fifties   male  australia       NaN  sample-003989.mp3.jpg  \n",
              "\n",
              "[1338 rows x 9 columns]"
            ]
          },
          "execution_count": 40,
          "metadata": {},
          "output_type": "execute_result"
        }
      ],
      "source": [
        "valid_test_df"
      ]
    },
    {
      "cell_type": "markdown",
      "metadata": {
        "id": "6DUcka63cKQD"
      },
      "source": [
        "## Managing dataset"
      ]
    },
    {
      "cell_type": "markdown",
      "metadata": {
        "id": "dsHSflutcaGb"
      },
      "source": [
        "### Load datasets"
      ]
    },
    {
      "cell_type": "code",
      "execution_count": null,
      "metadata": {
        "id": "AuDZ9hTrccwe"
      },
      "outputs": [],
      "source": [
        "first_half_df = pd.read_csv(DRIVE_PATH + \"first_half.csv\")"
      ]
    },
    {
      "cell_type": "code",
      "execution_count": null,
      "metadata": {
        "colab": {
          "base_uri": "https://localhost:8080/",
          "height": 424
        },
        "id": "lEDPpjEOcpmc",
        "outputId": "6cdd3904-18a7-4cea-b505-d6bf1090cf65"
      },
      "outputs": [
        {
          "data": {
            "text/html": [
              "\n",
              "  <div id=\"df-d017bcd3-4b00-40a9-8995-c918749fe1ac\">\n",
              "    <div class=\"colab-df-container\">\n",
              "      <div>\n",
              "<style scoped>\n",
              "    .dataframe tbody tr th:only-of-type {\n",
              "        vertical-align: middle;\n",
              "    }\n",
              "\n",
              "    .dataframe tbody tr th {\n",
              "        vertical-align: top;\n",
              "    }\n",
              "\n",
              "    .dataframe thead th {\n",
              "        text-align: right;\n",
              "    }\n",
              "</style>\n",
              "<table border=\"1\" class=\"dataframe\">\n",
              "  <thead>\n",
              "    <tr style=\"text-align: right;\">\n",
              "      <th></th>\n",
              "      <th>file</th>\n",
              "      <th>ID</th>\n",
              "      <th>lang</th>\n",
              "    </tr>\n",
              "  </thead>\n",
              "  <tbody>\n",
              "    <tr>\n",
              "      <th>0</th>\n",
              "      <td>/content/voice/train/train/de_m_df90bffac026f7...</td>\n",
              "      <td>de_m_df90bffac026f705f4a99871d71684f1.fragment...</td>\n",
              "      <td>de</td>\n",
              "    </tr>\n",
              "    <tr>\n",
              "      <th>1</th>\n",
              "      <td>/content/voice/train/train/de_m_0345d503166fbc...</td>\n",
              "      <td>de_m_0345d503166fbcb125b6e10e2e804443.fragment...</td>\n",
              "      <td>de</td>\n",
              "    </tr>\n",
              "    <tr>\n",
              "      <th>2</th>\n",
              "      <td>/content/voice/train/train/en_m_d2f13c7f37ecec...</td>\n",
              "      <td>en_m_d2f13c7f37ecec67df0f46408c224bc1.fragment...</td>\n",
              "      <td>en</td>\n",
              "    </tr>\n",
              "    <tr>\n",
              "      <th>3</th>\n",
              "      <td>/content/voice/train/train/en_m_3a8f30bef6d7b6...</td>\n",
              "      <td>en_m_3a8f30bef6d7b6a1332629491eabcbf0.fragment...</td>\n",
              "      <td>en</td>\n",
              "    </tr>\n",
              "    <tr>\n",
              "      <th>4</th>\n",
              "      <td>/content/voice/train/train/en_f_7701e10392ce7b...</td>\n",
              "      <td>en_f_7701e10392ce7bcfba6d2fcca56fb8d9.fragment...</td>\n",
              "      <td>en</td>\n",
              "    </tr>\n",
              "    <tr>\n",
              "      <th>...</th>\n",
              "      <td>...</td>\n",
              "      <td>...</td>\n",
              "      <td>...</td>\n",
              "    </tr>\n",
              "    <tr>\n",
              "      <th>36535</th>\n",
              "      <td>/content/voice/train/train/de_f_26ddc4e756f612...</td>\n",
              "      <td>de_f_26ddc4e756f61233d74d42cc000c9dae.fragment...</td>\n",
              "      <td>de</td>\n",
              "    </tr>\n",
              "    <tr>\n",
              "      <th>36536</th>\n",
              "      <td>/content/voice/train/train/en_m_17b5d499519197...</td>\n",
              "      <td>en_m_17b5d4995191976232356345dfbb82cb.fragment...</td>\n",
              "      <td>en</td>\n",
              "    </tr>\n",
              "    <tr>\n",
              "      <th>36537</th>\n",
              "      <td>/content/voice/train/train/es_f_56ef0bde6c92a0...</td>\n",
              "      <td>es_f_56ef0bde6c92a0100da23cdd39a8a112.fragment...</td>\n",
              "      <td>es</td>\n",
              "    </tr>\n",
              "    <tr>\n",
              "      <th>36538</th>\n",
              "      <td>/content/voice/train/train/es_f_cc86b9208b120f...</td>\n",
              "      <td>es_f_cc86b9208b120f1f147a9246ab39f5e4.fragment...</td>\n",
              "      <td>es</td>\n",
              "    </tr>\n",
              "    <tr>\n",
              "      <th>36539</th>\n",
              "      <td>/content/voice/train/train/de_m_2cfa348b2b6852...</td>\n",
              "      <td>de_m_2cfa348b2b6852e38637a4225158678d.fragment...</td>\n",
              "      <td>de</td>\n",
              "    </tr>\n",
              "  </tbody>\n",
              "</table>\n",
              "<p>36540 rows × 3 columns</p>\n",
              "</div>\n",
              "      <button class=\"colab-df-convert\" onclick=\"convertToInteractive('df-d017bcd3-4b00-40a9-8995-c918749fe1ac')\"\n",
              "              title=\"Convert this dataframe to an interactive table.\"\n",
              "              style=\"display:none;\">\n",
              "        \n",
              "  <svg xmlns=\"http://www.w3.org/2000/svg\" height=\"24px\"viewBox=\"0 0 24 24\"\n",
              "       width=\"24px\">\n",
              "    <path d=\"M0 0h24v24H0V0z\" fill=\"none\"/>\n",
              "    <path d=\"M18.56 5.44l.94 2.06.94-2.06 2.06-.94-2.06-.94-.94-2.06-.94 2.06-2.06.94zm-11 1L8.5 8.5l.94-2.06 2.06-.94-2.06-.94L8.5 2.5l-.94 2.06-2.06.94zm10 10l.94 2.06.94-2.06 2.06-.94-2.06-.94-.94-2.06-.94 2.06-2.06.94z\"/><path d=\"M17.41 7.96l-1.37-1.37c-.4-.4-.92-.59-1.43-.59-.52 0-1.04.2-1.43.59L10.3 9.45l-7.72 7.72c-.78.78-.78 2.05 0 2.83L4 21.41c.39.39.9.59 1.41.59.51 0 1.02-.2 1.41-.59l7.78-7.78 2.81-2.81c.8-.78.8-2.07 0-2.86zM5.41 20L4 18.59l7.72-7.72 1.47 1.35L5.41 20z\"/>\n",
              "  </svg>\n",
              "      </button>\n",
              "      \n",
              "  <style>\n",
              "    .colab-df-container {\n",
              "      display:flex;\n",
              "      flex-wrap:wrap;\n",
              "      gap: 12px;\n",
              "    }\n",
              "\n",
              "    .colab-df-convert {\n",
              "      background-color: #E8F0FE;\n",
              "      border: none;\n",
              "      border-radius: 50%;\n",
              "      cursor: pointer;\n",
              "      display: none;\n",
              "      fill: #1967D2;\n",
              "      height: 32px;\n",
              "      padding: 0 0 0 0;\n",
              "      width: 32px;\n",
              "    }\n",
              "\n",
              "    .colab-df-convert:hover {\n",
              "      background-color: #E2EBFA;\n",
              "      box-shadow: 0px 1px 2px rgba(60, 64, 67, 0.3), 0px 1px 3px 1px rgba(60, 64, 67, 0.15);\n",
              "      fill: #174EA6;\n",
              "    }\n",
              "\n",
              "    [theme=dark] .colab-df-convert {\n",
              "      background-color: #3B4455;\n",
              "      fill: #D2E3FC;\n",
              "    }\n",
              "\n",
              "    [theme=dark] .colab-df-convert:hover {\n",
              "      background-color: #434B5C;\n",
              "      box-shadow: 0px 1px 3px 1px rgba(0, 0, 0, 0.15);\n",
              "      filter: drop-shadow(0px 1px 2px rgba(0, 0, 0, 0.3));\n",
              "      fill: #FFFFFF;\n",
              "    }\n",
              "  </style>\n",
              "\n",
              "      <script>\n",
              "        const buttonEl =\n",
              "          document.querySelector('#df-d017bcd3-4b00-40a9-8995-c918749fe1ac button.colab-df-convert');\n",
              "        buttonEl.style.display =\n",
              "          google.colab.kernel.accessAllowed ? 'block' : 'none';\n",
              "\n",
              "        async function convertToInteractive(key) {\n",
              "          const element = document.querySelector('#df-d017bcd3-4b00-40a9-8995-c918749fe1ac');\n",
              "          const dataTable =\n",
              "            await google.colab.kernel.invokeFunction('convertToInteractive',\n",
              "                                                     [key], {});\n",
              "          if (!dataTable) return;\n",
              "\n",
              "          const docLinkHtml = 'Like what you see? Visit the ' +\n",
              "            '<a target=\"_blank\" href=https://colab.research.google.com/notebooks/data_table.ipynb>data table notebook</a>'\n",
              "            + ' to learn more about interactive tables.';\n",
              "          element.innerHTML = '';\n",
              "          dataTable['output_type'] = 'display_data';\n",
              "          await google.colab.output.renderOutput(dataTable, element);\n",
              "          const docLink = document.createElement('div');\n",
              "          docLink.innerHTML = docLinkHtml;\n",
              "          element.appendChild(docLink);\n",
              "        }\n",
              "      </script>\n",
              "    </div>\n",
              "  </div>\n",
              "  "
            ],
            "text/plain": [
              "                                                    file  \\\n",
              "0      /content/voice/train/train/de_m_df90bffac026f7...   \n",
              "1      /content/voice/train/train/de_m_0345d503166fbc...   \n",
              "2      /content/voice/train/train/en_m_d2f13c7f37ecec...   \n",
              "3      /content/voice/train/train/en_m_3a8f30bef6d7b6...   \n",
              "4      /content/voice/train/train/en_f_7701e10392ce7b...   \n",
              "...                                                  ...   \n",
              "36535  /content/voice/train/train/de_f_26ddc4e756f612...   \n",
              "36536  /content/voice/train/train/en_m_17b5d499519197...   \n",
              "36537  /content/voice/train/train/es_f_56ef0bde6c92a0...   \n",
              "36538  /content/voice/train/train/es_f_cc86b9208b120f...   \n",
              "36539  /content/voice/train/train/de_m_2cfa348b2b6852...   \n",
              "\n",
              "                                                      ID lang  \n",
              "0      de_m_df90bffac026f705f4a99871d71684f1.fragment...   de  \n",
              "1      de_m_0345d503166fbcb125b6e10e2e804443.fragment...   de  \n",
              "2      en_m_d2f13c7f37ecec67df0f46408c224bc1.fragment...   en  \n",
              "3      en_m_3a8f30bef6d7b6a1332629491eabcbf0.fragment...   en  \n",
              "4      en_f_7701e10392ce7bcfba6d2fcca56fb8d9.fragment...   en  \n",
              "...                                                  ...  ...  \n",
              "36535  de_f_26ddc4e756f61233d74d42cc000c9dae.fragment...   de  \n",
              "36536  en_m_17b5d4995191976232356345dfbb82cb.fragment...   en  \n",
              "36537  es_f_56ef0bde6c92a0100da23cdd39a8a112.fragment...   es  \n",
              "36538  es_f_cc86b9208b120f1f147a9246ab39f5e4.fragment...   es  \n",
              "36539  de_m_2cfa348b2b6852e38637a4225158678d.fragment...   de  \n",
              "\n",
              "[36540 rows x 3 columns]"
            ]
          },
          "execution_count": 11,
          "metadata": {},
          "output_type": "execute_result"
        }
      ],
      "source": [
        "first_half_df"
      ]
    },
    {
      "cell_type": "code",
      "execution_count": null,
      "metadata": {
        "colab": {
          "base_uri": "https://localhost:8080/"
        },
        "id": "odaq1m6AkMa4",
        "outputId": "a10ebb04-27ac-44a6-be5f-cf119d611843"
      },
      "outputs": [
        {
          "name": "stdout",
          "output_type": "stream",
          "text": [
            "12163\n",
            "12200\n",
            "12177\n"
          ]
        }
      ],
      "source": [
        "print(len(first_half_df[first_half_df['lang']  == 'en']))\n",
        "print(len(first_half_df[first_half_df['lang']  == 'es']))\n",
        "print(len(first_half_df[first_half_df['lang']  == 'de']))"
      ]
    },
    {
      "cell_type": "code",
      "execution_count": null,
      "metadata": {
        "colab": {
          "base_uri": "https://localhost:8080/"
        },
        "id": "HuRGxcs-c2LL",
        "outputId": "588a24ec-2027-4d44-d172-5796f4daa5e4"
      },
      "outputs": [
        {
          "name": "stdout",
          "output_type": "stream",
          "text": [
            "de_m_0345d503166fbcb125b6e10e2e804443.fragment25.speed4.npy\n"
          ]
        }
      ],
      "source": [
        "print(first_half_df[\"ID\"].iloc[1])"
      ]
    },
    {
      "cell_type": "code",
      "execution_count": null,
      "metadata": {
        "colab": {
          "background_save": true,
          "base_uri": "https://localhost:8080/"
        },
        "id": "UU00IxwvdZHL",
        "outputId": "719448f3-577f-4ee3-cf35-10ba9bdae281"
      },
      "outputs": [
        {
          "name": "stdout",
          "output_type": "stream",
          "text": [
            "CPU times: user 36min 28s, sys: 26min 53s, total: 1h 3min 22s\n",
            "Wall time: 41min\n"
          ]
        },
        {
          "data": {
            "text/plain": [
              "array([None, None, None, ..., None, None, None], dtype=object)"
            ]
          },
          "execution_count": 16,
          "metadata": {},
          "output_type": "execute_result"
        }
      ],
      "source": [
        "%%time\n",
        "format_len = len('flac')\n",
        "np.vectorize(spectrogram_mat)(TRAIN_VOICE_PATH, first_half_df['ID'], TRAIN_MAT_PATH)"
      ]
    },
    {
      "cell_type": "code",
      "execution_count": null,
      "metadata": {
        "colab": {
          "base_uri": "https://localhost:8080/"
        },
        "id": "iyUJDXham2J0",
        "outputId": "e524879e-8e9d-4a36-b046-7485f460d565"
      },
      "outputs": [
        {
          "name": "stdout",
          "output_type": "stream",
          "text": [
            "7.6G\t/content/mat/train/\n"
          ]
        }
      ],
      "source": [
        "! du -sh $TRAIN_MAT_PATH"
      ]
    },
    {
      "cell_type": "code",
      "execution_count": null,
      "metadata": {
        "id": "W9rq5fYtdYE_"
      },
      "outputs": [],
      "source": [
        "! rm -r $VOICE_DIR"
      ]
    },
    {
      "cell_type": "code",
      "execution_count": null,
      "metadata": {
        "id": "Bf-zmhilne0I"
      },
      "outputs": [],
      "source": [
        "! mkdir {DRIVE3_PATH}first_half"
      ]
    },
    {
      "cell_type": "code",
      "execution_count": null,
      "metadata": {
        "colab": {
          "base_uri": "https://localhost:8080/"
        },
        "id": "LUa8zD2Gpg7Y",
        "outputId": "acfd287a-0c61-4f56-d391-662608678176"
      },
      "outputs": [
        {
          "data": {
            "text/plain": [
              "0        /content/drive/MyDrive/Bachelor_Project_Part3/...\n",
              "1        /content/drive/MyDrive/Bachelor_Project_Part3/...\n",
              "2        /content/drive/MyDrive/Bachelor_Project_Part3/...\n",
              "3        /content/drive/MyDrive/Bachelor_Project_Part3/...\n",
              "4        /content/drive/MyDrive/Bachelor_Project_Part3/...\n",
              "                               ...                        \n",
              "36535    /content/drive/MyDrive/Bachelor_Project_Part3/...\n",
              "36536    /content/drive/MyDrive/Bachelor_Project_Part3/...\n",
              "36537    /content/drive/MyDrive/Bachelor_Project_Part3/...\n",
              "36538    /content/drive/MyDrive/Bachelor_Project_Part3/...\n",
              "36539    /content/drive/MyDrive/Bachelor_Project_Part3/...\n",
              "Length: 36540, dtype: object"
            ]
          },
          "execution_count": 24,
          "metadata": {},
          "output_type": "execute_result"
        }
      ],
      "source": [
        "first_half_df.apply(lambda x: shutil.copy(TRAIN_MAT_PATH+x.ID, DRIVE3_PATH+\"first_half/\"+x.ID), axis=1)"
      ]
    },
    {
      "cell_type": "code",
      "execution_count": null,
      "metadata": {
        "id": "0-LI3X3u4cpi"
      },
      "outputs": [],
      "source": [
        "first_half_df['lang'] = first_half_df['ID'].apply(lambda x: x.split('_')[0])"
      ]
    },
    {
      "cell_type": "code",
      "execution_count": null,
      "metadata": {
        "id": "Dki3aezF4k34"
      },
      "outputs": [],
      "source": [
        "first_half_df.to_csv(DRIVE_PATH+\"first_half.csv\")"
      ]
    },
    {
      "cell_type": "code",
      "execution_count": null,
      "metadata": {
        "colab": {
          "base_uri": "https://localhost:8080/",
          "height": 424
        },
        "id": "naNZWxMa4828",
        "outputId": "0f905b88-3baa-4f87-cf14-ab67d810edea"
      },
      "outputs": [
        {
          "data": {
            "text/html": [
              "\n",
              "  <div id=\"df-572c82b5-db38-40e3-925a-858d6b8c6ace\">\n",
              "    <div class=\"colab-df-container\">\n",
              "      <div>\n",
              "<style scoped>\n",
              "    .dataframe tbody tr th:only-of-type {\n",
              "        vertical-align: middle;\n",
              "    }\n",
              "\n",
              "    .dataframe tbody tr th {\n",
              "        vertical-align: top;\n",
              "    }\n",
              "\n",
              "    .dataframe thead th {\n",
              "        text-align: right;\n",
              "    }\n",
              "</style>\n",
              "<table border=\"1\" class=\"dataframe\">\n",
              "  <thead>\n",
              "    <tr style=\"text-align: right;\">\n",
              "      <th></th>\n",
              "      <th>file</th>\n",
              "      <th>ID</th>\n",
              "    </tr>\n",
              "  </thead>\n",
              "  <tbody>\n",
              "    <tr>\n",
              "      <th>0</th>\n",
              "      <td>/content/voice/test/test/en_f_67a0cba10d171b24...</td>\n",
              "      <td>en_f_67a0cba10d171b24039a79faa1d4d603.fragment...</td>\n",
              "    </tr>\n",
              "    <tr>\n",
              "      <th>1</th>\n",
              "      <td>/content/voice/test/test/en_m_b74b2bf2af570393...</td>\n",
              "      <td>en_m_b74b2bf2af570393cae91f4ed89cece7.fragment...</td>\n",
              "    </tr>\n",
              "    <tr>\n",
              "      <th>2</th>\n",
              "      <td>/content/voice/test/test/es_f_50298ab71aaba850...</td>\n",
              "      <td>es_f_50298ab71aaba8508ebeef49d853df11.fragment...</td>\n",
              "    </tr>\n",
              "    <tr>\n",
              "      <th>3</th>\n",
              "      <td>/content/voice/test/test/de_f_63f5b79c76cf5a1a...</td>\n",
              "      <td>de_f_63f5b79c76cf5a1a4bbd1c40f54b166e.fragment...</td>\n",
              "    </tr>\n",
              "    <tr>\n",
              "      <th>4</th>\n",
              "      <td>/content/voice/test/test/en_f_67a0cba10d171b24...</td>\n",
              "      <td>en_f_67a0cba10d171b24039a79faa1d4d603.fragment...</td>\n",
              "    </tr>\n",
              "    <tr>\n",
              "      <th>...</th>\n",
              "      <td>...</td>\n",
              "      <td>...</td>\n",
              "    </tr>\n",
              "    <tr>\n",
              "      <th>535</th>\n",
              "      <td>/content/voice/test/test/de_m_923551d571cc4373...</td>\n",
              "      <td>de_m_923551d571cc437382d0294dda2dd0aa.fragment...</td>\n",
              "    </tr>\n",
              "    <tr>\n",
              "      <th>536</th>\n",
              "      <td>/content/voice/test/test/en_m_b74b2bf2af570393...</td>\n",
              "      <td>en_m_b74b2bf2af570393cae91f4ed89cece7.fragment...</td>\n",
              "    </tr>\n",
              "    <tr>\n",
              "      <th>537</th>\n",
              "      <td>/content/voice/test/test/en_m_b74b2bf2af570393...</td>\n",
              "      <td>en_m_b74b2bf2af570393cae91f4ed89cece7.fragment...</td>\n",
              "    </tr>\n",
              "    <tr>\n",
              "      <th>538</th>\n",
              "      <td>/content/voice/test/test/de_m_923551d571cc4373...</td>\n",
              "      <td>de_m_923551d571cc437382d0294dda2dd0aa.fragment...</td>\n",
              "    </tr>\n",
              "    <tr>\n",
              "      <th>539</th>\n",
              "      <td>/content/voice/test/test/de_m_923551d571cc4373...</td>\n",
              "      <td>de_m_923551d571cc437382d0294dda2dd0aa.fragment...</td>\n",
              "    </tr>\n",
              "  </tbody>\n",
              "</table>\n",
              "<p>540 rows × 2 columns</p>\n",
              "</div>\n",
              "      <button class=\"colab-df-convert\" onclick=\"convertToInteractive('df-572c82b5-db38-40e3-925a-858d6b8c6ace')\"\n",
              "              title=\"Convert this dataframe to an interactive table.\"\n",
              "              style=\"display:none;\">\n",
              "        \n",
              "  <svg xmlns=\"http://www.w3.org/2000/svg\" height=\"24px\"viewBox=\"0 0 24 24\"\n",
              "       width=\"24px\">\n",
              "    <path d=\"M0 0h24v24H0V0z\" fill=\"none\"/>\n",
              "    <path d=\"M18.56 5.44l.94 2.06.94-2.06 2.06-.94-2.06-.94-.94-2.06-.94 2.06-2.06.94zm-11 1L8.5 8.5l.94-2.06 2.06-.94-2.06-.94L8.5 2.5l-.94 2.06-2.06.94zm10 10l.94 2.06.94-2.06 2.06-.94-2.06-.94-.94-2.06-.94 2.06-2.06.94z\"/><path d=\"M17.41 7.96l-1.37-1.37c-.4-.4-.92-.59-1.43-.59-.52 0-1.04.2-1.43.59L10.3 9.45l-7.72 7.72c-.78.78-.78 2.05 0 2.83L4 21.41c.39.39.9.59 1.41.59.51 0 1.02-.2 1.41-.59l7.78-7.78 2.81-2.81c.8-.78.8-2.07 0-2.86zM5.41 20L4 18.59l7.72-7.72 1.47 1.35L5.41 20z\"/>\n",
              "  </svg>\n",
              "      </button>\n",
              "      \n",
              "  <style>\n",
              "    .colab-df-container {\n",
              "      display:flex;\n",
              "      flex-wrap:wrap;\n",
              "      gap: 12px;\n",
              "    }\n",
              "\n",
              "    .colab-df-convert {\n",
              "      background-color: #E8F0FE;\n",
              "      border: none;\n",
              "      border-radius: 50%;\n",
              "      cursor: pointer;\n",
              "      display: none;\n",
              "      fill: #1967D2;\n",
              "      height: 32px;\n",
              "      padding: 0 0 0 0;\n",
              "      width: 32px;\n",
              "    }\n",
              "\n",
              "    .colab-df-convert:hover {\n",
              "      background-color: #E2EBFA;\n",
              "      box-shadow: 0px 1px 2px rgba(60, 64, 67, 0.3), 0px 1px 3px 1px rgba(60, 64, 67, 0.15);\n",
              "      fill: #174EA6;\n",
              "    }\n",
              "\n",
              "    [theme=dark] .colab-df-convert {\n",
              "      background-color: #3B4455;\n",
              "      fill: #D2E3FC;\n",
              "    }\n",
              "\n",
              "    [theme=dark] .colab-df-convert:hover {\n",
              "      background-color: #434B5C;\n",
              "      box-shadow: 0px 1px 3px 1px rgba(0, 0, 0, 0.15);\n",
              "      filter: drop-shadow(0px 1px 2px rgba(0, 0, 0, 0.3));\n",
              "      fill: #FFFFFF;\n",
              "    }\n",
              "  </style>\n",
              "\n",
              "      <script>\n",
              "        const buttonEl =\n",
              "          document.querySelector('#df-572c82b5-db38-40e3-925a-858d6b8c6ace button.colab-df-convert');\n",
              "        buttonEl.style.display =\n",
              "          google.colab.kernel.accessAllowed ? 'block' : 'none';\n",
              "\n",
              "        async function convertToInteractive(key) {\n",
              "          const element = document.querySelector('#df-572c82b5-db38-40e3-925a-858d6b8c6ace');\n",
              "          const dataTable =\n",
              "            await google.colab.kernel.invokeFunction('convertToInteractive',\n",
              "                                                     [key], {});\n",
              "          if (!dataTable) return;\n",
              "\n",
              "          const docLinkHtml = 'Like what you see? Visit the ' +\n",
              "            '<a target=\"_blank\" href=https://colab.research.google.com/notebooks/data_table.ipynb>data table notebook</a>'\n",
              "            + ' to learn more about interactive tables.';\n",
              "          element.innerHTML = '';\n",
              "          dataTable['output_type'] = 'display_data';\n",
              "          await google.colab.output.renderOutput(dataTable, element);\n",
              "          const docLink = document.createElement('div');\n",
              "          docLink.innerHTML = docLinkHtml;\n",
              "          element.appendChild(docLink);\n",
              "        }\n",
              "      </script>\n",
              "    </div>\n",
              "  </div>\n",
              "  "
            ],
            "text/plain": [
              "                                                  file  \\\n",
              "0    /content/voice/test/test/en_f_67a0cba10d171b24...   \n",
              "1    /content/voice/test/test/en_m_b74b2bf2af570393...   \n",
              "2    /content/voice/test/test/es_f_50298ab71aaba850...   \n",
              "3    /content/voice/test/test/de_f_63f5b79c76cf5a1a...   \n",
              "4    /content/voice/test/test/en_f_67a0cba10d171b24...   \n",
              "..                                                 ...   \n",
              "535  /content/voice/test/test/de_m_923551d571cc4373...   \n",
              "536  /content/voice/test/test/en_m_b74b2bf2af570393...   \n",
              "537  /content/voice/test/test/en_m_b74b2bf2af570393...   \n",
              "538  /content/voice/test/test/de_m_923551d571cc4373...   \n",
              "539  /content/voice/test/test/de_m_923551d571cc4373...   \n",
              "\n",
              "                                                    ID  \n",
              "0    en_f_67a0cba10d171b24039a79faa1d4d603.fragment...  \n",
              "1    en_m_b74b2bf2af570393cae91f4ed89cece7.fragment...  \n",
              "2    es_f_50298ab71aaba8508ebeef49d853df11.fragment...  \n",
              "3    de_f_63f5b79c76cf5a1a4bbd1c40f54b166e.fragment...  \n",
              "4    en_f_67a0cba10d171b24039a79faa1d4d603.fragment...  \n",
              "..                                                 ...  \n",
              "535  de_m_923551d571cc437382d0294dda2dd0aa.fragment...  \n",
              "536  en_m_b74b2bf2af570393cae91f4ed89cece7.fragment...  \n",
              "537  en_m_b74b2bf2af570393cae91f4ed89cece7.fragment...  \n",
              "538  de_m_923551d571cc437382d0294dda2dd0aa.fragment...  \n",
              "539  de_m_923551d571cc437382d0294dda2dd0aa.fragment...  \n",
              "\n",
              "[540 rows x 2 columns]"
            ]
          },
          "execution_count": 49,
          "metadata": {},
          "output_type": "execute_result"
        }
      ],
      "source": [
        "testdf"
      ]
    },
    {
      "cell_type": "code",
      "execution_count": null,
      "metadata": {
        "id": "thXNH4KN5Avc"
      },
      "outputs": [],
      "source": [
        "testdf['lang'] = testdf['ID'].apply(lambda x: x.split('_')[0])"
      ]
    },
    {
      "cell_type": "code",
      "execution_count": null,
      "metadata": {
        "id": "Ple2I_-Z5EZ1"
      },
      "outputs": [],
      "source": [
        "testdf.to_csv(DRIVE_PATH+\"testdf.csv\")"
      ]
    },
    {
      "cell_type": "code",
      "execution_count": null,
      "metadata": {
        "id": "f6hmSdAznF1j"
      },
      "outputs": [],
      "source": [
        "%%time\n",
        "format_len = len('flac')\n",
        "testdf = pd.DataFrame(test_data_dir,columns = ['file'])\n",
        "testdf['ID']= testdf['file'].apply(lambda x: x.split('/')[-1][:-format_len]+'npy')\n",
        "np.vectorize(spectrogram_mat)(TEST_VOICE_PATH, testdf['ID'], TEST_MAT_PATH)\n",
        "testdf"
      ]
    },
    {
      "cell_type": "markdown",
      "metadata": {
        "id": "sVpP1-wL5bCG"
      },
      "source": [
        "### Move to label directory"
      ]
    },
    {
      "cell_type": "code",
      "execution_count": null,
      "metadata": {
        "id": "TYPdn2T57hKP"
      },
      "outputs": [],
      "source": [
        "labels = ['en','es','de']\n",
        "for x in labels:\n",
        "    !mkdir $TRAIN_IMG_PATH/$x\n",
        "    !mkdir $TEST_IMG_PATH/$x"
      ]
    },
    {
      "cell_type": "code",
      "execution_count": null,
      "metadata": {
        "id": "44EIDFSN5ezC"
      },
      "outputs": [],
      "source": [
        "def move_to_label(name,lang, is_train=True):\n",
        "    prefix= TRAIN_IMG_PATH\n",
        "    if not is_train:\n",
        "        prefix= TEST_IMG_PATH\n",
        "    shutil.move(prefix+name,prefix+lang+\"/\"+name)\n",
        "    #print(prefix+name, \"to\", prefix+lang+\"/\"+name)"
      ]
    },
    {
      "cell_type": "code",
      "execution_count": null,
      "metadata": {
        "id": "e82Oa-y_Dt6H"
      },
      "outputs": [],
      "source": [
        "train_data_dir=np.array(glob(TRAIN_VOICE_PATH+\"*\"))\n",
        "test_data_dir=np.array(glob(TEST_VOICE_PATH+\"*\"))"
      ]
    },
    {
      "cell_type": "code",
      "execution_count": null,
      "metadata": {
        "colab": {
          "base_uri": "https://localhost:8080/"
        },
        "id": "db65db8ek_jz",
        "outputId": "bcac4185-1a26-4d2f-8d4d-cc5e27bc948b"
      },
      "outputs": [
        {
          "data": {
            "text/plain": [
              "array(['/content/voice/train/train/de_m_df90bffac026f705f4a99871d71684f1.fragment28.noise3.flac',\n",
              "       '/content/voice/train/train/en_f_9a47e3d56398b8108f59385aab8bbe87.fragment21.pitch5.flac',\n",
              "       '/content/voice/train/train/de_f_2825fa225d6ca4800f0cf0504b76ca65.fragment14.speed6.flac',\n",
              "       ...,\n",
              "       '/content/voice/train/train/es_f_68e1dcf1b41edcfa24b402f46ec2a65e.fragment2.speed7.flac',\n",
              "       '/content/voice/train/train/de_m_3aa01c55ba7ca85cad2977c848eb826f.fragment8.noise6.flac',\n",
              "       '/content/voice/train/train/de_m_fc6bd6bb9d66a89bb8d8a8a7efa23e6b.fragment9.speed8.flac'],\n",
              "      dtype='<U88')"
            ]
          },
          "execution_count": 12,
          "metadata": {},
          "output_type": "execute_result"
        }
      ],
      "source": [
        "train_data_dir"
      ]
    },
    {
      "cell_type": "code",
      "execution_count": null,
      "metadata": {
        "colab": {
          "base_uri": "https://localhost:8080/"
        },
        "id": "5YW5vRAXH1fN",
        "outputId": "7117196a-7c5e-4382-cbe5-acf06beaf2e1"
      },
      "outputs": [
        {
          "name": "stdout",
          "output_type": "stream",
          "text": [
            "73080\n"
          ]
        }
      ],
      "source": [
        "print(len(train_data_dir))"
      ]
    },
    {
      "cell_type": "code",
      "execution_count": null,
      "metadata": {
        "colab": {
          "base_uri": "https://localhost:8080/"
        },
        "id": "h6rgH8U3P8X9",
        "outputId": "4452d2ae-2f6e-47ca-a3f5-0db57021c8fd"
      },
      "outputs": [
        {
          "name": "stdout",
          "output_type": "stream",
          "text": [
            "540\n"
          ]
        }
      ],
      "source": [
        "print(len(test_data_dir))"
      ]
    },
    {
      "cell_type": "markdown",
      "metadata": {
        "id": "cAI2IvaJK2BL"
      },
      "source": [
        "## Create spectogram"
      ]
    },
    {
      "cell_type": "markdown",
      "metadata": {
        "id": "St5T1VnPNfrF"
      },
      "source": [
        "### ok spectrograms:"
      ]
    },
    {
      "cell_type": "code",
      "execution_count": null,
      "metadata": {
        "id": "Z4Fp3veENn6v"
      },
      "outputs": [],
      "source": [
        "def spectrogram_mat(address_prefix, file, save_prefix, format='flac'):\n",
        "    clip, sample_rate = librosa.load(address_prefix+file[:-3]+format, sr=None)\n",
        "    S = librosa.feature.melspectrogram(y=clip, sr=sample_rate)\n",
        "    SP = librosa.power_to_db(S, ref=np.max)\n",
        "    np.save(save_prefix+file, SP)"
      ]
    },
    {
      "cell_type": "code",
      "execution_count": null,
      "metadata": {
        "id": "yik9qPtO4Q_n"
      },
      "outputs": [],
      "source": [
        "def show_spectrogram_mat(filename, file, is_train=True):\n",
        "    plt.interactive(False)\n",
        "    ###clip, sample_rate = librosa.load(filename, sr=None)\n",
        "    fig = plt.figure(figsize=[0.72,0.72])\n",
        "    ax = fig.add_subplot(111)\n",
        "    ax.axes.get_xaxis().set_visible(False)\n",
        "    ax.axes.get_yaxis().set_visible(False)\n",
        "    ax.set_frame_on(False)\n",
        "    ###S = librosa.feature.melspectrogram(y=clip, sr=sample_rate)\n",
        "    ###SP = librosa.power_to_db(S, ref=np.max)\n",
        "    #S = librosa.feature.mfcc(y=clip, sr=sample_rate)\n",
        "    S= np.load(filename)\n",
        "    #librosa.display.specshow(librosa.power_to_db(S, ref=np.max))\n",
        "    librosa.display.specshow(S)\n",
        "    prefix= TRAIN_IMG_PATH\n",
        "    if not is_train:\n",
        "        prefix= TEST_IMG_PATH\n",
        "    name  = prefix + file[:-4] + \".jpg\"\n",
        "    #name2  = prefix + file[:-4] + \"2.jpg\"\n",
        "    #np.save(name, S)\n",
        "    #np.save(name2, SP)\n",
        "    plt.savefig(name, dpi=400, bbox_inches='tight',pad_inches=0)\n",
        "    plt.close()\n",
        "    fig.clf()\n",
        "    plt.close(fig)\n",
        "    plt.close('all')\n",
        "    #del filename,name,clip,sample_rate,fig,ax,S"
      ]
    },
    {
      "cell_type": "markdown",
      "metadata": {
        "id": "5x4GSZ4uPEoP"
      },
      "source": [
        "### ok generating"
      ]
    },
    {
      "cell_type": "code",
      "execution_count": null,
      "metadata": {
        "colab": {
          "base_uri": "https://localhost:8080/",
          "height": 460
        },
        "id": "S50fw78pO-Sr",
        "outputId": "a80b30f0-087d-421e-e8f5-c11f260290f6"
      },
      "outputs": [
        {
          "name": "stdout",
          "output_type": "stream",
          "text": [
            "CPU times: user 47min 31s, sys: 32min 12s, total: 1h 19min 43s\n",
            "Wall time: 49min 5s\n"
          ]
        },
        {
          "data": {
            "text/html": [
              "\n",
              "  <div id=\"df-0e82ad6e-2dec-4845-92b1-fced59e4b824\">\n",
              "    <div class=\"colab-df-container\">\n",
              "      <div>\n",
              "<style scoped>\n",
              "    .dataframe tbody tr th:only-of-type {\n",
              "        vertical-align: middle;\n",
              "    }\n",
              "\n",
              "    .dataframe tbody tr th {\n",
              "        vertical-align: top;\n",
              "    }\n",
              "\n",
              "    .dataframe thead th {\n",
              "        text-align: right;\n",
              "    }\n",
              "</style>\n",
              "<table border=\"1\" class=\"dataframe\">\n",
              "  <thead>\n",
              "    <tr style=\"text-align: right;\">\n",
              "      <th></th>\n",
              "      <th>file</th>\n",
              "      <th>ID</th>\n",
              "    </tr>\n",
              "  </thead>\n",
              "  <tbody>\n",
              "    <tr>\n",
              "      <th>0</th>\n",
              "      <td>/content/voice/train/train/de_m_df90bffac026f7...</td>\n",
              "      <td>de_m_df90bffac026f705f4a99871d71684f1.fragment...</td>\n",
              "    </tr>\n",
              "    <tr>\n",
              "      <th>1</th>\n",
              "      <td>/content/voice/train/train/en_f_9a47e3d56398b8...</td>\n",
              "      <td>en_f_9a47e3d56398b8108f59385aab8bbe87.fragment...</td>\n",
              "    </tr>\n",
              "    <tr>\n",
              "      <th>2</th>\n",
              "      <td>/content/voice/train/train/de_f_2825fa225d6ca4...</td>\n",
              "      <td>de_f_2825fa225d6ca4800f0cf0504b76ca65.fragment...</td>\n",
              "    </tr>\n",
              "    <tr>\n",
              "      <th>3</th>\n",
              "      <td>/content/voice/train/train/en_m_81995ee8a5e990...</td>\n",
              "      <td>en_m_81995ee8a5e990193b7858ec4b158e48.fragment...</td>\n",
              "    </tr>\n",
              "    <tr>\n",
              "      <th>4</th>\n",
              "      <td>/content/voice/train/train/en_m_1e512792ebab2b...</td>\n",
              "      <td>en_m_1e512792ebab2bd93b7aacac3d521390.fragment...</td>\n",
              "    </tr>\n",
              "    <tr>\n",
              "      <th>...</th>\n",
              "      <td>...</td>\n",
              "      <td>...</td>\n",
              "    </tr>\n",
              "    <tr>\n",
              "      <th>73075</th>\n",
              "      <td>/content/voice/train/train/de_f_8e8ed685b0cf9f...</td>\n",
              "      <td>de_f_8e8ed685b0cf9f5bbd13a04629ee64c5.fragment...</td>\n",
              "    </tr>\n",
              "    <tr>\n",
              "      <th>73076</th>\n",
              "      <td>/content/voice/train/train/es_f_47bd2e6178465c...</td>\n",
              "      <td>es_f_47bd2e6178465cd745c86c9db5ffe447.fragment...</td>\n",
              "    </tr>\n",
              "    <tr>\n",
              "      <th>73077</th>\n",
              "      <td>/content/voice/train/train/es_f_68e1dcf1b41edc...</td>\n",
              "      <td>es_f_68e1dcf1b41edcfa24b402f46ec2a65e.fragment...</td>\n",
              "    </tr>\n",
              "    <tr>\n",
              "      <th>73078</th>\n",
              "      <td>/content/voice/train/train/de_m_3aa01c55ba7ca8...</td>\n",
              "      <td>de_m_3aa01c55ba7ca85cad2977c848eb826f.fragment...</td>\n",
              "    </tr>\n",
              "    <tr>\n",
              "      <th>73079</th>\n",
              "      <td>/content/voice/train/train/de_m_fc6bd6bb9d66a8...</td>\n",
              "      <td>de_m_fc6bd6bb9d66a89bb8d8a8a7efa23e6b.fragment...</td>\n",
              "    </tr>\n",
              "  </tbody>\n",
              "</table>\n",
              "<p>73080 rows × 2 columns</p>\n",
              "</div>\n",
              "      <button class=\"colab-df-convert\" onclick=\"convertToInteractive('df-0e82ad6e-2dec-4845-92b1-fced59e4b824')\"\n",
              "              title=\"Convert this dataframe to an interactive table.\"\n",
              "              style=\"display:none;\">\n",
              "        \n",
              "  <svg xmlns=\"http://www.w3.org/2000/svg\" height=\"24px\"viewBox=\"0 0 24 24\"\n",
              "       width=\"24px\">\n",
              "    <path d=\"M0 0h24v24H0V0z\" fill=\"none\"/>\n",
              "    <path d=\"M18.56 5.44l.94 2.06.94-2.06 2.06-.94-2.06-.94-.94-2.06-.94 2.06-2.06.94zm-11 1L8.5 8.5l.94-2.06 2.06-.94-2.06-.94L8.5 2.5l-.94 2.06-2.06.94zm10 10l.94 2.06.94-2.06 2.06-.94-2.06-.94-.94-2.06-.94 2.06-2.06.94z\"/><path d=\"M17.41 7.96l-1.37-1.37c-.4-.4-.92-.59-1.43-.59-.52 0-1.04.2-1.43.59L10.3 9.45l-7.72 7.72c-.78.78-.78 2.05 0 2.83L4 21.41c.39.39.9.59 1.41.59.51 0 1.02-.2 1.41-.59l7.78-7.78 2.81-2.81c.8-.78.8-2.07 0-2.86zM5.41 20L4 18.59l7.72-7.72 1.47 1.35L5.41 20z\"/>\n",
              "  </svg>\n",
              "      </button>\n",
              "      \n",
              "  <style>\n",
              "    .colab-df-container {\n",
              "      display:flex;\n",
              "      flex-wrap:wrap;\n",
              "      gap: 12px;\n",
              "    }\n",
              "\n",
              "    .colab-df-convert {\n",
              "      background-color: #E8F0FE;\n",
              "      border: none;\n",
              "      border-radius: 50%;\n",
              "      cursor: pointer;\n",
              "      display: none;\n",
              "      fill: #1967D2;\n",
              "      height: 32px;\n",
              "      padding: 0 0 0 0;\n",
              "      width: 32px;\n",
              "    }\n",
              "\n",
              "    .colab-df-convert:hover {\n",
              "      background-color: #E2EBFA;\n",
              "      box-shadow: 0px 1px 2px rgba(60, 64, 67, 0.3), 0px 1px 3px 1px rgba(60, 64, 67, 0.15);\n",
              "      fill: #174EA6;\n",
              "    }\n",
              "\n",
              "    [theme=dark] .colab-df-convert {\n",
              "      background-color: #3B4455;\n",
              "      fill: #D2E3FC;\n",
              "    }\n",
              "\n",
              "    [theme=dark] .colab-df-convert:hover {\n",
              "      background-color: #434B5C;\n",
              "      box-shadow: 0px 1px 3px 1px rgba(0, 0, 0, 0.15);\n",
              "      filter: drop-shadow(0px 1px 2px rgba(0, 0, 0, 0.3));\n",
              "      fill: #FFFFFF;\n",
              "    }\n",
              "  </style>\n",
              "\n",
              "      <script>\n",
              "        const buttonEl =\n",
              "          document.querySelector('#df-0e82ad6e-2dec-4845-92b1-fced59e4b824 button.colab-df-convert');\n",
              "        buttonEl.style.display =\n",
              "          google.colab.kernel.accessAllowed ? 'block' : 'none';\n",
              "\n",
              "        async function convertToInteractive(key) {\n",
              "          const element = document.querySelector('#df-0e82ad6e-2dec-4845-92b1-fced59e4b824');\n",
              "          const dataTable =\n",
              "            await google.colab.kernel.invokeFunction('convertToInteractive',\n",
              "                                                     [key], {});\n",
              "          if (!dataTable) return;\n",
              "\n",
              "          const docLinkHtml = 'Like what you see? Visit the ' +\n",
              "            '<a target=\"_blank\" href=https://colab.research.google.com/notebooks/data_table.ipynb>data table notebook</a>'\n",
              "            + ' to learn more about interactive tables.';\n",
              "          element.innerHTML = '';\n",
              "          dataTable['output_type'] = 'display_data';\n",
              "          await google.colab.output.renderOutput(dataTable, element);\n",
              "          const docLink = document.createElement('div');\n",
              "          docLink.innerHTML = docLinkHtml;\n",
              "          element.appendChild(docLink);\n",
              "        }\n",
              "      </script>\n",
              "    </div>\n",
              "  </div>\n",
              "  "
            ],
            "text/plain": [
              "                                                    file  \\\n",
              "0      /content/voice/train/train/de_m_df90bffac026f7...   \n",
              "1      /content/voice/train/train/en_f_9a47e3d56398b8...   \n",
              "2      /content/voice/train/train/de_f_2825fa225d6ca4...   \n",
              "3      /content/voice/train/train/en_m_81995ee8a5e990...   \n",
              "4      /content/voice/train/train/en_m_1e512792ebab2b...   \n",
              "...                                                  ...   \n",
              "73075  /content/voice/train/train/de_f_8e8ed685b0cf9f...   \n",
              "73076  /content/voice/train/train/es_f_47bd2e6178465c...   \n",
              "73077  /content/voice/train/train/es_f_68e1dcf1b41edc...   \n",
              "73078  /content/voice/train/train/de_m_3aa01c55ba7ca8...   \n",
              "73079  /content/voice/train/train/de_m_fc6bd6bb9d66a8...   \n",
              "\n",
              "                                                      ID  \n",
              "0      de_m_df90bffac026f705f4a99871d71684f1.fragment...  \n",
              "1      en_f_9a47e3d56398b8108f59385aab8bbe87.fragment...  \n",
              "2      de_f_2825fa225d6ca4800f0cf0504b76ca65.fragment...  \n",
              "3      en_m_81995ee8a5e990193b7858ec4b158e48.fragment...  \n",
              "4      en_m_1e512792ebab2bd93b7aacac3d521390.fragment...  \n",
              "...                                                  ...  \n",
              "73075  de_f_8e8ed685b0cf9f5bbd13a04629ee64c5.fragment...  \n",
              "73076  es_f_47bd2e6178465cd745c86c9db5ffe447.fragment...  \n",
              "73077  es_f_68e1dcf1b41edcfa24b402f46ec2a65e.fragment...  \n",
              "73078  de_m_3aa01c55ba7ca85cad2977c848eb826f.fragment...  \n",
              "73079  de_m_fc6bd6bb9d66a89bb8d8a8a7efa23e6b.fragment...  \n",
              "\n",
              "[73080 rows x 2 columns]"
            ]
          },
          "execution_count": 17,
          "metadata": {},
          "output_type": "execute_result"
        }
      ],
      "source": [
        "%%time\n",
        "format_len = len('flac')\n",
        "traindf = pd.DataFrame(train_data_dir,columns = ['file'])\n",
        "traindf['ID']= traindf['file'].apply(lambda x: x.split('/')[-1][:-format_len]+'npy')\n",
        "np.vectorize(spectrogram_mat)(TRAIN_VOICE_PATH, traindf['ID'], TRAIN_MAT_PATH)\n",
        "traindf"
      ]
    },
    {
      "cell_type": "code",
      "execution_count": null,
      "metadata": {
        "colab": {
          "base_uri": "https://localhost:8080/",
          "height": 458
        },
        "id": "YWmnouKbBnZo",
        "outputId": "d2e84180-9589-4721-9703-547f7ce9002a"
      },
      "outputs": [
        {
          "name": "stdout",
          "output_type": "stream",
          "text": [
            "CPU times: user 29.8 s, sys: 21.6 s, total: 51.3 s\n",
            "Wall time: 32.7 s\n"
          ]
        },
        {
          "data": {
            "text/html": [
              "\n",
              "  <div id=\"df-a52b57d2-84c9-434d-ae3a-2c574e92fe33\">\n",
              "    <div class=\"colab-df-container\">\n",
              "      <div>\n",
              "<style scoped>\n",
              "    .dataframe tbody tr th:only-of-type {\n",
              "        vertical-align: middle;\n",
              "    }\n",
              "\n",
              "    .dataframe tbody tr th {\n",
              "        vertical-align: top;\n",
              "    }\n",
              "\n",
              "    .dataframe thead th {\n",
              "        text-align: right;\n",
              "    }\n",
              "</style>\n",
              "<table border=\"1\" class=\"dataframe\">\n",
              "  <thead>\n",
              "    <tr style=\"text-align: right;\">\n",
              "      <th></th>\n",
              "      <th>file</th>\n",
              "      <th>ID</th>\n",
              "    </tr>\n",
              "  </thead>\n",
              "  <tbody>\n",
              "    <tr>\n",
              "      <th>0</th>\n",
              "      <td>/content/voice/test/test/en_f_67a0cba10d171b24...</td>\n",
              "      <td>en_f_67a0cba10d171b24039a79faa1d4d603.fragment...</td>\n",
              "    </tr>\n",
              "    <tr>\n",
              "      <th>1</th>\n",
              "      <td>/content/voice/test/test/en_m_b74b2bf2af570393...</td>\n",
              "      <td>en_m_b74b2bf2af570393cae91f4ed89cece7.fragment...</td>\n",
              "    </tr>\n",
              "    <tr>\n",
              "      <th>2</th>\n",
              "      <td>/content/voice/test/test/es_f_50298ab71aaba850...</td>\n",
              "      <td>es_f_50298ab71aaba8508ebeef49d853df11.fragment...</td>\n",
              "    </tr>\n",
              "    <tr>\n",
              "      <th>3</th>\n",
              "      <td>/content/voice/test/test/de_f_63f5b79c76cf5a1a...</td>\n",
              "      <td>de_f_63f5b79c76cf5a1a4bbd1c40f54b166e.fragment...</td>\n",
              "    </tr>\n",
              "    <tr>\n",
              "      <th>4</th>\n",
              "      <td>/content/voice/test/test/en_f_67a0cba10d171b24...</td>\n",
              "      <td>en_f_67a0cba10d171b24039a79faa1d4d603.fragment...</td>\n",
              "    </tr>\n",
              "    <tr>\n",
              "      <th>...</th>\n",
              "      <td>...</td>\n",
              "      <td>...</td>\n",
              "    </tr>\n",
              "    <tr>\n",
              "      <th>535</th>\n",
              "      <td>/content/voice/test/test/de_m_923551d571cc4373...</td>\n",
              "      <td>de_m_923551d571cc437382d0294dda2dd0aa.fragment...</td>\n",
              "    </tr>\n",
              "    <tr>\n",
              "      <th>536</th>\n",
              "      <td>/content/voice/test/test/en_m_b74b2bf2af570393...</td>\n",
              "      <td>en_m_b74b2bf2af570393cae91f4ed89cece7.fragment...</td>\n",
              "    </tr>\n",
              "    <tr>\n",
              "      <th>537</th>\n",
              "      <td>/content/voice/test/test/en_m_b74b2bf2af570393...</td>\n",
              "      <td>en_m_b74b2bf2af570393cae91f4ed89cece7.fragment...</td>\n",
              "    </tr>\n",
              "    <tr>\n",
              "      <th>538</th>\n",
              "      <td>/content/voice/test/test/de_m_923551d571cc4373...</td>\n",
              "      <td>de_m_923551d571cc437382d0294dda2dd0aa.fragment...</td>\n",
              "    </tr>\n",
              "    <tr>\n",
              "      <th>539</th>\n",
              "      <td>/content/voice/test/test/de_m_923551d571cc4373...</td>\n",
              "      <td>de_m_923551d571cc437382d0294dda2dd0aa.fragment...</td>\n",
              "    </tr>\n",
              "  </tbody>\n",
              "</table>\n",
              "<p>540 rows × 2 columns</p>\n",
              "</div>\n",
              "      <button class=\"colab-df-convert\" onclick=\"convertToInteractive('df-a52b57d2-84c9-434d-ae3a-2c574e92fe33')\"\n",
              "              title=\"Convert this dataframe to an interactive table.\"\n",
              "              style=\"display:none;\">\n",
              "        \n",
              "  <svg xmlns=\"http://www.w3.org/2000/svg\" height=\"24px\"viewBox=\"0 0 24 24\"\n",
              "       width=\"24px\">\n",
              "    <path d=\"M0 0h24v24H0V0z\" fill=\"none\"/>\n",
              "    <path d=\"M18.56 5.44l.94 2.06.94-2.06 2.06-.94-2.06-.94-.94-2.06-.94 2.06-2.06.94zm-11 1L8.5 8.5l.94-2.06 2.06-.94-2.06-.94L8.5 2.5l-.94 2.06-2.06.94zm10 10l.94 2.06.94-2.06 2.06-.94-2.06-.94-.94-2.06-.94 2.06-2.06.94z\"/><path d=\"M17.41 7.96l-1.37-1.37c-.4-.4-.92-.59-1.43-.59-.52 0-1.04.2-1.43.59L10.3 9.45l-7.72 7.72c-.78.78-.78 2.05 0 2.83L4 21.41c.39.39.9.59 1.41.59.51 0 1.02-.2 1.41-.59l7.78-7.78 2.81-2.81c.8-.78.8-2.07 0-2.86zM5.41 20L4 18.59l7.72-7.72 1.47 1.35L5.41 20z\"/>\n",
              "  </svg>\n",
              "      </button>\n",
              "      \n",
              "  <style>\n",
              "    .colab-df-container {\n",
              "      display:flex;\n",
              "      flex-wrap:wrap;\n",
              "      gap: 12px;\n",
              "    }\n",
              "\n",
              "    .colab-df-convert {\n",
              "      background-color: #E8F0FE;\n",
              "      border: none;\n",
              "      border-radius: 50%;\n",
              "      cursor: pointer;\n",
              "      display: none;\n",
              "      fill: #1967D2;\n",
              "      height: 32px;\n",
              "      padding: 0 0 0 0;\n",
              "      width: 32px;\n",
              "    }\n",
              "\n",
              "    .colab-df-convert:hover {\n",
              "      background-color: #E2EBFA;\n",
              "      box-shadow: 0px 1px 2px rgba(60, 64, 67, 0.3), 0px 1px 3px 1px rgba(60, 64, 67, 0.15);\n",
              "      fill: #174EA6;\n",
              "    }\n",
              "\n",
              "    [theme=dark] .colab-df-convert {\n",
              "      background-color: #3B4455;\n",
              "      fill: #D2E3FC;\n",
              "    }\n",
              "\n",
              "    [theme=dark] .colab-df-convert:hover {\n",
              "      background-color: #434B5C;\n",
              "      box-shadow: 0px 1px 3px 1px rgba(0, 0, 0, 0.15);\n",
              "      filter: drop-shadow(0px 1px 2px rgba(0, 0, 0, 0.3));\n",
              "      fill: #FFFFFF;\n",
              "    }\n",
              "  </style>\n",
              "\n",
              "      <script>\n",
              "        const buttonEl =\n",
              "          document.querySelector('#df-a52b57d2-84c9-434d-ae3a-2c574e92fe33 button.colab-df-convert');\n",
              "        buttonEl.style.display =\n",
              "          google.colab.kernel.accessAllowed ? 'block' : 'none';\n",
              "\n",
              "        async function convertToInteractive(key) {\n",
              "          const element = document.querySelector('#df-a52b57d2-84c9-434d-ae3a-2c574e92fe33');\n",
              "          const dataTable =\n",
              "            await google.colab.kernel.invokeFunction('convertToInteractive',\n",
              "                                                     [key], {});\n",
              "          if (!dataTable) return;\n",
              "\n",
              "          const docLinkHtml = 'Like what you see? Visit the ' +\n",
              "            '<a target=\"_blank\" href=https://colab.research.google.com/notebooks/data_table.ipynb>data table notebook</a>'\n",
              "            + ' to learn more about interactive tables.';\n",
              "          element.innerHTML = '';\n",
              "          dataTable['output_type'] = 'display_data';\n",
              "          await google.colab.output.renderOutput(dataTable, element);\n",
              "          const docLink = document.createElement('div');\n",
              "          docLink.innerHTML = docLinkHtml;\n",
              "          element.appendChild(docLink);\n",
              "        }\n",
              "      </script>\n",
              "    </div>\n",
              "  </div>\n",
              "  "
            ],
            "text/plain": [
              "                                                  file  \\\n",
              "0    /content/voice/test/test/en_f_67a0cba10d171b24...   \n",
              "1    /content/voice/test/test/en_m_b74b2bf2af570393...   \n",
              "2    /content/voice/test/test/es_f_50298ab71aaba850...   \n",
              "3    /content/voice/test/test/de_f_63f5b79c76cf5a1a...   \n",
              "4    /content/voice/test/test/en_f_67a0cba10d171b24...   \n",
              "..                                                 ...   \n",
              "535  /content/voice/test/test/de_m_923551d571cc4373...   \n",
              "536  /content/voice/test/test/en_m_b74b2bf2af570393...   \n",
              "537  /content/voice/test/test/en_m_b74b2bf2af570393...   \n",
              "538  /content/voice/test/test/de_m_923551d571cc4373...   \n",
              "539  /content/voice/test/test/de_m_923551d571cc4373...   \n",
              "\n",
              "                                                    ID  \n",
              "0    en_f_67a0cba10d171b24039a79faa1d4d603.fragment...  \n",
              "1    en_m_b74b2bf2af570393cae91f4ed89cece7.fragment...  \n",
              "2    es_f_50298ab71aaba8508ebeef49d853df11.fragment...  \n",
              "3    de_f_63f5b79c76cf5a1a4bbd1c40f54b166e.fragment...  \n",
              "4    en_f_67a0cba10d171b24039a79faa1d4d603.fragment...  \n",
              "..                                                 ...  \n",
              "535  de_m_923551d571cc437382d0294dda2dd0aa.fragment...  \n",
              "536  en_m_b74b2bf2af570393cae91f4ed89cece7.fragment...  \n",
              "537  en_m_b74b2bf2af570393cae91f4ed89cece7.fragment...  \n",
              "538  de_m_923551d571cc437382d0294dda2dd0aa.fragment...  \n",
              "539  de_m_923551d571cc437382d0294dda2dd0aa.fragment...  \n",
              "\n",
              "[540 rows x 2 columns]"
            ]
          },
          "execution_count": 26,
          "metadata": {},
          "output_type": "execute_result"
        }
      ],
      "source": [
        "%%time\n",
        "format_len = len('flac')\n",
        "testdf = pd.DataFrame(test_data_dir,columns = ['file'])\n",
        "testdf['ID']= testdf['file'].apply(lambda x: x.split('/')[-1][:-format_len]+'npy')\n",
        "np.vectorize(spectrogram_mat)(TEST_VOICE_PATH, testdf['ID'], TEST_MAT_PATH)\n",
        "testdf"
      ]
    },
    {
      "cell_type": "code",
      "execution_count": null,
      "metadata": {
        "colab": {
          "base_uri": "https://localhost:8080/"
        },
        "id": "GqvQWrTecciU",
        "outputId": "2b09024f-f0ec-491b-ca52-8a4ae2ad23c4"
      },
      "outputs": [
        {
          "name": "stdout",
          "output_type": "stream",
          "text": [
            "73080\n"
          ]
        }
      ],
      "source": [
        "! ls $TRAIN_MAT_PATH -1 | wc -l"
      ]
    },
    {
      "cell_type": "code",
      "execution_count": null,
      "metadata": {
        "colab": {
          "base_uri": "https://localhost:8080/"
        },
        "id": "3y5Q4nz4cyTo",
        "outputId": "b520af1b-6ef8-4fec-d402-985a245e194c"
      },
      "outputs": [
        {
          "name": "stdout",
          "output_type": "stream",
          "text": [
            "16G\t/content/mat/train/\n"
          ]
        }
      ],
      "source": [
        "! du -sh $TRAIN_MAT_PATH"
      ]
    },
    {
      "cell_type": "code",
      "execution_count": null,
      "metadata": {
        "id": "mhpt7b1nsmWT"
      },
      "outputs": [],
      "source": [
        "! mkdir {DRIVE3_PATH}\"test/\""
      ]
    },
    {
      "cell_type": "code",
      "execution_count": null,
      "metadata": {
        "id": "8AqKncPl5J_G"
      },
      "outputs": [],
      "source": [
        "show_spectrogram_mat('/content/train/train-img/de_f_26ddc4e756f61233d74d42cc000c9dae.fragment23.pitch8.flac2.npy','de_f_26ddc4e756f61233d74d42cc000c9dae.fragment23.pitch8.flac2.npy')"
      ]
    },
    {
      "cell_type": "code",
      "execution_count": null,
      "metadata": {
        "id": "izW38vKhQqWz"
      },
      "outputs": [],
      "source": [
        "traindf['lang'] = traindf['ID'].apply(lambda x: x.split('_')[0])"
      ]
    },
    {
      "cell_type": "code",
      "execution_count": null,
      "metadata": {
        "id": "OiwIDVj2FVXF"
      },
      "outputs": [],
      "source": [
        "move_to_label(traindf['ID'][0], traindf['lang'][0])"
      ]
    },
    {
      "cell_type": "code",
      "execution_count": null,
      "metadata": {
        "id": "bBgN5An38tm3"
      },
      "outputs": [],
      "source": [
        "np.vectorize(move_to_label, cache=True)(traindf['ID'], traindf['lang'])"
      ]
    },
    {
      "cell_type": "markdown",
      "metadata": {
        "id": "mvANCgj-TGOf"
      },
      "source": [
        "### read data from drive"
      ]
    },
    {
      "cell_type": "code",
      "execution_count": null,
      "metadata": {
        "id": "b2ljVZQDtsWk"
      },
      "outputs": [],
      "source": [
        "### for first_half\n",
        "first_half_df=pd.read_csv(DRIVE_PATH+'first_half.csv')\n",
        "traindf = first_half_df"
      ]
    },
    {
      "cell_type": "code",
      "source": [
        "first_half_df"
      ],
      "metadata": {
        "colab": {
          "base_uri": "https://localhost:8080/",
          "height": 424
        },
        "id": "uF8FncyKqPZi",
        "outputId": "a1c01151-d7a2-4788-ce31-eba1ea7f4aeb"
      },
      "execution_count": null,
      "outputs": [
        {
          "output_type": "execute_result",
          "data": {
            "text/plain": [
              "                                                    file  \\\n",
              "0      /content/voice/train/train/de_m_df90bffac026f7...   \n",
              "1      /content/voice/train/train/de_m_0345d503166fbc...   \n",
              "2      /content/voice/train/train/en_m_d2f13c7f37ecec...   \n",
              "3      /content/voice/train/train/en_m_3a8f30bef6d7b6...   \n",
              "4      /content/voice/train/train/en_f_7701e10392ce7b...   \n",
              "...                                                  ...   \n",
              "36535  /content/voice/train/train/de_f_26ddc4e756f612...   \n",
              "36536  /content/voice/train/train/en_m_17b5d499519197...   \n",
              "36537  /content/voice/train/train/es_f_56ef0bde6c92a0...   \n",
              "36538  /content/voice/train/train/es_f_cc86b9208b120f...   \n",
              "36539  /content/voice/train/train/de_m_2cfa348b2b6852...   \n",
              "\n",
              "                                                      ID lang  \n",
              "0      de_m_df90bffac026f705f4a99871d71684f1.fragment...   de  \n",
              "1      de_m_0345d503166fbcb125b6e10e2e804443.fragment...   de  \n",
              "2      en_m_d2f13c7f37ecec67df0f46408c224bc1.fragment...   en  \n",
              "3      en_m_3a8f30bef6d7b6a1332629491eabcbf0.fragment...   en  \n",
              "4      en_f_7701e10392ce7bcfba6d2fcca56fb8d9.fragment...   en  \n",
              "...                                                  ...  ...  \n",
              "36535  de_f_26ddc4e756f61233d74d42cc000c9dae.fragment...   de  \n",
              "36536  en_m_17b5d4995191976232356345dfbb82cb.fragment...   en  \n",
              "36537  es_f_56ef0bde6c92a0100da23cdd39a8a112.fragment...   es  \n",
              "36538  es_f_cc86b9208b120f1f147a9246ab39f5e4.fragment...   es  \n",
              "36539  de_m_2cfa348b2b6852e38637a4225158678d.fragment...   de  \n",
              "\n",
              "[36540 rows x 3 columns]"
            ],
            "text/html": [
              "\n",
              "  <div id=\"df-de8b6aa2-06a7-487e-8b9c-4495e3981164\">\n",
              "    <div class=\"colab-df-container\">\n",
              "      <div>\n",
              "<style scoped>\n",
              "    .dataframe tbody tr th:only-of-type {\n",
              "        vertical-align: middle;\n",
              "    }\n",
              "\n",
              "    .dataframe tbody tr th {\n",
              "        vertical-align: top;\n",
              "    }\n",
              "\n",
              "    .dataframe thead th {\n",
              "        text-align: right;\n",
              "    }\n",
              "</style>\n",
              "<table border=\"1\" class=\"dataframe\">\n",
              "  <thead>\n",
              "    <tr style=\"text-align: right;\">\n",
              "      <th></th>\n",
              "      <th>file</th>\n",
              "      <th>ID</th>\n",
              "      <th>lang</th>\n",
              "    </tr>\n",
              "  </thead>\n",
              "  <tbody>\n",
              "    <tr>\n",
              "      <th>0</th>\n",
              "      <td>/content/voice/train/train/de_m_df90bffac026f7...</td>\n",
              "      <td>de_m_df90bffac026f705f4a99871d71684f1.fragment...</td>\n",
              "      <td>de</td>\n",
              "    </tr>\n",
              "    <tr>\n",
              "      <th>1</th>\n",
              "      <td>/content/voice/train/train/de_m_0345d503166fbc...</td>\n",
              "      <td>de_m_0345d503166fbcb125b6e10e2e804443.fragment...</td>\n",
              "      <td>de</td>\n",
              "    </tr>\n",
              "    <tr>\n",
              "      <th>2</th>\n",
              "      <td>/content/voice/train/train/en_m_d2f13c7f37ecec...</td>\n",
              "      <td>en_m_d2f13c7f37ecec67df0f46408c224bc1.fragment...</td>\n",
              "      <td>en</td>\n",
              "    </tr>\n",
              "    <tr>\n",
              "      <th>3</th>\n",
              "      <td>/content/voice/train/train/en_m_3a8f30bef6d7b6...</td>\n",
              "      <td>en_m_3a8f30bef6d7b6a1332629491eabcbf0.fragment...</td>\n",
              "      <td>en</td>\n",
              "    </tr>\n",
              "    <tr>\n",
              "      <th>4</th>\n",
              "      <td>/content/voice/train/train/en_f_7701e10392ce7b...</td>\n",
              "      <td>en_f_7701e10392ce7bcfba6d2fcca56fb8d9.fragment...</td>\n",
              "      <td>en</td>\n",
              "    </tr>\n",
              "    <tr>\n",
              "      <th>...</th>\n",
              "      <td>...</td>\n",
              "      <td>...</td>\n",
              "      <td>...</td>\n",
              "    </tr>\n",
              "    <tr>\n",
              "      <th>36535</th>\n",
              "      <td>/content/voice/train/train/de_f_26ddc4e756f612...</td>\n",
              "      <td>de_f_26ddc4e756f61233d74d42cc000c9dae.fragment...</td>\n",
              "      <td>de</td>\n",
              "    </tr>\n",
              "    <tr>\n",
              "      <th>36536</th>\n",
              "      <td>/content/voice/train/train/en_m_17b5d499519197...</td>\n",
              "      <td>en_m_17b5d4995191976232356345dfbb82cb.fragment...</td>\n",
              "      <td>en</td>\n",
              "    </tr>\n",
              "    <tr>\n",
              "      <th>36537</th>\n",
              "      <td>/content/voice/train/train/es_f_56ef0bde6c92a0...</td>\n",
              "      <td>es_f_56ef0bde6c92a0100da23cdd39a8a112.fragment...</td>\n",
              "      <td>es</td>\n",
              "    </tr>\n",
              "    <tr>\n",
              "      <th>36538</th>\n",
              "      <td>/content/voice/train/train/es_f_cc86b9208b120f...</td>\n",
              "      <td>es_f_cc86b9208b120f1f147a9246ab39f5e4.fragment...</td>\n",
              "      <td>es</td>\n",
              "    </tr>\n",
              "    <tr>\n",
              "      <th>36539</th>\n",
              "      <td>/content/voice/train/train/de_m_2cfa348b2b6852...</td>\n",
              "      <td>de_m_2cfa348b2b6852e38637a4225158678d.fragment...</td>\n",
              "      <td>de</td>\n",
              "    </tr>\n",
              "  </tbody>\n",
              "</table>\n",
              "<p>36540 rows × 3 columns</p>\n",
              "</div>\n",
              "      <button class=\"colab-df-convert\" onclick=\"convertToInteractive('df-de8b6aa2-06a7-487e-8b9c-4495e3981164')\"\n",
              "              title=\"Convert this dataframe to an interactive table.\"\n",
              "              style=\"display:none;\">\n",
              "        \n",
              "  <svg xmlns=\"http://www.w3.org/2000/svg\" height=\"24px\"viewBox=\"0 0 24 24\"\n",
              "       width=\"24px\">\n",
              "    <path d=\"M0 0h24v24H0V0z\" fill=\"none\"/>\n",
              "    <path d=\"M18.56 5.44l.94 2.06.94-2.06 2.06-.94-2.06-.94-.94-2.06-.94 2.06-2.06.94zm-11 1L8.5 8.5l.94-2.06 2.06-.94-2.06-.94L8.5 2.5l-.94 2.06-2.06.94zm10 10l.94 2.06.94-2.06 2.06-.94-2.06-.94-.94-2.06-.94 2.06-2.06.94z\"/><path d=\"M17.41 7.96l-1.37-1.37c-.4-.4-.92-.59-1.43-.59-.52 0-1.04.2-1.43.59L10.3 9.45l-7.72 7.72c-.78.78-.78 2.05 0 2.83L4 21.41c.39.39.9.59 1.41.59.51 0 1.02-.2 1.41-.59l7.78-7.78 2.81-2.81c.8-.78.8-2.07 0-2.86zM5.41 20L4 18.59l7.72-7.72 1.47 1.35L5.41 20z\"/>\n",
              "  </svg>\n",
              "      </button>\n",
              "      \n",
              "  <style>\n",
              "    .colab-df-container {\n",
              "      display:flex;\n",
              "      flex-wrap:wrap;\n",
              "      gap: 12px;\n",
              "    }\n",
              "\n",
              "    .colab-df-convert {\n",
              "      background-color: #E8F0FE;\n",
              "      border: none;\n",
              "      border-radius: 50%;\n",
              "      cursor: pointer;\n",
              "      display: none;\n",
              "      fill: #1967D2;\n",
              "      height: 32px;\n",
              "      padding: 0 0 0 0;\n",
              "      width: 32px;\n",
              "    }\n",
              "\n",
              "    .colab-df-convert:hover {\n",
              "      background-color: #E2EBFA;\n",
              "      box-shadow: 0px 1px 2px rgba(60, 64, 67, 0.3), 0px 1px 3px 1px rgba(60, 64, 67, 0.15);\n",
              "      fill: #174EA6;\n",
              "    }\n",
              "\n",
              "    [theme=dark] .colab-df-convert {\n",
              "      background-color: #3B4455;\n",
              "      fill: #D2E3FC;\n",
              "    }\n",
              "\n",
              "    [theme=dark] .colab-df-convert:hover {\n",
              "      background-color: #434B5C;\n",
              "      box-shadow: 0px 1px 3px 1px rgba(0, 0, 0, 0.15);\n",
              "      filter: drop-shadow(0px 1px 2px rgba(0, 0, 0, 0.3));\n",
              "      fill: #FFFFFF;\n",
              "    }\n",
              "  </style>\n",
              "\n",
              "      <script>\n",
              "        const buttonEl =\n",
              "          document.querySelector('#df-de8b6aa2-06a7-487e-8b9c-4495e3981164 button.colab-df-convert');\n",
              "        buttonEl.style.display =\n",
              "          google.colab.kernel.accessAllowed ? 'block' : 'none';\n",
              "\n",
              "        async function convertToInteractive(key) {\n",
              "          const element = document.querySelector('#df-de8b6aa2-06a7-487e-8b9c-4495e3981164');\n",
              "          const dataTable =\n",
              "            await google.colab.kernel.invokeFunction('convertToInteractive',\n",
              "                                                     [key], {});\n",
              "          if (!dataTable) return;\n",
              "\n",
              "          const docLinkHtml = 'Like what you see? Visit the ' +\n",
              "            '<a target=\"_blank\" href=https://colab.research.google.com/notebooks/data_table.ipynb>data table notebook</a>'\n",
              "            + ' to learn more about interactive tables.';\n",
              "          element.innerHTML = '';\n",
              "          dataTable['output_type'] = 'display_data';\n",
              "          await google.colab.output.renderOutput(dataTable, element);\n",
              "          const docLink = document.createElement('div');\n",
              "          docLink.innerHTML = docLinkHtml;\n",
              "          element.appendChild(docLink);\n",
              "        }\n",
              "      </script>\n",
              "    </div>\n",
              "  </div>\n",
              "  "
            ]
          },
          "metadata": {},
          "execution_count": 11
        }
      ]
    },
    {
      "cell_type": "markdown",
      "source": [
        "### generate spectrogram"
      ],
      "metadata": {
        "id": "HhkQSjZEpDgA"
      }
    },
    {
      "cell_type": "code",
      "source": [
        "def spectrogram_mat(address_prefix, file, save_prefix, format='flac'):\n",
        "    clip, sample_rate = librosa.load(address_prefix+file[:-3]+format, sr=None)\n",
        "    S = librosa.feature.melspectrogram(y=clip, sr=sample_rate)\n",
        "    SP = librosa.power_to_db(S, ref=np.max)\n",
        "    np.save(save_prefix+file, SP)"
      ],
      "metadata": {
        "id": "HULoVkVrr19K"
      },
      "execution_count": null,
      "outputs": []
    },
    {
      "cell_type": "code",
      "source": [
        "%%time\n",
        "format_len = len('flac')\n",
        "np.vectorize(spectrogram_mat)(TRAIN_VOICE_PATH, traindf['ID'], TRAIN_MAT_PATH)\n",
        "traindf"
      ],
      "metadata": {
        "colab": {
          "base_uri": "https://localhost:8080/",
          "height": 458
        },
        "id": "uIaCzWPdqFeH",
        "outputId": "471514f3-412a-4747-d3b2-4e7af98c2f42"
      },
      "execution_count": null,
      "outputs": [
        {
          "output_type": "stream",
          "name": "stdout",
          "text": [
            "CPU times: user 54min 37s, sys: 40min 16s, total: 1h 34min 54s\n",
            "Wall time: 58min 14s\n"
          ]
        },
        {
          "output_type": "execute_result",
          "data": {
            "text/plain": [
              "                                                    file  \\\n",
              "0      /content/voice/train/train/es_f_56ef0bde6c92a0...   \n",
              "1      /content/voice/train/train/en_f_c8835fb3edef24...   \n",
              "2      /content/voice/train/train/es_f_68e1dcf1b41edc...   \n",
              "3      /content/voice/train/train/en_m_6a5535d7512259...   \n",
              "4      /content/voice/train/train/de_f_d94712992f41e3...   \n",
              "...                                                  ...   \n",
              "73075  /content/voice/train/train/en_f_17211c49a9b296...   \n",
              "73076  /content/voice/train/train/de_f_f856a0201f94b3...   \n",
              "73077  /content/voice/train/train/es_f_bac9be13a058d1...   \n",
              "73078  /content/voice/train/train/de_f_5d2e7f30d69f2d...   \n",
              "73079  /content/voice/train/train/de_m_8ea3514af1c014...   \n",
              "\n",
              "                                                      ID lang  \n",
              "0      es_f_56ef0bde6c92a0100da23cdd39a8a112.fragment...   es  \n",
              "1      en_f_c8835fb3edef243176e1e9beef1f9681.fragment...   en  \n",
              "2      es_f_68e1dcf1b41edcfa24b402f46ec2a65e.fragment...   es  \n",
              "3      en_m_6a5535d7512259e7bef76ff997750873.fragment...   en  \n",
              "4      de_f_d94712992f41e3d8d21f22274b3d8fd9.fragment...   de  \n",
              "...                                                  ...  ...  \n",
              "73075  en_f_17211c49a9b2967b57cffaccf0d5b565.fragment...   en  \n",
              "73076  de_f_f856a0201f94b3b57b61815ef8b715d2.fragment...   de  \n",
              "73077  es_f_bac9be13a058d1c859ed5d2e3a0dc27b.fragment...   es  \n",
              "73078  de_f_5d2e7f30d69f2d1d86fd05f3bbe120c2.fragment...   de  \n",
              "73079  de_m_8ea3514af1c01478fbcd004b026fea71.fragment...   de  \n",
              "\n",
              "[73080 rows x 3 columns]"
            ],
            "text/html": [
              "\n",
              "\n",
              "  <div id=\"df-52fde15c-148c-499a-ac24-4ecfd797b403\">\n",
              "    <div class=\"colab-df-container\">\n",
              "      <div>\n",
              "<style scoped>\n",
              "    .dataframe tbody tr th:only-of-type {\n",
              "        vertical-align: middle;\n",
              "    }\n",
              "\n",
              "    .dataframe tbody tr th {\n",
              "        vertical-align: top;\n",
              "    }\n",
              "\n",
              "    .dataframe thead th {\n",
              "        text-align: right;\n",
              "    }\n",
              "</style>\n",
              "<table border=\"1\" class=\"dataframe\">\n",
              "  <thead>\n",
              "    <tr style=\"text-align: right;\">\n",
              "      <th></th>\n",
              "      <th>file</th>\n",
              "      <th>ID</th>\n",
              "      <th>lang</th>\n",
              "    </tr>\n",
              "  </thead>\n",
              "  <tbody>\n",
              "    <tr>\n",
              "      <th>0</th>\n",
              "      <td>/content/voice/train/train/es_f_56ef0bde6c92a0...</td>\n",
              "      <td>es_f_56ef0bde6c92a0100da23cdd39a8a112.fragment...</td>\n",
              "      <td>es</td>\n",
              "    </tr>\n",
              "    <tr>\n",
              "      <th>1</th>\n",
              "      <td>/content/voice/train/train/en_f_c8835fb3edef24...</td>\n",
              "      <td>en_f_c8835fb3edef243176e1e9beef1f9681.fragment...</td>\n",
              "      <td>en</td>\n",
              "    </tr>\n",
              "    <tr>\n",
              "      <th>2</th>\n",
              "      <td>/content/voice/train/train/es_f_68e1dcf1b41edc...</td>\n",
              "      <td>es_f_68e1dcf1b41edcfa24b402f46ec2a65e.fragment...</td>\n",
              "      <td>es</td>\n",
              "    </tr>\n",
              "    <tr>\n",
              "      <th>3</th>\n",
              "      <td>/content/voice/train/train/en_m_6a5535d7512259...</td>\n",
              "      <td>en_m_6a5535d7512259e7bef76ff997750873.fragment...</td>\n",
              "      <td>en</td>\n",
              "    </tr>\n",
              "    <tr>\n",
              "      <th>4</th>\n",
              "      <td>/content/voice/train/train/de_f_d94712992f41e3...</td>\n",
              "      <td>de_f_d94712992f41e3d8d21f22274b3d8fd9.fragment...</td>\n",
              "      <td>de</td>\n",
              "    </tr>\n",
              "    <tr>\n",
              "      <th>...</th>\n",
              "      <td>...</td>\n",
              "      <td>...</td>\n",
              "      <td>...</td>\n",
              "    </tr>\n",
              "    <tr>\n",
              "      <th>73075</th>\n",
              "      <td>/content/voice/train/train/en_f_17211c49a9b296...</td>\n",
              "      <td>en_f_17211c49a9b2967b57cffaccf0d5b565.fragment...</td>\n",
              "      <td>en</td>\n",
              "    </tr>\n",
              "    <tr>\n",
              "      <th>73076</th>\n",
              "      <td>/content/voice/train/train/de_f_f856a0201f94b3...</td>\n",
              "      <td>de_f_f856a0201f94b3b57b61815ef8b715d2.fragment...</td>\n",
              "      <td>de</td>\n",
              "    </tr>\n",
              "    <tr>\n",
              "      <th>73077</th>\n",
              "      <td>/content/voice/train/train/es_f_bac9be13a058d1...</td>\n",
              "      <td>es_f_bac9be13a058d1c859ed5d2e3a0dc27b.fragment...</td>\n",
              "      <td>es</td>\n",
              "    </tr>\n",
              "    <tr>\n",
              "      <th>73078</th>\n",
              "      <td>/content/voice/train/train/de_f_5d2e7f30d69f2d...</td>\n",
              "      <td>de_f_5d2e7f30d69f2d1d86fd05f3bbe120c2.fragment...</td>\n",
              "      <td>de</td>\n",
              "    </tr>\n",
              "    <tr>\n",
              "      <th>73079</th>\n",
              "      <td>/content/voice/train/train/de_m_8ea3514af1c014...</td>\n",
              "      <td>de_m_8ea3514af1c01478fbcd004b026fea71.fragment...</td>\n",
              "      <td>de</td>\n",
              "    </tr>\n",
              "  </tbody>\n",
              "</table>\n",
              "<p>73080 rows × 3 columns</p>\n",
              "</div>\n",
              "      <button class=\"colab-df-convert\" onclick=\"convertToInteractive('df-52fde15c-148c-499a-ac24-4ecfd797b403')\"\n",
              "              title=\"Convert this dataframe to an interactive table.\"\n",
              "              style=\"display:none;\">\n",
              "\n",
              "  <svg xmlns=\"http://www.w3.org/2000/svg\" height=\"24px\"viewBox=\"0 0 24 24\"\n",
              "       width=\"24px\">\n",
              "    <path d=\"M0 0h24v24H0V0z\" fill=\"none\"/>\n",
              "    <path d=\"M18.56 5.44l.94 2.06.94-2.06 2.06-.94-2.06-.94-.94-2.06-.94 2.06-2.06.94zm-11 1L8.5 8.5l.94-2.06 2.06-.94-2.06-.94L8.5 2.5l-.94 2.06-2.06.94zm10 10l.94 2.06.94-2.06 2.06-.94-2.06-.94-.94-2.06-.94 2.06-2.06.94z\"/><path d=\"M17.41 7.96l-1.37-1.37c-.4-.4-.92-.59-1.43-.59-.52 0-1.04.2-1.43.59L10.3 9.45l-7.72 7.72c-.78.78-.78 2.05 0 2.83L4 21.41c.39.39.9.59 1.41.59.51 0 1.02-.2 1.41-.59l7.78-7.78 2.81-2.81c.8-.78.8-2.07 0-2.86zM5.41 20L4 18.59l7.72-7.72 1.47 1.35L5.41 20z\"/>\n",
              "  </svg>\n",
              "      </button>\n",
              "\n",
              "\n",
              "\n",
              "    <div id=\"df-adc6dbd3-3516-4366-ac7d-8237b952e7f2\">\n",
              "      <button class=\"colab-df-quickchart\" onclick=\"quickchart('df-adc6dbd3-3516-4366-ac7d-8237b952e7f2')\"\n",
              "              title=\"Suggest charts.\"\n",
              "              style=\"display:none;\">\n",
              "\n",
              "<svg xmlns=\"http://www.w3.org/2000/svg\" height=\"24px\"viewBox=\"0 0 24 24\"\n",
              "     width=\"24px\">\n",
              "    <g>\n",
              "        <path d=\"M19 3H5c-1.1 0-2 .9-2 2v14c0 1.1.9 2 2 2h14c1.1 0 2-.9 2-2V5c0-1.1-.9-2-2-2zM9 17H7v-7h2v7zm4 0h-2V7h2v10zm4 0h-2v-4h2v4z\"/>\n",
              "    </g>\n",
              "</svg>\n",
              "      </button>\n",
              "    </div>\n",
              "\n",
              "<style>\n",
              "  .colab-df-quickchart {\n",
              "    background-color: #E8F0FE;\n",
              "    border: none;\n",
              "    border-radius: 50%;\n",
              "    cursor: pointer;\n",
              "    display: none;\n",
              "    fill: #1967D2;\n",
              "    height: 32px;\n",
              "    padding: 0 0 0 0;\n",
              "    width: 32px;\n",
              "  }\n",
              "\n",
              "  .colab-df-quickchart:hover {\n",
              "    background-color: #E2EBFA;\n",
              "    box-shadow: 0px 1px 2px rgba(60, 64, 67, 0.3), 0px 1px 3px 1px rgba(60, 64, 67, 0.15);\n",
              "    fill: #174EA6;\n",
              "  }\n",
              "\n",
              "  [theme=dark] .colab-df-quickchart {\n",
              "    background-color: #3B4455;\n",
              "    fill: #D2E3FC;\n",
              "  }\n",
              "\n",
              "  [theme=dark] .colab-df-quickchart:hover {\n",
              "    background-color: #434B5C;\n",
              "    box-shadow: 0px 1px 3px 1px rgba(0, 0, 0, 0.15);\n",
              "    filter: drop-shadow(0px 1px 2px rgba(0, 0, 0, 0.3));\n",
              "    fill: #FFFFFF;\n",
              "  }\n",
              "</style>\n",
              "\n",
              "    <script>\n",
              "      async function quickchart(key) {\n",
              "        const containerElement = document.querySelector('#' + key);\n",
              "        const charts = await google.colab.kernel.invokeFunction(\n",
              "            'suggestCharts', [key], {});\n",
              "      }\n",
              "    </script>\n",
              "\n",
              "      <script>\n",
              "\n",
              "function displayQuickchartButton(domScope) {\n",
              "  let quickchartButtonEl =\n",
              "    domScope.querySelector('#df-adc6dbd3-3516-4366-ac7d-8237b952e7f2 button.colab-df-quickchart');\n",
              "  quickchartButtonEl.style.display =\n",
              "    google.colab.kernel.accessAllowed ? 'block' : 'none';\n",
              "}\n",
              "\n",
              "        displayQuickchartButton(document);\n",
              "      </script>\n",
              "      <style>\n",
              "    .colab-df-container {\n",
              "      display:flex;\n",
              "      flex-wrap:wrap;\n",
              "      gap: 12px;\n",
              "    }\n",
              "\n",
              "    .colab-df-convert {\n",
              "      background-color: #E8F0FE;\n",
              "      border: none;\n",
              "      border-radius: 50%;\n",
              "      cursor: pointer;\n",
              "      display: none;\n",
              "      fill: #1967D2;\n",
              "      height: 32px;\n",
              "      padding: 0 0 0 0;\n",
              "      width: 32px;\n",
              "    }\n",
              "\n",
              "    .colab-df-convert:hover {\n",
              "      background-color: #E2EBFA;\n",
              "      box-shadow: 0px 1px 2px rgba(60, 64, 67, 0.3), 0px 1px 3px 1px rgba(60, 64, 67, 0.15);\n",
              "      fill: #174EA6;\n",
              "    }\n",
              "\n",
              "    [theme=dark] .colab-df-convert {\n",
              "      background-color: #3B4455;\n",
              "      fill: #D2E3FC;\n",
              "    }\n",
              "\n",
              "    [theme=dark] .colab-df-convert:hover {\n",
              "      background-color: #434B5C;\n",
              "      box-shadow: 0px 1px 3px 1px rgba(0, 0, 0, 0.15);\n",
              "      filter: drop-shadow(0px 1px 2px rgba(0, 0, 0, 0.3));\n",
              "      fill: #FFFFFF;\n",
              "    }\n",
              "  </style>\n",
              "\n",
              "      <script>\n",
              "        const buttonEl =\n",
              "          document.querySelector('#df-52fde15c-148c-499a-ac24-4ecfd797b403 button.colab-df-convert');\n",
              "        buttonEl.style.display =\n",
              "          google.colab.kernel.accessAllowed ? 'block' : 'none';\n",
              "\n",
              "        async function convertToInteractive(key) {\n",
              "          const element = document.querySelector('#df-52fde15c-148c-499a-ac24-4ecfd797b403');\n",
              "          const dataTable =\n",
              "            await google.colab.kernel.invokeFunction('convertToInteractive',\n",
              "                                                     [key], {});\n",
              "          if (!dataTable) return;\n",
              "\n",
              "          const docLinkHtml = 'Like what you see? Visit the ' +\n",
              "            '<a target=\"_blank\" href=https://colab.research.google.com/notebooks/data_table.ipynb>data table notebook</a>'\n",
              "            + ' to learn more about interactive tables.';\n",
              "          element.innerHTML = '';\n",
              "          dataTable['output_type'] = 'display_data';\n",
              "          await google.colab.output.renderOutput(dataTable, element);\n",
              "          const docLink = document.createElement('div');\n",
              "          docLink.innerHTML = docLinkHtml;\n",
              "          element.appendChild(docLink);\n",
              "        }\n",
              "      </script>\n",
              "    </div>\n",
              "  </div>\n"
            ]
          },
          "metadata": {},
          "execution_count": 13
        }
      ]
    },
    {
      "cell_type": "code",
      "source": [
        "%%time\n",
        "format_len = len('flac')\n",
        "np.vectorize(spectrogram_mat)(TEST_VOICE_PATH, testdf['ID'], TEST_MAT_PATH)\n",
        "testdf"
      ],
      "metadata": {
        "colab": {
          "base_uri": "https://localhost:8080/",
          "height": 458
        },
        "id": "hry7YS9cpyHd",
        "outputId": "21a837e2-eaa1-4fe8-b636-f88375dfb0cf"
      },
      "execution_count": null,
      "outputs": [
        {
          "output_type": "stream",
          "name": "stdout",
          "text": [
            "CPU times: user 24 s, sys: 17.6 s, total: 41.6 s\n",
            "Wall time: 25.3 s\n"
          ]
        },
        {
          "output_type": "execute_result",
          "data": {
            "text/plain": [
              "                                                  file  \\\n",
              "0    /content/voice/test/test/de_f_63f5b79c76cf5a1a...   \n",
              "1    /content/voice/test/test/de_f_63f5b79c76cf5a1a...   \n",
              "2    /content/voice/test/test/es_m_08111ce8d6a7ebc6...   \n",
              "3    /content/voice/test/test/en_f_67a0cba10d171b24...   \n",
              "4    /content/voice/test/test/en_f_67a0cba10d171b24...   \n",
              "..                                                 ...   \n",
              "535  /content/voice/test/test/en_m_b74b2bf2af570393...   \n",
              "536  /content/voice/test/test/es_m_08111ce8d6a7ebc6...   \n",
              "537  /content/voice/test/test/de_f_63f5b79c76cf5a1a...   \n",
              "538  /content/voice/test/test/es_m_08111ce8d6a7ebc6...   \n",
              "539  /content/voice/test/test/en_m_b74b2bf2af570393...   \n",
              "\n",
              "                                                    ID lang  \n",
              "0    de_f_63f5b79c76cf5a1a4bbd1c40f54b166e.fragment...   de  \n",
              "1    de_f_63f5b79c76cf5a1a4bbd1c40f54b166e.fragment...   de  \n",
              "2    es_m_08111ce8d6a7ebc6cd2c27e62a3d98f0.fragment...   es  \n",
              "3    en_f_67a0cba10d171b24039a79faa1d4d603.fragment...   en  \n",
              "4    en_f_67a0cba10d171b24039a79faa1d4d603.fragment...   en  \n",
              "..                                                 ...  ...  \n",
              "535  en_m_b74b2bf2af570393cae91f4ed89cece7.fragment...   en  \n",
              "536  es_m_08111ce8d6a7ebc6cd2c27e62a3d98f0.fragment...   es  \n",
              "537  de_f_63f5b79c76cf5a1a4bbd1c40f54b166e.fragment...   de  \n",
              "538  es_m_08111ce8d6a7ebc6cd2c27e62a3d98f0.fragment...   es  \n",
              "539  en_m_b74b2bf2af570393cae91f4ed89cece7.fragment...   en  \n",
              "\n",
              "[540 rows x 3 columns]"
            ],
            "text/html": [
              "\n",
              "\n",
              "  <div id=\"df-fcb55ac7-1594-4234-8675-30833da6f2fb\">\n",
              "    <div class=\"colab-df-container\">\n",
              "      <div>\n",
              "<style scoped>\n",
              "    .dataframe tbody tr th:only-of-type {\n",
              "        vertical-align: middle;\n",
              "    }\n",
              "\n",
              "    .dataframe tbody tr th {\n",
              "        vertical-align: top;\n",
              "    }\n",
              "\n",
              "    .dataframe thead th {\n",
              "        text-align: right;\n",
              "    }\n",
              "</style>\n",
              "<table border=\"1\" class=\"dataframe\">\n",
              "  <thead>\n",
              "    <tr style=\"text-align: right;\">\n",
              "      <th></th>\n",
              "      <th>file</th>\n",
              "      <th>ID</th>\n",
              "      <th>lang</th>\n",
              "    </tr>\n",
              "  </thead>\n",
              "  <tbody>\n",
              "    <tr>\n",
              "      <th>0</th>\n",
              "      <td>/content/voice/test/test/de_f_63f5b79c76cf5a1a...</td>\n",
              "      <td>de_f_63f5b79c76cf5a1a4bbd1c40f54b166e.fragment...</td>\n",
              "      <td>de</td>\n",
              "    </tr>\n",
              "    <tr>\n",
              "      <th>1</th>\n",
              "      <td>/content/voice/test/test/de_f_63f5b79c76cf5a1a...</td>\n",
              "      <td>de_f_63f5b79c76cf5a1a4bbd1c40f54b166e.fragment...</td>\n",
              "      <td>de</td>\n",
              "    </tr>\n",
              "    <tr>\n",
              "      <th>2</th>\n",
              "      <td>/content/voice/test/test/es_m_08111ce8d6a7ebc6...</td>\n",
              "      <td>es_m_08111ce8d6a7ebc6cd2c27e62a3d98f0.fragment...</td>\n",
              "      <td>es</td>\n",
              "    </tr>\n",
              "    <tr>\n",
              "      <th>3</th>\n",
              "      <td>/content/voice/test/test/en_f_67a0cba10d171b24...</td>\n",
              "      <td>en_f_67a0cba10d171b24039a79faa1d4d603.fragment...</td>\n",
              "      <td>en</td>\n",
              "    </tr>\n",
              "    <tr>\n",
              "      <th>4</th>\n",
              "      <td>/content/voice/test/test/en_f_67a0cba10d171b24...</td>\n",
              "      <td>en_f_67a0cba10d171b24039a79faa1d4d603.fragment...</td>\n",
              "      <td>en</td>\n",
              "    </tr>\n",
              "    <tr>\n",
              "      <th>...</th>\n",
              "      <td>...</td>\n",
              "      <td>...</td>\n",
              "      <td>...</td>\n",
              "    </tr>\n",
              "    <tr>\n",
              "      <th>535</th>\n",
              "      <td>/content/voice/test/test/en_m_b74b2bf2af570393...</td>\n",
              "      <td>en_m_b74b2bf2af570393cae91f4ed89cece7.fragment...</td>\n",
              "      <td>en</td>\n",
              "    </tr>\n",
              "    <tr>\n",
              "      <th>536</th>\n",
              "      <td>/content/voice/test/test/es_m_08111ce8d6a7ebc6...</td>\n",
              "      <td>es_m_08111ce8d6a7ebc6cd2c27e62a3d98f0.fragment...</td>\n",
              "      <td>es</td>\n",
              "    </tr>\n",
              "    <tr>\n",
              "      <th>537</th>\n",
              "      <td>/content/voice/test/test/de_f_63f5b79c76cf5a1a...</td>\n",
              "      <td>de_f_63f5b79c76cf5a1a4bbd1c40f54b166e.fragment...</td>\n",
              "      <td>de</td>\n",
              "    </tr>\n",
              "    <tr>\n",
              "      <th>538</th>\n",
              "      <td>/content/voice/test/test/es_m_08111ce8d6a7ebc6...</td>\n",
              "      <td>es_m_08111ce8d6a7ebc6cd2c27e62a3d98f0.fragment...</td>\n",
              "      <td>es</td>\n",
              "    </tr>\n",
              "    <tr>\n",
              "      <th>539</th>\n",
              "      <td>/content/voice/test/test/en_m_b74b2bf2af570393...</td>\n",
              "      <td>en_m_b74b2bf2af570393cae91f4ed89cece7.fragment...</td>\n",
              "      <td>en</td>\n",
              "    </tr>\n",
              "  </tbody>\n",
              "</table>\n",
              "<p>540 rows × 3 columns</p>\n",
              "</div>\n",
              "      <button class=\"colab-df-convert\" onclick=\"convertToInteractive('df-fcb55ac7-1594-4234-8675-30833da6f2fb')\"\n",
              "              title=\"Convert this dataframe to an interactive table.\"\n",
              "              style=\"display:none;\">\n",
              "\n",
              "  <svg xmlns=\"http://www.w3.org/2000/svg\" height=\"24px\"viewBox=\"0 0 24 24\"\n",
              "       width=\"24px\">\n",
              "    <path d=\"M0 0h24v24H0V0z\" fill=\"none\"/>\n",
              "    <path d=\"M18.56 5.44l.94 2.06.94-2.06 2.06-.94-2.06-.94-.94-2.06-.94 2.06-2.06.94zm-11 1L8.5 8.5l.94-2.06 2.06-.94-2.06-.94L8.5 2.5l-.94 2.06-2.06.94zm10 10l.94 2.06.94-2.06 2.06-.94-2.06-.94-.94-2.06-.94 2.06-2.06.94z\"/><path d=\"M17.41 7.96l-1.37-1.37c-.4-.4-.92-.59-1.43-.59-.52 0-1.04.2-1.43.59L10.3 9.45l-7.72 7.72c-.78.78-.78 2.05 0 2.83L4 21.41c.39.39.9.59 1.41.59.51 0 1.02-.2 1.41-.59l7.78-7.78 2.81-2.81c.8-.78.8-2.07 0-2.86zM5.41 20L4 18.59l7.72-7.72 1.47 1.35L5.41 20z\"/>\n",
              "  </svg>\n",
              "      </button>\n",
              "\n",
              "\n",
              "\n",
              "    <div id=\"df-6b3b5754-4968-4da8-8ad8-ef3840dc518a\">\n",
              "      <button class=\"colab-df-quickchart\" onclick=\"quickchart('df-6b3b5754-4968-4da8-8ad8-ef3840dc518a')\"\n",
              "              title=\"Suggest charts.\"\n",
              "              style=\"display:none;\">\n",
              "\n",
              "<svg xmlns=\"http://www.w3.org/2000/svg\" height=\"24px\"viewBox=\"0 0 24 24\"\n",
              "     width=\"24px\">\n",
              "    <g>\n",
              "        <path d=\"M19 3H5c-1.1 0-2 .9-2 2v14c0 1.1.9 2 2 2h14c1.1 0 2-.9 2-2V5c0-1.1-.9-2-2-2zM9 17H7v-7h2v7zm4 0h-2V7h2v10zm4 0h-2v-4h2v4z\"/>\n",
              "    </g>\n",
              "</svg>\n",
              "      </button>\n",
              "    </div>\n",
              "\n",
              "<style>\n",
              "  .colab-df-quickchart {\n",
              "    background-color: #E8F0FE;\n",
              "    border: none;\n",
              "    border-radius: 50%;\n",
              "    cursor: pointer;\n",
              "    display: none;\n",
              "    fill: #1967D2;\n",
              "    height: 32px;\n",
              "    padding: 0 0 0 0;\n",
              "    width: 32px;\n",
              "  }\n",
              "\n",
              "  .colab-df-quickchart:hover {\n",
              "    background-color: #E2EBFA;\n",
              "    box-shadow: 0px 1px 2px rgba(60, 64, 67, 0.3), 0px 1px 3px 1px rgba(60, 64, 67, 0.15);\n",
              "    fill: #174EA6;\n",
              "  }\n",
              "\n",
              "  [theme=dark] .colab-df-quickchart {\n",
              "    background-color: #3B4455;\n",
              "    fill: #D2E3FC;\n",
              "  }\n",
              "\n",
              "  [theme=dark] .colab-df-quickchart:hover {\n",
              "    background-color: #434B5C;\n",
              "    box-shadow: 0px 1px 3px 1px rgba(0, 0, 0, 0.15);\n",
              "    filter: drop-shadow(0px 1px 2px rgba(0, 0, 0, 0.3));\n",
              "    fill: #FFFFFF;\n",
              "  }\n",
              "</style>\n",
              "\n",
              "    <script>\n",
              "      async function quickchart(key) {\n",
              "        const containerElement = document.querySelector('#' + key);\n",
              "        const charts = await google.colab.kernel.invokeFunction(\n",
              "            'suggestCharts', [key], {});\n",
              "      }\n",
              "    </script>\n",
              "\n",
              "      <script>\n",
              "\n",
              "function displayQuickchartButton(domScope) {\n",
              "  let quickchartButtonEl =\n",
              "    domScope.querySelector('#df-6b3b5754-4968-4da8-8ad8-ef3840dc518a button.colab-df-quickchart');\n",
              "  quickchartButtonEl.style.display =\n",
              "    google.colab.kernel.accessAllowed ? 'block' : 'none';\n",
              "}\n",
              "\n",
              "        displayQuickchartButton(document);\n",
              "      </script>\n",
              "      <style>\n",
              "    .colab-df-container {\n",
              "      display:flex;\n",
              "      flex-wrap:wrap;\n",
              "      gap: 12px;\n",
              "    }\n",
              "\n",
              "    .colab-df-convert {\n",
              "      background-color: #E8F0FE;\n",
              "      border: none;\n",
              "      border-radius: 50%;\n",
              "      cursor: pointer;\n",
              "      display: none;\n",
              "      fill: #1967D2;\n",
              "      height: 32px;\n",
              "      padding: 0 0 0 0;\n",
              "      width: 32px;\n",
              "    }\n",
              "\n",
              "    .colab-df-convert:hover {\n",
              "      background-color: #E2EBFA;\n",
              "      box-shadow: 0px 1px 2px rgba(60, 64, 67, 0.3), 0px 1px 3px 1px rgba(60, 64, 67, 0.15);\n",
              "      fill: #174EA6;\n",
              "    }\n",
              "\n",
              "    [theme=dark] .colab-df-convert {\n",
              "      background-color: #3B4455;\n",
              "      fill: #D2E3FC;\n",
              "    }\n",
              "\n",
              "    [theme=dark] .colab-df-convert:hover {\n",
              "      background-color: #434B5C;\n",
              "      box-shadow: 0px 1px 3px 1px rgba(0, 0, 0, 0.15);\n",
              "      filter: drop-shadow(0px 1px 2px rgba(0, 0, 0, 0.3));\n",
              "      fill: #FFFFFF;\n",
              "    }\n",
              "  </style>\n",
              "\n",
              "      <script>\n",
              "        const buttonEl =\n",
              "          document.querySelector('#df-fcb55ac7-1594-4234-8675-30833da6f2fb button.colab-df-convert');\n",
              "        buttonEl.style.display =\n",
              "          google.colab.kernel.accessAllowed ? 'block' : 'none';\n",
              "\n",
              "        async function convertToInteractive(key) {\n",
              "          const element = document.querySelector('#df-fcb55ac7-1594-4234-8675-30833da6f2fb');\n",
              "          const dataTable =\n",
              "            await google.colab.kernel.invokeFunction('convertToInteractive',\n",
              "                                                     [key], {});\n",
              "          if (!dataTable) return;\n",
              "\n",
              "          const docLinkHtml = 'Like what you see? Visit the ' +\n",
              "            '<a target=\"_blank\" href=https://colab.research.google.com/notebooks/data_table.ipynb>data table notebook</a>'\n",
              "            + ' to learn more about interactive tables.';\n",
              "          element.innerHTML = '';\n",
              "          dataTable['output_type'] = 'display_data';\n",
              "          await google.colab.output.renderOutput(dataTable, element);\n",
              "          const docLink = document.createElement('div');\n",
              "          docLink.innerHTML = docLinkHtml;\n",
              "          element.appendChild(docLink);\n",
              "        }\n",
              "      </script>\n",
              "    </div>\n",
              "  </div>\n"
            ]
          },
          "metadata": {},
          "execution_count": 14
        }
      ]
    },
    {
      "cell_type": "code",
      "source": [
        "print(traindf.iloc[0].ID)"
      ],
      "metadata": {
        "colab": {
          "base_uri": "https://localhost:8080/"
        },
        "id": "22z9IdN7SkdO",
        "outputId": "23e644d9-8e32-4290-bfa4-cf93cde444e2"
      },
      "execution_count": null,
      "outputs": [
        {
          "output_type": "stream",
          "name": "stdout",
          "text": [
            "es_f_56ef0bde6c92a0100da23cdd39a8a112.fragment13.speed3.npy\n"
          ]
        }
      ]
    },
    {
      "cell_type": "code",
      "execution_count": null,
      "metadata": {
        "colab": {
          "base_uri": "https://localhost:8080/"
        },
        "id": "TSUhsMzeRuGH",
        "outputId": "60105dd6-b534-4cbb-bd70-c28c974a5f38"
      },
      "outputs": [
        {
          "output_type": "execute_result",
          "data": {
            "text/plain": [
              "95711"
            ]
          },
          "metadata": {},
          "execution_count": 16
        }
      ],
      "source": [
        "gc.collect()"
      ]
    },
    {
      "cell_type": "code",
      "execution_count": null,
      "metadata": {
        "id": "FNiuDK1aWySP"
      },
      "outputs": [],
      "source": [
        "!rm {CUR_DIR}spoken-language-identification.zip"
      ]
    },
    {
      "cell_type": "code",
      "source": [
        "!rm $VOICE_DIR -r"
      ],
      "metadata": {
        "id": "4-_dYXqrwDgz"
      },
      "execution_count": null,
      "outputs": []
    },
    {
      "cell_type": "code",
      "execution_count": null,
      "metadata": {
        "id": "qmyH3T2jTI5y"
      },
      "outputs": [],
      "source": [
        "traindf=pd.read_csv(DRIVE_PATH+'traindf.csv')"
      ]
    },
    {
      "cell_type": "code",
      "execution_count": null,
      "metadata": {
        "colab": {
          "base_uri": "https://localhost:8080/"
        },
        "id": "YIHmheBsPwBC",
        "outputId": "cb6c9c86-b5fd-46ba-f5f2-50afb3544edf"
      },
      "outputs": [
        {
          "output_type": "stream",
          "name": "stdout",
          "text": [
            "ls: cannot access '/content/mat/train//first_half': No such file or directory\n",
            "0\n"
          ]
        }
      ],
      "source": [
        "! ls $TRAIN_MAT_PATH/first_half -1 | wc -l"
      ]
    },
    {
      "cell_type": "code",
      "execution_count": null,
      "metadata": {
        "colab": {
          "base_uri": "https://localhost:8080/"
        },
        "id": "SJsR7tw7QFSr",
        "outputId": "eeafb63e-515a-4a8a-b29e-24f731654c96"
      },
      "outputs": [
        {
          "name": "stdout",
          "output_type": "stream",
          "text": [
            "36540\n"
          ]
        }
      ],
      "source": [
        "! ls {DRIVE3_PATH}first_half -1 | wc -l"
      ]
    },
    {
      "cell_type": "code",
      "execution_count": null,
      "metadata": {
        "colab": {
          "base_uri": "https://localhost:8080/",
          "height": 487
        },
        "id": "A1P9Y8O9XDHY",
        "outputId": "fc958cb2-7cd1-4e3e-89a7-0a10580cacf1"
      },
      "outputs": [
        {
          "data": {
            "text/html": [
              "\n",
              "  <div id=\"df-6fabb3f1-bf43-43d3-ad98-b4eb0ba2d815\">\n",
              "    <div class=\"colab-df-container\">\n",
              "      <div>\n",
              "<style scoped>\n",
              "    .dataframe tbody tr th:only-of-type {\n",
              "        vertical-align: middle;\n",
              "    }\n",
              "\n",
              "    .dataframe tbody tr th {\n",
              "        vertical-align: top;\n",
              "    }\n",
              "\n",
              "    .dataframe thead th {\n",
              "        text-align: right;\n",
              "    }\n",
              "</style>\n",
              "<table border=\"1\" class=\"dataframe\">\n",
              "  <thead>\n",
              "    <tr style=\"text-align: right;\">\n",
              "      <th></th>\n",
              "      <th>file</th>\n",
              "      <th>ID</th>\n",
              "      <th>lang</th>\n",
              "    </tr>\n",
              "  </thead>\n",
              "  <tbody>\n",
              "    <tr>\n",
              "      <th>0</th>\n",
              "      <td>/content/test/test/en_f_67a0cba10d171b24039a79...</td>\n",
              "      <td>en_f_67a0cba10d171b24039a79faa1d4d603.fragment...</td>\n",
              "      <td>en</td>\n",
              "    </tr>\n",
              "    <tr>\n",
              "      <th>1</th>\n",
              "      <td>/content/test/test/de_f_63f5b79c76cf5a1a4bbd1c...</td>\n",
              "      <td>de_f_63f5b79c76cf5a1a4bbd1c40f54b166e.fragment...</td>\n",
              "      <td>de</td>\n",
              "    </tr>\n",
              "    <tr>\n",
              "      <th>2</th>\n",
              "      <td>/content/test/test/es_m_08111ce8d6a7ebc6cd2c27...</td>\n",
              "      <td>es_m_08111ce8d6a7ebc6cd2c27e62a3d98f0.fragment...</td>\n",
              "      <td>es</td>\n",
              "    </tr>\n",
              "    <tr>\n",
              "      <th>3</th>\n",
              "      <td>/content/test/test/de_f_63f5b79c76cf5a1a4bbd1c...</td>\n",
              "      <td>de_f_63f5b79c76cf5a1a4bbd1c40f54b166e.fragment...</td>\n",
              "      <td>de</td>\n",
              "    </tr>\n",
              "    <tr>\n",
              "      <th>4</th>\n",
              "      <td>/content/test/test/de_f_63f5b79c76cf5a1a4bbd1c...</td>\n",
              "      <td>de_f_63f5b79c76cf5a1a4bbd1c40f54b166e.fragment...</td>\n",
              "      <td>de</td>\n",
              "    </tr>\n",
              "    <tr>\n",
              "      <th>...</th>\n",
              "      <td>...</td>\n",
              "      <td>...</td>\n",
              "      <td>...</td>\n",
              "    </tr>\n",
              "    <tr>\n",
              "      <th>95</th>\n",
              "      <td>/content/test/test/en_f_67a0cba10d171b24039a79...</td>\n",
              "      <td>en_f_67a0cba10d171b24039a79faa1d4d603.fragment...</td>\n",
              "      <td>en</td>\n",
              "    </tr>\n",
              "    <tr>\n",
              "      <th>96</th>\n",
              "      <td>/content/test/test/de_m_923551d571cc437382d029...</td>\n",
              "      <td>de_m_923551d571cc437382d0294dda2dd0aa.fragment...</td>\n",
              "      <td>de</td>\n",
              "    </tr>\n",
              "    <tr>\n",
              "      <th>97</th>\n",
              "      <td>/content/test/test/es_m_08111ce8d6a7ebc6cd2c27...</td>\n",
              "      <td>es_m_08111ce8d6a7ebc6cd2c27e62a3d98f0.fragment...</td>\n",
              "      <td>es</td>\n",
              "    </tr>\n",
              "    <tr>\n",
              "      <th>98</th>\n",
              "      <td>/content/test/test/es_f_50298ab71aaba8508ebeef...</td>\n",
              "      <td>es_f_50298ab71aaba8508ebeef49d853df11.fragment...</td>\n",
              "      <td>es</td>\n",
              "    </tr>\n",
              "    <tr>\n",
              "      <th>99</th>\n",
              "      <td>/content/test/test/de_m_923551d571cc437382d029...</td>\n",
              "      <td>de_m_923551d571cc437382d0294dda2dd0aa.fragment...</td>\n",
              "      <td>de</td>\n",
              "    </tr>\n",
              "  </tbody>\n",
              "</table>\n",
              "<p>100 rows × 3 columns</p>\n",
              "</div>\n",
              "      <button class=\"colab-df-convert\" onclick=\"convertToInteractive('df-6fabb3f1-bf43-43d3-ad98-b4eb0ba2d815')\"\n",
              "              title=\"Convert this dataframe to an interactive table.\"\n",
              "              style=\"display:none;\">\n",
              "        \n",
              "  <svg xmlns=\"http://www.w3.org/2000/svg\" height=\"24px\"viewBox=\"0 0 24 24\"\n",
              "       width=\"24px\">\n",
              "    <path d=\"M0 0h24v24H0V0z\" fill=\"none\"/>\n",
              "    <path d=\"M18.56 5.44l.94 2.06.94-2.06 2.06-.94-2.06-.94-.94-2.06-.94 2.06-2.06.94zm-11 1L8.5 8.5l.94-2.06 2.06-.94-2.06-.94L8.5 2.5l-.94 2.06-2.06.94zm10 10l.94 2.06.94-2.06 2.06-.94-2.06-.94-.94-2.06-.94 2.06-2.06.94z\"/><path d=\"M17.41 7.96l-1.37-1.37c-.4-.4-.92-.59-1.43-.59-.52 0-1.04.2-1.43.59L10.3 9.45l-7.72 7.72c-.78.78-.78 2.05 0 2.83L4 21.41c.39.39.9.59 1.41.59.51 0 1.02-.2 1.41-.59l7.78-7.78 2.81-2.81c.8-.78.8-2.07 0-2.86zM5.41 20L4 18.59l7.72-7.72 1.47 1.35L5.41 20z\"/>\n",
              "  </svg>\n",
              "      </button>\n",
              "      \n",
              "  <style>\n",
              "    .colab-df-container {\n",
              "      display:flex;\n",
              "      flex-wrap:wrap;\n",
              "      gap: 12px;\n",
              "    }\n",
              "\n",
              "    .colab-df-convert {\n",
              "      background-color: #E8F0FE;\n",
              "      border: none;\n",
              "      border-radius: 50%;\n",
              "      cursor: pointer;\n",
              "      display: none;\n",
              "      fill: #1967D2;\n",
              "      height: 32px;\n",
              "      padding: 0 0 0 0;\n",
              "      width: 32px;\n",
              "    }\n",
              "\n",
              "    .colab-df-convert:hover {\n",
              "      background-color: #E2EBFA;\n",
              "      box-shadow: 0px 1px 2px rgba(60, 64, 67, 0.3), 0px 1px 3px 1px rgba(60, 64, 67, 0.15);\n",
              "      fill: #174EA6;\n",
              "    }\n",
              "\n",
              "    [theme=dark] .colab-df-convert {\n",
              "      background-color: #3B4455;\n",
              "      fill: #D2E3FC;\n",
              "    }\n",
              "\n",
              "    [theme=dark] .colab-df-convert:hover {\n",
              "      background-color: #434B5C;\n",
              "      box-shadow: 0px 1px 3px 1px rgba(0, 0, 0, 0.15);\n",
              "      filter: drop-shadow(0px 1px 2px rgba(0, 0, 0, 0.3));\n",
              "      fill: #FFFFFF;\n",
              "    }\n",
              "  </style>\n",
              "\n",
              "      <script>\n",
              "        const buttonEl =\n",
              "          document.querySelector('#df-6fabb3f1-bf43-43d3-ad98-b4eb0ba2d815 button.colab-df-convert');\n",
              "        buttonEl.style.display =\n",
              "          google.colab.kernel.accessAllowed ? 'block' : 'none';\n",
              "\n",
              "        async function convertToInteractive(key) {\n",
              "          const element = document.querySelector('#df-6fabb3f1-bf43-43d3-ad98-b4eb0ba2d815');\n",
              "          const dataTable =\n",
              "            await google.colab.kernel.invokeFunction('convertToInteractive',\n",
              "                                                     [key], {});\n",
              "          if (!dataTable) return;\n",
              "\n",
              "          const docLinkHtml = 'Like what you see? Visit the ' +\n",
              "            '<a target=\"_blank\" href=https://colab.research.google.com/notebooks/data_table.ipynb>data table notebook</a>'\n",
              "            + ' to learn more about interactive tables.';\n",
              "          element.innerHTML = '';\n",
              "          dataTable['output_type'] = 'display_data';\n",
              "          await google.colab.output.renderOutput(dataTable, element);\n",
              "          const docLink = document.createElement('div');\n",
              "          docLink.innerHTML = docLinkHtml;\n",
              "          element.appendChild(docLink);\n",
              "        }\n",
              "      </script>\n",
              "    </div>\n",
              "  </div>\n",
              "  "
            ],
            "text/plain": [
              "                                                 file  \\\n",
              "0   /content/test/test/en_f_67a0cba10d171b24039a79...   \n",
              "1   /content/test/test/de_f_63f5b79c76cf5a1a4bbd1c...   \n",
              "2   /content/test/test/es_m_08111ce8d6a7ebc6cd2c27...   \n",
              "3   /content/test/test/de_f_63f5b79c76cf5a1a4bbd1c...   \n",
              "4   /content/test/test/de_f_63f5b79c76cf5a1a4bbd1c...   \n",
              "..                                                ...   \n",
              "95  /content/test/test/en_f_67a0cba10d171b24039a79...   \n",
              "96  /content/test/test/de_m_923551d571cc437382d029...   \n",
              "97  /content/test/test/es_m_08111ce8d6a7ebc6cd2c27...   \n",
              "98  /content/test/test/es_f_50298ab71aaba8508ebeef...   \n",
              "99  /content/test/test/de_m_923551d571cc437382d029...   \n",
              "\n",
              "                                                   ID lang  \n",
              "0   en_f_67a0cba10d171b24039a79faa1d4d603.fragment...   en  \n",
              "1   de_f_63f5b79c76cf5a1a4bbd1c40f54b166e.fragment...   de  \n",
              "2   es_m_08111ce8d6a7ebc6cd2c27e62a3d98f0.fragment...   es  \n",
              "3   de_f_63f5b79c76cf5a1a4bbd1c40f54b166e.fragment...   de  \n",
              "4   de_f_63f5b79c76cf5a1a4bbd1c40f54b166e.fragment...   de  \n",
              "..                                                ...  ...  \n",
              "95  en_f_67a0cba10d171b24039a79faa1d4d603.fragment...   en  \n",
              "96  de_m_923551d571cc437382d0294dda2dd0aa.fragment...   de  \n",
              "97  es_m_08111ce8d6a7ebc6cd2c27e62a3d98f0.fragment...   es  \n",
              "98  es_f_50298ab71aaba8508ebeef49d853df11.fragment...   es  \n",
              "99  de_m_923551d571cc437382d0294dda2dd0aa.fragment...   de  \n",
              "\n",
              "[100 rows x 3 columns]"
            ]
          },
          "execution_count": 58,
          "metadata": {},
          "output_type": "execute_result"
        }
      ],
      "source": [
        "#%%time\n",
        "#i= train_size #start i after train_size\n",
        "#test_id = []\n",
        "#for file in test_data_dir[i:i+test_size]:\n",
        "#    name = file.split('/')[-1]\n",
        "#    test_id.append(name+'.jpg')\n",
        "#    create_spectrogram(file,name, is_train=False)\n",
        "\n",
        "testdf = pd.DataFrame(test_data_dir[:test_size],columns = ['file'])\n",
        "testdf['ID']= testdf['file'].apply(lambda x: x.split('/')[-1]+'.jpg')\n",
        "#testdf.apply(lambda x: create_spectrogram(x.file, x.ID), axis=1)\n",
        "np.vectorize(create_spectrogram)(testdf['file'], testdf['ID'], is_train=False)\n",
        "testdf['lang'] = testdf['ID'].apply(lambda x: x.split('_')[0])\n",
        "testdf"
      ]
    },
    {
      "cell_type": "code",
      "execution_count": null,
      "metadata": {
        "colab": {
          "base_uri": "https://localhost:8080/",
          "height": 487
        },
        "id": "ZjdswInagYuR",
        "outputId": "40b74901-2cb4-47a4-fff0-74b98829032c"
      },
      "outputs": [
        {
          "data": {
            "text/html": [
              "\n",
              "  <div id=\"df-3d3ca52c-0656-4660-8f55-e86750c430bd\">\n",
              "    <div class=\"colab-df-container\">\n",
              "      <div>\n",
              "<style scoped>\n",
              "    .dataframe tbody tr th:only-of-type {\n",
              "        vertical-align: middle;\n",
              "    }\n",
              "\n",
              "    .dataframe tbody tr th {\n",
              "        vertical-align: top;\n",
              "    }\n",
              "\n",
              "    .dataframe thead th {\n",
              "        text-align: right;\n",
              "    }\n",
              "</style>\n",
              "<table border=\"1\" class=\"dataframe\">\n",
              "  <thead>\n",
              "    <tr style=\"text-align: right;\">\n",
              "      <th></th>\n",
              "      <th>file</th>\n",
              "      <th>ID</th>\n",
              "      <th>lang</th>\n",
              "    </tr>\n",
              "  </thead>\n",
              "  <tbody>\n",
              "    <tr>\n",
              "      <th>0</th>\n",
              "      <td>/content/test/test/en_f_67a0cba10d171b24039a79...</td>\n",
              "      <td>en_f_67a0cba10d171b24039a79faa1d4d603.fragment...</td>\n",
              "      <td>en</td>\n",
              "    </tr>\n",
              "    <tr>\n",
              "      <th>1</th>\n",
              "      <td>/content/test/test/de_f_63f5b79c76cf5a1a4bbd1c...</td>\n",
              "      <td>de_f_63f5b79c76cf5a1a4bbd1c40f54b166e.fragment...</td>\n",
              "      <td>de</td>\n",
              "    </tr>\n",
              "    <tr>\n",
              "      <th>2</th>\n",
              "      <td>/content/test/test/es_m_08111ce8d6a7ebc6cd2c27...</td>\n",
              "      <td>es_m_08111ce8d6a7ebc6cd2c27e62a3d98f0.fragment...</td>\n",
              "      <td>es</td>\n",
              "    </tr>\n",
              "    <tr>\n",
              "      <th>3</th>\n",
              "      <td>/content/test/test/de_f_63f5b79c76cf5a1a4bbd1c...</td>\n",
              "      <td>de_f_63f5b79c76cf5a1a4bbd1c40f54b166e.fragment...</td>\n",
              "      <td>de</td>\n",
              "    </tr>\n",
              "    <tr>\n",
              "      <th>4</th>\n",
              "      <td>/content/test/test/de_f_63f5b79c76cf5a1a4bbd1c...</td>\n",
              "      <td>de_f_63f5b79c76cf5a1a4bbd1c40f54b166e.fragment...</td>\n",
              "      <td>de</td>\n",
              "    </tr>\n",
              "    <tr>\n",
              "      <th>...</th>\n",
              "      <td>...</td>\n",
              "      <td>...</td>\n",
              "      <td>...</td>\n",
              "    </tr>\n",
              "    <tr>\n",
              "      <th>95</th>\n",
              "      <td>/content/test/test/en_f_67a0cba10d171b24039a79...</td>\n",
              "      <td>en_f_67a0cba10d171b24039a79faa1d4d603.fragment...</td>\n",
              "      <td>en</td>\n",
              "    </tr>\n",
              "    <tr>\n",
              "      <th>96</th>\n",
              "      <td>/content/test/test/de_m_923551d571cc437382d029...</td>\n",
              "      <td>de_m_923551d571cc437382d0294dda2dd0aa.fragment...</td>\n",
              "      <td>de</td>\n",
              "    </tr>\n",
              "    <tr>\n",
              "      <th>97</th>\n",
              "      <td>/content/test/test/es_m_08111ce8d6a7ebc6cd2c27...</td>\n",
              "      <td>es_m_08111ce8d6a7ebc6cd2c27e62a3d98f0.fragment...</td>\n",
              "      <td>es</td>\n",
              "    </tr>\n",
              "    <tr>\n",
              "      <th>98</th>\n",
              "      <td>/content/test/test/es_f_50298ab71aaba8508ebeef...</td>\n",
              "      <td>es_f_50298ab71aaba8508ebeef49d853df11.fragment...</td>\n",
              "      <td>es</td>\n",
              "    </tr>\n",
              "    <tr>\n",
              "      <th>99</th>\n",
              "      <td>/content/test/test/de_m_923551d571cc437382d029...</td>\n",
              "      <td>de_m_923551d571cc437382d0294dda2dd0aa.fragment...</td>\n",
              "      <td>de</td>\n",
              "    </tr>\n",
              "  </tbody>\n",
              "</table>\n",
              "<p>100 rows × 3 columns</p>\n",
              "</div>\n",
              "      <button class=\"colab-df-convert\" onclick=\"convertToInteractive('df-3d3ca52c-0656-4660-8f55-e86750c430bd')\"\n",
              "              title=\"Convert this dataframe to an interactive table.\"\n",
              "              style=\"display:none;\">\n",
              "        \n",
              "  <svg xmlns=\"http://www.w3.org/2000/svg\" height=\"24px\"viewBox=\"0 0 24 24\"\n",
              "       width=\"24px\">\n",
              "    <path d=\"M0 0h24v24H0V0z\" fill=\"none\"/>\n",
              "    <path d=\"M18.56 5.44l.94 2.06.94-2.06 2.06-.94-2.06-.94-.94-2.06-.94 2.06-2.06.94zm-11 1L8.5 8.5l.94-2.06 2.06-.94-2.06-.94L8.5 2.5l-.94 2.06-2.06.94zm10 10l.94 2.06.94-2.06 2.06-.94-2.06-.94-.94-2.06-.94 2.06-2.06.94z\"/><path d=\"M17.41 7.96l-1.37-1.37c-.4-.4-.92-.59-1.43-.59-.52 0-1.04.2-1.43.59L10.3 9.45l-7.72 7.72c-.78.78-.78 2.05 0 2.83L4 21.41c.39.39.9.59 1.41.59.51 0 1.02-.2 1.41-.59l7.78-7.78 2.81-2.81c.8-.78.8-2.07 0-2.86zM5.41 20L4 18.59l7.72-7.72 1.47 1.35L5.41 20z\"/>\n",
              "  </svg>\n",
              "      </button>\n",
              "      \n",
              "  <style>\n",
              "    .colab-df-container {\n",
              "      display:flex;\n",
              "      flex-wrap:wrap;\n",
              "      gap: 12px;\n",
              "    }\n",
              "\n",
              "    .colab-df-convert {\n",
              "      background-color: #E8F0FE;\n",
              "      border: none;\n",
              "      border-radius: 50%;\n",
              "      cursor: pointer;\n",
              "      display: none;\n",
              "      fill: #1967D2;\n",
              "      height: 32px;\n",
              "      padding: 0 0 0 0;\n",
              "      width: 32px;\n",
              "    }\n",
              "\n",
              "    .colab-df-convert:hover {\n",
              "      background-color: #E2EBFA;\n",
              "      box-shadow: 0px 1px 2px rgba(60, 64, 67, 0.3), 0px 1px 3px 1px rgba(60, 64, 67, 0.15);\n",
              "      fill: #174EA6;\n",
              "    }\n",
              "\n",
              "    [theme=dark] .colab-df-convert {\n",
              "      background-color: #3B4455;\n",
              "      fill: #D2E3FC;\n",
              "    }\n",
              "\n",
              "    [theme=dark] .colab-df-convert:hover {\n",
              "      background-color: #434B5C;\n",
              "      box-shadow: 0px 1px 3px 1px rgba(0, 0, 0, 0.15);\n",
              "      filter: drop-shadow(0px 1px 2px rgba(0, 0, 0, 0.3));\n",
              "      fill: #FFFFFF;\n",
              "    }\n",
              "  </style>\n",
              "\n",
              "      <script>\n",
              "        const buttonEl =\n",
              "          document.querySelector('#df-3d3ca52c-0656-4660-8f55-e86750c430bd button.colab-df-convert');\n",
              "        buttonEl.style.display =\n",
              "          google.colab.kernel.accessAllowed ? 'block' : 'none';\n",
              "\n",
              "        async function convertToInteractive(key) {\n",
              "          const element = document.querySelector('#df-3d3ca52c-0656-4660-8f55-e86750c430bd');\n",
              "          const dataTable =\n",
              "            await google.colab.kernel.invokeFunction('convertToInteractive',\n",
              "                                                     [key], {});\n",
              "          if (!dataTable) return;\n",
              "\n",
              "          const docLinkHtml = 'Like what you see? Visit the ' +\n",
              "            '<a target=\"_blank\" href=https://colab.research.google.com/notebooks/data_table.ipynb>data table notebook</a>'\n",
              "            + ' to learn more about interactive tables.';\n",
              "          element.innerHTML = '';\n",
              "          dataTable['output_type'] = 'display_data';\n",
              "          await google.colab.output.renderOutput(dataTable, element);\n",
              "          const docLink = document.createElement('div');\n",
              "          docLink.innerHTML = docLinkHtml;\n",
              "          element.appendChild(docLink);\n",
              "        }\n",
              "      </script>\n",
              "    </div>\n",
              "  </div>\n",
              "  "
            ],
            "text/plain": [
              "                                                 file  \\\n",
              "0   /content/test/test/en_f_67a0cba10d171b24039a79...   \n",
              "1   /content/test/test/de_f_63f5b79c76cf5a1a4bbd1c...   \n",
              "2   /content/test/test/es_m_08111ce8d6a7ebc6cd2c27...   \n",
              "3   /content/test/test/de_f_63f5b79c76cf5a1a4bbd1c...   \n",
              "4   /content/test/test/de_f_63f5b79c76cf5a1a4bbd1c...   \n",
              "..                                                ...   \n",
              "95  /content/test/test/en_f_67a0cba10d171b24039a79...   \n",
              "96  /content/test/test/de_m_923551d571cc437382d029...   \n",
              "97  /content/test/test/es_m_08111ce8d6a7ebc6cd2c27...   \n",
              "98  /content/test/test/es_f_50298ab71aaba8508ebeef...   \n",
              "99  /content/test/test/de_m_923551d571cc437382d029...   \n",
              "\n",
              "                                                   ID lang  \n",
              "0   en_f_67a0cba10d171b24039a79faa1d4d603.fragment...   en  \n",
              "1   de_f_63f5b79c76cf5a1a4bbd1c40f54b166e.fragment...   de  \n",
              "2   es_m_08111ce8d6a7ebc6cd2c27e62a3d98f0.fragment...   es  \n",
              "3   de_f_63f5b79c76cf5a1a4bbd1c40f54b166e.fragment...   de  \n",
              "4   de_f_63f5b79c76cf5a1a4bbd1c40f54b166e.fragment...   de  \n",
              "..                                                ...  ...  \n",
              "95  en_f_67a0cba10d171b24039a79faa1d4d603.fragment...   en  \n",
              "96  de_m_923551d571cc437382d0294dda2dd0aa.fragment...   de  \n",
              "97  es_m_08111ce8d6a7ebc6cd2c27e62a3d98f0.fragment...   es  \n",
              "98  es_f_50298ab71aaba8508ebeef49d853df11.fragment...   es  \n",
              "99  de_m_923551d571cc437382d0294dda2dd0aa.fragment...   de  \n",
              "\n",
              "[100 rows x 3 columns]"
            ]
          },
          "execution_count": 59,
          "metadata": {},
          "output_type": "execute_result"
        }
      ],
      "source": [
        "testdf"
      ]
    },
    {
      "cell_type": "code",
      "execution_count": null,
      "metadata": {
        "id": "O_sUzyqS2HAm"
      },
      "outputs": [],
      "source": [
        "file_paths = traindf['ID'].values\n",
        "lang = np.array(traindf['lang'].values)\n",
        "\n",
        "data = [np.load(file_path) for file_path in file_paths]\n",
        "data = np.stack(data)"
      ]
    },
    {
      "cell_type": "code",
      "execution_count": null,
      "metadata": {
        "id": "WZHb4IfgAEEE"
      },
      "outputs": [],
      "source": [
        "%cd $CUR_DIR"
      ]
    },
    {
      "cell_type": "code",
      "execution_count": null,
      "metadata": {
        "colab": {
          "base_uri": "https://localhost:8080/"
        },
        "id": "zfh66l0Ll7CF",
        "outputId": "19aee80b-c4d4-4825-9661-ba67c7d9c182"
      },
      "outputs": [
        {
          "data": {
            "text/plain": [
              "(10000, 128, 431, 1)"
            ]
          },
          "execution_count": 44,
          "metadata": {},
          "output_type": "execute_result"
        }
      ],
      "source": [
        "cur_shape = data.shape\n",
        "data = data.reshape((cur_shape[0], cur_shape[1], cur_shape[2], 1))\n",
        "data.shape"
      ]
    },
    {
      "cell_type": "code",
      "execution_count": null,
      "metadata": {
        "colab": {
          "base_uri": "https://localhost:8080/"
        },
        "id": "Gx4Sg3UxAL5F",
        "outputId": "9991d227-5033-4c0e-b71e-10805da8892f"
      },
      "outputs": [
        {
          "name": "stdout",
          "output_type": "stream",
          "text": [
            "10000\n"
          ]
        }
      ],
      "source": [
        "! ls {DRIVE_PATH}/train -1 | wc -l"
      ]
    },
    {
      "cell_type": "code",
      "execution_count": null,
      "metadata": {
        "colab": {
          "base_uri": "https://localhost:8080/"
        },
        "id": "fAgFwxJRgbNK",
        "outputId": "8dade378-4998-4f6e-d51e-afac1050ca84"
      },
      "outputs": [
        {
          "name": "stdout",
          "output_type": "stream",
          "text": [
            "Collecting Keras-Preprocessing\n",
            "  Downloading Keras_Preprocessing-1.1.2-py2.py3-none-any.whl (42 kB)\n",
            "\u001b[?25l     \u001b[90m━━━━━━━━━━━━━━━━━━━━━━━━━━━━━━━━━━━━━━━━\u001b[0m \u001b[32m0.0/42.6 kB\u001b[0m \u001b[31m?\u001b[0m eta \u001b[36m-:--:--\u001b[0m\r\u001b[2K     \u001b[90m━━━━━━━━━━━━━━━━━━━━━━━━━━━━━━━━━━━━━━━━\u001b[0m \u001b[32m42.6/42.6 kB\u001b[0m \u001b[31m1.8 MB/s\u001b[0m eta \u001b[36m0:00:00\u001b[0m\n",
            "\u001b[?25hRequirement already satisfied: numpy>=1.9.1 in /usr/local/lib/python3.10/dist-packages (from Keras-Preprocessing) (1.22.4)\n",
            "Requirement already satisfied: six>=1.9.0 in /usr/local/lib/python3.10/dist-packages (from Keras-Preprocessing) (1.16.0)\n",
            "Installing collected packages: Keras-Preprocessing\n",
            "Successfully installed Keras-Preprocessing-1.1.2\n"
          ]
        }
      ],
      "source": [
        "!pip install Keras-Preprocessing\n",
        "from keras_preprocessing.image import ImageDataGenerator"
      ]
    },
    {
      "cell_type": "code",
      "execution_count": null,
      "metadata": {
        "colab": {
          "base_uri": "https://localhost:8080/"
        },
        "id": "jegheRISg6IK",
        "outputId": "b8a2b8bb-2580-43f9-af48-16c134544108"
      },
      "outputs": [
        {
          "name": "stdout",
          "output_type": "stream",
          "text": [
            "Found 0 validated image filenames belonging to 0 classes.\n",
            "Found 0 validated image filenames belonging to 0 classes.\n"
          ]
        },
        {
          "name": "stderr",
          "output_type": "stream",
          "text": [
            "/usr/local/lib/python3.10/dist-packages/keras_preprocessing/image/dataframe_iterator.py:279: UserWarning: Found 10000 invalid image filename(s) in x_col=\"ID\". These filename(s) will be ignored.\n",
            "  warnings.warn(\n",
            "/usr/local/lib/python3.10/dist-packages/keras_preprocessing/image/dataframe_iterator.py:279: UserWarning: Found 10000 invalid image filename(s) in x_col=\"ID\". These filename(s) will be ignored.\n",
            "  warnings.warn(\n"
          ]
        }
      ],
      "source": [
        "datagen=ImageDataGenerator(rescale=1./255.,validation_split=0.2) #.flow_from_\n",
        "\n",
        "\n",
        "train_generator=datagen.flow_from_dataframe(\n",
        "    dataframe=traindf,\n",
        "    directory=TRAIN_MAT_PATH+\"train/\",\n",
        "    x_col=\"ID\",\n",
        "    y_col=\"lang\",\n",
        "    subset=\"training\",\n",
        "    batch_size=32,\n",
        "    seed=42,\n",
        "    shuffle=True,\n",
        "    class_mode=\"categorical\",\n",
        "    target_size=(64,64))\n",
        "\n",
        "valid_generator=datagen.flow_from_dataframe(\n",
        "    dataframe=traindf,\n",
        "    directory=TRAIN_MAT_PATH+\"train/\",\n",
        "    x_col=\"ID\",\n",
        "    y_col=\"lang\",\n",
        "    subset=\"validation\",\n",
        "    batch_size=32,\n",
        "    seed=42,\n",
        "    shuffle=True,\n",
        "    class_mode=\"categorical\",\n",
        "    target_size=(64,64))\n",
        "\n"
      ]
    },
    {
      "cell_type": "code",
      "execution_count": null,
      "metadata": {
        "colab": {
          "base_uri": "https://localhost:8080/",
          "height": 243
        },
        "id": "h7S7EmNpB7vC",
        "outputId": "8a122dd4-f569-4363-886d-2c6dbcd30e3c"
      },
      "outputs": [
        {
          "ename": "TypeError",
          "evalue": "ignored",
          "output_type": "error",
          "traceback": [
            "\u001b[0;31m---------------------------------------------------------------------------\u001b[0m",
            "\u001b[0;31mTypeError\u001b[0m                                 Traceback (most recent call last)",
            "\u001b[0;32m<ipython-input-48-ed48bb28cf9f>\u001b[0m in \u001b[0;36m<cell line: 5>\u001b[0;34m()\u001b[0m\n\u001b[1;32m      3\u001b[0m \u001b[0;34m\u001b[0m\u001b[0m\n\u001b[1;32m      4\u001b[0m \u001b[0;34m\u001b[0m\u001b[0m\n\u001b[0;32m----> 5\u001b[0;31m train_generator=datagen.flow(\n\u001b[0m\u001b[1;32m      6\u001b[0m     \u001b[0;31m#dataframe=traindf,\u001b[0m\u001b[0;34m\u001b[0m\u001b[0;34m\u001b[0m\u001b[0m\n\u001b[1;32m      7\u001b[0m     \u001b[0;31m#directory=TRAIN_MAT_PATH+\"train/\",\u001b[0m\u001b[0;34m\u001b[0m\u001b[0;34m\u001b[0m\u001b[0m\n",
            "\u001b[0;31mTypeError\u001b[0m: ImageDataGenerator.flow() got an unexpected keyword argument 'target_size'"
          ]
        }
      ],
      "source": [
        "# npy\n",
        "datagen=ImageDataGenerator(rescale=1./255.,validation_split=0.2) #.flow_from_\n",
        "\n",
        "\n",
        "train_generator=datagen.flow(\n",
        "    #dataframe=traindf,\n",
        "    #directory=TRAIN_MAT_PATH+\"train/\",\n",
        "    x=data,\n",
        "    y=lang,\n",
        "    subset=\"training\",\n",
        "    batch_size=32,\n",
        "    seed=42,\n",
        "    shuffle=True,\n",
        "    #class_mode=\"categorical\",\n",
        "    #target_size=(64,64)\n",
        "    )\n",
        "\n",
        "valid_generator=datagen.flow(\n",
        "    #dataframe=traindf,\n",
        "    #directory=TRAIN_MAT_PATH+\"train/\",\n",
        "    x=data,\n",
        "    y=lang,\n",
        "    subset=\"validation\",\n",
        "    batch_size=32,\n",
        "    seed=42,\n",
        "    shuffle=True,\n",
        "    #class_mode=\"categorical\",\n",
        "    #target_size=(64,64)\n",
        "    )\n",
        "\n"
      ]
    },
    {
      "cell_type": "code",
      "execution_count": null,
      "metadata": {
        "colab": {
          "base_uri": "https://localhost:8080/"
        },
        "id": "rmOlMsCfliAd",
        "outputId": "e460f83b-4ec5-4916-a3e5-01f97f6479be"
      },
      "outputs": [
        {
          "data": {
            "text/plain": [
              "(128, 431, 1)"
            ]
          },
          "execution_count": 58,
          "metadata": {},
          "output_type": "execute_result"
        }
      ],
      "source": [
        "data[0].shape"
      ]
    },
    {
      "cell_type": "markdown",
      "metadata": {
        "id": "AMV31YTFlKm0"
      },
      "source": [
        "### new method"
      ]
    },
    {
      "cell_type": "code",
      "execution_count": null,
      "metadata": {
        "colab": {
          "base_uri": "https://localhost:8080/"
        },
        "id": "eTBjkhyxwx7v",
        "outputId": "e34c7838-ac85-48cf-a181-94cc4451349f"
      },
      "outputs": [
        {
          "output_type": "execute_result",
          "data": {
            "text/plain": [
              "0"
            ]
          },
          "metadata": {},
          "execution_count": 18
        }
      ],
      "source": [
        "gc.collect()"
      ]
    },
    {
      "cell_type": "code",
      "execution_count": null,
      "metadata": {
        "id": "vqFOJc5ek37j"
      },
      "outputs": [],
      "source": [
        "from keras.models import Sequential\n",
        "from keras.layers import Conv2D, MaxPooling2D, Flatten, Dense\n",
        "from keras.preprocessing.image import ImageDataGenerator\n",
        "\n",
        "from sklearn.model_selection import train_test_split\n",
        "batch_size= 32\n",
        "X_train, X_val, y_train, y_val = train_test_split(data, lang, test_size=0.2, shuffle=True, random_state=42)\n",
        "\n",
        "# Reshape training data\n",
        "X_train = X_train.reshape(X_train.shape[0], 128, 431, 1)\n",
        "# Reshape validation data\n",
        "X_val = X_val.reshape(X_val.shape[0], 128, 431, 1)"
      ]
    },
    {
      "cell_type": "code",
      "execution_count": null,
      "metadata": {
        "id": "CkclVLEixi0K"
      },
      "outputs": [],
      "source": [
        "from sklearn.preprocessing import LabelEncoder\n",
        "\n",
        "label_encoder = LabelEncoder()\n",
        "y_train = label_encoder.fit_transform(y_train)\n",
        "y_val = label_encoder.transform(y_val)\n",
        "\n",
        "\n",
        "from keras.utils import to_categorical\n",
        "\n",
        "y_train = to_categorical(y_train, 3)\n",
        "y_val = to_categorical(y_val, 3)"
      ]
    },
    {
      "cell_type": "code",
      "execution_count": null,
      "metadata": {
        "id": "WqDdnavOtF10"
      },
      "outputs": [],
      "source": [
        "train_datagen = ImageDataGenerator(rescale=1./255)\n",
        "val_datagen = ImageDataGenerator(rescale=1./255)\n",
        "test_datagen = ImageDataGenerator(rescale=1./255)\n",
        "\n",
        "train_generator = train_datagen.flow(X_train, y_train, batch_size=batch_size)\n",
        "val_generator = val_datagen.flow(X_val, y_val, batch_size=batch_size)\n",
        "#test_generator = test_datagen.flow(X_test, y_test, batch_size=batch_size)"
      ]
    },
    {
      "cell_type": "code",
      "execution_count": null,
      "metadata": {
        "colab": {
          "base_uri": "https://localhost:8080/"
        },
        "id": "G7QMXr_v7XL4",
        "outputId": "54688326-f071-4632-ecf7-902c474b6fa6"
      },
      "outputs": [
        {
          "name": "stdout",
          "output_type": "stream",
          "text": [
            "Model: \"sequential\"\n",
            "_________________________________________________________________\n",
            " Layer (type)                Output Shape              Param #   \n",
            "=================================================================\n",
            " conv2d (Conv2D)             (None, 128, 431, 32)      320       \n",
            "                                                                 \n",
            " activation (Activation)     (None, 128, 431, 32)      0         \n",
            "                                                                 \n",
            " conv2d_1 (Conv2D)           (None, 126, 429, 64)      18496     \n",
            "                                                                 \n",
            " activation_1 (Activation)   (None, 126, 429, 64)      0         \n",
            "                                                                 \n",
            " max_pooling2d (MaxPooling2D  (None, 63, 214, 64)      0         \n",
            " )                                                               \n",
            "                                                                 \n",
            " dropout (Dropout)           (None, 63, 214, 64)       0         \n",
            "                                                                 \n",
            " conv2d_2 (Conv2D)           (None, 63, 214, 64)       36928     \n",
            "                                                                 \n",
            " activation_2 (Activation)   (None, 63, 214, 64)       0         \n",
            "                                                                 \n",
            " conv2d_3 (Conv2D)           (None, 61, 212, 64)       36928     \n",
            "                                                                 \n",
            " activation_3 (Activation)   (None, 61, 212, 64)       0         \n",
            "                                                                 \n",
            " max_pooling2d_1 (MaxPooling  (None, 30, 106, 64)      0         \n",
            " 2D)                                                             \n",
            "                                                                 \n",
            " dropout_1 (Dropout)         (None, 30, 106, 64)       0         \n",
            "                                                                 \n",
            " conv2d_4 (Conv2D)           (None, 30, 106, 128)      73856     \n",
            "                                                                 \n",
            " activation_4 (Activation)   (None, 30, 106, 128)      0         \n",
            "                                                                 \n",
            " conv2d_5 (Conv2D)           (None, 28, 104, 128)      147584    \n",
            "                                                                 \n",
            " activation_5 (Activation)   (None, 28, 104, 128)      0         \n",
            "                                                                 \n",
            " max_pooling2d_2 (MaxPooling  (None, 14, 52, 128)      0         \n",
            " 2D)                                                             \n",
            "                                                                 \n",
            " dropout_2 (Dropout)         (None, 14, 52, 128)       0         \n",
            "                                                                 \n",
            " flatten (Flatten)           (None, 93184)             0         \n",
            "                                                                 \n",
            " dense (Dense)               (None, 512)               47710720  \n",
            "                                                                 \n",
            " activation_6 (Activation)   (None, 512)               0         \n",
            "                                                                 \n",
            " dropout_3 (Dropout)         (None, 512)               0         \n",
            "                                                                 \n",
            " dense_1 (Dense)             (None, 3)                 1539      \n",
            "                                                                 \n",
            "=================================================================\n",
            "Total params: 48,026,371\n",
            "Trainable params: 48,026,371\n",
            "Non-trainable params: 0\n",
            "_________________________________________________________________\n"
          ]
        },
        {
          "name": "stderr",
          "output_type": "stream",
          "text": [
            "/usr/local/lib/python3.10/dist-packages/keras/optimizers/legacy/rmsprop.py:143: UserWarning: The `lr` argument is deprecated, use `learning_rate` instead.\n",
            "  super().__init__(name, **kwargs)\n"
          ]
        }
      ],
      "source": [
        "from keras.layers import Dense, Activation, Flatten, Dropout, BatchNormalization\n",
        "from keras.models import Sequential, Model\n",
        "from keras.layers import Conv2D, MaxPooling2D\n",
        "from keras import regularizers, optimizers\n",
        "import keras\n",
        "\n",
        "model = Sequential()\n",
        "model.add(Conv2D(32, (3, 3), padding='same',\n",
        "                 input_shape=(128, 431, 1)))\n",
        "model.add(Activation('relu'))\n",
        "model.add(Conv2D(64, (3, 3)))\n",
        "model.add(Activation('relu'))\n",
        "model.add(MaxPooling2D(pool_size=(2, 2)))\n",
        "model.add(Dropout(0.25))\n",
        "model.add(Conv2D(64, (3, 3), padding='same'))\n",
        "model.add(Activation('relu'))\n",
        "model.add(Conv2D(64, (3, 3)))\n",
        "model.add(Activation('relu'))\n",
        "model.add(MaxPooling2D(pool_size=(2, 2)))\n",
        "model.add(Dropout(0.5))\n",
        "model.add(Conv2D(128, (3, 3), padding='same'))\n",
        "model.add(Activation('relu'))\n",
        "model.add(Conv2D(128, (3, 3)))\n",
        "model.add(Activation('relu'))\n",
        "model.add(MaxPooling2D(pool_size=(2, 2)))\n",
        "model.add(Dropout(0.5))\n",
        "model.add(Flatten())\n",
        "model.add(Dense(512))\n",
        "model.add(Activation('relu'))\n",
        "model.add(Dropout(0.5))\n",
        "model.add(Dense(3, activation='softmax'))\n",
        "model.compile(optimizer=keras.optimizers.RMSprop(lr=0.0005, decay=1e-6),loss=\"categorical_crossentropy\",metrics=[\"accuracy\"])\n",
        "model.summary()"
      ]
    },
    {
      "cell_type": "code",
      "execution_count": null,
      "metadata": {
        "colab": {
          "base_uri": "https://localhost:8080/"
        },
        "id": "IQHW_vuhqxLu",
        "outputId": "201e8c2e-dd6a-42e0-fcd7-06d1840817bc"
      },
      "outputs": [
        {
          "name": "stdout",
          "output_type": "stream",
          "text": [
            "Epoch 1/150\n",
            "250/250 [==============================] - 90s 294ms/step - loss: 4.4136 - accuracy: 0.3298 - val_loss: 1.0988 - val_accuracy: 0.3275\n",
            "Epoch 2/150\n",
            "250/250 [==============================] - 68s 273ms/step - loss: 1.1139 - accuracy: 0.3396 - val_loss: 1.0990 - val_accuracy: 0.3275\n",
            "Epoch 3/150\n",
            "250/250 [==============================] - 71s 285ms/step - loss: 1.1062 - accuracy: 0.3345 - val_loss: 1.0954 - val_accuracy: 0.3640\n",
            "Epoch 4/150\n",
            "250/250 [==============================] - 259s 1s/step - loss: 1.0537 - accuracy: 0.4391 - val_loss: 0.9888 - val_accuracy: 0.5075\n",
            "Epoch 5/150\n",
            "250/250 [==============================] - 71s 284ms/step - loss: 0.9468 - accuracy: 0.5437 - val_loss: 0.8938 - val_accuracy: 0.6270\n",
            "Epoch 6/150\n",
            "250/250 [==============================] - 464s 2s/step - loss: 0.8191 - accuracy: 0.6366 - val_loss: 0.8211 - val_accuracy: 0.6300\n",
            "Epoch 7/150\n",
            "250/250 [==============================] - 70s 281ms/step - loss: 0.7175 - accuracy: 0.6888 - val_loss: 0.6062 - val_accuracy: 0.7525\n",
            "Epoch 8/150\n",
            "250/250 [==============================] - 70s 280ms/step - loss: 0.6451 - accuracy: 0.7301 - val_loss: 0.5972 - val_accuracy: 0.7705\n",
            "Epoch 9/150\n",
            "250/250 [==============================] - 70s 280ms/step - loss: 0.5637 - accuracy: 0.7679 - val_loss: 0.5935 - val_accuracy: 0.7485\n",
            "Epoch 10/150\n",
            "250/250 [==============================] - 70s 280ms/step - loss: 0.5271 - accuracy: 0.7887 - val_loss: 0.4572 - val_accuracy: 0.8120\n",
            "Epoch 11/150\n",
            "250/250 [==============================] - 70s 280ms/step - loss: 0.4700 - accuracy: 0.8095 - val_loss: 0.3859 - val_accuracy: 0.8540\n",
            "Epoch 12/150\n",
            "250/250 [==============================] - 67s 269ms/step - loss: 0.4404 - accuracy: 0.8265 - val_loss: 0.5038 - val_accuracy: 0.7990\n",
            "Epoch 13/150\n",
            "250/250 [==============================] - 70s 279ms/step - loss: 0.4069 - accuracy: 0.8503 - val_loss: 0.4457 - val_accuracy: 0.8210\n",
            "Epoch 14/150\n",
            "250/250 [==============================] - 70s 280ms/step - loss: 0.3574 - accuracy: 0.8615 - val_loss: 0.2881 - val_accuracy: 0.9000\n",
            "Epoch 15/150\n",
            "250/250 [==============================] - 70s 279ms/step - loss: 0.3562 - accuracy: 0.8645 - val_loss: 0.2446 - val_accuracy: 0.9055\n",
            "Epoch 16/150\n",
            "250/250 [==============================] - 70s 279ms/step - loss: 0.3260 - accuracy: 0.8766 - val_loss: 0.2296 - val_accuracy: 0.9155\n",
            "Epoch 17/150\n",
            "250/250 [==============================] - 67s 269ms/step - loss: 0.3067 - accuracy: 0.8844 - val_loss: 0.2739 - val_accuracy: 0.8820\n",
            "Epoch 18/150\n",
            "250/250 [==============================] - 67s 269ms/step - loss: 0.2891 - accuracy: 0.8980 - val_loss: 0.2432 - val_accuracy: 0.9025\n",
            "Epoch 19/150\n",
            "250/250 [==============================] - 67s 269ms/step - loss: 0.2670 - accuracy: 0.9039 - val_loss: 0.1886 - val_accuracy: 0.9260\n",
            "Epoch 20/150\n",
            "250/250 [==============================] - 70s 278ms/step - loss: 0.2633 - accuracy: 0.9094 - val_loss: 0.2371 - val_accuracy: 0.9070\n",
            "Epoch 21/150\n",
            "250/250 [==============================] - 70s 279ms/step - loss: 0.2557 - accuracy: 0.9070 - val_loss: 0.2971 - val_accuracy: 0.8890\n",
            "Epoch 22/150\n",
            "250/250 [==============================] - 70s 279ms/step - loss: 0.2286 - accuracy: 0.9183 - val_loss: 0.1857 - val_accuracy: 0.9205\n",
            "Epoch 23/150\n",
            "250/250 [==============================] - 67s 269ms/step - loss: 0.2314 - accuracy: 0.9181 - val_loss: 0.2021 - val_accuracy: 0.9130\n",
            "Epoch 24/150\n",
            "250/250 [==============================] - 70s 279ms/step - loss: 0.2058 - accuracy: 0.9317 - val_loss: 0.1838 - val_accuracy: 0.9330\n",
            "Epoch 25/150\n",
            "250/250 [==============================] - 67s 269ms/step - loss: 0.2120 - accuracy: 0.9262 - val_loss: 0.1790 - val_accuracy: 0.9380\n",
            "Epoch 26/150\n",
            "250/250 [==============================] - 67s 268ms/step - loss: 0.2055 - accuracy: 0.9299 - val_loss: 0.2182 - val_accuracy: 0.9305\n",
            "Epoch 27/150\n",
            "250/250 [==============================] - 67s 268ms/step - loss: 0.1966 - accuracy: 0.9349 - val_loss: 0.2739 - val_accuracy: 0.8845\n",
            "Epoch 28/150\n",
            "250/250 [==============================] - 67s 268ms/step - loss: 0.1917 - accuracy: 0.9359 - val_loss: 0.1614 - val_accuracy: 0.9340\n",
            "Epoch 29/150\n",
            "250/250 [==============================] - 70s 279ms/step - loss: 0.1843 - accuracy: 0.9374 - val_loss: 0.1618 - val_accuracy: 0.9490\n",
            "Epoch 30/150\n",
            "250/250 [==============================] - 67s 268ms/step - loss: 0.1833 - accuracy: 0.9396 - val_loss: 0.1494 - val_accuracy: 0.9465\n",
            "Epoch 31/150\n",
            "250/250 [==============================] - 67s 268ms/step - loss: 0.1728 - accuracy: 0.9413 - val_loss: 0.1637 - val_accuracy: 0.9410\n",
            "Epoch 32/150\n",
            "250/250 [==============================] - 70s 279ms/step - loss: 0.1733 - accuracy: 0.9446 - val_loss: 0.1300 - val_accuracy: 0.9460\n",
            "Epoch 33/150\n",
            "250/250 [==============================] - 70s 279ms/step - loss: 0.1713 - accuracy: 0.9408 - val_loss: 0.1284 - val_accuracy: 0.9535\n",
            "Epoch 34/150\n",
            "250/250 [==============================] - 70s 279ms/step - loss: 0.1727 - accuracy: 0.9480 - val_loss: 0.1684 - val_accuracy: 0.9320\n",
            "Epoch 35/150\n",
            "250/250 [==============================] - 67s 269ms/step - loss: 0.1706 - accuracy: 0.9452 - val_loss: 0.2049 - val_accuracy: 0.9405\n",
            "Epoch 36/150\n",
            "250/250 [==============================] - 67s 269ms/step - loss: 0.1632 - accuracy: 0.9503 - val_loss: 0.2151 - val_accuracy: 0.9160\n",
            "Epoch 37/150\n",
            "250/250 [==============================] - 67s 269ms/step - loss: 0.1573 - accuracy: 0.9501 - val_loss: 0.1859 - val_accuracy: 0.9225\n",
            "Epoch 38/150\n",
            "250/250 [==============================] - 70s 278ms/step - loss: 0.1530 - accuracy: 0.9534 - val_loss: 0.1945 - val_accuracy: 0.9310\n",
            "Epoch 39/150\n",
            "250/250 [==============================] - 67s 268ms/step - loss: 0.1505 - accuracy: 0.9554 - val_loss: 0.1314 - val_accuracy: 0.9470\n",
            "Epoch 40/150\n",
            "250/250 [==============================] - 70s 279ms/step - loss: 0.1566 - accuracy: 0.9528 - val_loss: 0.1175 - val_accuracy: 0.9575\n",
            "Epoch 41/150\n",
            "250/250 [==============================] - 70s 279ms/step - loss: 0.1604 - accuracy: 0.9530 - val_loss: 0.0997 - val_accuracy: 0.9690\n",
            "Epoch 42/150\n",
            "250/250 [==============================] - 67s 269ms/step - loss: 0.1483 - accuracy: 0.9531 - val_loss: 0.1142 - val_accuracy: 0.9560\n",
            "Epoch 43/150\n",
            "250/250 [==============================] - 70s 278ms/step - loss: 0.1342 - accuracy: 0.9563 - val_loss: 0.1530 - val_accuracy: 0.9545\n",
            "Epoch 44/150\n",
            "250/250 [==============================] - 70s 279ms/step - loss: 0.1493 - accuracy: 0.9570 - val_loss: 0.0988 - val_accuracy: 0.9640\n",
            "Epoch 45/150\n",
            "250/250 [==============================] - 67s 268ms/step - loss: 0.1421 - accuracy: 0.9601 - val_loss: 0.0994 - val_accuracy: 0.9630\n",
            "Epoch 46/150\n",
            "250/250 [==============================] - 70s 278ms/step - loss: 0.1550 - accuracy: 0.9538 - val_loss: 0.1122 - val_accuracy: 0.9595\n",
            "Epoch 47/150\n",
            "250/250 [==============================] - 67s 269ms/step - loss: 0.1459 - accuracy: 0.9570 - val_loss: 0.2760 - val_accuracy: 0.9250\n",
            "Epoch 48/150\n",
            "250/250 [==============================] - 67s 269ms/step - loss: 0.1480 - accuracy: 0.9560 - val_loss: 0.1653 - val_accuracy: 0.9580\n",
            "Epoch 49/150\n",
            "250/250 [==============================] - 67s 268ms/step - loss: 0.1449 - accuracy: 0.9575 - val_loss: 0.1018 - val_accuracy: 0.9655\n",
            "Epoch 50/150\n",
            "250/250 [==============================] - 70s 279ms/step - loss: 0.1504 - accuracy: 0.9557 - val_loss: 0.1789 - val_accuracy: 0.9365\n",
            "Epoch 51/150\n",
            "250/250 [==============================] - 70s 280ms/step - loss: 0.1517 - accuracy: 0.9575 - val_loss: 0.1725 - val_accuracy: 0.9430\n",
            "Epoch 52/150\n",
            "250/250 [==============================] - 67s 269ms/step - loss: 0.1603 - accuracy: 0.9551 - val_loss: 0.1171 - val_accuracy: 0.9635\n",
            "Epoch 53/150\n",
            "250/250 [==============================] - 70s 279ms/step - loss: 0.1516 - accuracy: 0.9560 - val_loss: 0.1137 - val_accuracy: 0.9525\n",
            "Epoch 54/150\n",
            "250/250 [==============================] - 67s 268ms/step - loss: 0.1547 - accuracy: 0.9591 - val_loss: 0.1259 - val_accuracy: 0.9510\n",
            "Epoch 55/150\n",
            "250/250 [==============================] - 67s 269ms/step - loss: 0.1453 - accuracy: 0.9582 - val_loss: 0.1125 - val_accuracy: 0.9560\n",
            "Epoch 56/150\n",
            "250/250 [==============================] - 67s 270ms/step - loss: 0.1381 - accuracy: 0.9596 - val_loss: 0.1415 - val_accuracy: 0.9470\n",
            "Epoch 57/150\n",
            "250/250 [==============================] - 70s 279ms/step - loss: 0.1542 - accuracy: 0.9594 - val_loss: 0.1012 - val_accuracy: 0.9630\n",
            "Epoch 58/150\n",
            "250/250 [==============================] - 70s 280ms/step - loss: 0.1600 - accuracy: 0.9574 - val_loss: 0.1512 - val_accuracy: 0.9520\n",
            "Epoch 59/150\n",
            "250/250 [==============================] - 70s 280ms/step - loss: 0.1489 - accuracy: 0.9601 - val_loss: 0.1755 - val_accuracy: 0.9555\n",
            "Epoch 60/150\n",
            "250/250 [==============================] - 70s 280ms/step - loss: 0.1895 - accuracy: 0.9506 - val_loss: 0.1281 - val_accuracy: 0.9520\n",
            "Epoch 61/150\n",
            "250/250 [==============================] - 70s 281ms/step - loss: 0.1489 - accuracy: 0.9561 - val_loss: 0.0800 - val_accuracy: 0.9700\n",
            "Epoch 62/150\n",
            "250/250 [==============================] - 68s 270ms/step - loss: 0.1699 - accuracy: 0.9554 - val_loss: 0.2442 - val_accuracy: 0.9040\n",
            "Epoch 63/150\n",
            "250/250 [==============================] - 70s 279ms/step - loss: 0.1773 - accuracy: 0.9495 - val_loss: 0.1634 - val_accuracy: 0.9485\n",
            "Epoch 64/150\n",
            "250/250 [==============================] - 68s 270ms/step - loss: 0.1725 - accuracy: 0.9519 - val_loss: 0.0881 - val_accuracy: 0.9620\n",
            "Epoch 65/150\n",
            "250/250 [==============================] - 70s 280ms/step - loss: 0.1580 - accuracy: 0.9592 - val_loss: 0.1328 - val_accuracy: 0.9460\n",
            "Epoch 66/150\n",
            "250/250 [==============================] - 67s 270ms/step - loss: 0.1656 - accuracy: 0.9532 - val_loss: 0.1316 - val_accuracy: 0.9490\n",
            "Epoch 67/150\n",
            "250/250 [==============================] - 70s 279ms/step - loss: 0.1534 - accuracy: 0.9567 - val_loss: 0.1460 - val_accuracy: 0.9480\n",
            "Epoch 68/150\n",
            "250/250 [==============================] - 67s 269ms/step - loss: 0.1540 - accuracy: 0.9591 - val_loss: 0.1470 - val_accuracy: 0.9510\n",
            "Epoch 69/150\n",
            "250/250 [==============================] - 70s 279ms/step - loss: 0.1768 - accuracy: 0.9574 - val_loss: 0.1736 - val_accuracy: 0.9315\n",
            "Epoch 70/150\n",
            "250/250 [==============================] - 70s 279ms/step - loss: 0.1641 - accuracy: 0.9546 - val_loss: 0.4043 - val_accuracy: 0.9190\n",
            "Epoch 71/150\n",
            "250/250 [==============================] - 67s 269ms/step - loss: 0.1661 - accuracy: 0.9564 - val_loss: 0.1553 - val_accuracy: 0.9545\n",
            "Epoch 72/150\n",
            "250/250 [==============================] - 70s 280ms/step - loss: 0.1943 - accuracy: 0.9551 - val_loss: 0.3000 - val_accuracy: 0.9005\n",
            "Epoch 73/150\n",
            "250/250 [==============================] - 70s 280ms/step - loss: 0.2028 - accuracy: 0.9511 - val_loss: 0.1191 - val_accuracy: 0.9640\n",
            "Epoch 74/150\n",
            "250/250 [==============================] - 68s 271ms/step - loss: 0.1639 - accuracy: 0.9544 - val_loss: 0.2447 - val_accuracy: 0.9155\n",
            "Epoch 75/150\n",
            "250/250 [==============================] - 70s 279ms/step - loss: 0.1784 - accuracy: 0.9532 - val_loss: 0.1203 - val_accuracy: 0.9535\n",
            "Epoch 76/150\n",
            "250/250 [==============================] - 70s 279ms/step - loss: 0.1790 - accuracy: 0.9557 - val_loss: 0.1549 - val_accuracy: 0.9410\n",
            "Epoch 77/150\n",
            "250/250 [==============================] - 67s 270ms/step - loss: 0.1767 - accuracy: 0.9540 - val_loss: 0.1115 - val_accuracy: 0.9605\n",
            "Epoch 78/150\n",
            "250/250 [==============================] - 70s 280ms/step - loss: 0.1951 - accuracy: 0.9519 - val_loss: 0.3800 - val_accuracy: 0.8660\n",
            "Epoch 79/150\n",
            "250/250 [==============================] - 67s 270ms/step - loss: 0.2101 - accuracy: 0.9499 - val_loss: 0.1464 - val_accuracy: 0.9375\n",
            "Epoch 80/150\n",
            "250/250 [==============================] - 70s 280ms/step - loss: 0.2092 - accuracy: 0.9463 - val_loss: 0.3335 - val_accuracy: 0.8845\n",
            "Epoch 81/150\n",
            "250/250 [==============================] - 70s 280ms/step - loss: 0.1888 - accuracy: 0.9550 - val_loss: 0.1077 - val_accuracy: 0.9685\n",
            "Epoch 82/150\n",
            "250/250 [==============================] - 70s 280ms/step - loss: 0.2333 - accuracy: 0.9488 - val_loss: 0.3152 - val_accuracy: 0.8805\n",
            "Epoch 83/150\n",
            "250/250 [==============================] - 68s 270ms/step - loss: 0.2465 - accuracy: 0.9476 - val_loss: 0.1362 - val_accuracy: 0.9520\n",
            "Epoch 84/150\n",
            "250/250 [==============================] - 68s 271ms/step - loss: 0.2148 - accuracy: 0.9499 - val_loss: 0.1491 - val_accuracy: 0.9445\n",
            "Epoch 85/150\n",
            "250/250 [==============================] - 68s 271ms/step - loss: 0.2237 - accuracy: 0.9402 - val_loss: 0.2837 - val_accuracy: 0.9215\n",
            "Epoch 86/150\n",
            "250/250 [==============================] - 70s 280ms/step - loss: 0.2570 - accuracy: 0.9434 - val_loss: 0.2096 - val_accuracy: 0.9465\n",
            "Epoch 87/150\n",
            "250/250 [==============================] - 70s 281ms/step - loss: 0.2400 - accuracy: 0.9417 - val_loss: 0.3665 - val_accuracy: 0.8475\n",
            "Epoch 88/150\n",
            "250/250 [==============================] - 70s 281ms/step - loss: 0.2376 - accuracy: 0.9413 - val_loss: 0.4109 - val_accuracy: 0.8840\n",
            "Epoch 89/150\n",
            "250/250 [==============================] - 68s 270ms/step - loss: 0.2640 - accuracy: 0.9384 - val_loss: 0.1801 - val_accuracy: 0.9370\n",
            "Epoch 90/150\n",
            "250/250 [==============================] - 70s 281ms/step - loss: 0.2569 - accuracy: 0.9385 - val_loss: 0.1856 - val_accuracy: 0.9450\n",
            "Epoch 91/150\n",
            "250/250 [==============================] - 68s 270ms/step - loss: 0.2409 - accuracy: 0.9405 - val_loss: 0.1619 - val_accuracy: 0.9425\n",
            "Epoch 92/150\n",
            "250/250 [==============================] - 68s 270ms/step - loss: 0.2701 - accuracy: 0.9375 - val_loss: 0.1106 - val_accuracy: 0.9570\n",
            "Epoch 93/150\n",
            "250/250 [==============================] - 70s 281ms/step - loss: 0.2621 - accuracy: 0.9373 - val_loss: 0.1279 - val_accuracy: 0.9565\n",
            "Epoch 94/150\n",
            "250/250 [==============================] - 68s 270ms/step - loss: 0.3018 - accuracy: 0.9336 - val_loss: 0.2806 - val_accuracy: 0.9045\n",
            "Epoch 95/150\n",
            "250/250 [==============================] - 68s 271ms/step - loss: 0.2878 - accuracy: 0.9296 - val_loss: 0.3222 - val_accuracy: 0.8930\n",
            "Epoch 96/150\n",
            "250/250 [==============================] - 70s 281ms/step - loss: 0.2923 - accuracy: 0.9319 - val_loss: 0.2435 - val_accuracy: 0.9390\n",
            "Epoch 97/150\n",
            "250/250 [==============================] - 68s 270ms/step - loss: 0.2899 - accuracy: 0.9325 - val_loss: 0.1428 - val_accuracy: 0.9510\n",
            "Epoch 98/150\n",
            "250/250 [==============================] - 67s 269ms/step - loss: 0.2818 - accuracy: 0.9395 - val_loss: 0.3658 - val_accuracy: 0.8710\n",
            "Epoch 99/150\n",
            "250/250 [==============================] - 68s 270ms/step - loss: 0.3026 - accuracy: 0.9286 - val_loss: 0.1848 - val_accuracy: 0.9290\n",
            "Epoch 100/150\n",
            "250/250 [==============================] - 70s 281ms/step - loss: 0.2824 - accuracy: 0.9329 - val_loss: 0.1974 - val_accuracy: 0.9320\n",
            "Epoch 101/150\n",
            "250/250 [==============================] - 70s 280ms/step - loss: 0.3098 - accuracy: 0.9308 - val_loss: 0.0935 - val_accuracy: 0.9650\n",
            "Epoch 102/150\n",
            "250/250 [==============================] - 68s 271ms/step - loss: 0.2995 - accuracy: 0.9392 - val_loss: 0.0990 - val_accuracy: 0.9660\n",
            "Epoch 103/150\n",
            "250/250 [==============================] - 70s 282ms/step - loss: 0.2948 - accuracy: 0.9342 - val_loss: 0.1212 - val_accuracy: 0.9535\n",
            "Epoch 104/150\n",
            "250/250 [==============================] - 68s 271ms/step - loss: 0.2825 - accuracy: 0.9321 - val_loss: 0.1283 - val_accuracy: 0.9600\n",
            "Epoch 105/150\n",
            "250/250 [==============================] - 68s 270ms/step - loss: 0.2504 - accuracy: 0.9376 - val_loss: 0.2419 - val_accuracy: 0.9325\n",
            "Epoch 106/150\n",
            "250/250 [==============================] - 68s 271ms/step - loss: 0.3619 - accuracy: 0.9316 - val_loss: 0.2756 - val_accuracy: 0.8835\n",
            "Epoch 107/150\n",
            "250/250 [==============================] - 70s 281ms/step - loss: 0.3696 - accuracy: 0.9291 - val_loss: 0.2234 - val_accuracy: 0.9460\n",
            "Epoch 108/150\n",
            "250/250 [==============================] - 68s 270ms/step - loss: 0.3640 - accuracy: 0.9160 - val_loss: 0.1906 - val_accuracy: 0.9335\n",
            "Epoch 109/150\n",
            "250/250 [==============================] - 68s 270ms/step - loss: 0.3299 - accuracy: 0.9236 - val_loss: 0.2462 - val_accuracy: 0.9055\n",
            "Epoch 110/150\n",
            "250/250 [==============================] - 70s 282ms/step - loss: 0.2860 - accuracy: 0.9269 - val_loss: 0.2419 - val_accuracy: 0.9265\n",
            "Epoch 111/150\n",
            "250/250 [==============================] - 71s 282ms/step - loss: 0.3201 - accuracy: 0.9287 - val_loss: 0.2368 - val_accuracy: 0.9345\n",
            "Epoch 112/150\n",
            "250/250 [==============================] - 71s 283ms/step - loss: 0.5087 - accuracy: 0.9159 - val_loss: 0.3989 - val_accuracy: 0.8490\n",
            "Epoch 113/150\n",
            "250/250 [==============================] - 71s 282ms/step - loss: 0.3548 - accuracy: 0.9202 - val_loss: 0.1955 - val_accuracy: 0.9460\n",
            "Epoch 114/150\n",
            "250/250 [==============================] - 71s 282ms/step - loss: 0.4507 - accuracy: 0.9233 - val_loss: 0.1684 - val_accuracy: 0.9455\n",
            "Epoch 115/150\n",
            "250/250 [==============================] - 71s 282ms/step - loss: 0.3446 - accuracy: 0.9120 - val_loss: 0.2261 - val_accuracy: 0.9045\n",
            "Epoch 116/150\n",
            "250/250 [==============================] - 71s 282ms/step - loss: 0.3693 - accuracy: 0.9128 - val_loss: 0.1314 - val_accuracy: 0.9555\n",
            "Epoch 117/150\n",
            "250/250 [==============================] - 71s 283ms/step - loss: 0.5433 - accuracy: 0.8926 - val_loss: 0.2202 - val_accuracy: 0.9325\n",
            "Epoch 118/150\n",
            "250/250 [==============================] - 71s 283ms/step - loss: 0.3488 - accuracy: 0.9106 - val_loss: 0.2977 - val_accuracy: 0.9195\n",
            "Epoch 119/150\n",
            "250/250 [==============================] - 68s 273ms/step - loss: 0.4229 - accuracy: 0.9013 - val_loss: 0.4977 - val_accuracy: 0.9245\n",
            "Epoch 120/150\n",
            "250/250 [==============================] - 68s 273ms/step - loss: 0.5011 - accuracy: 0.9150 - val_loss: 0.2976 - val_accuracy: 0.8860\n",
            "Epoch 121/150\n",
            "250/250 [==============================] - 70s 282ms/step - loss: 0.3949 - accuracy: 0.9125 - val_loss: 0.2422 - val_accuracy: 0.9125\n",
            "Epoch 122/150\n",
            "250/250 [==============================] - 68s 274ms/step - loss: 0.3812 - accuracy: 0.9001 - val_loss: 0.2215 - val_accuracy: 0.9255\n",
            "Epoch 123/150\n",
            "250/250 [==============================] - 68s 273ms/step - loss: 0.4622 - accuracy: 0.9039 - val_loss: 0.3696 - val_accuracy: 0.8465\n",
            "Epoch 124/150\n",
            "250/250 [==============================] - 71s 283ms/step - loss: 0.5603 - accuracy: 0.9094 - val_loss: 0.2360 - val_accuracy: 0.9165\n",
            "Epoch 125/150\n",
            "250/250 [==============================] - 68s 273ms/step - loss: 0.4439 - accuracy: 0.9064 - val_loss: 0.2057 - val_accuracy: 0.9325\n",
            "Epoch 126/150\n",
            "250/250 [==============================] - 68s 274ms/step - loss: 0.5780 - accuracy: 0.9089 - val_loss: 0.3109 - val_accuracy: 0.8630\n",
            "Epoch 127/150\n",
            "250/250 [==============================] - 68s 273ms/step - loss: 0.5074 - accuracy: 0.9045 - val_loss: 0.2448 - val_accuracy: 0.9230\n",
            "Epoch 128/150\n",
            "250/250 [==============================] - 68s 273ms/step - loss: 0.4004 - accuracy: 0.8971 - val_loss: 0.1712 - val_accuracy: 0.9385\n",
            "Epoch 129/150\n",
            "250/250 [==============================] - 71s 284ms/step - loss: 0.5094 - accuracy: 0.8972 - val_loss: 0.1940 - val_accuracy: 0.9400\n",
            "Epoch 130/150\n",
            "250/250 [==============================] - 69s 274ms/step - loss: 0.6843 - accuracy: 0.8880 - val_loss: 0.3590 - val_accuracy: 0.8760\n",
            "Epoch 131/150\n",
            "250/250 [==============================] - 71s 284ms/step - loss: 0.4972 - accuracy: 0.8923 - val_loss: 0.2298 - val_accuracy: 0.9305\n",
            "Epoch 132/150\n",
            "250/250 [==============================] - 71s 284ms/step - loss: 0.5090 - accuracy: 0.9001 - val_loss: 0.1948 - val_accuracy: 0.9415\n",
            "Epoch 133/150\n",
            "250/250 [==============================] - 71s 283ms/step - loss: 0.5783 - accuracy: 0.8677 - val_loss: 0.3770 - val_accuracy: 0.8750\n",
            "Epoch 134/150\n",
            "250/250 [==============================] - 68s 274ms/step - loss: 0.4624 - accuracy: 0.8899 - val_loss: 0.6905 - val_accuracy: 0.8465\n",
            "Epoch 135/150\n",
            "250/250 [==============================] - 68s 273ms/step - loss: 0.7765 - accuracy: 0.8701 - val_loss: 0.2280 - val_accuracy: 0.9355\n",
            "Epoch 136/150\n",
            "223/250 [=========================>....] - ETA: 7s - loss: 0.5989 - accuracy: 0.8701"
          ]
        }
      ],
      "source": [
        "model.fit(X_train, y_train, epochs=150, batch_size=batch_size, validation_data=(X_val, y_val))"
      ]
    },
    {
      "cell_type": "markdown",
      "metadata": {
        "id": "O-h57AzAmvOJ"
      },
      "source": [
        "### old method"
      ]
    },
    {
      "cell_type": "markdown",
      "metadata": {
        "id": "bSjugKDKY-Un"
      },
      "source": [
        "### save results"
      ]
    },
    {
      "cell_type": "code",
      "execution_count": null,
      "metadata": {
        "id": "A36XWxE1OBOm"
      },
      "outputs": [],
      "source": [
        "model.save(CUR_DIR+'SampleCNN_150epoch_nostepsize.h5')"
      ]
    },
    {
      "cell_type": "code",
      "execution_count": null,
      "metadata": {
        "id": "0XBNuHL-Oks3"
      },
      "outputs": [],
      "source": [
        "model.save(DRIVE_PATH+\"models/\"+'SampleCNN_150epoch_nostepsize.h5')"
      ]
    },
    {
      "cell_type": "code",
      "execution_count": null,
      "metadata": {
        "colab": {
          "base_uri": "https://localhost:8080/"
        },
        "id": "UbZ-fWJmAmDR",
        "outputId": "4f61f3ab-2e4f-4c73-8509-1bee95a90e1a"
      },
      "outputs": [
        {
          "data": {
            "text/plain": [
              "0"
            ]
          },
          "execution_count": 41,
          "metadata": {},
          "output_type": "execute_result"
        }
      ],
      "source": [
        "model.save(CUR_DIR+'model/Model_CNN1000.h5')\n",
        "gc.collect()"
      ]
    },
    {
      "cell_type": "code",
      "execution_count": null,
      "metadata": {
        "colab": {
          "base_uri": "https://localhost:8080/"
        },
        "id": "Kl7nrE8rB_tb",
        "outputId": "c88e0391-6f68-4316-9276-c1985b6a26fe"
      },
      "outputs": [
        {
          "name": "stdout",
          "output_type": "stream",
          "text": [
            "Found 100 validated image filenames belonging to 3 classes.\n"
          ]
        }
      ],
      "source": [
        "test_datagen=ImageDataGenerator(rescale=1./255.)\n",
        "test_generator=test_datagen.flow_from_dataframe(\n",
        "    dataframe=testdf,\n",
        "    directory=TEST_IMG_PATH,\n",
        "    x_col=\"ID\",\n",
        "    y_col='lang',\n",
        "    batch_size=32,\n",
        "    seed=42,\n",
        "    shuffle=False,\n",
        "    class_mode='categorical',\n",
        "    target_size=(64,64))\n",
        "STEP_SIZE_TEST=test_generator.n//test_generator.batch_size"
      ]
    },
    {
      "cell_type": "code",
      "execution_count": null,
      "metadata": {
        "colab": {
          "base_uri": "https://localhost:8080/"
        },
        "id": "7jUDI50SCNV8",
        "outputId": "1f638999-a2d1-477a-d0e1-f743477c472b"
      },
      "outputs": [
        {
          "name": "stderr",
          "output_type": "stream",
          "text": [
            "<ipython-input-61-f904d4e6328a>:2: UserWarning: `Model.predict_generator` is deprecated and will be removed in a future version. Please use `Model.predict`, which supports generators.\n",
            "  pred=model.predict_generator(test_generator,\n"
          ]
        },
        {
          "name": "stdout",
          "output_type": "stream",
          "text": [
            "3/3 [==============================] - 1s 275ms/step\n"
          ]
        }
      ],
      "source": [
        "test_generator.reset()\n",
        "pred=model.predict_generator(test_generator,\n",
        "steps=STEP_SIZE_TEST,\n",
        "verbose=1)\n",
        "predicted_class_indices=np.argmax(pred,axis=1)"
      ]
    },
    {
      "cell_type": "code",
      "execution_count": null,
      "metadata": {
        "colab": {
          "base_uri": "https://localhost:8080/"
        },
        "id": "IOSofAElCUbI",
        "outputId": "80c36db3-b442-4a9a-ceb5-f8d2e9291bc7"
      },
      "outputs": [
        {
          "data": {
            "text/plain": [
              "(96,)"
            ]
          },
          "execution_count": 62,
          "metadata": {},
          "output_type": "execute_result"
        }
      ],
      "source": [
        "predicted_class_indices.shape"
      ]
    },
    {
      "cell_type": "code",
      "execution_count": null,
      "metadata": {
        "colab": {
          "base_uri": "https://localhost:8080/"
        },
        "id": "ciClLsBRCZFV",
        "outputId": "a76f0f3a-96b0-4ac2-949e-91eab929cb9d"
      },
      "outputs": [
        {
          "name": "stdout",
          "output_type": "stream",
          "text": [
            "1/1 [==============================] - 0s 137ms/step\n"
          ]
        },
        {
          "data": {
            "text/plain": [
              "array([[0.00112203, 0.04741188, 0.951466  ]], dtype=float32)"
            ]
          },
          "execution_count": 63,
          "metadata": {},
          "output_type": "execute_result"
        }
      ],
      "source": [
        "from PIL import Image\n",
        "import numpy as np\n",
        "from skimage import transform\n",
        "def load(filename):\n",
        "    np_image = Image.open(filename)\n",
        "    np_image = np.array(np_image).astype('float32')/255\n",
        "    np_image = transform.resize(np_image, (64, 64, 3))\n",
        "    np_image = np.expand_dims(np_image, axis=0)\n",
        "    return np_image\n",
        "\n",
        "image = load('/content/test/test-img/de_f_0809fd0642232f8c85b0b3d545dc2b5a.fragment18.pitch2.flac.jpg')\n",
        "model.predict(image)"
      ]
    },
    {
      "cell_type": "code",
      "execution_count": null,
      "metadata": {
        "colab": {
          "base_uri": "https://localhost:8080/"
        },
        "id": "PD4U_-tVCxuT",
        "outputId": "bb8c97ff-6cc7-49d8-86e7-d4babf5aaa63"
      },
      "outputs": [
        {
          "data": {
            "text/plain": [
              "{'de': 0, 'en': 1, 'es': 2}"
            ]
          },
          "execution_count": 64,
          "metadata": {},
          "output_type": "execute_result"
        }
      ],
      "source": [
        "train_generator.class_indices"
      ]
    },
    {
      "cell_type": "code",
      "execution_count": null,
      "metadata": {
        "colab": {
          "base_uri": "https://localhost:8080/"
        },
        "id": "IFdNsjfncREZ",
        "outputId": "dc18b920-e5e6-4157-ff15-da7df6c60ed2"
      },
      "outputs": [
        {
          "name": "stdout",
          "output_type": "stream",
          "text": [
            "4/4 [==============================] - 1s 171ms/step\n"
          ]
        }
      ],
      "source": [
        "prediction = model.predict(x=test_generator)"
      ]
    },
    {
      "cell_type": "code",
      "execution_count": null,
      "metadata": {
        "colab": {
          "base_uri": "https://localhost:8080/"
        },
        "id": "ZaBwL9IjabED",
        "outputId": "67f8d351-a756-4d8a-98dd-abee88a78769"
      },
      "outputs": [
        {
          "name": "stdout",
          "output_type": "stream",
          "text": [
            "accuracy on test: 43.0\n"
          ]
        }
      ],
      "source": [
        "print(\"accuracy on test:\", np.sum(test_generator.classes == np.argmax(prediction, axis=-1)) / len(prediction) * 100)"
      ]
    },
    {
      "cell_type": "markdown",
      "metadata": {
        "id": "oIosUKRcfFZ2"
      },
      "source": [
        "\n",
        "## Paper's CNN without generator"
      ]
    },
    {
      "cell_type": "code",
      "execution_count": null,
      "metadata": {
        "id": "-rDSL0QCfFHu"
      },
      "outputs": [],
      "source": [
        "from keras.models import Sequential\n",
        "from keras.layers import Conv2D, MaxPooling2D, Flatten, Dense\n",
        "from keras.preprocessing.image import ImageDataGenerator\n",
        "\n",
        "from sklearn.model_selection import train_test_split\n",
        "batch_size= 32\n",
        "X_train, X_val, y_train, y_val = train_test_split(data, lang, test_size=0.2, shuffle=True, random_state=42)\n",
        "\n",
        "X_train = X_train.reshape(X_train.shape[0], X_train.shape[1], X_train.shape[2], 1)\n",
        "X_val = X_val.reshape(X_val.shape[0], X_val.shape[1], X_val.shape[2], 1)"
      ]
    },
    {
      "cell_type": "code",
      "execution_count": null,
      "metadata": {
        "id": "lvyHjhrWhQ6Y"
      },
      "outputs": [],
      "source": [
        "from sklearn.preprocessing import LabelEncoder\n",
        "\n",
        "label_encoder = LabelEncoder()\n",
        "y_train = label_encoder.fit_transform(y_train)\n",
        "y_val = label_encoder.transform(y_val)\n",
        "\n",
        "\n",
        "from keras.utils import to_categorical\n",
        "\n",
        "y_train = to_categorical(y_train, 3)\n",
        "y_val = to_categorical(y_val, 3)"
      ]
    },
    {
      "cell_type": "code",
      "execution_count": null,
      "metadata": {
        "id": "ASZ0JuHDhQuv"
      },
      "outputs": [],
      "source": [
        "train_datagen = ImageDataGenerator(rescale=1./255)\n",
        "val_datagen = ImageDataGenerator(rescale=1./255)\n",
        "test_datagen = ImageDataGenerator(rescale=1./255)\n",
        "\n",
        "train_generator = train_datagen.flow(X_train, y_train, batch_size=batch_size)\n",
        "val_generator = val_datagen.flow(X_val, y_val, batch_size=batch_size)\n",
        "#test_generator = test_datagen.flow(X_test, y_test, batch_size=batch_size)"
      ]
    },
    {
      "cell_type": "markdown",
      "metadata": {
        "id": "e73tPbkOQ6Ga"
      },
      "source": [
        "## Paper's CNN"
      ]
    },
    {
      "cell_type": "code",
      "execution_count": null,
      "metadata": {
        "id": "RHwu6KKIkUpR"
      },
      "outputs": [],
      "source": [
        "from tensorflow import keras\n",
        "import numpy as np\n",
        "import os\n",
        "\n",
        "class NumpyDataGenerator(keras.utils.Sequence):\n",
        "    def __init__(self, data_folder, ids, labels, batch_size, shuffle=True, seed=None, rescale=None, subset='training'):\n",
        "        self.data_folder = data_folder\n",
        "        ## changed:\n",
        "        #self.ids = ids\n",
        "        self.file_list = ids\n",
        "        #self.labels = labels\n",
        "        self.file_labels = labels\n",
        "\n",
        "        self.batch_size = batch_size\n",
        "        #self.validation_split = validation_split\n",
        "        self.shuffle = shuffle\n",
        "        self.seed = seed\n",
        "        self.rescale = rescale\n",
        "        self.subset = subset\n",
        "\n",
        "        #self._split_data()\n",
        "\n",
        "        if self.shuffle:\n",
        "            self._shuffle_data()\n",
        "\n",
        "    #def _split_data(self):\n",
        "    #    split_index = int(self.validation_split * len(self.ids))\n",
        "    #    if self.subset == 'training':\n",
        "    #        self.file_list = self.ids[split_index:]\n",
        "    #        self.file_labels = self.labels[split_index:]\n",
        "    #    else:\n",
        "    #        self.file_list = self.ids[:split_index]\n",
        "    #        self.file_labels = self.labels[:split_index]\n",
        "\n",
        "    def _shuffle_data(self):\n",
        "        if self.seed is not None:\n",
        "            np.random.seed(self.seed)\n",
        "        indices = np.random.permutation(len(self.file_list))\n",
        "        self.file_list = self.file_list[indices]\n",
        "        self.file_labels = self.file_labels[indices]\n",
        "\n",
        "    def __len__(self):\n",
        "        return len(self.file_list) // self.batch_size\n",
        "\n",
        "    def __getitem__(self, idx):\n",
        "        r = (idx + 1) * self.batch_size\n",
        "        if r > len(self.file_list):\n",
        "            r = len(self.file_list)\n",
        "        batch_files = self.file_list[idx * self.batch_size: r]\n",
        "        batch_labels = self.file_labels[idx * self.batch_size: r]\n",
        "\n",
        "        batch_data = np.empty((len(batch_files), *(128, 431)))\n",
        "        for i, filename in enumerate(batch_files):\n",
        "            batch_data[i,] = np.load(os.path.join(self.data_folder, filename))\n",
        "\n",
        "        return batch_data, batch_labels\n",
        "\n",
        "    def on_epoch_end(self):\n",
        "        if self.shuffle:\n",
        "            self._shuffle_data()\n"
      ]
    },
    {
      "cell_type": "code",
      "execution_count": null,
      "metadata": {
        "id": "AFD4E5mxp0B-"
      },
      "outputs": [],
      "source": [
        "X_trainid = np.array(traindf['ID'].values)\n",
        "y_train = np.array(traindf['lang'].values)\n",
        "\n",
        "from sklearn.preprocessing import LabelEncoder\n",
        "from keras.utils import to_categorical\n",
        "\n",
        "label_encoder = LabelEncoder()\n",
        "y_train = label_encoder.fit_transform(y_train)\n",
        "y_train = to_categorical(y_train, 3)"
      ]
    },
    {
      "cell_type": "code",
      "source": [
        "traindf"
      ],
      "metadata": {
        "colab": {
          "base_uri": "https://localhost:8080/",
          "height": 424
        },
        "id": "K9j3tB7yBCPx",
        "outputId": "a2f8d835-805d-48c4-b2b6-5cdf87c90dec"
      },
      "execution_count": null,
      "outputs": [
        {
          "output_type": "execute_result",
          "data": {
            "text/plain": [
              "                                                    file  \\\n",
              "0      /content/voice/train/train/es_f_56ef0bde6c92a0...   \n",
              "1      /content/voice/train/train/en_f_c8835fb3edef24...   \n",
              "2      /content/voice/train/train/es_f_68e1dcf1b41edc...   \n",
              "3      /content/voice/train/train/en_m_6a5535d7512259...   \n",
              "4      /content/voice/train/train/de_f_d94712992f41e3...   \n",
              "...                                                  ...   \n",
              "73075  /content/voice/train/train/en_f_17211c49a9b296...   \n",
              "73076  /content/voice/train/train/de_f_f856a0201f94b3...   \n",
              "73077  /content/voice/train/train/es_f_bac9be13a058d1...   \n",
              "73078  /content/voice/train/train/de_f_5d2e7f30d69f2d...   \n",
              "73079  /content/voice/train/train/de_m_8ea3514af1c014...   \n",
              "\n",
              "                                                      ID lang  \n",
              "0      es_f_56ef0bde6c92a0100da23cdd39a8a112.fragment...   es  \n",
              "1      en_f_c8835fb3edef243176e1e9beef1f9681.fragment...   en  \n",
              "2      es_f_68e1dcf1b41edcfa24b402f46ec2a65e.fragment...   es  \n",
              "3      en_m_6a5535d7512259e7bef76ff997750873.fragment...   en  \n",
              "4      de_f_d94712992f41e3d8d21f22274b3d8fd9.fragment...   de  \n",
              "...                                                  ...  ...  \n",
              "73075  en_f_17211c49a9b2967b57cffaccf0d5b565.fragment...   en  \n",
              "73076  de_f_f856a0201f94b3b57b61815ef8b715d2.fragment...   de  \n",
              "73077  es_f_bac9be13a058d1c859ed5d2e3a0dc27b.fragment...   es  \n",
              "73078  de_f_5d2e7f30d69f2d1d86fd05f3bbe120c2.fragment...   de  \n",
              "73079  de_m_8ea3514af1c01478fbcd004b026fea71.fragment...   de  \n",
              "\n",
              "[73080 rows x 3 columns]"
            ],
            "text/html": [
              "\n",
              "\n",
              "  <div id=\"df-14c04359-fb81-43ef-bbdf-7f0dbbd197e6\">\n",
              "    <div class=\"colab-df-container\">\n",
              "      <div>\n",
              "<style scoped>\n",
              "    .dataframe tbody tr th:only-of-type {\n",
              "        vertical-align: middle;\n",
              "    }\n",
              "\n",
              "    .dataframe tbody tr th {\n",
              "        vertical-align: top;\n",
              "    }\n",
              "\n",
              "    .dataframe thead th {\n",
              "        text-align: right;\n",
              "    }\n",
              "</style>\n",
              "<table border=\"1\" class=\"dataframe\">\n",
              "  <thead>\n",
              "    <tr style=\"text-align: right;\">\n",
              "      <th></th>\n",
              "      <th>file</th>\n",
              "      <th>ID</th>\n",
              "      <th>lang</th>\n",
              "    </tr>\n",
              "  </thead>\n",
              "  <tbody>\n",
              "    <tr>\n",
              "      <th>0</th>\n",
              "      <td>/content/voice/train/train/es_f_56ef0bde6c92a0...</td>\n",
              "      <td>es_f_56ef0bde6c92a0100da23cdd39a8a112.fragment...</td>\n",
              "      <td>es</td>\n",
              "    </tr>\n",
              "    <tr>\n",
              "      <th>1</th>\n",
              "      <td>/content/voice/train/train/en_f_c8835fb3edef24...</td>\n",
              "      <td>en_f_c8835fb3edef243176e1e9beef1f9681.fragment...</td>\n",
              "      <td>en</td>\n",
              "    </tr>\n",
              "    <tr>\n",
              "      <th>2</th>\n",
              "      <td>/content/voice/train/train/es_f_68e1dcf1b41edc...</td>\n",
              "      <td>es_f_68e1dcf1b41edcfa24b402f46ec2a65e.fragment...</td>\n",
              "      <td>es</td>\n",
              "    </tr>\n",
              "    <tr>\n",
              "      <th>3</th>\n",
              "      <td>/content/voice/train/train/en_m_6a5535d7512259...</td>\n",
              "      <td>en_m_6a5535d7512259e7bef76ff997750873.fragment...</td>\n",
              "      <td>en</td>\n",
              "    </tr>\n",
              "    <tr>\n",
              "      <th>4</th>\n",
              "      <td>/content/voice/train/train/de_f_d94712992f41e3...</td>\n",
              "      <td>de_f_d94712992f41e3d8d21f22274b3d8fd9.fragment...</td>\n",
              "      <td>de</td>\n",
              "    </tr>\n",
              "    <tr>\n",
              "      <th>...</th>\n",
              "      <td>...</td>\n",
              "      <td>...</td>\n",
              "      <td>...</td>\n",
              "    </tr>\n",
              "    <tr>\n",
              "      <th>73075</th>\n",
              "      <td>/content/voice/train/train/en_f_17211c49a9b296...</td>\n",
              "      <td>en_f_17211c49a9b2967b57cffaccf0d5b565.fragment...</td>\n",
              "      <td>en</td>\n",
              "    </tr>\n",
              "    <tr>\n",
              "      <th>73076</th>\n",
              "      <td>/content/voice/train/train/de_f_f856a0201f94b3...</td>\n",
              "      <td>de_f_f856a0201f94b3b57b61815ef8b715d2.fragment...</td>\n",
              "      <td>de</td>\n",
              "    </tr>\n",
              "    <tr>\n",
              "      <th>73077</th>\n",
              "      <td>/content/voice/train/train/es_f_bac9be13a058d1...</td>\n",
              "      <td>es_f_bac9be13a058d1c859ed5d2e3a0dc27b.fragment...</td>\n",
              "      <td>es</td>\n",
              "    </tr>\n",
              "    <tr>\n",
              "      <th>73078</th>\n",
              "      <td>/content/voice/train/train/de_f_5d2e7f30d69f2d...</td>\n",
              "      <td>de_f_5d2e7f30d69f2d1d86fd05f3bbe120c2.fragment...</td>\n",
              "      <td>de</td>\n",
              "    </tr>\n",
              "    <tr>\n",
              "      <th>73079</th>\n",
              "      <td>/content/voice/train/train/de_m_8ea3514af1c014...</td>\n",
              "      <td>de_m_8ea3514af1c01478fbcd004b026fea71.fragment...</td>\n",
              "      <td>de</td>\n",
              "    </tr>\n",
              "  </tbody>\n",
              "</table>\n",
              "<p>73080 rows × 3 columns</p>\n",
              "</div>\n",
              "      <button class=\"colab-df-convert\" onclick=\"convertToInteractive('df-14c04359-fb81-43ef-bbdf-7f0dbbd197e6')\"\n",
              "              title=\"Convert this dataframe to an interactive table.\"\n",
              "              style=\"display:none;\">\n",
              "\n",
              "  <svg xmlns=\"http://www.w3.org/2000/svg\" height=\"24px\"viewBox=\"0 0 24 24\"\n",
              "       width=\"24px\">\n",
              "    <path d=\"M0 0h24v24H0V0z\" fill=\"none\"/>\n",
              "    <path d=\"M18.56 5.44l.94 2.06.94-2.06 2.06-.94-2.06-.94-.94-2.06-.94 2.06-2.06.94zm-11 1L8.5 8.5l.94-2.06 2.06-.94-2.06-.94L8.5 2.5l-.94 2.06-2.06.94zm10 10l.94 2.06.94-2.06 2.06-.94-2.06-.94-.94-2.06-.94 2.06-2.06.94z\"/><path d=\"M17.41 7.96l-1.37-1.37c-.4-.4-.92-.59-1.43-.59-.52 0-1.04.2-1.43.59L10.3 9.45l-7.72 7.72c-.78.78-.78 2.05 0 2.83L4 21.41c.39.39.9.59 1.41.59.51 0 1.02-.2 1.41-.59l7.78-7.78 2.81-2.81c.8-.78.8-2.07 0-2.86zM5.41 20L4 18.59l7.72-7.72 1.47 1.35L5.41 20z\"/>\n",
              "  </svg>\n",
              "      </button>\n",
              "\n",
              "\n",
              "\n",
              "    <div id=\"df-cc7286db-457a-4adf-bca3-3af343d64e82\">\n",
              "      <button class=\"colab-df-quickchart\" onclick=\"quickchart('df-cc7286db-457a-4adf-bca3-3af343d64e82')\"\n",
              "              title=\"Suggest charts.\"\n",
              "              style=\"display:none;\">\n",
              "\n",
              "<svg xmlns=\"http://www.w3.org/2000/svg\" height=\"24px\"viewBox=\"0 0 24 24\"\n",
              "     width=\"24px\">\n",
              "    <g>\n",
              "        <path d=\"M19 3H5c-1.1 0-2 .9-2 2v14c0 1.1.9 2 2 2h14c1.1 0 2-.9 2-2V5c0-1.1-.9-2-2-2zM9 17H7v-7h2v7zm4 0h-2V7h2v10zm4 0h-2v-4h2v4z\"/>\n",
              "    </g>\n",
              "</svg>\n",
              "      </button>\n",
              "    </div>\n",
              "\n",
              "<style>\n",
              "  .colab-df-quickchart {\n",
              "    background-color: #E8F0FE;\n",
              "    border: none;\n",
              "    border-radius: 50%;\n",
              "    cursor: pointer;\n",
              "    display: none;\n",
              "    fill: #1967D2;\n",
              "    height: 32px;\n",
              "    padding: 0 0 0 0;\n",
              "    width: 32px;\n",
              "  }\n",
              "\n",
              "  .colab-df-quickchart:hover {\n",
              "    background-color: #E2EBFA;\n",
              "    box-shadow: 0px 1px 2px rgba(60, 64, 67, 0.3), 0px 1px 3px 1px rgba(60, 64, 67, 0.15);\n",
              "    fill: #174EA6;\n",
              "  }\n",
              "\n",
              "  [theme=dark] .colab-df-quickchart {\n",
              "    background-color: #3B4455;\n",
              "    fill: #D2E3FC;\n",
              "  }\n",
              "\n",
              "  [theme=dark] .colab-df-quickchart:hover {\n",
              "    background-color: #434B5C;\n",
              "    box-shadow: 0px 1px 3px 1px rgba(0, 0, 0, 0.15);\n",
              "    filter: drop-shadow(0px 1px 2px rgba(0, 0, 0, 0.3));\n",
              "    fill: #FFFFFF;\n",
              "  }\n",
              "</style>\n",
              "\n",
              "    <script>\n",
              "      async function quickchart(key) {\n",
              "        const containerElement = document.querySelector('#' + key);\n",
              "        const charts = await google.colab.kernel.invokeFunction(\n",
              "            'suggestCharts', [key], {});\n",
              "      }\n",
              "    </script>\n",
              "\n",
              "      <script>\n",
              "\n",
              "function displayQuickchartButton(domScope) {\n",
              "  let quickchartButtonEl =\n",
              "    domScope.querySelector('#df-cc7286db-457a-4adf-bca3-3af343d64e82 button.colab-df-quickchart');\n",
              "  quickchartButtonEl.style.display =\n",
              "    google.colab.kernel.accessAllowed ? 'block' : 'none';\n",
              "}\n",
              "\n",
              "        displayQuickchartButton(document);\n",
              "      </script>\n",
              "      <style>\n",
              "    .colab-df-container {\n",
              "      display:flex;\n",
              "      flex-wrap:wrap;\n",
              "      gap: 12px;\n",
              "    }\n",
              "\n",
              "    .colab-df-convert {\n",
              "      background-color: #E8F0FE;\n",
              "      border: none;\n",
              "      border-radius: 50%;\n",
              "      cursor: pointer;\n",
              "      display: none;\n",
              "      fill: #1967D2;\n",
              "      height: 32px;\n",
              "      padding: 0 0 0 0;\n",
              "      width: 32px;\n",
              "    }\n",
              "\n",
              "    .colab-df-convert:hover {\n",
              "      background-color: #E2EBFA;\n",
              "      box-shadow: 0px 1px 2px rgba(60, 64, 67, 0.3), 0px 1px 3px 1px rgba(60, 64, 67, 0.15);\n",
              "      fill: #174EA6;\n",
              "    }\n",
              "\n",
              "    [theme=dark] .colab-df-convert {\n",
              "      background-color: #3B4455;\n",
              "      fill: #D2E3FC;\n",
              "    }\n",
              "\n",
              "    [theme=dark] .colab-df-convert:hover {\n",
              "      background-color: #434B5C;\n",
              "      box-shadow: 0px 1px 3px 1px rgba(0, 0, 0, 0.15);\n",
              "      filter: drop-shadow(0px 1px 2px rgba(0, 0, 0, 0.3));\n",
              "      fill: #FFFFFF;\n",
              "    }\n",
              "  </style>\n",
              "\n",
              "      <script>\n",
              "        const buttonEl =\n",
              "          document.querySelector('#df-14c04359-fb81-43ef-bbdf-7f0dbbd197e6 button.colab-df-convert');\n",
              "        buttonEl.style.display =\n",
              "          google.colab.kernel.accessAllowed ? 'block' : 'none';\n",
              "\n",
              "        async function convertToInteractive(key) {\n",
              "          const element = document.querySelector('#df-14c04359-fb81-43ef-bbdf-7f0dbbd197e6');\n",
              "          const dataTable =\n",
              "            await google.colab.kernel.invokeFunction('convertToInteractive',\n",
              "                                                     [key], {});\n",
              "          if (!dataTable) return;\n",
              "\n",
              "          const docLinkHtml = 'Like what you see? Visit the ' +\n",
              "            '<a target=\"_blank\" href=https://colab.research.google.com/notebooks/data_table.ipynb>data table notebook</a>'\n",
              "            + ' to learn more about interactive tables.';\n",
              "          element.innerHTML = '';\n",
              "          dataTable['output_type'] = 'display_data';\n",
              "          await google.colab.output.renderOutput(dataTable, element);\n",
              "          const docLink = document.createElement('div');\n",
              "          docLink.innerHTML = docLinkHtml;\n",
              "          element.appendChild(docLink);\n",
              "        }\n",
              "      </script>\n",
              "    </div>\n",
              "  </div>\n"
            ]
          },
          "metadata": {},
          "execution_count": 19
        }
      ]
    },
    {
      "cell_type": "code",
      "source": [
        "np.random.seed(42)\n",
        "shuffle_indices = np.random.permutation(len(X_trainid))\n",
        "X_trainid = X_trainid[shuffle_indices]\n",
        "y_train = y_train[shuffle_indices]"
      ],
      "metadata": {
        "id": "iybX9q-DGLOs"
      },
      "execution_count": null,
      "outputs": []
    },
    {
      "cell_type": "code",
      "source": [
        "import copy\n",
        "def split_data(X_id, y_label, validation_split):\n",
        "    split_index = int(validation_split * len(X_id))\n",
        "    X_train_id = copy.deepcopy(X_id[split_index:])\n",
        "    y_train_label = copy.deepcopy(y_label[split_index:])\n",
        "    X_valid_id = copy.deepcopy(X_id[:split_index])\n",
        "    y_valid_label = copy.deepcopy(y_label[:split_index])\n",
        "    return X_train_id, y_train_label, X_valid_id, y_valid_label"
      ],
      "metadata": {
        "id": "xGqL5b8bJmaa"
      },
      "execution_count": null,
      "outputs": []
    },
    {
      "cell_type": "code",
      "source": [
        "X_train_id, y_train_label, X_valid_id, y_valid_label = split_data(X_trainid, y_train, 0.2)"
      ],
      "metadata": {
        "id": "3XaVHyvQLIat"
      },
      "execution_count": null,
      "outputs": []
    },
    {
      "cell_type": "code",
      "source": [
        "print(len(X_train_id), len(y_train_label), len(X_valid_id), len(y_valid_label))"
      ],
      "metadata": {
        "colab": {
          "base_uri": "https://localhost:8080/"
        },
        "id": "SF_ZAVVBBLZa",
        "outputId": "703a6563-e4ac-4275-e30e-aac16b64a095"
      },
      "execution_count": null,
      "outputs": [
        {
          "output_type": "stream",
          "name": "stdout",
          "text": [
            "58464 58464 14616 14616\n"
          ]
        }
      ]
    },
    {
      "cell_type": "code",
      "source": [
        "print(X_trainid)"
      ],
      "metadata": {
        "colab": {
          "base_uri": "https://localhost:8080/"
        },
        "id": "gh_vfG3ewu-E",
        "outputId": "b1f8a1ad-6a1f-44f1-a60c-41960d1b4416"
      },
      "execution_count": null,
      "outputs": [
        {
          "output_type": "stream",
          "name": "stdout",
          "text": [
            "['es_f_bac9be13a058d1c859ed5d2e3a0dc27b.fragment16.speed3.npy'\n",
            " 'de_m_502293f229751563d1768dd2367a6b29.fragment19.speed7.npy'\n",
            " 'es_m_d7128fe46e362acdb2271a154e3206ae.fragment6.noise5.npy' ...\n",
            " 'en_f_c8835fb3edef243176e1e9beef1f9681.fragment22.noise12.npy'\n",
            " 'de_f_404792fda5c66b95903adafd5a5f5d10.fragment15.pitch7.npy'\n",
            " 'en_f_386ee651f6f1539ff5622c55e234e5a4.fragment6.noise5.npy']\n"
          ]
        }
      ]
    },
    {
      "cell_type": "code",
      "source": [
        "print(y_train)"
      ],
      "metadata": {
        "colab": {
          "base_uri": "https://localhost:8080/"
        },
        "id": "skhzubjgww5A",
        "outputId": "5c1a50a7-c656-4de4-c908-9700a4339d62"
      },
      "execution_count": null,
      "outputs": [
        {
          "output_type": "stream",
          "name": "stdout",
          "text": [
            "[[0. 0. 1.]\n",
            " [1. 0. 0.]\n",
            " [0. 0. 1.]\n",
            " ...\n",
            " [0. 1. 0.]\n",
            " [1. 0. 0.]\n",
            " [0. 1. 0.]]\n"
          ]
        }
      ]
    },
    {
      "cell_type": "code",
      "source": [
        "print(X_trainid[3], y_train[3])"
      ],
      "metadata": {
        "colab": {
          "base_uri": "https://localhost:8080/"
        },
        "id": "Q8DedOj1743l",
        "outputId": "6a33350a-788e-4ef2-f4c2-972b7f4e990d"
      },
      "execution_count": null,
      "outputs": [
        {
          "output_type": "stream",
          "name": "stdout",
          "text": [
            "en_m_d630900a88e2681c9d5d1026d7025d67.fragment5.pitch6.npy [0. 1. 0.]\n"
          ]
        }
      ]
    },
    {
      "cell_type": "code",
      "source": [
        "print(str(y_train[0]))"
      ],
      "metadata": {
        "colab": {
          "base_uri": "https://localhost:8080/"
        },
        "id": "brTlMAeqxwok",
        "outputId": "582367b5-125d-4303-8b43-f3ad0f8da49d"
      },
      "execution_count": null,
      "outputs": [
        {
          "output_type": "stream",
          "name": "stdout",
          "text": [
            "[0. 0. 1.]\n"
          ]
        }
      ]
    },
    {
      "cell_type": "code",
      "execution_count": null,
      "metadata": {
        "id": "DmTKTbhHkv_W"
      },
      "outputs": [],
      "source": [
        "data_folder = TRAIN_MAT_PATH\n",
        "batch_size = 32\n",
        "validation_split = 0.2\n",
        "rescale_factor = 1.0 / 255.0\n",
        "\n",
        "params = {\n",
        "    'data_folder': data_folder,\n",
        "    ##'ids' : X_trainid,\n",
        "    ##'labels': y_train,\n",
        "    'batch_size': batch_size,\n",
        "    #'validation_split': validation_split,\n",
        "    'shuffle': True,\n",
        "    'seed': 42,\n",
        "    'rescale': rescale_factor,\n",
        "}\n",
        "\n",
        "train_generator = NumpyDataGenerator(subset='training', ids= X_train_id, labels= y_train_label, **params)\n",
        "valid_generator = NumpyDataGenerator(subset='validation', ids= X_valid_id, labels= y_valid_label, **params)"
      ]
    },
    {
      "cell_type": "code",
      "execution_count": null,
      "metadata": {
        "id": "SQXOxDtnQ-K8"
      },
      "outputs": [],
      "source": [
        "file_paths = traindf['ID'].values\n",
        "y_train = np.array(traindf['lang'].values)\n",
        "\n",
        "X_train = [np.load(MAT_DIR+\"train/train/\"+file_path) for file_path in file_paths]\n",
        "X_train = np.stack(X_train)"
      ]
    },
    {
      "cell_type": "code",
      "execution_count": null,
      "metadata": {
        "id": "3rf87bVSRKJL"
      },
      "outputs": [],
      "source": [
        "from keras.preprocessing.image import ImageDataGenerator\n",
        "train_valid_datagen = ImageDataGenerator(rescale=1./255, validation_split=0.2)\n",
        "\n",
        "train_generator = train_valid_datagen.flow(X_train, y_train,\n",
        "                                           batch_size=32,\n",
        "                                           subset='training',\n",
        "                                           seed=42,\n",
        "                                           shuffle=True)\n",
        "\n",
        "val_generator = train_valid_datagen.flow(X_train, y_train,\n",
        "                                         batch_size=32,\n",
        "                                         subset='validation',\n",
        "                                         seed=42,\n",
        "                                         shuffle=True)\n",
        "\n",
        "#test_generator = test_datagen.flow(X_test, y_test, batch_size=batch_size)"
      ]
    },
    {
      "cell_type": "code",
      "execution_count": null,
      "metadata": {
        "id": "wKk8JoA1RLez"
      },
      "outputs": [],
      "source": [
        "from keras.models import Sequential, Model\n",
        "from keras.layers import Dense, Activation, Flatten, Dropout, BatchNormalization, Conv2D, MaxPooling2D\n",
        "#from keras import regularizers, optimizers\n",
        "import keras\n",
        "\n",
        "model = Sequential()\n",
        "#first block:\n",
        "model.add(Conv2D(32, (7, 7), padding='valid', input_shape=(128, 431, 1)))\n",
        "model.add(BatchNormalization())\n",
        "model.add(Activation('relu'))\n",
        "model.add(Dropout(0.5))\n",
        "model.add(MaxPooling2D(pool_size=(3, 3), strides=2))\n",
        "#second block:\n",
        "model.add(Conv2D(64, (5, 5), padding='same'))\n",
        "model.add(BatchNormalization())\n",
        "model.add(Activation('relu'))\n",
        "model.add(Dropout(0.5))\n",
        "model.add(MaxPooling2D(pool_size=(3, 3), strides=2))\n",
        "#third block:\n",
        "model.add(Conv2D(128, (3, 3), padding='same'))\n",
        "model.add(BatchNormalization())\n",
        "model.add(Activation('relu'))\n",
        "model.add(Dropout(0.5))\n",
        "model.add(MaxPooling2D(pool_size=(3, 3), strides=2))\n",
        "#fourth block:\n",
        "model.add(Conv2D(256, (3, 3), padding='same'))\n",
        "model.add(BatchNormalization())\n",
        "model.add(Activation('relu'))\n",
        "model.add(Dropout(0.5))\n",
        "model.add(MaxPooling2D(pool_size=(3, 3), strides=2))\n",
        "#fifth block:\n",
        "model.add(Conv2D(512, (3, 3), padding='same'))\n",
        "model.add(BatchNormalization())\n",
        "model.add(Activation('relu'))\n",
        "model.add(Dropout(0.5))\n",
        "model.add(MaxPooling2D(pool_size=(3, 3), strides=2))\n",
        "#flatten layer:\n",
        "model.add(Flatten())\n",
        "model.add(BatchNormalization())\n",
        "model.add(Dense(256))\n",
        "model.add(BatchNormalization())\n",
        "\n",
        "model.add(Dropout(0.5))\n",
        "model.add(Dense(3, activation='softmax'))\n",
        "#model.compile(optimizer=keras.optimizers.Adam(learning_rate=0.0001),\n",
        "#              loss=keras.losses.CategoricalCrossentropy(),\n",
        "#              metrics=[\"accuracy\"])\n",
        "#model.summary()"
      ]
    },
    {
      "cell_type": "code",
      "execution_count": null,
      "metadata": {
        "id": "EaZQg-LGoTjg",
        "colab": {
          "base_uri": "https://localhost:8080/"
        },
        "outputId": "eee1c1e9-1d08-4e73-a948-b00834dbb6d8"
      },
      "outputs": [
        {
          "output_type": "stream",
          "name": "stdout",
          "text": [
            "Model: \"sequential\"\n",
            "_________________________________________________________________\n",
            " Layer (type)                Output Shape              Param #   \n",
            "=================================================================\n",
            " conv2d (Conv2D)             (None, 122, 425, 32)      1600      \n",
            "                                                                 \n",
            " batch_normalization (BatchN  (None, 122, 425, 32)     128       \n",
            " ormalization)                                                   \n",
            "                                                                 \n",
            " activation (Activation)     (None, 122, 425, 32)      0         \n",
            "                                                                 \n",
            " dropout (Dropout)           (None, 122, 425, 32)      0         \n",
            "                                                                 \n",
            " max_pooling2d (MaxPooling2D  (None, 60, 212, 32)      0         \n",
            " )                                                               \n",
            "                                                                 \n",
            " conv2d_1 (Conv2D)           (None, 60, 212, 64)       51264     \n",
            "                                                                 \n",
            " batch_normalization_1 (Batc  (None, 60, 212, 64)      256       \n",
            " hNormalization)                                                 \n",
            "                                                                 \n",
            " activation_1 (Activation)   (None, 60, 212, 64)       0         \n",
            "                                                                 \n",
            " dropout_1 (Dropout)         (None, 60, 212, 64)       0         \n",
            "                                                                 \n",
            " max_pooling2d_1 (MaxPooling  (None, 29, 105, 64)      0         \n",
            " 2D)                                                             \n",
            "                                                                 \n",
            " conv2d_2 (Conv2D)           (None, 29, 105, 128)      73856     \n",
            "                                                                 \n",
            " batch_normalization_2 (Batc  (None, 29, 105, 128)     512       \n",
            " hNormalization)                                                 \n",
            "                                                                 \n",
            " activation_2 (Activation)   (None, 29, 105, 128)      0         \n",
            "                                                                 \n",
            " dropout_2 (Dropout)         (None, 29, 105, 128)      0         \n",
            "                                                                 \n",
            " max_pooling2d_2 (MaxPooling  (None, 14, 52, 128)      0         \n",
            " 2D)                                                             \n",
            "                                                                 \n",
            " conv2d_3 (Conv2D)           (None, 14, 52, 256)       295168    \n",
            "                                                                 \n",
            " batch_normalization_3 (Batc  (None, 14, 52, 256)      1024      \n",
            " hNormalization)                                                 \n",
            "                                                                 \n",
            " activation_3 (Activation)   (None, 14, 52, 256)       0         \n",
            "                                                                 \n",
            " dropout_3 (Dropout)         (None, 14, 52, 256)       0         \n",
            "                                                                 \n",
            " max_pooling2d_3 (MaxPooling  (None, 6, 25, 256)       0         \n",
            " 2D)                                                             \n",
            "                                                                 \n",
            " conv2d_4 (Conv2D)           (None, 6, 25, 512)        1180160   \n",
            "                                                                 \n",
            " batch_normalization_4 (Batc  (None, 6, 25, 512)       2048      \n",
            " hNormalization)                                                 \n",
            "                                                                 \n",
            " activation_4 (Activation)   (None, 6, 25, 512)        0         \n",
            "                                                                 \n",
            " dropout_4 (Dropout)         (None, 6, 25, 512)        0         \n",
            "                                                                 \n",
            " max_pooling2d_4 (MaxPooling  (None, 2, 12, 512)       0         \n",
            " 2D)                                                             \n",
            "                                                                 \n",
            " flatten (Flatten)           (None, 12288)             0         \n",
            "                                                                 \n",
            " batch_normalization_5 (Batc  (None, 12288)            49152     \n",
            " hNormalization)                                                 \n",
            "                                                                 \n",
            " dense (Dense)               (None, 256)               3145984   \n",
            "                                                                 \n",
            " batch_normalization_6 (Batc  (None, 256)              1024      \n",
            " hNormalization)                                                 \n",
            "                                                                 \n",
            " dropout_5 (Dropout)         (None, 256)               0         \n",
            "                                                                 \n",
            " dense_1 (Dense)             (None, 3)                 771       \n",
            "                                                                 \n",
            "=================================================================\n",
            "Total params: 4,802,947\n",
            "Trainable params: 4,775,875\n",
            "Non-trainable params: 27,072\n",
            "_________________________________________________________________\n"
          ]
        }
      ],
      "source": [
        "#model.compile(optimizer=keras.optimizers.Adam(learning_rate=0.0001), loss='categorical_crossentropy', metrics=['accuracy'])\n",
        "model.compile(optimizer=keras.optimizers.Adam(learning_rate=0.01),\n",
        "              loss=keras.losses.CategoricalCrossentropy(),\n",
        "              metrics=[\"accuracy\"])\n",
        "model.summary()"
      ]
    },
    {
      "cell_type": "code",
      "execution_count": null,
      "metadata": {
        "id": "57brGH4_osbt",
        "colab": {
          "base_uri": "https://localhost:8080/",
          "height": 451
        },
        "outputId": "fd665abb-ffa1-4a5d-c23c-4c60f7729a1b"
      },
      "outputs": [
        {
          "output_type": "stream",
          "name": "stdout",
          "text": [
            "Epoch 1/60\n",
            "1827/1827 [==============================] - 320s 168ms/step - loss: 0.6341 - accuracy: 0.7370 - val_loss: 5.6170 - val_accuracy: 0.3324\n",
            "Epoch 2/60\n",
            " 157/1827 [=>............................] - ETA: 3:59 - loss: 0.2371 - accuracy: 0.9076"
          ]
        },
        {
          "output_type": "error",
          "ename": "KeyboardInterrupt",
          "evalue": "ignored",
          "traceback": [
            "\u001b[0;31m---------------------------------------------------------------------------\u001b[0m",
            "\u001b[0;31mKeyboardInterrupt\u001b[0m                         Traceback (most recent call last)",
            "\u001b[0;32m<ipython-input-31-9097e94b9448>\u001b[0m in \u001b[0;36m<cell line: 1>\u001b[0;34m()\u001b[0m\n\u001b[0;32m----> 1\u001b[0;31m model.fit(\n\u001b[0m\u001b[1;32m      2\u001b[0m     \u001b[0mtrain_generator\u001b[0m\u001b[0;34m,\u001b[0m\u001b[0;34m\u001b[0m\u001b[0;34m\u001b[0m\u001b[0m\n\u001b[1;32m      3\u001b[0m     \u001b[0msteps_per_epoch\u001b[0m\u001b[0;34m=\u001b[0m\u001b[0mlen\u001b[0m\u001b[0;34m(\u001b[0m\u001b[0mtrain_generator\u001b[0m\u001b[0;34m)\u001b[0m\u001b[0;34m,\u001b[0m\u001b[0;34m\u001b[0m\u001b[0;34m\u001b[0m\u001b[0m\n\u001b[1;32m      4\u001b[0m     \u001b[0mepochs\u001b[0m\u001b[0;34m=\u001b[0m\u001b[0;36m60\u001b[0m\u001b[0;34m,\u001b[0m\u001b[0;34m\u001b[0m\u001b[0;34m\u001b[0m\u001b[0m\n\u001b[1;32m      5\u001b[0m     \u001b[0mvalidation_data\u001b[0m\u001b[0;34m=\u001b[0m\u001b[0mvalid_generator\u001b[0m\u001b[0;34m,\u001b[0m\u001b[0;34m\u001b[0m\u001b[0;34m\u001b[0m\u001b[0m\n",
            "\u001b[0;32m/usr/local/lib/python3.10/dist-packages/keras/utils/traceback_utils.py\u001b[0m in \u001b[0;36merror_handler\u001b[0;34m(*args, **kwargs)\u001b[0m\n\u001b[1;32m     63\u001b[0m         \u001b[0mfiltered_tb\u001b[0m \u001b[0;34m=\u001b[0m \u001b[0;32mNone\u001b[0m\u001b[0;34m\u001b[0m\u001b[0;34m\u001b[0m\u001b[0m\n\u001b[1;32m     64\u001b[0m         \u001b[0;32mtry\u001b[0m\u001b[0;34m:\u001b[0m\u001b[0;34m\u001b[0m\u001b[0;34m\u001b[0m\u001b[0m\n\u001b[0;32m---> 65\u001b[0;31m             \u001b[0;32mreturn\u001b[0m \u001b[0mfn\u001b[0m\u001b[0;34m(\u001b[0m\u001b[0;34m*\u001b[0m\u001b[0margs\u001b[0m\u001b[0;34m,\u001b[0m \u001b[0;34m**\u001b[0m\u001b[0mkwargs\u001b[0m\u001b[0;34m)\u001b[0m\u001b[0;34m\u001b[0m\u001b[0;34m\u001b[0m\u001b[0m\n\u001b[0m\u001b[1;32m     66\u001b[0m         \u001b[0;32mexcept\u001b[0m \u001b[0mException\u001b[0m \u001b[0;32mas\u001b[0m \u001b[0me\u001b[0m\u001b[0;34m:\u001b[0m\u001b[0;34m\u001b[0m\u001b[0;34m\u001b[0m\u001b[0m\n\u001b[1;32m     67\u001b[0m             \u001b[0mfiltered_tb\u001b[0m \u001b[0;34m=\u001b[0m \u001b[0m_process_traceback_frames\u001b[0m\u001b[0;34m(\u001b[0m\u001b[0me\u001b[0m\u001b[0;34m.\u001b[0m\u001b[0m__traceback__\u001b[0m\u001b[0;34m)\u001b[0m\u001b[0;34m\u001b[0m\u001b[0;34m\u001b[0m\u001b[0m\n",
            "\u001b[0;32m/usr/local/lib/python3.10/dist-packages/keras/engine/training.py\u001b[0m in \u001b[0;36mfit\u001b[0;34m(self, x, y, batch_size, epochs, verbose, callbacks, validation_split, validation_data, shuffle, class_weight, sample_weight, initial_epoch, steps_per_epoch, validation_steps, validation_batch_size, validation_freq, max_queue_size, workers, use_multiprocessing)\u001b[0m\n\u001b[1;32m   1683\u001b[0m                         ):\n\u001b[1;32m   1684\u001b[0m                             \u001b[0mcallbacks\u001b[0m\u001b[0;34m.\u001b[0m\u001b[0mon_train_batch_begin\u001b[0m\u001b[0;34m(\u001b[0m\u001b[0mstep\u001b[0m\u001b[0;34m)\u001b[0m\u001b[0;34m\u001b[0m\u001b[0;34m\u001b[0m\u001b[0m\n\u001b[0;32m-> 1685\u001b[0;31m                             \u001b[0mtmp_logs\u001b[0m \u001b[0;34m=\u001b[0m \u001b[0mself\u001b[0m\u001b[0;34m.\u001b[0m\u001b[0mtrain_function\u001b[0m\u001b[0;34m(\u001b[0m\u001b[0miterator\u001b[0m\u001b[0;34m)\u001b[0m\u001b[0;34m\u001b[0m\u001b[0;34m\u001b[0m\u001b[0m\n\u001b[0m\u001b[1;32m   1686\u001b[0m                             \u001b[0;32mif\u001b[0m \u001b[0mdata_handler\u001b[0m\u001b[0;34m.\u001b[0m\u001b[0mshould_sync\u001b[0m\u001b[0;34m:\u001b[0m\u001b[0;34m\u001b[0m\u001b[0;34m\u001b[0m\u001b[0m\n\u001b[1;32m   1687\u001b[0m                                 \u001b[0mcontext\u001b[0m\u001b[0;34m.\u001b[0m\u001b[0masync_wait\u001b[0m\u001b[0;34m(\u001b[0m\u001b[0;34m)\u001b[0m\u001b[0;34m\u001b[0m\u001b[0;34m\u001b[0m\u001b[0m\n",
            "\u001b[0;32m/usr/local/lib/python3.10/dist-packages/tensorflow/python/util/traceback_utils.py\u001b[0m in \u001b[0;36merror_handler\u001b[0;34m(*args, **kwargs)\u001b[0m\n\u001b[1;32m    148\u001b[0m     \u001b[0mfiltered_tb\u001b[0m \u001b[0;34m=\u001b[0m \u001b[0;32mNone\u001b[0m\u001b[0;34m\u001b[0m\u001b[0;34m\u001b[0m\u001b[0m\n\u001b[1;32m    149\u001b[0m     \u001b[0;32mtry\u001b[0m\u001b[0;34m:\u001b[0m\u001b[0;34m\u001b[0m\u001b[0;34m\u001b[0m\u001b[0m\n\u001b[0;32m--> 150\u001b[0;31m       \u001b[0;32mreturn\u001b[0m \u001b[0mfn\u001b[0m\u001b[0;34m(\u001b[0m\u001b[0;34m*\u001b[0m\u001b[0margs\u001b[0m\u001b[0;34m,\u001b[0m \u001b[0;34m**\u001b[0m\u001b[0mkwargs\u001b[0m\u001b[0;34m)\u001b[0m\u001b[0;34m\u001b[0m\u001b[0;34m\u001b[0m\u001b[0m\n\u001b[0m\u001b[1;32m    151\u001b[0m     \u001b[0;32mexcept\u001b[0m \u001b[0mException\u001b[0m \u001b[0;32mas\u001b[0m \u001b[0me\u001b[0m\u001b[0;34m:\u001b[0m\u001b[0;34m\u001b[0m\u001b[0;34m\u001b[0m\u001b[0m\n\u001b[1;32m    152\u001b[0m       \u001b[0mfiltered_tb\u001b[0m \u001b[0;34m=\u001b[0m \u001b[0m_process_traceback_frames\u001b[0m\u001b[0;34m(\u001b[0m\u001b[0me\u001b[0m\u001b[0;34m.\u001b[0m\u001b[0m__traceback__\u001b[0m\u001b[0;34m)\u001b[0m\u001b[0;34m\u001b[0m\u001b[0;34m\u001b[0m\u001b[0m\n",
            "\u001b[0;32m/usr/local/lib/python3.10/dist-packages/tensorflow/python/eager/polymorphic_function/polymorphic_function.py\u001b[0m in \u001b[0;36m__call__\u001b[0;34m(self, *args, **kwds)\u001b[0m\n\u001b[1;32m    892\u001b[0m \u001b[0;34m\u001b[0m\u001b[0m\n\u001b[1;32m    893\u001b[0m       \u001b[0;32mwith\u001b[0m \u001b[0mOptionalXlaContext\u001b[0m\u001b[0;34m(\u001b[0m\u001b[0mself\u001b[0m\u001b[0;34m.\u001b[0m\u001b[0m_jit_compile\u001b[0m\u001b[0;34m)\u001b[0m\u001b[0;34m:\u001b[0m\u001b[0;34m\u001b[0m\u001b[0;34m\u001b[0m\u001b[0m\n\u001b[0;32m--> 894\u001b[0;31m         \u001b[0mresult\u001b[0m \u001b[0;34m=\u001b[0m \u001b[0mself\u001b[0m\u001b[0;34m.\u001b[0m\u001b[0m_call\u001b[0m\u001b[0;34m(\u001b[0m\u001b[0;34m*\u001b[0m\u001b[0margs\u001b[0m\u001b[0;34m,\u001b[0m \u001b[0;34m**\u001b[0m\u001b[0mkwds\u001b[0m\u001b[0;34m)\u001b[0m\u001b[0;34m\u001b[0m\u001b[0;34m\u001b[0m\u001b[0m\n\u001b[0m\u001b[1;32m    895\u001b[0m \u001b[0;34m\u001b[0m\u001b[0m\n\u001b[1;32m    896\u001b[0m       \u001b[0mnew_tracing_count\u001b[0m \u001b[0;34m=\u001b[0m \u001b[0mself\u001b[0m\u001b[0;34m.\u001b[0m\u001b[0mexperimental_get_tracing_count\u001b[0m\u001b[0;34m(\u001b[0m\u001b[0;34m)\u001b[0m\u001b[0;34m\u001b[0m\u001b[0;34m\u001b[0m\u001b[0m\n",
            "\u001b[0;32m/usr/local/lib/python3.10/dist-packages/tensorflow/python/eager/polymorphic_function/polymorphic_function.py\u001b[0m in \u001b[0;36m_call\u001b[0;34m(self, *args, **kwds)\u001b[0m\n\u001b[1;32m    924\u001b[0m       \u001b[0;31m# In this case we have created variables on the first call, so we run the\u001b[0m\u001b[0;34m\u001b[0m\u001b[0;34m\u001b[0m\u001b[0m\n\u001b[1;32m    925\u001b[0m       \u001b[0;31m# defunned version which is guaranteed to never create variables.\u001b[0m\u001b[0;34m\u001b[0m\u001b[0;34m\u001b[0m\u001b[0m\n\u001b[0;32m--> 926\u001b[0;31m       \u001b[0;32mreturn\u001b[0m \u001b[0mself\u001b[0m\u001b[0;34m.\u001b[0m\u001b[0m_no_variable_creation_fn\u001b[0m\u001b[0;34m(\u001b[0m\u001b[0;34m*\u001b[0m\u001b[0margs\u001b[0m\u001b[0;34m,\u001b[0m \u001b[0;34m**\u001b[0m\u001b[0mkwds\u001b[0m\u001b[0;34m)\u001b[0m  \u001b[0;31m# pylint: disable=not-callable\u001b[0m\u001b[0;34m\u001b[0m\u001b[0;34m\u001b[0m\u001b[0m\n\u001b[0m\u001b[1;32m    927\u001b[0m     \u001b[0;32melif\u001b[0m \u001b[0mself\u001b[0m\u001b[0;34m.\u001b[0m\u001b[0m_variable_creation_fn\u001b[0m \u001b[0;32mis\u001b[0m \u001b[0;32mnot\u001b[0m \u001b[0;32mNone\u001b[0m\u001b[0;34m:\u001b[0m\u001b[0;34m\u001b[0m\u001b[0;34m\u001b[0m\u001b[0m\n\u001b[1;32m    928\u001b[0m       \u001b[0;31m# Release the lock early so that multiple threads can perform the call\u001b[0m\u001b[0;34m\u001b[0m\u001b[0;34m\u001b[0m\u001b[0m\n",
            "\u001b[0;32m/usr/local/lib/python3.10/dist-packages/tensorflow/python/eager/polymorphic_function/tracing_compiler.py\u001b[0m in \u001b[0;36m__call__\u001b[0;34m(self, *args, **kwargs)\u001b[0m\n\u001b[1;32m    141\u001b[0m       (concrete_function,\n\u001b[1;32m    142\u001b[0m        filtered_flat_args) = self._maybe_define_function(args, kwargs)\n\u001b[0;32m--> 143\u001b[0;31m     return concrete_function._call_flat(\n\u001b[0m\u001b[1;32m    144\u001b[0m         filtered_flat_args, captured_inputs=concrete_function.captured_inputs)  # pylint: disable=protected-access\n\u001b[1;32m    145\u001b[0m \u001b[0;34m\u001b[0m\u001b[0m\n",
            "\u001b[0;32m/usr/local/lib/python3.10/dist-packages/tensorflow/python/eager/polymorphic_function/monomorphic_function.py\u001b[0m in \u001b[0;36m_call_flat\u001b[0;34m(self, args, captured_inputs, cancellation_manager)\u001b[0m\n\u001b[1;32m   1755\u001b[0m         and executing_eagerly):\n\u001b[1;32m   1756\u001b[0m       \u001b[0;31m# No tape is watching; skip to running the function.\u001b[0m\u001b[0;34m\u001b[0m\u001b[0;34m\u001b[0m\u001b[0m\n\u001b[0;32m-> 1757\u001b[0;31m       return self._build_call_outputs(self._inference_function.call(\n\u001b[0m\u001b[1;32m   1758\u001b[0m           ctx, args, cancellation_manager=cancellation_manager))\n\u001b[1;32m   1759\u001b[0m     forward_backward = self._select_forward_and_backward_functions(\n",
            "\u001b[0;32m/usr/local/lib/python3.10/dist-packages/tensorflow/python/eager/polymorphic_function/monomorphic_function.py\u001b[0m in \u001b[0;36mcall\u001b[0;34m(self, ctx, args, cancellation_manager)\u001b[0m\n\u001b[1;32m    379\u001b[0m       \u001b[0;32mwith\u001b[0m \u001b[0m_InterpolateFunctionError\u001b[0m\u001b[0;34m(\u001b[0m\u001b[0mself\u001b[0m\u001b[0;34m)\u001b[0m\u001b[0;34m:\u001b[0m\u001b[0;34m\u001b[0m\u001b[0;34m\u001b[0m\u001b[0m\n\u001b[1;32m    380\u001b[0m         \u001b[0;32mif\u001b[0m \u001b[0mcancellation_manager\u001b[0m \u001b[0;32mis\u001b[0m \u001b[0;32mNone\u001b[0m\u001b[0;34m:\u001b[0m\u001b[0;34m\u001b[0m\u001b[0;34m\u001b[0m\u001b[0m\n\u001b[0;32m--> 381\u001b[0;31m           outputs = execute.execute(\n\u001b[0m\u001b[1;32m    382\u001b[0m               \u001b[0mstr\u001b[0m\u001b[0;34m(\u001b[0m\u001b[0mself\u001b[0m\u001b[0;34m.\u001b[0m\u001b[0msignature\u001b[0m\u001b[0;34m.\u001b[0m\u001b[0mname\u001b[0m\u001b[0;34m)\u001b[0m\u001b[0;34m,\u001b[0m\u001b[0;34m\u001b[0m\u001b[0;34m\u001b[0m\u001b[0m\n\u001b[1;32m    383\u001b[0m               \u001b[0mnum_outputs\u001b[0m\u001b[0;34m=\u001b[0m\u001b[0mself\u001b[0m\u001b[0;34m.\u001b[0m\u001b[0m_num_outputs\u001b[0m\u001b[0;34m,\u001b[0m\u001b[0;34m\u001b[0m\u001b[0;34m\u001b[0m\u001b[0m\n",
            "\u001b[0;32m/usr/local/lib/python3.10/dist-packages/tensorflow/python/eager/execute.py\u001b[0m in \u001b[0;36mquick_execute\u001b[0;34m(op_name, num_outputs, inputs, attrs, ctx, name)\u001b[0m\n\u001b[1;32m     50\u001b[0m   \u001b[0;32mtry\u001b[0m\u001b[0;34m:\u001b[0m\u001b[0;34m\u001b[0m\u001b[0;34m\u001b[0m\u001b[0m\n\u001b[1;32m     51\u001b[0m     \u001b[0mctx\u001b[0m\u001b[0;34m.\u001b[0m\u001b[0mensure_initialized\u001b[0m\u001b[0;34m(\u001b[0m\u001b[0;34m)\u001b[0m\u001b[0;34m\u001b[0m\u001b[0;34m\u001b[0m\u001b[0m\n\u001b[0;32m---> 52\u001b[0;31m     tensors = pywrap_tfe.TFE_Py_Execute(ctx._handle, device_name, op_name,\n\u001b[0m\u001b[1;32m     53\u001b[0m                                         inputs, attrs, num_outputs)\n\u001b[1;32m     54\u001b[0m   \u001b[0;32mexcept\u001b[0m \u001b[0mcore\u001b[0m\u001b[0;34m.\u001b[0m\u001b[0m_NotOkStatusException\u001b[0m \u001b[0;32mas\u001b[0m \u001b[0me\u001b[0m\u001b[0;34m:\u001b[0m\u001b[0;34m\u001b[0m\u001b[0;34m\u001b[0m\u001b[0m\n",
            "\u001b[0;31mKeyboardInterrupt\u001b[0m: "
          ]
        }
      ],
      "source": [
        "model.fit(\n",
        "    train_generator,\n",
        "    steps_per_epoch=len(train_generator),\n",
        "    epochs=30,\n",
        "    validation_data=valid_generator,\n",
        "    validation_steps=len(valid_generator)\n",
        ")"
      ]
    },
    {
      "cell_type": "code",
      "source": [],
      "metadata": {
        "id": "2ORSPC3QT2EU"
      },
      "execution_count": null,
      "outputs": []
    },
    {
      "cell_type": "code",
      "execution_count": null,
      "metadata": {
        "id": "oN_T8JcIROLU"
      },
      "outputs": [],
      "source": [
        "model.fit(\n",
        "    train_generator,\n",
        "    steps_per_epoch=train_generator.n // 32,\n",
        "    epochs=60,\n",
        "    validation_data=val_generator,\n",
        "    validation_steps= val_generator.n // 32\n",
        ")"
      ]
    },
    {
      "cell_type": "code",
      "source": [
        "from keras.layers import Dense, Activation, Flatten, Dropout, BatchNormalization\n",
        "from keras.models import Sequential, Model\n",
        "from keras.layers import Conv2D, MaxPooling2D\n",
        "from keras import regularizers, optimizers\n",
        "import keras\n",
        "\n",
        "model = Sequential()\n",
        "model.add(Conv2D(32, (3, 3), padding='same',\n",
        "                 input_shape=(128, 431, 1)))\n",
        "model.add(Activation('relu'))\n",
        "model.add(Conv2D(64, (3, 3)))\n",
        "model.add(Activation('relu'))\n",
        "model.add(MaxPooling2D(pool_size=(2, 2)))\n",
        "model.add(Dropout(0.25))\n",
        "model.add(Conv2D(64, (3, 3), padding='same'))\n",
        "model.add(Activation('relu'))\n",
        "model.add(Conv2D(64, (3, 3)))\n",
        "model.add(Activation('relu'))\n",
        "model.add(MaxPooling2D(pool_size=(2, 2)))\n",
        "model.add(Dropout(0.5))\n",
        "model.add(Conv2D(128, (3, 3), padding='same'))\n",
        "model.add(Activation('relu'))\n",
        "model.add(Conv2D(128, (3, 3)))\n",
        "model.add(Activation('relu'))\n",
        "model.add(MaxPooling2D(pool_size=(2, 2)))\n",
        "model.add(Dropout(0.5))\n",
        "model.add(Flatten())\n",
        "model.add(Dense(512))\n",
        "model.add(Activation('relu'))\n",
        "model.add(Dropout(0.5))\n",
        "model.add(Dense(3, activation='softmax'))\n",
        "model.compile(optimizer=keras.optimizers.RMSprop(lr=0.0005, decay=1e-6),loss=\"categorical_crossentropy\",metrics=[\"accuracy\"])\n",
        "model.summary()"
      ],
      "metadata": {
        "id": "4SN0u7mj9aOj"
      },
      "execution_count": null,
      "outputs": []
    },
    {
      "cell_type": "code",
      "source": [
        "model.fit(\n",
        "    train_generator,\n",
        "    steps_per_epoch=len(train_generator),\n",
        "    epochs=60,\n",
        "    validation_data=valid_generator,\n",
        "    validation_steps=len(valid_generator)\n",
        ")"
      ],
      "metadata": {
        "id": "JIfsyATi9npe"
      },
      "execution_count": null,
      "outputs": []
    },
    {
      "cell_type": "code",
      "source": [],
      "metadata": {
        "id": "sNR0Fp9D9ojY"
      },
      "execution_count": null,
      "outputs": []
    }
  ],
  "metadata": {
    "colab": {
      "collapsed_sections": [
        "Cb2ozf98pN2y",
        "0UurKaezGDn7",
        "3PGxfNHYI4Ev",
        "6DUcka63cKQD",
        "dsHSflutcaGb",
        "sVpP1-wL5bCG",
        "St5T1VnPNfrF",
        "5x4GSZ4uPEoP",
        "mvANCgj-TGOf"
      ],
      "provenance": [],
      "gpuType": "T4"
    },
    "kernelspec": {
      "display_name": "Python 3",
      "name": "python3"
    },
    "language_info": {
      "name": "python"
    },
    "accelerator": "GPU"
  },
  "nbformat": 4,
  "nbformat_minor": 0
}